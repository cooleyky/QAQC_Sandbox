{
 "cells": [
  {
   "cell_type": "markdown",
   "metadata": {},
   "source": [
    "# QA/QC Process Development - CTDBP Example\n",
    "\n",
    "## Summary\n",
    "This is a practice of developing a review process, review, and report on the CTD. The goal here is to help develop processes for both Quality Assurance of the data, and algorithms for Quality Control. First, this will start from established methods, processes, and examples. We will want to follow on some of the steps before:\n",
    "\n",
    "1. Data Availability\n",
    "    * What data are available?\n",
    "    * Is the data relevant?\n",
    "2. Metadata\n",
    "    * What metadata is available?\n",
    "    * Is the metadata complete?\n",
    "    * What does it tell you about the dataset (for good or bad)?\n",
    "3. Understand the context\n",
    "    * Plot a large range of data. Does it look right based on what you would expect?\n",
    "    * What are the ranges?\n",
    "    * Do the ranges make sense?\n",
    "4. Focus on one or more smaller subsets of data\n",
    "    * Plot some smaller periods (in time or space) to see if they look correct or have issues\n",
    "5. Environmental Comparisons\n",
    "    * Compare the instrument with independent datasets (such as from CTD casts, satellites, gliders, etc.)\n",
    "    * How do they compare?\n",
    "    * Is there anything wrong?"
   ]
  },
  {
   "cell_type": "code",
   "execution_count": 2,
   "metadata": {},
   "outputs": [],
   "source": [
    "import os, re, requests\n",
    "import netCDF4 as nc\n",
    "import xarray as xr\n",
    "import pandas as pd\n",
    "import numpy as np\n",
    "import matplotlib.pyplot as plt\n",
    "%matplotlib inline\n",
    "import datetime\n",
    "import pytz"
   ]
  },
  {
   "cell_type": "code",
   "execution_count": 3,
   "metadata": {},
   "outputs": [],
   "source": [
    "username = 'OOIAPI-C9OSZAQABG1H3U'\n",
    "token = 'JA48WUQVG7F'"
   ]
  },
  {
   "cell_type": "markdown",
   "metadata": {},
   "source": [
    "## Step 1. Set up the sensor names, url names, etc."
   ]
  },
  {
   "cell_type": "markdown",
   "metadata": {},
   "source": [
    "Lay out the different api urls to use for data requests:"
   ]
  },
  {
   "cell_type": "code",
   "execution_count": 4,
   "metadata": {},
   "outputs": [],
   "source": [
    "data_url = 'https://ooinet.oceanobservatories.org/api/m2m/12576/sensor/inv'\n",
    "anno_url = 'https://ooinet.oceanobservatories.org/api/m2m/12580/anno/find'\n",
    "vocab_url = 'https://ooinet.oceanobservatories.org/api/m2m/12586/vocab/inv'\n",
    "asset_url = 'https://ooinet.oceanobservatories.org/api/m2m/12587'\n",
    "deploy_url = asset_url + '/events/deployment/query'\n",
    "cal_url = asset_url + '/asset/cal'"
   ]
  },
  {
   "cell_type": "markdown",
   "metadata": {},
   "source": [
    "### Access the data:\n",
    "The first step is to access the data in a systematic, automatic way, using the M2M interface with the apis. The key is to identify where and what I want to access. I can look at the inventory using the port 12576/sensor/inv systematically find and drill down into the data directories. \n",
    "\n",
    "I want to utilize the **CTDBP** on the Coastal Pioneer Central Surface Mooring **CP01CNSM**, which is mounted on the Near-Surface Instrument Frame **RID27**."
   ]
  },
  {
   "cell_type": "code",
   "execution_count": 7,
   "metadata": {},
   "outputs": [],
   "source": [
    "# List the site, node, instrument names\n",
    "site = 'CP01CNSM'\n",
    "node = 'RID27'\n",
    "sensor = '03-CTDBPC000'\n",
    "method = 'recovered_host' # 'recovered_inst' 'telemetered'"
   ]
  },
  {
   "cell_type": "code",
   "execution_count": 5,
   "metadata": {},
   "outputs": [],
   "source": [
    "# Function to make an API request and print the results\n",
    "def get_and_print_api(url):\n",
    "    r = requests.get(url, auth=(username, token))\n",
    "    data = r.json()\n",
    "    for d in data:\n",
    "        print(d)"
   ]
  },
  {
   "cell_type": "code",
   "execution_count": 6,
   "metadata": {},
   "outputs": [],
   "source": [
    "# Specify some functions to convert timestamps\n",
    "ntp_epoch = datetime.datetime(1900, 1, 1)\n",
    "unix_epoch = datetime.datetime(1970, 1, 1)\n",
    "ntp_delta = (unix_epoch - ntp_epoch).total_seconds()\n",
    "\n",
    "def ntp_seconds_to_datetime(ntp_seconds):\n",
    "    return datetime.datetime.utcfromtimestamp(ntp_seconds - ntp_delta).replace(microsecond=0)\n",
    "  \n",
    "def convert_time(ms):\n",
    "    if ms is None:\n",
    "        return None\n",
    "    else:\n",
    "        return datetime.datetime.utcfromtimestamp(ms/1000)"
   ]
  },
  {
   "cell_type": "markdown",
   "metadata": {},
   "source": [
    "### Vocabulary Metadata:\n",
    "Check out basic instrument vocab (metadata), which will return the reference designator, and allow us to make sure we have the correct instrument:"
   ]
  },
  {
   "cell_type": "code",
   "execution_count": 10,
   "metadata": {},
   "outputs": [
    {
     "name": "stdout",
     "output_type": "stream",
     "text": [
      "MFC31\n",
      "MFD35\n",
      "MFD37\n",
      "RIC21\n",
      "RID26\n",
      "RID27\n",
      "SBC11\n",
      "SBD11\n",
      "SBD12\n"
     ]
    }
   ],
   "source": [
    "get_and_print_api(data_url+'/'+site)"
   ]
  },
  {
   "cell_type": "code",
   "execution_count": 12,
   "metadata": {},
   "outputs": [],
   "source": [
    "def get_api(url):\n",
    "    r = requests.get(url, auth=(username, token))\n",
    "    data = r.json()\n",
    "    return data"
   ]
  },
  {
   "cell_type": "code",
   "execution_count": 13,
   "metadata": {},
   "outputs": [],
   "source": [
    "data = get_api(data_url)"
   ]
  },
  {
   "cell_type": "code",
   "execution_count": 14,
   "metadata": {
    "collapsed": true
   },
   "outputs": [
    {
     "data": {
      "text/plain": [
       "['CE01ISSM',\n",
       " 'CE01ISSP',\n",
       " 'CE02SHBP',\n",
       " 'CE02SHSM',\n",
       " 'CE02SHSP',\n",
       " 'CE04OSBP',\n",
       " 'CE04OSPD',\n",
       " 'CE04OSPI',\n",
       " 'CE04OSPS',\n",
       " 'CE04OSSM',\n",
       " 'CE05MOAS',\n",
       " 'CE06ISSM',\n",
       " 'CE06ISSP',\n",
       " 'CE07SHSM',\n",
       " 'CE07SHSP',\n",
       " 'CE09OSPM',\n",
       " 'CE09OSSM',\n",
       " 'CP01CNPM',\n",
       " 'CP01CNSM',\n",
       " 'CP01CNSP',\n",
       " 'CP02PMCI',\n",
       " 'CP02PMCO',\n",
       " 'CP02PMUI',\n",
       " 'CP02PMUO',\n",
       " 'CP03ISPM',\n",
       " 'CP03ISSM',\n",
       " 'CP03ISSP',\n",
       " 'CP04OSPM',\n",
       " 'CP04OSSM',\n",
       " 'CP05MOAS',\n",
       " 'GA01SUMO',\n",
       " 'GA02HYPM',\n",
       " 'GA03FLMA',\n",
       " 'GA03FLMB',\n",
       " 'GA05MOAS',\n",
       " 'GI01SUMO',\n",
       " 'GI02HYPM',\n",
       " 'GI03FLMA',\n",
       " 'GI03FLMB',\n",
       " 'GI05MOAS',\n",
       " 'GP02HYPM',\n",
       " 'GP03FLMA',\n",
       " 'GP03FLMB',\n",
       " 'GP05MOAS',\n",
       " 'GS01SUMO',\n",
       " 'GS02HYPM',\n",
       " 'GS03FLMA',\n",
       " 'GS03FLMB',\n",
       " 'GS05MOAS',\n",
       " 'RS01OSBP',\n",
       " 'RS01SBPD',\n",
       " 'RS01SBPS',\n",
       " 'RS01SHBP',\n",
       " 'RS01SHDR',\n",
       " 'RS01SLBS',\n",
       " 'RS01SUM1',\n",
       " 'RS01SUM2',\n",
       " 'RS03ASHS',\n",
       " 'RS03AXBS',\n",
       " 'RS03AXPD',\n",
       " 'RS03AXPS',\n",
       " 'RS03AXSM',\n",
       " 'RS03CCAL',\n",
       " 'RS03ECAL',\n",
       " 'RS03INT1',\n",
       " 'RS03INT2',\n",
       " 'SSRSPACC']"
      ]
     },
     "execution_count": 14,
     "metadata": {},
     "output_type": "execute_result"
    }
   ],
   "source": [
    "data"
   ]
  },
  {
   "cell_type": "code",
   "execution_count": 8,
   "metadata": {},
   "outputs": [],
   "source": [
    "# Retrieve vocabulary information for a given instrument\n",
    "request_url = '/'.join((vocab_url, site, node, sensor))\n",
    "r = requests.get(request_url, auth=(username, token))\n",
    "data = r.json()"
   ]
  },
  {
   "cell_type": "code",
   "execution_count": 9,
   "metadata": {},
   "outputs": [
    {
     "data": {
      "text/plain": [
       "[{'@class': '.VocabRecord',\n",
       "  'model': 'SBE 16plusV2',\n",
       "  'manufacturer': 'Sea-Bird',\n",
       "  'mindepth': 7.0,\n",
       "  'maxdepth': 7.0,\n",
       "  'vocabId': 463,\n",
       "  'refdes': 'CP01CNSM-RID27-03-CTDBPC000',\n",
       "  'instrument': 'CTD',\n",
       "  'tocL1': 'Coastal Pioneer',\n",
       "  'tocL2': 'Central Surface Mooring',\n",
       "  'tocL3': 'Near Surface Instrument Frame'}]"
      ]
     },
     "execution_count": 9,
     "metadata": {},
     "output_type": "execute_result"
    }
   ],
   "source": [
    "data"
   ]
  },
  {
   "cell_type": "markdown",
   "metadata": {},
   "source": [
    "So the instrument on the CP01CNSM NSIR is a SBE 16plusV2 at 7 meters of depth."
   ]
  },
  {
   "cell_type": "code",
   "execution_count": 9,
   "metadata": {},
   "outputs": [
    {
     "data": {
      "text/plain": [
       "'CP01CNSM-RID27-03-CTDBPC000'"
      ]
     },
     "execution_count": 9,
     "metadata": {},
     "output_type": "execute_result"
    }
   ],
   "source": [
    "refdes = data[0]['refdes']\n",
    "refdes"
   ]
  },
  {
   "cell_type": "markdown",
   "metadata": {},
   "source": [
    "### Deployment Information\n",
    "Next, we will get some of the information about the deployments for this instrument. We will get all the deployments available in the system, and output the following: date ranges, latitude/longitude, asset ID, and sensor ID for each. Note that the **reference designator** specified above represents the geographical location of an instrument across all deployments (e.g. the CTD on the Pioneer Central Surface Mooring), the **Sensor ID** (and its Asset ID equivalent) represents the specific instrument used for a given deployment (i.e. a unique make, model, and serial numbered instrument)."
   ]
  },
  {
   "cell_type": "code",
   "execution_count": 10,
   "metadata": {},
   "outputs": [],
   "source": [
    "# Set up the API request url\n",
    "deploy_request_url = deploy_url\n",
    "params = {\n",
    "    'refdes':refdes,\n",
    "}\n",
    "\n",
    "# Get the information from the server\n",
    "r = requests.get(deploy_request_url, params=params, auth=(username, token))\n",
    "deploy_data = r.json()"
   ]
  },
  {
   "cell_type": "code",
   "execution_count": 11,
   "metadata": {},
   "outputs": [],
   "source": [
    "def reformat_deployment_data(deploy_data):\n",
    "    df = pd.DataFrame()\n",
    "    for d in deploy_data:\n",
    "        df = df.append({\n",
    "            'deployment': d['deploymentNumber'],\n",
    "            'start': convert_time(d['eventStartTime']),\n",
    "            'stop': convert_time(d['eventStopTime']),\n",
    "            'latitude': d['location']['latitude'],\n",
    "            'longitude': d['location']['longitude'],\n",
    "            'sensor': d['sensor']['assetId'],\n",
    "        }, ignore_index=True)\n",
    "    return df"
   ]
  },
  {
   "cell_type": "code",
   "execution_count": 12,
   "metadata": {},
   "outputs": [
    {
     "data": {
      "text/html": [
       "<div>\n",
       "<style scoped>\n",
       "    .dataframe tbody tr th:only-of-type {\n",
       "        vertical-align: middle;\n",
       "    }\n",
       "\n",
       "    .dataframe tbody tr th {\n",
       "        vertical-align: top;\n",
       "    }\n",
       "\n",
       "    .dataframe thead th {\n",
       "        text-align: right;\n",
       "    }\n",
       "</style>\n",
       "<table border=\"1\" class=\"dataframe\">\n",
       "  <thead>\n",
       "    <tr style=\"text-align: right;\">\n",
       "      <th></th>\n",
       "      <th>deployment</th>\n",
       "      <th>latitude</th>\n",
       "      <th>longitude</th>\n",
       "      <th>sensor</th>\n",
       "      <th>start</th>\n",
       "      <th>stop</th>\n",
       "    </tr>\n",
       "  </thead>\n",
       "  <tbody>\n",
       "    <tr>\n",
       "      <th>0</th>\n",
       "      <td>1.0</td>\n",
       "      <td>40.136780</td>\n",
       "      <td>-70.76978</td>\n",
       "      <td>2659.0</td>\n",
       "      <td>2013-11-21 18:15:00</td>\n",
       "      <td>2014-04-18 00:00:00</td>\n",
       "    </tr>\n",
       "    <tr>\n",
       "      <th>1</th>\n",
       "      <td>2.0</td>\n",
       "      <td>40.133900</td>\n",
       "      <td>-70.77890</td>\n",
       "      <td>1451.0</td>\n",
       "      <td>2014-12-13 18:47:00</td>\n",
       "      <td>2014-12-15 20:58:00</td>\n",
       "    </tr>\n",
       "    <tr>\n",
       "      <th>2</th>\n",
       "      <td>3.0</td>\n",
       "      <td>40.140220</td>\n",
       "      <td>-70.77128</td>\n",
       "      <td>1451.0</td>\n",
       "      <td>2015-05-07 17:34:00</td>\n",
       "      <td>2015-10-23 19:40:00</td>\n",
       "    </tr>\n",
       "    <tr>\n",
       "      <th>3</th>\n",
       "      <td>4.0</td>\n",
       "      <td>40.133230</td>\n",
       "      <td>-70.77843</td>\n",
       "      <td>2345.0</td>\n",
       "      <td>2015-10-23 18:49:00</td>\n",
       "      <td>2016-04-04 12:03:00</td>\n",
       "    </tr>\n",
       "    <tr>\n",
       "      <th>4</th>\n",
       "      <td>5.0</td>\n",
       "      <td>40.140370</td>\n",
       "      <td>-70.77133</td>\n",
       "      <td>1451.0</td>\n",
       "      <td>2016-05-13 13:50:00</td>\n",
       "      <td>2016-10-13 19:34:00</td>\n",
       "    </tr>\n",
       "    <tr>\n",
       "      <th>5</th>\n",
       "      <td>6.0</td>\n",
       "      <td>40.133420</td>\n",
       "      <td>-70.77847</td>\n",
       "      <td>2059.0</td>\n",
       "      <td>2016-10-13 18:36:00</td>\n",
       "      <td>2017-06-09 16:05:00</td>\n",
       "    </tr>\n",
       "    <tr>\n",
       "      <th>6</th>\n",
       "      <td>7.0</td>\n",
       "      <td>40.139817</td>\n",
       "      <td>-70.77115</td>\n",
       "      <td>2345.0</td>\n",
       "      <td>2017-06-09 14:24:00</td>\n",
       "      <td>2017-11-01 20:33:00</td>\n",
       "    </tr>\n",
       "    <tr>\n",
       "      <th>7</th>\n",
       "      <td>8.0</td>\n",
       "      <td>40.133383</td>\n",
       "      <td>-70.77830</td>\n",
       "      <td>2659.0</td>\n",
       "      <td>2017-10-29 14:15:00</td>\n",
       "      <td>2018-03-29 19:37:00</td>\n",
       "    </tr>\n",
       "    <tr>\n",
       "      <th>8</th>\n",
       "      <td>9.0</td>\n",
       "      <td>40.139750</td>\n",
       "      <td>-70.77128</td>\n",
       "      <td>2345.0</td>\n",
       "      <td>2018-03-24 21:32:00</td>\n",
       "      <td>2018-10-29 12:31:00</td>\n",
       "    </tr>\n",
       "    <tr>\n",
       "      <th>9</th>\n",
       "      <td>10.0</td>\n",
       "      <td>40.133367</td>\n",
       "      <td>-70.77770</td>\n",
       "      <td>2059.0</td>\n",
       "      <td>2018-10-30 01:48:00</td>\n",
       "      <td>NaT</td>\n",
       "    </tr>\n",
       "  </tbody>\n",
       "</table>\n",
       "</div>"
      ],
      "text/plain": [
       "   deployment   latitude  longitude  sensor               start  \\\n",
       "0         1.0  40.136780  -70.76978  2659.0 2013-11-21 18:15:00   \n",
       "1         2.0  40.133900  -70.77890  1451.0 2014-12-13 18:47:00   \n",
       "2         3.0  40.140220  -70.77128  1451.0 2015-05-07 17:34:00   \n",
       "3         4.0  40.133230  -70.77843  2345.0 2015-10-23 18:49:00   \n",
       "4         5.0  40.140370  -70.77133  1451.0 2016-05-13 13:50:00   \n",
       "5         6.0  40.133420  -70.77847  2059.0 2016-10-13 18:36:00   \n",
       "6         7.0  40.139817  -70.77115  2345.0 2017-06-09 14:24:00   \n",
       "7         8.0  40.133383  -70.77830  2659.0 2017-10-29 14:15:00   \n",
       "8         9.0  40.139750  -70.77128  2345.0 2018-03-24 21:32:00   \n",
       "9        10.0  40.133367  -70.77770  2059.0 2018-10-30 01:48:00   \n",
       "\n",
       "                 stop  \n",
       "0 2014-04-18 00:00:00  \n",
       "1 2014-12-15 20:58:00  \n",
       "2 2015-10-23 19:40:00  \n",
       "3 2016-04-04 12:03:00  \n",
       "4 2016-10-13 19:34:00  \n",
       "5 2017-06-09 16:05:00  \n",
       "6 2017-11-01 20:33:00  \n",
       "7 2018-03-29 19:37:00  \n",
       "8 2018-10-29 12:31:00  \n",
       "9                 NaT  "
      ]
     },
     "execution_count": 12,
     "metadata": {},
     "output_type": "execute_result"
    }
   ],
   "source": [
    "deploy_df = reformat_deployment_data(deploy_data)\n",
    "deploy_df"
   ]
  },
  {
   "cell_type": "code",
   "execution_count": 13,
   "metadata": {},
   "outputs": [
    {
     "data": {
      "text/plain": [
       "array([1451., 2059., 2345., 2659.])"
      ]
     },
     "execution_count": 13,
     "metadata": {},
     "output_type": "execute_result"
    }
   ],
   "source": [
    "np.unique(deploy_df['sensor'])"
   ]
  },
  {
   "cell_type": "markdown",
   "metadata": {},
   "source": [
    "According to the deployment information, there have been 10 deployments of  4 different CTDs on the CP01CNSM NSIF, with asset IDs of 1451, 2059, 2345, 2659. The deployments started on "
   ]
  },
  {
   "cell_type": "code",
   "execution_count": 54,
   "metadata": {},
   "outputs": [
    {
     "data": {
      "text/plain": [
       "'NaT'"
      ]
     },
     "execution_count": 54,
     "metadata": {},
     "output_type": "execute_result"
    }
   ],
   "source": [
    "str(deploy_df['stop'].iloc[9])"
   ]
  },
  {
   "cell_type": "code",
   "execution_count": 259,
   "metadata": {},
   "outputs": [],
   "source": [
    "# Develop a function to plot a timeline of deployments\n",
    "def plot_deployment_timeline(df):\n",
    "    import matplotlib.dates as mdates\n",
    "    levels = np.array([-5, 5, -3, 3, -1, 1])\n",
    "    fig, (ax) = plt.subplots(figsize=(12,6))\n",
    "    \n",
    "    # Create a baseline for plotting\n",
    "    start = min(df['start'])\n",
    "    stop  = max(df['stop'])\n",
    "    ax.plot((start, stop), (0, 0), 'k', alpha=0.5)\n",
    "    \n",
    "    # Now, iterate through the dates in order to plot and annotate\n",
    "    deployment = df['deployment']\n",
    "    asset = df['sensor']\n",
    "    xdates = df['start']\n",
    "    ydates = df['stop']\n",
    "    \n",
    "    \n",
    "    for ii, (iname, idate, jdate) in enumerate(zip(deployment, xdates, ydates)):\n",
    "        # Set some plotting parameters\n",
    "        level = levels[ii % 6]      # Not sure why/what this is doing\n",
    "        vert = 'top' if level < 0 else 'bottom'\n",
    "#        vert2 = 'bottom' if level < 0 else 'top'\n",
    "        \n",
    "        # Plot!!!\n",
    "#        if str(jdate) == 'NaT':\n",
    "#            pass\n",
    "#        else:\n",
    "#            # Plot the stop points\n",
    "#            ax.scatter(jdate, 0, s=100, marker='s', facecolor='k', edgecolor='k', zorder = 999)\n",
    "#            # Plot a line to the text\n",
    "#            ax.plot((jdate, jdate), (0, -level), c='k', alpha=1.0)\n",
    "#            # Align the stop text properly\n",
    "#            ax.text(jdate, -level, iname, horizontalalignment='right', verticalalignment=vert2, fontsize=16)\n",
    "        ax.scatter(idate, 0, s=100, facecolor='w', edgecolor='k',  zorder=9999)\n",
    "        # Plot a line to the text\n",
    "        ax.plot((idate, idate), (0, level), c='r', alpha=1.0)\n",
    "        # Align the text properly\n",
    "        ax.text(idate, level, iname,\n",
    "                horizontalalignment='right', verticalalignment=vert, fontsize=16)\n",
    "    \n",
    "    ax.set(title='Deployments')\n",
    "    ax.get_xaxis().set_major_locator(mdates.MonthLocator(interval=3))\n",
    "    ax.get_xaxis().set_major_formatter(mdates.DateFormatter('%b %Y'))\n",
    "    fig.autofmt_xdate()\n",
    "    \n",
    "    # Remove components for easier read\n",
    "    plt.setp((ax.get_yticklabels() + ax.get_yticklines() + list(ax.spines.values())), visible=False)\n",
    "    plt.show()\n",
    "        \n",
    "    "
   ]
  },
  {
   "cell_type": "code",
   "execution_count": 260,
   "metadata": {},
   "outputs": [
    {
     "data": {
      "image/png": "[encoded data removed]",
      "text/plain": [
       "<Figure size 864x432 with 1 Axes>"
      ]
     },
     "metadata": {
      "needs_background": "light"
     },
     "output_type": "display_data"
    }
   ],
   "source": [
    "plot_deployment_timeline(deploy_df)"
   ]
  },
  {
   "cell_type": "markdown",
   "metadata": {},
   "source": [
    "From the table and timeline above about the deployments, there are some time periods where deployments overlap. How to deal with this issue, because it will cause a problem when loading the data due to conflicting \"obs\" coordinates."
   ]
  },
  {
   "cell_type": "markdown",
   "metadata": {},
   "source": [
    "### Calibration Information\n",
    "When Uframe delivers data, it often uses a number of calibration coefficients to generate derived data products. "
   ]
  },
  {
   "cell_type": "code",
   "execution_count": 60,
   "metadata": {},
   "outputs": [],
   "source": [
    "# Set up the API request\n",
    "cal_request_url = cal_url\n",
    "params = {\n",
    "    'refdes':refdes,\n",
    "}"
   ]
  },
  {
   "cell_type": "code",
   "execution_count": 61,
   "metadata": {},
   "outputs": [],
   "source": [
    "# Get the information from the server\n",
    "r = requests.get(cal_request_url, params=params, auth=(username, token))\n",
    "cal_data = r.json()"
   ]
  },
  {
   "cell_type": "code",
   "execution_count": 62,
   "metadata": {},
   "outputs": [],
   "source": [
    "def reformat_cal_data(cal_data):\n",
    "    df = pd.DataFrame()\n",
    "    for d in cal_data:\n",
    "        for dd in d['sensor']['calibration']:\n",
    "            for ddd in dd['calData']:\n",
    "                df = df.append({\n",
    "                    'value': ddd['value'],\n",
    "                    'start': convert_time(ddd['eventStartTime']),\n",
    "                    'stop': convert_time(ddd['eventStopTime']),\n",
    "                    'name': ddd['eventName'],\n",
    "                    'assetUid': ddd['assetUid'],\n",
    "                    'calSheet': ddd['dataSource'],\n",
    "                }, ignore_index=True)\n",
    "    df = df.sort_values(by=['start','name'])\n",
    "    return df"
   ]
  },
  {
   "cell_type": "code",
   "execution_count": 63,
   "metadata": {},
   "outputs": [],
   "source": [
    "cal_df = reformat_cal_data(cal_data)"
   ]
  },
  {
   "cell_type": "code",
   "execution_count": 70,
   "metadata": {
    "scrolled": true
   },
   "outputs": [
    {
     "data": {
      "text/html": [
       "<div>\n",
       "<style scoped>\n",
       "    .dataframe tbody tr th:only-of-type {\n",
       "        vertical-align: middle;\n",
       "    }\n",
       "\n",
       "    .dataframe tbody tr th {\n",
       "        vertical-align: top;\n",
       "    }\n",
       "\n",
       "    .dataframe thead th {\n",
       "        text-align: right;\n",
       "    }\n",
       "</style>\n",
       "<table border=\"1\" class=\"dataframe\">\n",
       "  <thead>\n",
       "    <tr style=\"text-align: right;\">\n",
       "      <th></th>\n",
       "      <th>assetUid</th>\n",
       "      <th>calSheet</th>\n",
       "      <th>name</th>\n",
       "      <th>start</th>\n",
       "      <th>stop</th>\n",
       "      <th>value</th>\n",
       "    </tr>\n",
       "  </thead>\n",
       "  <tbody>\n",
       "    <tr>\n",
       "      <th>113</th>\n",
       "      <td>CGINS-CTDBPC-06841</td>\n",
       "      <td>CGINS-CTDBPC-06841__20110518_Cal_Info.xlsx</td>\n",
       "      <td>CC_a0</td>\n",
       "      <td>2011-05-18</td>\n",
       "      <td>None</td>\n",
       "      <td>1.301118e-03</td>\n",
       "    </tr>\n",
       "    <tr>\n",
       "      <th>201</th>\n",
       "      <td>CGINS-CTDBPC-06841</td>\n",
       "      <td>CGINS-CTDBPC-06841__20110518_Cal_Info.xlsx</td>\n",
       "      <td>CC_a0</td>\n",
       "      <td>2011-05-18</td>\n",
       "      <td>None</td>\n",
       "      <td>1.301118e-03</td>\n",
       "    </tr>\n",
       "    <tr>\n",
       "      <th>377</th>\n",
       "      <td>CGINS-CTDBPC-06841</td>\n",
       "      <td>CGINS-CTDBPC-06841__20110518_Cal_Info.xlsx</td>\n",
       "      <td>CC_a0</td>\n",
       "      <td>2011-05-18</td>\n",
       "      <td>None</td>\n",
       "      <td>1.301118e-03</td>\n",
       "    </tr>\n",
       "    <tr>\n",
       "      <th>147</th>\n",
       "      <td>CGINS-CTDBPC-06841</td>\n",
       "      <td>CGINS-CTDBPC-06841__20110518_Cal_Info.xlsx</td>\n",
       "      <td>CC_a1</td>\n",
       "      <td>2011-05-18</td>\n",
       "      <td>None</td>\n",
       "      <td>2.561486e-04</td>\n",
       "    </tr>\n",
       "    <tr>\n",
       "      <th>235</th>\n",
       "      <td>CGINS-CTDBPC-06841</td>\n",
       "      <td>CGINS-CTDBPC-06841__20110518_Cal_Info.xlsx</td>\n",
       "      <td>CC_a1</td>\n",
       "      <td>2011-05-18</td>\n",
       "      <td>None</td>\n",
       "      <td>2.561486e-04</td>\n",
       "    </tr>\n",
       "    <tr>\n",
       "      <th>411</th>\n",
       "      <td>CGINS-CTDBPC-06841</td>\n",
       "      <td>CGINS-CTDBPC-06841__20110518_Cal_Info.xlsx</td>\n",
       "      <td>CC_a1</td>\n",
       "      <td>2011-05-18</td>\n",
       "      <td>None</td>\n",
       "      <td>2.561486e-04</td>\n",
       "    </tr>\n",
       "    <tr>\n",
       "      <th>140</th>\n",
       "      <td>CGINS-CTDBPC-06841</td>\n",
       "      <td>CGINS-CTDBPC-06841__20110518_Cal_Info.xlsx</td>\n",
       "      <td>CC_a2</td>\n",
       "      <td>2011-05-18</td>\n",
       "      <td>None</td>\n",
       "      <td>1.896537e-07</td>\n",
       "    </tr>\n",
       "    <tr>\n",
       "      <th>228</th>\n",
       "      <td>CGINS-CTDBPC-06841</td>\n",
       "      <td>CGINS-CTDBPC-06841__20110518_Cal_Info.xlsx</td>\n",
       "      <td>CC_a2</td>\n",
       "      <td>2011-05-18</td>\n",
       "      <td>None</td>\n",
       "      <td>1.896537e-07</td>\n",
       "    </tr>\n",
       "    <tr>\n",
       "      <th>404</th>\n",
       "      <td>CGINS-CTDBPC-06841</td>\n",
       "      <td>CGINS-CTDBPC-06841__20110518_Cal_Info.xlsx</td>\n",
       "      <td>CC_a2</td>\n",
       "      <td>2011-05-18</td>\n",
       "      <td>None</td>\n",
       "      <td>1.896537e-07</td>\n",
       "    </tr>\n",
       "    <tr>\n",
       "      <th>135</th>\n",
       "      <td>CGINS-CTDBPC-06841</td>\n",
       "      <td>CGINS-CTDBPC-06841__20110518_Cal_Info.xlsx</td>\n",
       "      <td>CC_a3</td>\n",
       "      <td>2011-05-18</td>\n",
       "      <td>None</td>\n",
       "      <td>1.301189e-07</td>\n",
       "    </tr>\n",
       "  </tbody>\n",
       "</table>\n",
       "</div>"
      ],
      "text/plain": [
       "               assetUid                                    calSheet   name  \\\n",
       "113  CGINS-CTDBPC-06841  CGINS-CTDBPC-06841__20110518_Cal_Info.xlsx  CC_a0   \n",
       "201  CGINS-CTDBPC-06841  CGINS-CTDBPC-06841__20110518_Cal_Info.xlsx  CC_a0   \n",
       "377  CGINS-CTDBPC-06841  CGINS-CTDBPC-06841__20110518_Cal_Info.xlsx  CC_a0   \n",
       "147  CGINS-CTDBPC-06841  CGINS-CTDBPC-06841__20110518_Cal_Info.xlsx  CC_a1   \n",
       "235  CGINS-CTDBPC-06841  CGINS-CTDBPC-06841__20110518_Cal_Info.xlsx  CC_a1   \n",
       "411  CGINS-CTDBPC-06841  CGINS-CTDBPC-06841__20110518_Cal_Info.xlsx  CC_a1   \n",
       "140  CGINS-CTDBPC-06841  CGINS-CTDBPC-06841__20110518_Cal_Info.xlsx  CC_a2   \n",
       "228  CGINS-CTDBPC-06841  CGINS-CTDBPC-06841__20110518_Cal_Info.xlsx  CC_a2   \n",
       "404  CGINS-CTDBPC-06841  CGINS-CTDBPC-06841__20110518_Cal_Info.xlsx  CC_a2   \n",
       "135  CGINS-CTDBPC-06841  CGINS-CTDBPC-06841__20110518_Cal_Info.xlsx  CC_a3   \n",
       "\n",
       "         start  stop         value  \n",
       "113 2011-05-18  None  1.301118e-03  \n",
       "201 2011-05-18  None  1.301118e-03  \n",
       "377 2011-05-18  None  1.301118e-03  \n",
       "147 2011-05-18  None  2.561486e-04  \n",
       "235 2011-05-18  None  2.561486e-04  \n",
       "411 2011-05-18  None  2.561486e-04  \n",
       "140 2011-05-18  None  1.896537e-07  \n",
       "228 2011-05-18  None  1.896537e-07  \n",
       "404 2011-05-18  None  1.896537e-07  \n",
       "135 2011-05-18  None  1.301189e-07  "
      ]
     },
     "execution_count": 70,
     "metadata": {},
     "output_type": "execute_result"
    }
   ],
   "source": [
    "cal_df.head(10)"
   ]
  },
  {
   "cell_type": "markdown",
   "metadata": {},
   "source": [
    "## Asynchronous Data Requests\n",
    "* Return netCDF data from the desired sensor for a desired time period"
   ]
  },
  {
   "cell_type": "code",
   "execution_count": 171,
   "metadata": {},
   "outputs": [],
   "source": [
    "def get_netcdf_datasets(thredds_url):\n",
    "    import time\n",
    "    datasets = []\n",
    "    tds_url = 'https://opendap.oceanobservatories.org/thredds/dodsC/'\n",
    "    while not datasets:\n",
    "        datasets = requests.get(thredds_url).text\n",
    "        urls = re.findall(r'href=[\\'\"]?([^\\'\" >]+)', datasets)\n",
    "        x = re.findall(r'(ooi/.*?.nc)', datasets)\n",
    "        for i in x:\n",
    "            if i.endswith('.nc') == False:\n",
    "                x.remove(i)\n",
    "        for i in x:\n",
    "            try:\n",
    "                float(i[-4])\n",
    "            except:\n",
    "                x.remove(i)\n",
    "        datasets = [os.path.join(tds_url, i) for i in x]\n",
    "        if not datasets: \n",
    "            time.sleep(10)\n",
    "    return datasets"
   ]
  },
  {
   "cell_type": "code",
   "execution_count": 80,
   "metadata": {},
   "outputs": [],
   "source": [
    "# Build an URL parser that only keeps your\n",
    "def parse_dataset_names(dataset_names,refdes):\n",
    "    for x in dataset_names:\n",
    "        if x.count(refdes) > 1:\n",
    "            pass\n",
    "        else:\n",
    "            dataset_names.remove(x)\n",
    "    return dataset_names"
   ]
  },
  {
   "cell_type": "code",
   "execution_count": 84,
   "metadata": {},
   "outputs": [],
   "source": [
    "# The vocab requests doesn't seem to be working\n",
    "# Try the instrument information\n",
    "site = 'CP01CNSM'\n",
    "node = 'RID27'\n",
    "sensor = '03-CTDBPC000'\n",
    "method = 'recovered_inst' # recovered_inst, telemetered\n",
    "stream = 'ctdbp_cdef_instrument_recovered'"
   ]
  },
  {
   "cell_type": "code",
   "execution_count": 87,
   "metadata": {},
   "outputs": [
    {
     "name": "stdout",
     "output_type": "stream",
     "text": [
      "recovered_host\n",
      "recovered_inst\n",
      "telemetered\n"
     ]
    }
   ],
   "source": [
    "get_and_print_api(data_url+'/'+site+'/'+node+'/'+sensor)"
   ]
  },
  {
   "cell_type": "code",
   "execution_count": 167,
   "metadata": {},
   "outputs": [],
   "source": [
    "# Setup the data API requests\n",
    "data_request_url = '/'.join((data_url, site, node, sensor, method, stream))\n",
    "params = {\n",
    "    'include_provenance':'true',\n",
    "    'include_annotations':'true',\n",
    "}\n",
    "r = requests.get(data_request_url, params=params, auth=(username, token))\n",
    "if r.status_code == 200:\n",
    "    data_urls = r.json()\n",
    "else:\n",
    "    print(r.reason)"
   ]
  },
  {
   "cell_type": "code",
   "execution_count": 168,
   "metadata": {},
   "outputs": [
    {
     "data": {
      "text/plain": [
       "'https://opendap.oceanobservatories.org/thredds/catalog/ooi/areed@whoi.edu/20181210T193515-CP01CNSM-RID27-03-CTDBPC000-recovered_inst-ctdbp_cdef_instrument_recovered/catalog.html'"
      ]
     },
     "execution_count": 168,
     "metadata": {},
     "output_type": "execute_result"
    }
   ],
   "source": [
    "data_urls['allURLs'][0]"
   ]
  },
  {
   "cell_type": "code",
   "execution_count": 169,
   "metadata": {},
   "outputs": [],
   "source": [
    "datasets = get_netcdf_datasets(data_urls['allURLs'][0])"
   ]
  },
  {
   "cell_type": "code",
   "execution_count": 172,
   "metadata": {},
   "outputs": [
    {
     "data": {
      "text/plain": [
       "['https://opendap.oceanobservatories.org/thredds/dodsC/ooi/areed@whoi.edu/20181210T193515-CP01CNSM-RID27-03-CTDBPC000-recovered_inst-ctdbp_cdef_instrument_recovered/deployment0008_CP01CNSM-RID27-03-CTDBPC000-recovered_inst-ctdbp_cdef_instrument_recovered_20171029T141519-20180329T190320.nc',\n",
       " 'https://opendap.oceanobservatories.org/thredds/dodsC/ooi/areed@whoi.edu/20181210T193515-CP01CNSM-RID27-03-CTDBPC000-recovered_inst-ctdbp_cdef_instrument_recovered/deployment0007_CP01CNSM-RID27-03-CTDBPC000-recovered_inst-ctdbp_cdef_instrument_recovered_20170609T142931-20171101T202931.nc',\n",
       " 'https://opendap.oceanobservatories.org/thredds/dodsC/ooi/areed@whoi.edu/20181210T193515-CP01CNSM-RID27-03-CTDBPC000-recovered_inst-ctdbp_cdef_instrument_recovered/deployment0006_CP01CNSM-RID27-03-CTDBPC000-recovered_inst-ctdbp_cdef_instrument_recovered_20161013T183731-20161122T190001.nc',\n",
       " 'https://opendap.oceanobservatories.org/thredds/dodsC/ooi/areed@whoi.edu/20181210T193515-CP01CNSM-RID27-03-CTDBPC000-recovered_inst-ctdbp_cdef_instrument_recovered/deployment0005_CP01CNSM-RID27-03-CTDBPC000-recovered_inst-ctdbp_cdef_instrument_recovered_20160513T135001-20161013T193001.nc',\n",
       " 'https://opendap.oceanobservatories.org/thredds/dodsC/ooi/areed@whoi.edu/20181210T193515-CP01CNSM-RID27-03-CTDBPC000-recovered_inst-ctdbp_cdef_instrument_recovered/deployment0001_CP01CNSM-RID27-03-CTDBPC000-recovered_inst-ctdbp_cdef_instrument_recovered_20131121T181521-20140217T132711.nc']"
      ]
     },
     "execution_count": 172,
     "metadata": {},
     "output_type": "execute_result"
    }
   ],
   "source": [
    "datasets"
   ]
  },
  {
   "cell_type": "code",
   "execution_count": 173,
   "metadata": {},
   "outputs": [],
   "source": [
    "datasets = parse_dataset_names(datasets,refdes)"
   ]
  },
  {
   "cell_type": "code",
   "execution_count": 174,
   "metadata": {},
   "outputs": [
    {
     "data": {
      "text/plain": [
       "['https://opendap.oceanobservatories.org/thredds/dodsC/ooi/areed@whoi.edu/20181210T193515-CP01CNSM-RID27-03-CTDBPC000-recovered_inst-ctdbp_cdef_instrument_recovered/deployment0008_CP01CNSM-RID27-03-CTDBPC000-recovered_inst-ctdbp_cdef_instrument_recovered_20171029T141519-20180329T190320.nc',\n",
       " 'https://opendap.oceanobservatories.org/thredds/dodsC/ooi/areed@whoi.edu/20181210T193515-CP01CNSM-RID27-03-CTDBPC000-recovered_inst-ctdbp_cdef_instrument_recovered/deployment0007_CP01CNSM-RID27-03-CTDBPC000-recovered_inst-ctdbp_cdef_instrument_recovered_20170609T142931-20171101T202931.nc',\n",
       " 'https://opendap.oceanobservatories.org/thredds/dodsC/ooi/areed@whoi.edu/20181210T193515-CP01CNSM-RID27-03-CTDBPC000-recovered_inst-ctdbp_cdef_instrument_recovered/deployment0006_CP01CNSM-RID27-03-CTDBPC000-recovered_inst-ctdbp_cdef_instrument_recovered_20161013T183731-20161122T190001.nc',\n",
       " 'https://opendap.oceanobservatories.org/thredds/dodsC/ooi/areed@whoi.edu/20181210T193515-CP01CNSM-RID27-03-CTDBPC000-recovered_inst-ctdbp_cdef_instrument_recovered/deployment0005_CP01CNSM-RID27-03-CTDBPC000-recovered_inst-ctdbp_cdef_instrument_recovered_20160513T135001-20161013T193001.nc',\n",
       " 'https://opendap.oceanobservatories.org/thredds/dodsC/ooi/areed@whoi.edu/20181210T193515-CP01CNSM-RID27-03-CTDBPC000-recovered_inst-ctdbp_cdef_instrument_recovered/deployment0001_CP01CNSM-RID27-03-CTDBPC000-recovered_inst-ctdbp_cdef_instrument_recovered_20131121T181521-20140217T132711.nc']"
      ]
     },
     "execution_count": 174,
     "metadata": {},
     "output_type": "execute_result"
    }
   ],
   "source": [
    "datasets"
   ]
  },
  {
   "cell_type": "code",
   "execution_count": 175,
   "metadata": {},
   "outputs": [],
   "source": [
    "ctd_ds = xr.open_mfdataset(datasets)"
   ]
  },
  {
   "cell_type": "code",
   "execution_count": 177,
   "metadata": {},
   "outputs": [],
   "source": [
    "ctd_ds = ctd_ds.swap_dims({'obs':'time'})"
   ]
  },
  {
   "cell_type": "code",
   "execution_count": 185,
   "metadata": {},
   "outputs": [
    {
     "data": {
      "text/plain": [
       "<bound method ImplementsDatasetReduce._reduce_method.<locals>.wrapped_func of <xarray.Dataset>\n",
       "Dimensions:                                  (time: 644541)\n",
       "Coordinates:\n",
       "    obs                                      (time) int64 0 1 ... 303451 303452\n",
       "  * time                                     (time) datetime64[ns] 2017-10-29T14:15:19 ... 2014-02-17T13:27:11\n",
       "    pressure                                 (time) float64 dask.array<shape=(644541,), chunksize=(275778,)>\n",
       "    lat                                      (time) float64 dask.array<shape=(644541,), chunksize=(275778,)>\n",
       "    lon                                      (time) float64 dask.array<shape=(644541,), chunksize=(275778,)>\n",
       "Data variables:\n",
       "    deployment                               (time) int32 dask.array<shape=(644541,), chunksize=(275778,)>\n",
       "    id                                       (time) |S64 dask.array<shape=(644541,), chunksize=(275778,)>\n",
       "    conductivity                             (time) float64 dask.array<shape=(644541,), chunksize=(275778,)>\n",
       "    ctd_time                                 (time) datetime64[ns] dask.array<shape=(644541,), chunksize=(275778,)>\n",
       "    driver_timestamp                         (time) datetime64[ns] dask.array<shape=(644541,), chunksize=(275778,)>\n",
       "    ingestion_timestamp                      (time) datetime64[ns] dask.array<shape=(644541,), chunksize=(275778,)>\n",
       "    internal_timestamp                       (time) datetime64[ns] dask.array<shape=(644541,), chunksize=(275778,)>\n",
       "    port_timestamp                           (time) datetime64[ns] dask.array<shape=(644541,), chunksize=(275778,)>\n",
       "    preferred_timestamp                      (time) object dask.array<shape=(644541,), chunksize=(275778,)>\n",
       "    pressure_temp                            (time) float64 dask.array<shape=(644541,), chunksize=(275778,)>\n",
       "    provenance                               (time) |S64 dask.array<shape=(644541,), chunksize=(275778,)>\n",
       "    temperature                              (time) float64 dask.array<shape=(644541,), chunksize=(275778,)>\n",
       "    ctdbp_seawater_temperature               (time) float64 dask.array<shape=(644541,), chunksize=(275778,)>\n",
       "    ctdbp_seawater_pressure                  (time) float64 dask.array<shape=(644541,), chunksize=(275778,)>\n",
       "    ctdbp_seawater_conductivity              (time) float64 dask.array<shape=(644541,), chunksize=(275778,)>\n",
       "    practical_salinity                       (time) float64 dask.array<shape=(644541,), chunksize=(275778,)>\n",
       "    density                                  (time) float64 dask.array<shape=(644541,), chunksize=(275778,)>\n",
       "    conductivity_qc_executed                 (time) float32 dask.array<shape=(644541,), chunksize=(275778,)>\n",
       "    conductivity_qc_results                  (time) float32 dask.array<shape=(644541,), chunksize=(275778,)>\n",
       "    pressure_qc_executed                     (time) float32 dask.array<shape=(644541,), chunksize=(275778,)>\n",
       "    pressure_qc_results                      (time) float32 dask.array<shape=(644541,), chunksize=(275778,)>\n",
       "    ctdbp_seawater_temperature_qc_executed   (time) float32 dask.array<shape=(644541,), chunksize=(275778,)>\n",
       "    ctdbp_seawater_temperature_qc_results    (time) float32 dask.array<shape=(644541,), chunksize=(275778,)>\n",
       "    ctdbp_seawater_pressure_qc_executed      (time) float32 dask.array<shape=(644541,), chunksize=(275778,)>\n",
       "    ctdbp_seawater_pressure_qc_results       (time) float32 dask.array<shape=(644541,), chunksize=(275778,)>\n",
       "    ctdbp_seawater_conductivity_qc_executed  (time) float32 dask.array<shape=(644541,), chunksize=(275778,)>\n",
       "    ctdbp_seawater_conductivity_qc_results   (time) float32 dask.array<shape=(644541,), chunksize=(275778,)>\n",
       "    density_qc_executed                      (time) float32 dask.array<shape=(644541,), chunksize=(275778,)>\n",
       "    density_qc_results                       (time) float32 dask.array<shape=(644541,), chunksize=(275778,)>\n",
       "    practical_salinity_qc_executed           (time) float32 dask.array<shape=(644541,), chunksize=(275778,)>\n",
       "    practical_salinity_qc_results            (time) float32 dask.array<shape=(644541,), chunksize=(275778,)>\n",
       "Attributes:\n",
       "    _NCProperties:                      version=1|netcdflibversion=4.4.1.1|hd...\n",
       "    node:                               RID27\n",
       "    comment:                            \n",
       "    publisher_email:                    \n",
       "    sourceUrl:                          http://oceanobservatories.org/\n",
       "    collection_method:                  recovered_inst\n",
       "    stream:                             ctdbp_cdef_instrument_recovered\n",
       "    featureType:                        point\n",
       "    creator_email:                      \n",
       "    publisher_name:                     Ocean Observatories Initiative\n",
       "    date_modified:                      2018-12-10T19:35:40.376598\n",
       "    keywords:                           \n",
       "    cdm_data_type:                      Point\n",
       "    references:                         More information can be found at http...\n",
       "    Metadata_Conventions:               Unidata Dataset Discovery v1.0\n",
       "    date_created:                       2018-12-10T19:35:40.376591\n",
       "    id:                                 CP01CNSM-RID27-03-CTDBPC000-recovered...\n",
       "    requestUUID:                        47926107-0a8e-4ccd-b21c-be083803373e\n",
       "    contributor_role:                   \n",
       "    summary:                            Dataset Generated by Stream Engine fr...\n",
       "    keywords_vocabulary:                \n",
       "    institution:                        Ocean Observatories Initiative\n",
       "    naming_authority:                   org.oceanobservatories\n",
       "    feature_Type:                       point\n",
       "    infoUrl:                            http://oceanobservatories.org/\n",
       "    license:                            \n",
       "    contributor_name:                   \n",
       "    uuid:                               47926107-0a8e-4ccd-b21c-be083803373e\n",
       "    creator_name:                       Ocean Observatories Initiative\n",
       "    title:                              Data produced by Stream Engine versio...\n",
       "    sensor:                             03-CTDBPC000\n",
       "    standard_name_vocabulary:           NetCDF Climate and Forecast (CF) Meta...\n",
       "    acknowledgement:                    \n",
       "    Conventions:                        CF-1.6\n",
       "    project:                            Ocean Observatories Initiative\n",
       "    source:                             CP01CNSM-RID27-03-CTDBPC000-recovered...\n",
       "    publisher_url:                      http://oceanobservatories.org/\n",
       "    creator_url:                        http://oceanobservatories.org/\n",
       "    nodc_template_version:              NODC_NetCDF_TimeSeries_Orthogonal_Tem...\n",
       "    subsite:                            CP01CNSM\n",
       "    processing_level:                   L2\n",
       "    history:                            2018-12-10T19:35:40.376513 generated ...\n",
       "    Manufacturer:                       Sea-Bird Electronics\n",
       "    ModelNumber:                        SBE 16plus V2\n",
       "    SerialNumber:                       16-7208\n",
       "    Description:                        CTD Pumped: CTDBP Series C\n",
       "    FirmwareVersion:                    2.5\n",
       "    SoftwareVersion:                    Not specified.\n",
       "    AssetUniqueID:                      CGINS-CTDBPC-07208\n",
       "    Notes:                              Not specified.\n",
       "    Owner:                              Not specified.\n",
       "    RemoteResources:                    []\n",
       "    ShelfLifeExpirationDate:            Not specified.\n",
       "    Mobile:                             False\n",
       "    AssetManagementRecordLastModified:  2018-12-06T13:50:48.114000\n",
       "    time_coverage_start:                2017-10-29T14:15:19\n",
       "    time_coverage_end:                  2018-03-29T19:03:20\n",
       "    time_coverage_resolution:           P47.37S\n",
       "    geospatial_lat_min:                 40.13338333\n",
       "    geospatial_lat_max:                 40.13338333\n",
       "    geospatial_lat_units:               degrees_north\n",
       "    geospatial_lat_resolution:          0.1\n",
       "    geospatial_lon_min:                 -70.7783\n",
       "    geospatial_lon_max:                 -70.7783\n",
       "    geospatial_lon_units:               degrees_east\n",
       "    geospatial_lon_resolution:          0.1\n",
       "    geospatial_vertical_units:          meters\n",
       "    geospatial_vertical_resolution:     0.1\n",
       "    geospatial_vertical_positive:       down\n",
       "    DODS.strlen:                        36\n",
       "    DODS.dimName:                       string36\n",
       "    DODS_EXTRA.Unlimited_Dimension:     obs>"
      ]
     },
     "execution_count": 185,
     "metadata": {},
     "output_type": "execute_result"
    }
   ],
   "source": [
    "ctd_ds.var"
   ]
  },
  {
   "cell_type": "code",
   "execution_count": 183,
   "metadata": {},
   "outputs": [
    {
     "data": {
      "text/plain": [
       "array([1, 5, 6, 7, 8])"
      ]
     },
     "execution_count": 183,
     "metadata": {},
     "output_type": "execute_result"
    }
   ],
   "source": [
    "np.unique(ctd_ds.deployment.values)"
   ]
  },
  {
   "cell_type": "code",
   "execution_count": 264,
   "metadata": {},
   "outputs": [
    {
     "data": {
      "text/plain": [
       "<xarray.DataArray 'ctdbp_seawater_pressure' (time: 644541)>\n",
       "dask.array<shape=(644541,), dtype=float64, chunksize=(275778,)>\n",
       "Coordinates:\n",
       "    obs       (time) int64 0 1 2 3 4 5 ... 303448 303449 303450 303451 303452\n",
       "  * time      (time) datetime64[ns] 2017-10-29T14:15:19 ... 2014-02-17T13:27:11\n",
       "    pressure  (time) float64 dask.array<shape=(644541,), chunksize=(275778,)>\n",
       "    lat       (time) float64 dask.array<shape=(644541,), chunksize=(275778,)>\n",
       "    lon       (time) float64 dask.array<shape=(644541,), chunksize=(275778,)>\n",
       "Attributes:\n",
       "    comment:                  Seawater Pressure refers to the pressure exerte...\n",
       "    long_name:                Seawater Pressure\n",
       "    precision:                3\n",
       "    data_product_identifier:  PRESWAT_L1\n",
       "    standard_name:            sea_water_pressure\n",
       "    units:                    dbar\n",
       "    ancillary_variables:      pressure,pressure_temp"
      ]
     },
     "execution_count": 264,
     "metadata": {},
     "output_type": "execute_result"
    }
   ],
   "source": [
    "# Create a function to plot where I have data and where I do not. Will need two things\n",
    "ctd_ds.data_vars['ctdbp_seawater_pressure']"
   ]
  },
  {
   "cell_type": "code",
   "execution_count": 261,
   "metadata": {},
   "outputs": [
    {
     "data": {
      "text/plain": [
       "<xarray.DataArray 'temperature' (time: 644541)>\n",
       "dask.array<shape=(644541,), dtype=float64, chunksize=(275778,)>\n",
       "Coordinates:\n",
       "    obs       (time) int64 0 1 2 3 4 5 ... 303448 303449 303450 303451 303452\n",
       "  * time      (time) datetime64[ns] 2017-10-29T14:15:19 ... 2014-02-17T13:27:11\n",
       "    pressure  (time) float64 dask.array<shape=(644541,), chunksize=(275778,)>\n",
       "    lat       (time) float64 dask.array<shape=(644541,), chunksize=(275778,)>\n",
       "    lon       (time) float64 dask.array<shape=(644541,), chunksize=(275778,)>\n",
       "Attributes:\n",
       "    comment:                  Seawater temperature unprocessed measurement ne...\n",
       "    long_name:                Seawater Temperature Measurement\n",
       "    precision:                0\n",
       "    data_product_identifier:  TEMPWAT_L0\n",
       "    units:                    counts"
      ]
     },
     "execution_count": 261,
     "metadata": {},
     "output_type": "execute_result"
    }
   ],
   "source": [
    "ctd_ds.data_vars['temperature']"
   ]
  },
  {
   "cell_type": "code",
   "execution_count": 310,
   "metadata": {},
   "outputs": [
    {
     "data": {
      "text/plain": [
       "<xarray.DataArray 'preferred_timestamp' (time: 644541)>\n",
       "dask.array<shape=(644541,), dtype=object, chunksize=(275778,)>\n",
       "Coordinates:\n",
       "    obs       (time) int64 0 1 2 3 4 5 ... 303448 303449 303450 303451 303452\n",
       "  * time      (time) datetime64[ns] 2017-10-29T14:15:19 ... 2014-02-17T13:27:11\n",
       "    pressure  (time) float64 dask.array<shape=(644541,), chunksize=(275778,)>\n",
       "    lat       (time) float64 dask.array<shape=(644541,), chunksize=(275778,)>\n",
       "    lon       (time) float64 dask.array<shape=(644541,), chunksize=(275778,)>\n",
       "Attributes:\n",
       "    comment:    Timestamp preferred as official record.\n",
       "    units:      1\n",
       "    long_name:  Preferred Timestamp"
      ]
     },
     "execution_count": 310,
     "metadata": {},
     "output_type": "execute_result"
    }
   ],
   "source": [
    "# do some checks on the difference between the different salinity and temperature fields\n",
    "ctd_ds.data_vars['preferred_timestamp']"
   ]
  },
  {
   "cell_type": "code",
   "execution_count": 267,
   "metadata": {},
   "outputs": [
    {
     "data": {
      "text/plain": [
       "array(['2017-10-29T14:15:19.000000000', '2017-10-29T14:15:29.000000000',\n",
       "       '2017-10-29T14:15:39.000000000', ...,\n",
       "       '2014-02-17T13:26:51.000000000', '2014-02-17T13:27:01.000000000',\n",
       "       '2014-02-17T13:27:11.000000000'], dtype='datetime64[ns]')"
      ]
     },
     "execution_count": 267,
     "metadata": {},
     "output_type": "execute_result"
    }
   ],
   "source": [
    "ctd_ds.coords['time'].values"
   ]
  },
  {
   "cell_type": "markdown",
   "metadata": {},
   "source": [
    "## Preliminary Data Exploration\n",
    "With the different CTDBP deployment data loaded into datasets, now we'll take a preliminary look at some of the data. This includes plotting L0, L1, and L2 data products for visual comparison and compute some basic statistics."
   ]
  },
  {
   "cell_type": "code",
   "execution_count": 265,
   "metadata": {},
   "outputs": [],
   "source": [
    "import seaborn as sns"
   ]
  },
  {
   "cell_type": "code",
   "execution_count": 277,
   "metadata": {},
   "outputs": [
    {
     "data": {
      "image/png": "[encoded data removed]",
      "text/plain": [
       "<Figure size 864x432 with 3 Axes>"
      ]
     },
     "metadata": {
      "needs_background": "light"
     },
     "output_type": "display_data"
    }
   ],
   "source": [
    "# First, lets plot the raw conductivity, temperature, and pressure\n",
    "import matplotlib.dates as mdates\n",
    "fig, (ax1, ax2, ax3) = plt.subplots(nrows=3, ncols=1, sharex=True, figsize=(12, 6))\n",
    "\n",
    "# Plot the raw conductivity\n",
    "ax1.plot_date(x=ctd_ds.coords['time'].values, y=ctd_ds.data_vars['conductivity'].values, marker = '.', color = 'blue')\n",
    "ax1.set_ylabel('Conductivity')\n",
    "ax1.grid()\n",
    "ax1.set_title('Raw Data (Counts) from CP01CNSM NSIF CTDBP')\n",
    "# Plot the raw temperature\n",
    "ax2.plot_date(x=ctd_ds.coords['time'].values, y=ctd_ds.data_vars['temperature'].values, marker='.', color = 'red')\n",
    "ax2.set_ylabel('Temperature')\n",
    "ax2.grid()\n",
    "# Plot the raw pressure\n",
    "ax3.plot_date(x=ctd_ds.coords['time'].values, y=ctd_ds.coords['pressure'].values, marker='.', color='black')\n",
    "ax3.set_ylabel('Pressure')\n",
    "ax3.grid()\n",
    "\n",
    "ax3.get_xaxis().set_major_locator(mdates.MonthLocator(interval=3))\n",
    "ax3.get_xaxis().set_major_formatter(mdates.DateFormatter('%b %Y'))\n",
    "fig.autofmt_xdate()"
   ]
  },
  {
   "cell_type": "code",
   "execution_count": 283,
   "metadata": {},
   "outputs": [
    {
     "data": {
      "text/plain": [
       "<xarray.DataArray 'conductivity' (time: 644541)>\n",
       "dask.array<shape=(644541,), dtype=float64, chunksize=(275778,)>\n",
       "Coordinates:\n",
       "    obs       (time) int64 0 1 2 3 4 5 ... 303448 303449 303450 303451 303452\n",
       "  * time      (time) datetime64[ns] 2017-10-29T14:15:19 ... 2014-02-17T13:27:11\n",
       "    pressure  (time) float64 dask.array<shape=(644541,), chunksize=(275778,)>\n",
       "    lat       (time) float64 dask.array<shape=(644541,), chunksize=(275778,)>\n",
       "    lon       (time) float64 dask.array<shape=(644541,), chunksize=(275778,)>\n",
       "Attributes:\n",
       "    comment:                  Seawater conductivity refers to the ability of ...\n",
       "    long_name:                Seawater Conductivity Measurement\n",
       "    precision:                0\n",
       "    data_product_identifier:  CONDWAT_L0\n",
       "    units:                    counts"
      ]
     },
     "execution_count": 283,
     "metadata": {},
     "output_type": "execute_result"
    }
   ],
   "source": [
    "cond = ctd_ds.data_vars['conductivity']\n",
    "cond"
   ]
  },
  {
   "cell_type": "code",
   "execution_count": 287,
   "metadata": {},
   "outputs": [],
   "source": [
    "cond = ctd_ds.data_vars['conductivity'].to_dataframe()"
   ]
  },
  {
   "cell_type": "code",
   "execution_count": 293,
   "metadata": {},
   "outputs": [
    {
     "data": {
      "text/html": [
       "<div>\n",
       "<style scoped>\n",
       "    .dataframe tbody tr th:only-of-type {\n",
       "        vertical-align: middle;\n",
       "    }\n",
       "\n",
       "    .dataframe tbody tr th {\n",
       "        vertical-align: top;\n",
       "    }\n",
       "\n",
       "    .dataframe thead th {\n",
       "        text-align: right;\n",
       "    }\n",
       "</style>\n",
       "<table border=\"1\" class=\"dataframe\">\n",
       "  <thead>\n",
       "    <tr style=\"text-align: right;\">\n",
       "      <th></th>\n",
       "      <th>obs</th>\n",
       "      <th>pressure</th>\n",
       "      <th>lat</th>\n",
       "      <th>lon</th>\n",
       "      <th>conductivity</th>\n",
       "    </tr>\n",
       "    <tr>\n",
       "      <th>time</th>\n",
       "      <th></th>\n",
       "      <th></th>\n",
       "      <th></th>\n",
       "      <th></th>\n",
       "      <th></th>\n",
       "    </tr>\n",
       "  </thead>\n",
       "  <tbody>\n",
       "    <tr>\n",
       "      <th>2013-11-21 18:15:21</th>\n",
       "      <td>0</td>\n",
       "      <td>577543.0</td>\n",
       "      <td>40.13678</td>\n",
       "      <td>-70.76978</td>\n",
       "      <td>1553130.0</td>\n",
       "    </tr>\n",
       "    <tr>\n",
       "      <th>2013-11-21 18:15:31</th>\n",
       "      <td>1</td>\n",
       "      <td>576965.0</td>\n",
       "      <td>40.13678</td>\n",
       "      <td>-70.76978</td>\n",
       "      <td>1553348.0</td>\n",
       "    </tr>\n",
       "    <tr>\n",
       "      <th>2013-11-21 18:15:41</th>\n",
       "      <td>2</td>\n",
       "      <td>577092.0</td>\n",
       "      <td>40.13678</td>\n",
       "      <td>-70.76978</td>\n",
       "      <td>1553134.0</td>\n",
       "    </tr>\n",
       "    <tr>\n",
       "      <th>2013-11-21 18:15:51</th>\n",
       "      <td>3</td>\n",
       "      <td>576412.0</td>\n",
       "      <td>40.13678</td>\n",
       "      <td>-70.76978</td>\n",
       "      <td>1553458.0</td>\n",
       "    </tr>\n",
       "    <tr>\n",
       "      <th>2013-11-21 18:16:01</th>\n",
       "      <td>4</td>\n",
       "      <td>577429.0</td>\n",
       "      <td>40.13678</td>\n",
       "      <td>-70.76978</td>\n",
       "      <td>1553237.0</td>\n",
       "    </tr>\n",
       "  </tbody>\n",
       "</table>\n",
       "</div>"
      ],
      "text/plain": [
       "                     obs  pressure       lat       lon  conductivity\n",
       "time                                                                \n",
       "2013-11-21 18:15:21    0  577543.0  40.13678 -70.76978     1553130.0\n",
       "2013-11-21 18:15:31    1  576965.0  40.13678 -70.76978     1553348.0\n",
       "2013-11-21 18:15:41    2  577092.0  40.13678 -70.76978     1553134.0\n",
       "2013-11-21 18:15:51    3  576412.0  40.13678 -70.76978     1553458.0\n",
       "2013-11-21 18:16:01    4  577429.0  40.13678 -70.76978     1553237.0"
      ]
     },
     "execution_count": 293,
     "metadata": {},
     "output_type": "execute_result"
    }
   ],
   "source": [
    "cond.sort_index(inplace=True)\n",
    "cond.head()"
   ]
  },
  {
   "cell_type": "code",
   "execution_count": 302,
   "metadata": {},
   "outputs": [
    {
     "data": {
      "text/plain": [
       "DatetimeIndex(['2013-11-21 18:15:21', '2013-11-21 18:15:31',\n",
       "               '2013-11-21 18:15:41', '2013-11-21 18:15:51',\n",
       "               '2013-11-21 18:16:01', '2013-11-21 18:16:11',\n",
       "               '2013-11-21 18:16:21', '2013-11-21 18:16:31',\n",
       "               '2013-11-21 18:16:41', '2013-11-21 18:16:51',\n",
       "               ...\n",
       "               '2018-03-29 19:01:50', '2018-03-29 19:02:00',\n",
       "               '2018-03-29 19:02:10', '2018-03-29 19:02:20',\n",
       "               '2018-03-29 19:02:30', '2018-03-29 19:02:40',\n",
       "               '2018-03-29 19:02:50', '2018-03-29 19:03:00',\n",
       "               '2018-03-29 19:03:10', '2018-03-29 19:03:20'],\n",
       "              dtype='datetime64[ns]', name='time', length=644541, freq=None)"
      ]
     },
     "execution_count": 302,
     "metadata": {},
     "output_type": "execute_result"
    }
   ],
   "source": [
    "cond.index"
   ]
  },
  {
   "cell_type": "code",
   "execution_count": 305,
   "metadata": {},
   "outputs": [],
   "source": [
    "cond_rolling_mean=cond.rolling(window='365D').mean()"
   ]
  },
  {
   "cell_type": "code",
   "execution_count": 306,
   "metadata": {},
   "outputs": [
    {
     "data": {
      "image/png": "[encoded data removed]",
      "text/plain": [
       "<Figure size 864x432 with 1 Axes>"
      ]
     },
     "metadata": {
      "needs_background": "light"
     },
     "output_type": "display_data"
    }
   ],
   "source": [
    "fig, ax = plt.subplots(figsize=(12,6))\n",
    "ax.plot_date(x=cond.index, y=cond['conductivity'], marker='.', color='blue')\n",
    "ax.plot_date(x=cond_rolling_mean.index, y=cond_rolling_mean['conductivity'], marker='.', color='red')\n",
    "ax.grid()\n"
   ]
  },
  {
   "cell_type": "code",
   "execution_count": null,
   "metadata": {},
   "outputs": [],
   "source": []
  }
 ],
 "metadata": {
  "kernelspec": {
   "display_name": "Python 3",
   "language": "python",
   "name": "python3"
  },
  "language_info": {
   "codemirror_mode": {
    "name": "ipython",
    "version": 3
   },
   "file_extension": ".py",
   "mimetype": "text/x-python",
   "name": "python",
   "nbconvert_exporter": "python",
   "pygments_lexer": "ipython3",
   "version": "3.7.1"
  }
 },
 "nbformat": 4,
 "nbformat_minor": 2
}
