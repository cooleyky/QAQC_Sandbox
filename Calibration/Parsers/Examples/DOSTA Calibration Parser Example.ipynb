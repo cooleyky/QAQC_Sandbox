{
 "cells": [
  {
   "cell_type": "markdown",
   "metadata": {},
   "source": [
    "# DOSTA Calibration Parser Example\n",
    "\n",
    "This notebook provides an example of the use of DOSTA Calibration Parser for generating csv files from vendor documentation. The calibration coefficients can be parsed from the vendor pdf calibration  file. If more than one cal file is present, it will automatically open and parse the latest calibration file. \n",
    "**===================================================================================================================**"
   ]
  },
  {
   "cell_type": "code",
   "execution_count": 1,
   "metadata": {},
   "outputs": [],
   "source": [
    "# Until the module is set-up, need to \n",
    "import sys\n",
    "sys.path.append('..')\n",
    "sys.path.append('../Parsers/')"
   ]
  },
  {
   "cell_type": "code",
   "execution_count": 2,
   "metadata": {},
   "outputs": [],
   "source": [
    "from utils import *"
   ]
  },
  {
   "cell_type": "markdown",
   "metadata": {},
   "source": [
    "**===================================================================================================================**\n",
    "### Data Sources and Locations\n",
    "Enter the full path to where the calibration and qct files are stored. If running this example as part of the Parsers package, the relatives paths defined below should work."
   ]
  },
  {
   "cell_type": "code",
   "execution_count": 3,
   "metadata": {},
   "outputs": [],
   "source": [
    "cal_files = '../Data_Sources/DOSTA/3305-00115-00197-A.txt'\n",
    "doc_files = '../Data_Sources/DOSTA/3305-00115-00197.docx'"
   ]
  },
  {
   "cell_type": "markdown",
   "metadata": {},
   "source": [
    "**===================================================================================================================**\n",
    "### Create the NUTNR Calibration Object\n",
    "\n",
    "In order to initialize the NUTNR Calibration Object requires entering the UID of the ISUS/SUNA instrument for which the calibration csv is going to be generated. This uid is then checked against the data parsed from the source files as a check that the expected calibration csv matches the source files where the calibration data is being parsed from.\n",
    "\n",
    "Additionally, we will create a temp directory to output the csv files to during the course of this notebook so that they can be compared with each other at the end, and then erased."
   ]
  },
  {
   "cell_type": "code",
   "execution_count": 4,
   "metadata": {},
   "outputs": [],
   "source": [
    "from DOSTACalibration import DOSTACalibration"
   ]
  },
  {
   "cell_type": "code",
   "execution_count": 5,
   "metadata": {},
   "outputs": [],
   "source": [
    "if not os.path.exists('/'.join((os.getcwd(),'temp'))):\n",
    "    tempdir = '/'.join((os.getcwd(),'temp'))\n",
    "    os.mkdir(tempdir)\n",
    "else:\n",
    "    tempdir = '/'.join((os.getcwd(),'temp'))"
   ]
  },
  {
   "cell_type": "markdown",
   "metadata": {},
   "source": [
    "#### Calibration CSV from QCT checking\n",
    "First, we'll generate a calibration csv from the QCT check-in file (which is stored away in a .zip file). The steps are:\n",
    "1. Initialize a DOSTACalibration object with the instrument UID\n",
    "2. Call the load_qct method with the following inputs:\n",
    "    * filepath: the path to the dosta capture file/output file with the calibration coefficients\n",
    "3. Call the load_doc method with the following inputs:\n",
    "    * filepath: the path to the dosta QCT check-in proceduce document. This is needed to get the date of the QCT checkin.\n",
    "4. Call the write_csv method with the path to where the csv calibration file should be saved to"
   ]
  },
  {
   "cell_type": "code",
   "execution_count": 6,
   "metadata": {},
   "outputs": [],
   "source": [
    "dosta = DOSTACalibration(uid='CGINS-DOSTAD-00439')"
   ]
  },
  {
   "cell_type": "code",
   "execution_count": 7,
   "metadata": {},
   "outputs": [],
   "source": [
    "dosta.load_qct(cal_files)"
   ]
  },
  {
   "cell_type": "code",
   "execution_count": 10,
   "metadata": {},
   "outputs": [],
   "source": [
    "dosta.load_docx(doc_files)"
   ]
  },
  {
   "cell_type": "code",
   "execution_count": 8,
   "metadata": {},
   "outputs": [
    {
     "data": {
      "text/plain": [
       "{'CC_conc_coef': [0.02304734, 1.020455],\n",
       " 'CC_csv': [0.00283434,\n",
       "  0.0001213493,\n",
       "  2.361676e-06,\n",
       "  228.4362,\n",
       "  -0.31663,\n",
       "  -58.89666,\n",
       "  4.558222]}"
      ]
     },
     "execution_count": 8,
     "metadata": {},
     "output_type": "execute_result"
    }
   ],
   "source": [
    "dosta.coefficients"
   ]
  },
  {
   "cell_type": "code",
   "execution_count": 9,
   "metadata": {},
   "outputs": [
    {
     "data": {
      "text/plain": [
       "'Source file: DOSTA > 3305-00115-00197-A.txt'"
      ]
     },
     "execution_count": 9,
     "metadata": {},
     "output_type": "execute_result"
    }
   ],
   "source": [
    "dosta.source"
   ]
  },
  {
   "cell_type": "code",
   "execution_count": 11,
   "metadata": {},
   "outputs": [
    {
     "data": {
      "text/plain": [
       "'20170329'"
      ]
     },
     "execution_count": 11,
     "metadata": {},
     "output_type": "execute_result"
    }
   ],
   "source": [
    "dosta.date"
   ]
  },
  {
   "cell_type": "code",
   "execution_count": 12,
   "metadata": {},
   "outputs": [
    {
     "name": "stdout",
     "output_type": "stream",
     "text": [
      "Write CGINS-DOSTAD-00439__20170329.csv to /home/andrew/Documents/OOI-CGSN/QAQC_Sandbox/Calibration/Parsers/Examples/temp? [y/n]: y\n"
     ]
    }
   ],
   "source": [
    "dosta.write_csv(tempdir)"
   ]
  },
  {
   "cell_type": "markdown",
   "metadata": {},
   "source": [
    "**===================================================================================================================**\n",
    "### Check the Results\n",
    "Now, load the csv into a pandas dataframe in this notebook as a visual check that all of the data loaded as expected:"
   ]
  },
  {
   "cell_type": "code",
   "execution_count": 13,
   "metadata": {},
   "outputs": [
    {
     "data": {
      "text/html": [
       "<div>\n",
       "<style scoped>\n",
       "    .dataframe tbody tr th:only-of-type {\n",
       "        vertical-align: middle;\n",
       "    }\n",
       "\n",
       "    .dataframe tbody tr th {\n",
       "        vertical-align: top;\n",
       "    }\n",
       "\n",
       "    .dataframe thead th {\n",
       "        text-align: right;\n",
       "    }\n",
       "</style>\n",
       "<table border=\"1\" class=\"dataframe\">\n",
       "  <thead>\n",
       "    <tr style=\"text-align: right;\">\n",
       "      <th></th>\n",
       "      <th>serial</th>\n",
       "      <th>name</th>\n",
       "      <th>value</th>\n",
       "      <th>notes</th>\n",
       "    </tr>\n",
       "  </thead>\n",
       "  <tbody>\n",
       "    <tr>\n",
       "      <td>0</td>\n",
       "      <td>439</td>\n",
       "      <td>CC_conc_coef</td>\n",
       "      <td>[0.02304734, 1.020455]</td>\n",
       "      <td>Source file: DOSTA &gt; 3305-00115-00197-A.txt</td>\n",
       "    </tr>\n",
       "    <tr>\n",
       "      <td>1</td>\n",
       "      <td>439</td>\n",
       "      <td>CC_csv</td>\n",
       "      <td>[0.00283434, 0.0001213493, 2.361676e-06, 228.4...</td>\n",
       "      <td>NaN</td>\n",
       "    </tr>\n",
       "  </tbody>\n",
       "</table>\n",
       "</div>"
      ],
      "text/plain": [
       "   serial          name                                              value  \\\n",
       "0     439  CC_conc_coef                             [0.02304734, 1.020455]   \n",
       "1     439        CC_csv  [0.00283434, 0.0001213493, 2.361676e-06, 228.4...   \n",
       "\n",
       "                                         notes  \n",
       "0  Source file: DOSTA > 3305-00115-00197-A.txt  \n",
       "1                                          NaN  "
      ]
     },
     "execution_count": 13,
     "metadata": {},
     "output_type": "execute_result"
    }
   ],
   "source": [
    "cal = pd.read_csv('temp/CGINS-DOSTAD-00439__20170329.csv')\n",
    "cal"
   ]
  },
  {
   "cell_type": "markdown",
   "metadata": {},
   "source": [
    "Looks good!"
   ]
  }
 ],
 "metadata": {
  "jupytext": {
   "formats": "ipynb,py:light"
  },
  "kernelspec": {
   "display_name": "Python 3",
   "language": "python",
   "name": "python3"
  },
  "language_info": {
   "codemirror_mode": {
    "name": "ipython",
    "version": 3
   },
   "file_extension": ".py",
   "mimetype": "text/x-python",
   "name": "python",
   "nbconvert_exporter": "python",
   "pygments_lexer": "ipython3",
   "version": "3.7.4"
  }
 },
 "nbformat": 4,
 "nbformat_minor": 2
}
