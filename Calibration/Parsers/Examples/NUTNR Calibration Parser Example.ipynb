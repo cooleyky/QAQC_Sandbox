{
 "cells": [
  {
   "cell_type": "markdown",
   "metadata": {},
   "source": [
    "# NUTNR Calibration Parser Example\n",
    "\n",
    "This notebook provides an example of the use of NUTNR Calibration Parser for generating csv files from vendor documentation. The calibration coefficients can be parsed from the vendor .cal file. If more than one cal file is present, it will automatically open and parse the latest calibration file. \n",
    "**===================================================================================================================**"
   ]
  },
  {
   "cell_type": "code",
   "execution_count": 1,
   "metadata": {},
   "outputs": [],
   "source": [
    "# Until the module is set-up, need to \n",
    "import sys\n",
    "sys.path.append('..')\n",
    "sys.path.append('../Parsers/')"
   ]
  },
  {
   "cell_type": "code",
   "execution_count": 2,
   "metadata": {},
   "outputs": [],
   "source": [
    "from utils import *"
   ]
  },
  {
   "cell_type": "markdown",
   "metadata": {},
   "source": [
    "**===================================================================================================================**\n",
    "### Data Sources and Locations\n",
    "Enter the full path to where the calibration and qct files are stored. If running this example as part of the Parsers package, the relatives paths defined below should work."
   ]
  },
  {
   "cell_type": "code",
   "execution_count": 3,
   "metadata": {},
   "outputs": [],
   "source": [
    "cal_files = '../Data_Sources/NUTNR/3305-00327-00051-A.zip'"
   ]
  },
  {
   "cell_type": "markdown",
   "metadata": {},
   "source": [
    "**===================================================================================================================**\n",
    "### Create the NUTNR Calibration Object\n",
    "\n",
    "In order to initialize the NUTNR Calibration Object requires entering the UID of the ISUS/SUNA instrument for which the calibration csv is going to be generated. This uid is then checked against the data parsed from the source files as a check that the expected calibration csv matches the source files where the calibration data is being parsed from.\n",
    "\n",
    "Additionally, we will create a temp directory to output the csv files to during the course of this notebook so that they can be compared with each other at the end, and then erased."
   ]
  },
  {
   "cell_type": "code",
   "execution_count": 6,
   "metadata": {},
   "outputs": [],
   "source": [
    "from NUTNRCalibration import NUTNRCalibration"
   ]
  },
  {
   "cell_type": "code",
   "execution_count": 7,
   "metadata": {},
   "outputs": [],
   "source": [
    "if not os.path.exists('/'.join((os.getcwd(),'temp'))):\n",
    "    tempdir = '/'.join((os.getcwd(),'temp'))\n",
    "    os.mkdir(tempdir)\n",
    "else:\n",
    "    tempdir = '/'.join((os.getcwd(),'temp'))"
   ]
  },
  {
   "cell_type": "markdown",
   "metadata": {},
   "source": [
    "#### Calibration CSV from .cal file\n",
    "First, we'll generate a calibration csv from the vendor .cal file (which is stored away in a .zip file). The steps are:\n",
    "1. Initialize a NUTNRCalibration object with the instrument UID\n",
    "2. Call the load_cal method with the path to where the .cal file is stored (may be a compressed zip file)\n",
    "3. Call the write_csv method with the path to where the csv calibration file should be saved to"
   ]
  },
  {
   "cell_type": "code",
   "execution_count": 8,
   "metadata": {},
   "outputs": [],
   "source": [
    "nutnr = NUTNRCalibration(uid='CGINS-NUTNRB-01102')"
   ]
  },
  {
   "cell_type": "code",
   "execution_count": 9,
   "metadata": {},
   "outputs": [],
   "source": [
    "nutnr.load_cal(cal_files)"
   ]
  },
  {
   "cell_type": "code",
   "execution_count": 15,
   "metadata": {},
   "outputs": [
    {
     "name": "stdout",
     "output_type": "stream",
     "text": [
      "Write CGINS-NUTNRB-01102__20181011.csv to /home/andrew/Documents/OOI-CGSN/QAQC_Sandbox/Calibration/Parsers/Examples/temp? [y/n]: y\n"
     ]
    }
   ],
   "source": [
    "nutnr.write_csv(tempdir)"
   ]
  },
  {
   "cell_type": "markdown",
   "metadata": {},
   "source": [
    "**===================================================================================================================**\n",
    "Now, load the csv into a pandas dataframe in this notebook as a visual check that all of the data loaded as expected:"
   ]
  },
  {
   "cell_type": "code",
   "execution_count": 16,
   "metadata": {},
   "outputs": [
    {
     "data": {
      "text/html": [
       "<div>\n",
       "<style scoped>\n",
       "    .dataframe tbody tr th:only-of-type {\n",
       "        vertical-align: middle;\n",
       "    }\n",
       "\n",
       "    .dataframe tbody tr th {\n",
       "        vertical-align: top;\n",
       "    }\n",
       "\n",
       "    .dataframe thead th {\n",
       "        text-align: right;\n",
       "    }\n",
       "</style>\n",
       "<table border=\"1\" class=\"dataframe\">\n",
       "  <thead>\n",
       "    <tr style=\"text-align: right;\">\n",
       "      <th></th>\n",
       "      <th>serial</th>\n",
       "      <th>name</th>\n",
       "      <th>value</th>\n",
       "      <th>notes</th>\n",
       "    </tr>\n",
       "  </thead>\n",
       "  <tbody>\n",
       "    <tr>\n",
       "      <td>0</td>\n",
       "      <td>NTR-1102</td>\n",
       "      <td>CC_cal_temp</td>\n",
       "      <td>20.00</td>\n",
       "      <td>Source file: 3305-00327-00051-A.zip &gt; SNA1102...</td>\n",
       "    </tr>\n",
       "    <tr>\n",
       "      <td>1</td>\n",
       "      <td>NTR-1102</td>\n",
       "      <td>CC_di</td>\n",
       "      <td>['26.37500000', '28.79166667', '34.83333333', ...</td>\n",
       "      <td>NaN</td>\n",
       "    </tr>\n",
       "    <tr>\n",
       "      <td>2</td>\n",
       "      <td>NTR-1102</td>\n",
       "      <td>CC_eno3</td>\n",
       "      <td>['0.00237760', '0.01245499', '-0.00625838', '-...</td>\n",
       "      <td>NaN</td>\n",
       "    </tr>\n",
       "    <tr>\n",
       "      <td>3</td>\n",
       "      <td>NTR-1102</td>\n",
       "      <td>CC_eswa</td>\n",
       "      <td>['0.00429797', '0.00401413', '0.01313699', '0....</td>\n",
       "      <td>NaN</td>\n",
       "    </tr>\n",
       "    <tr>\n",
       "      <td>4</td>\n",
       "      <td>NTR-1102</td>\n",
       "      <td>CC_lower_wavelength_limit_for_spectra_fit</td>\n",
       "      <td>217</td>\n",
       "      <td>217</td>\n",
       "    </tr>\n",
       "    <tr>\n",
       "      <td>5</td>\n",
       "      <td>NTR-1102</td>\n",
       "      <td>CC_upper_wavelength_limit_for_spectra_fit</td>\n",
       "      <td>240</td>\n",
       "      <td>240</td>\n",
       "    </tr>\n",
       "    <tr>\n",
       "      <td>6</td>\n",
       "      <td>NTR-1102</td>\n",
       "      <td>CC_wl</td>\n",
       "      <td>['189.81', '190.61', '191.41', '192.21', '193....</td>\n",
       "      <td>NaN</td>\n",
       "    </tr>\n",
       "  </tbody>\n",
       "</table>\n",
       "</div>"
      ],
      "text/plain": [
       "     serial                                       name  \\\n",
       "0  NTR-1102                                CC_cal_temp   \n",
       "1  NTR-1102                                      CC_di   \n",
       "2  NTR-1102                                    CC_eno3   \n",
       "3  NTR-1102                                    CC_eswa   \n",
       "4  NTR-1102  CC_lower_wavelength_limit_for_spectra_fit   \n",
       "5  NTR-1102  CC_upper_wavelength_limit_for_spectra_fit   \n",
       "6  NTR-1102                                      CC_wl   \n",
       "\n",
       "                                               value  \\\n",
       "0                                              20.00   \n",
       "1  ['26.37500000', '28.79166667', '34.83333333', ...   \n",
       "2  ['0.00237760', '0.01245499', '-0.00625838', '-...   \n",
       "3  ['0.00429797', '0.00401413', '0.01313699', '0....   \n",
       "4                                                217   \n",
       "5                                                240   \n",
       "6  ['189.81', '190.61', '191.41', '192.21', '193....   \n",
       "\n",
       "                                               notes  \n",
       "0   Source file: 3305-00327-00051-A.zip > SNA1102...  \n",
       "1                                                NaN  \n",
       "2                                                NaN  \n",
       "3                                                NaN  \n",
       "4                                                217  \n",
       "5                                                240  \n",
       "6                                                NaN  "
      ]
     },
     "execution_count": 16,
     "metadata": {},
     "output_type": "execute_result"
    }
   ],
   "source": [
    "cal = pd.read_csv('temp/CGINS-NUTNRB-01102__20181011.csv')\n",
    "cal"
   ]
  },
  {
   "cell_type": "markdown",
   "metadata": {},
   "source": [
    "Looks good!"
   ]
  },
  {
   "cell_type": "code",
   "execution_count": null,
   "metadata": {},
   "outputs": [],
   "source": []
  }
 ],
 "metadata": {
  "jupytext": {
   "formats": "ipynb,py:light"
  },
  "kernelspec": {
   "display_name": "Python 3",
   "language": "python",
   "name": "python3"
  },
  "language_info": {
   "codemirror_mode": {
    "name": "ipython",
    "version": 3
   },
   "file_extension": ".py",
   "mimetype": "text/x-python",
   "name": "python",
   "nbconvert_exporter": "python",
   "pygments_lexer": "ipython3",
   "version": "3.7.4"
  }
 },
 "nbformat": 4,
 "nbformat_minor": 2
}
