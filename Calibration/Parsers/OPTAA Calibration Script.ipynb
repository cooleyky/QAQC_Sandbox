{
 "cells": [
  {
   "cell_type": "markdown",
   "metadata": {},
   "source": [
    "# OPTAA Calibration Script\n",
    "This script provides an example of using the OPTAA Calibration parser for writing a calibration csv in the appropriate manner for OOInet to be pushed to asset management. "
   ]
  },
  {
   "cell_type": "code",
   "execution_count": 1,
   "metadata": {},
   "outputs": [],
   "source": [
    "from utils import *"
   ]
  },
  {
   "cell_type": "code",
   "execution_count": 2,
   "metadata": {},
   "outputs": [],
   "source": [
    "import shutil\n",
    "import string"
   ]
  },
  {
   "cell_type": "code",
   "execution_count": 3,
   "metadata": {},
   "outputs": [],
   "source": [
    "def get_calibration_files(serial_nums,dirpath):\n",
    "    \"\"\"\n",
    "    Function which gets all the calibration files associated with the\n",
    "    instrument serial numbers.\n",
    "    \n",
    "    Args:\n",
    "        serial_nums - serial numbers of the instruments\n",
    "        dirpath - path to the directory containing the calibration files\n",
    "    Returns:\n",
    "        calibration_files - a dictionary of instrument uids with associated\n",
    "            calibration files\n",
    "    \"\"\"\n",
    "    calibration_files = {}\n",
    "    for uid in serial_nums.keys():\n",
    "        sn = serial_nums.get(uid)[0]\n",
    "        sn = str(sn)\n",
    "        files = []\n",
    "        for file in os.listdir(dirpath):\n",
    "            if sn in file:\n",
    "                if 'Calibration_File' in file:\n",
    "                    files.append(file)\n",
    "                else:\n",
    "                    pass\n",
    "            else:\n",
    "                pass\n",
    "        \n",
    "        calibration_files.update({uid:files})\n",
    "        \n",
    "    return calibration_files"
   ]
  },
  {
   "cell_type": "code",
   "execution_count": 4,
   "metadata": {},
   "outputs": [],
   "source": [
    "def ensure_dir(file_path):\n",
    "    \"\"\"\n",
    "    Function which checks that the directory where you want\n",
    "    to save a file exists. If it doesn't, it creates the \n",
    "    directory.\n",
    "    \"\"\"\n",
    "    if not os.path.exists(file_path):\n",
    "        os.makedirs(file_path)"
   ]
  },
  {
   "cell_type": "code",
   "execution_count": 5,
   "metadata": {},
   "outputs": [],
   "source": [
    "class OPTAACalibration():\n",
    "    \n",
    "    def __init__(self, uid):\n",
    "        self.serial = ''\n",
    "        self.uid = uid\n",
    "        self.date = None\n",
    "        self.cwlngth = []\n",
    "        self.awlngth = []\n",
    "        self.tcal = None\n",
    "        self.tbins = None\n",
    "        self.ccwo = []\n",
    "        self.acwo = []\n",
    "        self.tcarray = []\n",
    "        self.taarray = []\n",
    "        self.nbins = None  # number of temperature bins\n",
    "        self.coefficients = {'CC_taarray': 'SheetRef:CC_taarray',\n",
    "                             'CC_tcarray': 'SheetRef:CC_tcarray'}\n",
    "        \n",
    "    @property\n",
    "    def uid(self):\n",
    "        return self._uid\n",
    "        \n",
    "    @uid.setter\n",
    "    def uid(self, d):\n",
    "        r = re.compile('.{5}-.{6}-.{5}')\n",
    "        if r.match(d) is not None:\n",
    "            self.serial = 'ACS-' + d.split('-')[2].strip('0')\n",
    "            self._uid = d       \n",
    "        else:\n",
    "            raise Exception(f\"The instrument uid {d} is not a valid uid. Please check.\")\n",
    "            \n",
    "\n",
    "    def load_dev(self, filepath):\n",
    "        \"\"\"\n",
    "        Function loads the dev file for the OPTAA.\n",
    "        \n",
    "        Args:\n",
    "            filepath - the full path, including the name of the file, to the optaa\n",
    "                dev file.\n",
    "        Returns:\n",
    "            self.date - the date of calibration\n",
    "            self.tcal - calibration temperature\n",
    "            self.nbins - number of temperature bins\n",
    "            self.cwlngth\n",
    "            self.awlngth\n",
    "            self.ccwo\n",
    "            self.acwo\n",
    "            self.tcarray\n",
    "            self.taarray\n",
    "            self.coefficients - a dictionary of the calibration values and associated\n",
    "                keys following the OOI csv naming convention\n",
    "\n",
    "        \"\"\"\n",
    "        \n",
    "        \n",
    "        if filepath.endswith('.zip'):\n",
    "            with ZipFile(filepath) as zfile:\n",
    "                filename = [name for name in zfile.namelist() if name.endswith('.dev')]\n",
    "                text = zfile.read(filename[0]).decode('ASCII')\n",
    "        \n",
    "        else:\n",
    "            with open(filepath) as file:\n",
    "                text = file.read()\n",
    "            \n",
    "        # Remove extraneous characters from the \n",
    "        punctuation = ''.join((letter for letter in string.punctuation if letter not in ';/.'))\n",
    "        \n",
    "        for line in text.replace('\\t',' ').splitlines():\n",
    "            line = ''.join((word for word in line if word not in punctuation))\n",
    "            \n",
    "            if 'tcal' in line:\n",
    "                data = line.split()\n",
    "                # Temperature calibration value\n",
    "                tcal = data.index('tcal')\n",
    "                self.tcal = data[tcal+1]\n",
    "                self.coefficients['CC_tcal'] = self.tcal\n",
    "                # Temperature calibration date\n",
    "                cal_date = data[-1].strip()\n",
    "                self.date = pd.to_datetime(cal_date).strftime('%Y%m%d')\n",
    "                \n",
    "            elif ';' in line:\n",
    "                data, comment = line.split(';')\n",
    "        \n",
    "                if 'temperature bins' in comment:\n",
    "                    if 'number' in comment:\n",
    "                        self.nbins = int(data)\n",
    "                    else:\n",
    "                        self.tbins = data.split()\n",
    "                        self.tbins = [float(x) for x in self.tbins]\n",
    "                        self.coefficients['CC_tbins'] = json.dumps(self.tbins)\n",
    "                \n",
    "                elif 'C and A offset' in comment:\n",
    "                    data = data.split()\n",
    "                    self.cwlngth.append(float(data[0][1:]))\n",
    "                    self.awlngth.append(float(data[1][1:]))\n",
    "                    self.ccwo.append(float(data[3]))\n",
    "                    self.acwo.append(float(data[4]))\n",
    "                    tcrow = [float(x) for x in data[5:self.nbins+5]]\n",
    "                    tarow = [float(x) for x in data[self.nbins+5:2*self.nbins+5]]\n",
    "                    self.tcarray.append(tcrow)\n",
    "                    self.taarray.append(tarow)\n",
    "                    self.coefficients['CC_cwlngth'] = json.dumps(self.cwlngth)\n",
    "                    self.coefficients['CC_awlngth'] = json.dumps(self.awlngth)\n",
    "                    self.coefficients['CC_ccwo'] = json.dumps(self.ccwo)\n",
    "                    self.coefficients['CC_acwo'] = json.dumps(self.acwo)\n",
    "            \n",
    "                else:\n",
    "                    pass\n",
    "            \n",
    "            else:\n",
    "                pass\n",
    "            \n",
    "            \n",
    "    def write_csv(self, savepath):\n",
    "        \"\"\"\n",
    "        This function writes the correctly named csv file for the ctd to the\n",
    "        specified directory.\n",
    "    \n",
    "        Args:\n",
    "            outpath - directory path of where to write the csv file\n",
    "        Raises:\n",
    "            ValueError - raised if the OPTAA's object's coefficient dictionary \n",
    "                has not been populated\n",
    "        Returns:\n",
    "            self.to_csv - a csv of the calibration coefficients which is \n",
    "                written to the specified directory from the outpath.\n",
    "        \"\"\"\n",
    "        # Now, write to a csv file\n",
    "        # Create a dataframe to write to the csv\n",
    "        data = {\n",
    "            'serial':self.serial,\n",
    "            'name':list(self.coefficients.keys()),\n",
    "            'value':list(self.coefficients.values()),\n",
    "            'notes':['']*len(self.coefficients)\n",
    "        }\n",
    "        \n",
    "        df = pd.DataFrame().from_dict(data)\n",
    "        \n",
    "        # Generate the cal csv filename\n",
    "        filename = self.uid + '__' + self.date + '.csv'\n",
    "        # Now write to \n",
    "        check = input(f\"Write {filename} to {savepath}? [y/n]: \")\n",
    "        if check.lower().strip() == 'y':\n",
    "            df.to_csv(savepath+'/'+filename, index=False)\n",
    "        \n",
    "        # Generate the tc and ta array filename\n",
    "        tc_name = filename + '__CC_tcarray.ext'\n",
    "        ta_name = filename + '__CC_taarray.ext'\n",
    "        \n",
    "        def write_array(filename, array):\n",
    "            with open(filename, 'w') as out:\n",
    "                array_writer = csv.writer(out)\n",
    "                array_writer.writerows(array)\n",
    "                \n",
    "        write_array(savepath+'/'+tc_name, self.tcarray)\n",
    "        write_array(savepath+'/'+ta_name, self.taarray)"
   ]
  },
  {
   "cell_type": "markdown",
   "metadata": {},
   "source": [
    "These are my **local** directories where the calibration, qct, and whoi asset management records are saved. These will be different on your machine. I highly suggests putting in the full, absolute path of at least the base directories where your information is stored."
   ]
  },
  {
   "cell_type": "code",
   "execution_count": 10,
   "metadata": {},
   "outputs": [],
   "source": [
    "qct_directory = '/media/andrew/OS/Users/areed/Documents/Project_Files/'\n",
    "cal_directory = '/media/andrew/OS/Users/areed/Documents/Project_Files/Records/Instrument_Records/OPTAA/'\n",
    "asset_management_directory = '/home/andrew/Documents/OOI-CGSN/ooi-integration/asset-management/calibration/OPTAA/'"
   ]
  },
  {
   "cell_type": "markdown",
   "metadata": {},
   "source": [
    "This is the full directory path to the local copy of the WHOI OOI-CGSN asset tracking spreadsheet. I call the function whoi_asset_tracking which will load the instrument class we are interested in, which in this case is the OPTAAs."
   ]
  },
  {
   "cell_type": "code",
   "execution_count": 11,
   "metadata": {},
   "outputs": [],
   "source": [
    "excel_spreadsheet = '/media/andrew/OS/Users/areed/Documents/Project_Files/Documentation/System/System Notebook/WHOI_Asset_Tracking.xlsx'\n",
    "sheet_name = 'Sensors'"
   ]
  },
  {
   "cell_type": "markdown",
   "metadata": {},
   "source": [
    "Below, we load the whoi asset tracking spreadsheet. This gives us a guide on how to search for specific calibration files, qct files, deployment information, etc for specific instruments."
   ]
  },
  {
   "cell_type": "code",
   "execution_count": 12,
   "metadata": {},
   "outputs": [
    {
     "data": {
      "text/html": [
       "<div>\n",
       "<style scoped>\n",
       "    .dataframe tbody tr th:only-of-type {\n",
       "        vertical-align: middle;\n",
       "    }\n",
       "\n",
       "    .dataframe tbody tr th {\n",
       "        vertical-align: top;\n",
       "    }\n",
       "\n",
       "    .dataframe thead th {\n",
       "        text-align: right;\n",
       "    }\n",
       "</style>\n",
       "<table border=\"1\" class=\"dataframe\">\n",
       "  <thead>\n",
       "    <tr style=\"text-align: right;\">\n",
       "      <th></th>\n",
       "      <th>Instrument\n",
       "Class</th>\n",
       "      <th>Series</th>\n",
       "      <th>Supplier\n",
       "Serial Number</th>\n",
       "      <th>WHOI #</th>\n",
       "      <th>OOI #</th>\n",
       "      <th>UID</th>\n",
       "      <th>Model</th>\n",
       "      <th>CGSN PN</th>\n",
       "      <th>Firmware Version</th>\n",
       "      <th>Supplier</th>\n",
       "      <th>...</th>\n",
       "      <th>QCT Testing</th>\n",
       "      <th>PreDeployment</th>\n",
       "      <th>Post Deployment</th>\n",
       "      <th>Refurbishment/ Repair</th>\n",
       "      <th>DO Number</th>\n",
       "      <th>Date Received</th>\n",
       "      <th>Deployment History</th>\n",
       "      <th>Current Deployment</th>\n",
       "      <th>Instrument Location on Current Deployment</th>\n",
       "      <th>Notes</th>\n",
       "    </tr>\n",
       "  </thead>\n",
       "  <tbody>\n",
       "    <tr>\n",
       "      <th>932</th>\n",
       "      <td>OPTAA</td>\n",
       "      <td>D</td>\n",
       "      <td>123</td>\n",
       "      <td></td>\n",
       "      <td>A00098</td>\n",
       "      <td>CGINS-OPTAAD-00123</td>\n",
       "      <td>AC-S</td>\n",
       "      <td>1336-00007-00004</td>\n",
       "      <td>1.11</td>\n",
       "      <td>WET Labs</td>\n",
       "      <td>...</td>\n",
       "      <td>3305-00113-00002\\n3305-00113-00011\\n3305-00113...</td>\n",
       "      <td>3305-00313-00034\\n3305-00313-00102\\n3305-00313...</td>\n",
       "      <td>3305-00513-00013\\n3305-00513-00061</td>\n",
       "      <td>3305-00900-00009\\n3305-00900-00129\\n3305-00900...</td>\n",
       "      <td>WH-SC12-17-OPTAA-1001</td>\n",
       "      <td>12/3/2012\\n07/20/15</td>\n",
       "      <td>CP01CNSM-00001\\nCP03ISSM-00003\\nCP01CNSM-00007...</td>\n",
       "      <td>NaN</td>\n",
       "      <td>NaN</td>\n",
       "      <td>NaN</td>\n",
       "    </tr>\n",
       "    <tr>\n",
       "      <th>933</th>\n",
       "      <td>OPTAA</td>\n",
       "      <td>D</td>\n",
       "      <td>129</td>\n",
       "      <td>115289</td>\n",
       "      <td>A00178</td>\n",
       "      <td>CGINS-OPTAAD-00129</td>\n",
       "      <td>AC-S</td>\n",
       "      <td>1336-00007-00004</td>\n",
       "      <td>1.1</td>\n",
       "      <td>WET Labs</td>\n",
       "      <td>...</td>\n",
       "      <td>3305-00113-00005\\n3305-00113-00067\\n3305-00113...</td>\n",
       "      <td>3305-00313-00056\\n3305-00313-00159</td>\n",
       "      <td>3305-00513-00024</td>\n",
       "      <td>3305-00900-00009\\n3305-00900-00170\\n3305-00900...</td>\n",
       "      <td>WH-SC12-17-OPTAA-1001</td>\n",
       "      <td>1/29/2013\\n10/05/15</td>\n",
       "      <td>CP01CNSM-00001\\nCP01CNSM-00005</td>\n",
       "      <td>CP03ISSM-00009</td>\n",
       "      <td>NSIF</td>\n",
       "      <td>09-27-2013 Pump 05-6836 returned to Wetlab for...</td>\n",
       "    </tr>\n",
       "    <tr>\n",
       "      <th>934</th>\n",
       "      <td>OPTAA</td>\n",
       "      <td>D</td>\n",
       "      <td>130</td>\n",
       "      <td>115290</td>\n",
       "      <td>A00179</td>\n",
       "      <td>CGINS-OPTAAD-00130</td>\n",
       "      <td>AC-S</td>\n",
       "      <td>1336-00007-00004</td>\n",
       "      <td>1.1</td>\n",
       "      <td>WET Labs</td>\n",
       "      <td>...</td>\n",
       "      <td>3305-00113-00006\\n3305-00113-00044\\n3305-00113...</td>\n",
       "      <td>3305-00313-00021\\n3305-00313-00089</td>\n",
       "      <td>NaN</td>\n",
       "      <td>3305-00900-00001\\n3305-00900-00069</td>\n",
       "      <td>WH-SC12-17-OPTAA-1001</td>\n",
       "      <td>1/29/2013\\n12/12/2014</td>\n",
       "      <td>CP03ISSM-00002\\nGS01SUMO-00003</td>\n",
       "      <td>NaN</td>\n",
       "      <td>NaN</td>\n",
       "      <td>09-27-2013 Pump 05-6838 returned to Wetlab for...</td>\n",
       "    </tr>\n",
       "    <tr>\n",
       "      <th>935</th>\n",
       "      <td>OPTAA</td>\n",
       "      <td>D</td>\n",
       "      <td>150</td>\n",
       "      <td>115838</td>\n",
       "      <td>A00496</td>\n",
       "      <td>CGINS-OPTAAD-00150</td>\n",
       "      <td>AC-S</td>\n",
       "      <td>1336-00007-00004</td>\n",
       "      <td>1.11</td>\n",
       "      <td>WET Labs</td>\n",
       "      <td>...</td>\n",
       "      <td>3305-00113-00014\\n3305-00113-00088</td>\n",
       "      <td>NaN</td>\n",
       "      <td>NaN</td>\n",
       "      <td>3305-00900-00068</td>\n",
       "      <td>WH-SC12-17-OPTAA-1003</td>\n",
       "      <td>2013-12-12 00:00:00</td>\n",
       "      <td>GI01SUMO-00001\\nGS01SUMO-00003</td>\n",
       "      <td>NaN</td>\n",
       "      <td>NaN</td>\n",
       "      <td>(NSIF)</td>\n",
       "    </tr>\n",
       "    <tr>\n",
       "      <th>936</th>\n",
       "      <td>OPTAA</td>\n",
       "      <td>D</td>\n",
       "      <td>151</td>\n",
       "      <td>115839</td>\n",
       "      <td>A00497</td>\n",
       "      <td>CGINS-OPTAAD-00151</td>\n",
       "      <td>AC-S</td>\n",
       "      <td>1336-00007-00004</td>\n",
       "      <td>1.11</td>\n",
       "      <td>WET Labs</td>\n",
       "      <td>...</td>\n",
       "      <td>3305-00113-00015\\n3305-00113-00083\\n3305-00113...</td>\n",
       "      <td>3305-00313-00007\\n3305-00313-00029\\n3305-00313...</td>\n",
       "      <td>3305-00513-00027\\n3305-00513-00065</td>\n",
       "      <td>3305-00900-00069\\n3305-00900-00170\\n3305-00900...</td>\n",
       "      <td>WH-SC12-17-OPTAA-1003</td>\n",
       "      <td>2013-12-12 00:00:00</td>\n",
       "      <td>CP01CNSM-00002\\nCP01CNSM-00003\\nCP03ISSM-00004...</td>\n",
       "      <td>NaN</td>\n",
       "      <td>NaN</td>\n",
       "      <td>NaN</td>\n",
       "    </tr>\n",
       "  </tbody>\n",
       "</table>\n",
       "<p>5 rows × 25 columns</p>\n",
       "</div>"
      ],
      "text/plain": [
       "    Instrument\\nClass Series Supplier\\nSerial Number  WHOI #   OOI #  \\\n",
       "932             OPTAA      D                     123          A00098   \n",
       "933             OPTAA      D                     129  115289  A00178   \n",
       "934             OPTAA      D                     130  115290  A00179   \n",
       "935             OPTAA      D                     150  115838  A00496   \n",
       "936             OPTAA      D                     151  115839  A00497   \n",
       "\n",
       "                    UID Model           CGSN PN Firmware Version  Supplier  \\\n",
       "932  CGINS-OPTAAD-00123  AC-S  1336-00007-00004             1.11  WET Labs   \n",
       "933  CGINS-OPTAAD-00129  AC-S  1336-00007-00004              1.1  WET Labs   \n",
       "934  CGINS-OPTAAD-00130  AC-S  1336-00007-00004              1.1  WET Labs   \n",
       "935  CGINS-OPTAAD-00150  AC-S  1336-00007-00004             1.11  WET Labs   \n",
       "936  CGINS-OPTAAD-00151  AC-S  1336-00007-00004             1.11  WET Labs   \n",
       "\n",
       "                           ...                          \\\n",
       "932                        ...                           \n",
       "933                        ...                           \n",
       "934                        ...                           \n",
       "935                        ...                           \n",
       "936                        ...                           \n",
       "\n",
       "                                           QCT Testing  \\\n",
       "932  3305-00113-00002\\n3305-00113-00011\\n3305-00113...   \n",
       "933  3305-00113-00005\\n3305-00113-00067\\n3305-00113...   \n",
       "934  3305-00113-00006\\n3305-00113-00044\\n3305-00113...   \n",
       "935                 3305-00113-00014\\n3305-00113-00088   \n",
       "936  3305-00113-00015\\n3305-00113-00083\\n3305-00113...   \n",
       "\n",
       "                                         PreDeployment  \\\n",
       "932  3305-00313-00034\\n3305-00313-00102\\n3305-00313...   \n",
       "933                 3305-00313-00056\\n3305-00313-00159   \n",
       "934                 3305-00313-00021\\n3305-00313-00089   \n",
       "935                                                NaN   \n",
       "936  3305-00313-00007\\n3305-00313-00029\\n3305-00313...   \n",
       "\n",
       "                        Post Deployment  \\\n",
       "932  3305-00513-00013\\n3305-00513-00061   \n",
       "933                    3305-00513-00024   \n",
       "934                                 NaN   \n",
       "935                                 NaN   \n",
       "936  3305-00513-00027\\n3305-00513-00065   \n",
       "\n",
       "                                 Refurbishment/ Repair              DO Number  \\\n",
       "932  3305-00900-00009\\n3305-00900-00129\\n3305-00900...  WH-SC12-17-OPTAA-1001   \n",
       "933  3305-00900-00009\\n3305-00900-00170\\n3305-00900...  WH-SC12-17-OPTAA-1001   \n",
       "934                 3305-00900-00001\\n3305-00900-00069  WH-SC12-17-OPTAA-1001   \n",
       "935                                   3305-00900-00068  WH-SC12-17-OPTAA-1003   \n",
       "936  3305-00900-00069\\n3305-00900-00170\\n3305-00900...  WH-SC12-17-OPTAA-1003   \n",
       "\n",
       "             Date Received                                 Deployment History  \\\n",
       "932    12/3/2012\\n07/20/15  CP01CNSM-00001\\nCP03ISSM-00003\\nCP01CNSM-00007...   \n",
       "933    1/29/2013\\n10/05/15                     CP01CNSM-00001\\nCP01CNSM-00005   \n",
       "934  1/29/2013\\n12/12/2014                     CP03ISSM-00002\\nGS01SUMO-00003   \n",
       "935    2013-12-12 00:00:00                     GI01SUMO-00001\\nGS01SUMO-00003   \n",
       "936    2013-12-12 00:00:00  CP01CNSM-00002\\nCP01CNSM-00003\\nCP03ISSM-00004...   \n",
       "\n",
       "    Current Deployment Instrument Location on Current Deployment  \\\n",
       "932                NaN                                       NaN   \n",
       "933     CP03ISSM-00009                                      NSIF   \n",
       "934                NaN                                       NaN   \n",
       "935                NaN                                       NaN   \n",
       "936                NaN                                       NaN   \n",
       "\n",
       "                                                 Notes  \n",
       "932                                                NaN  \n",
       "933  09-27-2013 Pump 05-6836 returned to Wetlab for...  \n",
       "934  09-27-2013 Pump 05-6838 returned to Wetlab for...  \n",
       "935                                             (NSIF)  \n",
       "936                                                NaN  \n",
       "\n",
       "[5 rows x 25 columns]"
      ]
     },
     "execution_count": 12,
     "metadata": {},
     "output_type": "execute_result"
    }
   ],
   "source": [
    "OPTAA = whoi_asset_tracking(excel_spreadsheet,sheet_name,instrument_class='OPTAA')\n",
    "OPTAA.head(5)"
   ]
  },
  {
   "cell_type": "markdown",
   "metadata": {},
   "source": [
    "We can get a list of the unique OPTAA UIDs, which we will need to get the serial numbers"
   ]
  },
  {
   "cell_type": "code",
   "execution_count": 13,
   "metadata": {},
   "outputs": [],
   "source": [
    "uids = list(set(OPTAA['UID']))\n",
    "# print(uids)"
   ]
  },
  {
   "cell_type": "markdown",
   "metadata": {},
   "source": [
    "With the whoi_asset_tracking info for the OPTAAs as well as their UIDs, we can call the get_serial_nums function to return the serial numbers for each OPTAA uid."
   ]
  },
  {
   "cell_type": "code",
   "execution_count": 14,
   "metadata": {},
   "outputs": [],
   "source": [
    "serial_nums = get_serial_nums(OPTAA, uids)\n",
    "# print(serial_nums)"
   ]
  },
  {
   "cell_type": "markdown",
   "metadata": {},
   "source": [
    "The function below will return a dictionary of all the QCT Testing document numbers for each UID:"
   ]
  },
  {
   "cell_type": "code",
   "execution_count": 15,
   "metadata": {},
   "outputs": [],
   "source": [
    "qct_dict = {}\n",
    "for uid in uids:\n",
    "    # Get the QCT Document numbers from the asset tracking sheet\n",
    "    OPTAA['UID_match'] = OPTAA['UID'].apply(lambda x: True if uid in x else False)\n",
    "    qct_series = OPTAA[OPTAA['UID_match'] == True]['QCT Testing']\n",
    "    qct_series = list(qct_series.iloc[0].split('\\n'))\n",
    "    qct_dict.update({uid:qct_series})"
   ]
  },
  {
   "cell_type": "code",
   "execution_count": 16,
   "metadata": {
    "collapsed": true
   },
   "outputs": [
    {
     "data": {
      "text/plain": [
       "{'CGINS-OPTAAD-00129': ['OPTAA-D_AC-S_SN_129_Calibration_Files_2015-10-05.zip',\n",
       "  'OPTAA-D_AC-S_SN_129_Calibration_Files_2017-02-09.zip',\n",
       "  'OPTAA-D_AC-S_SN_129_Calibration_Files_2018-04-11.zip',\n",
       "  'OPTAA-D_AC-S_SN_129_Calibration_Files_2013-01-30.zip'],\n",
       " 'CGINS-OPTAAD-00205': ['OPTAA-D_AC-S_SN_205_Calibration_Files_2014-10-16.zip',\n",
       "  'OPTAA-D_AC-S_SN_205_Calibration_Files_2016-08-25.zip',\n",
       "  'OPTAA-D_AC-S_SN_205_Calibration_Files_2018-01-24.zip'],\n",
       " 'CGINS-OPTAAD-00165': ['OPTAA-D_AC-S_SN_165_Calibration_Files.zip',\n",
       "  'OPTAA-D_AC-S_SN_165_Calibration_Files_2016-01-07.zip',\n",
       "  'OPTAA-D_AC-S_SN_165_Calibration_Files_2017-03-27.zip'],\n",
       " 'CGINS-OPTAAD-00222': ['OPTAA-D_AC-S_SN_222_Calibration_Files_2015-04-30.zip',\n",
       "  'OPTAA-D_AC-S_SN_222_Calibration_Files_2017-01-04.zip',\n",
       "  'OPTAA-D_AC-S_SN_222_Calibration_Files_2018-05-22.zip'],\n",
       " 'CGINS-OPTAAD-00207': ['OPTAA-D_AC-S_SN_207_Calibration_Files_2014-10-28.zip',\n",
       "  'OPTAA-D_AC-S_SN_207_Calibration_Files_2016-08-19.zip'],\n",
       " 'CGINS-OPTAAD-00185': ['OPTAA-D_AC-S_SN_185_Calibration_Files_2014-08-22.zip',\n",
       "  'OPTAA-D_AC-S_SN_185_Calibration_Files_2016-03-31.zip',\n",
       "  'OPTAA-D_AC-S_SN_185_Calibration_Files_2017-03-07.zip'],\n",
       " 'CGINS-OPTAAD-00123': ['OPTAA-D_AC-S_SN_123_Calibration_Files.zip',\n",
       "  'OPTAA-D_AC-S_SN_123_Calibration_Files_2013-07-17.zip',\n",
       "  'OPTAA-D_AC-S_SN_123_Calibration_Files_2015-07-20.zip',\n",
       "  'OPTAA-D_AC-S_SN_123_Calibration_Files_2016-09-29.zip'],\n",
       " 'CGINS-OPTAAD-00187': ['OPTAA-D_AC-S_SN_187_Calibration_Files_2014-09-26.zip',\n",
       "  'OPTAA-D_AC-S_SN_187_Calibration_Files_2016-06-01.zip',\n",
       "  'OPTAA-D_AC-S_SN_187_Calibration_Files_2018-12-18.zip'],\n",
       " 'CGINS-OPTAAD-00254': ['OPTAA-D_AC-S_SN_254_Calibration_Files_2015-07-20.zip',\n",
       "  'OPTAA-D_AC-S_SN_254_Calibration_Files_2018-05-17.zip'],\n",
       " 'CGINS-OPTAAD-00206': ['OPTAA-D_AC-S_SN_206_Calibration_Files_2014-10-28.zip',\n",
       "  'OPTAA-D_AC-S_SN_206_Calibration_Files_2016-08-19.zip',\n",
       "  'OPTAA-D_AC-S_SN_206_Calibration_Files_2018-01-18.zip',\n",
       "  'OPTAA-D_AC-S_SN_206_Calibration_Files_2019-01-04.zip'],\n",
       " 'CGINS-OPTAAD-00150': ['OPTAA-D_AC-S_SN_150_Calibration_Files_2013-12-12.zip',\n",
       "  'OPTAA-D_AC-S_SN_150_Calibration_Files_2016-05-11.zip'],\n",
       " 'CGINS-OPTAAD-00245': ['OPTAA-D_AC-S_SN_245_Calibration_Files_2015-05-27.zip',\n",
       "  'OPTAA-D_AC-S_SN_245_Calibration_Files_2017-11-06.zip'],\n",
       " 'CGINS-OPTAAD-00242': ['OPTAA-D_AC-S_SN_242_Calibration_Files_2015-04-09.zip',\n",
       "  'OPTAA-D_AC-S_SN_242_Calibration_Files_2016-11-11.zip',\n",
       "  'OPTAA-D_AC-S_SN_242_Calibration_Files_2018-05-18.zip',\n",
       "  'OPTAA-D_AC-S_SN_242_Calibration_Files_2018-12-13.zip'],\n",
       " 'CGINS-OPTAAD-00257': ['OPTAA-D_AC-S_SN_257_Calibration_Files_2015-08-20.zip',\n",
       "  'OPTAA-D_AC-S_SN_257_Calibration_Files_2016-08-26.zip'],\n",
       " 'CGINS-OPTAAD-00189': ['OPTAA-D_AC-S_SN_189_Calibration_Files_2014-09-26.zip',\n",
       "  'OPTAA-D_AC-S_SN_189_Calibration_Files_2016-01-07.zip',\n",
       "  'OPTAA-D_AC-S_SN_189_Calibration_Files_2017-06-14.zip'],\n",
       " 'CGINS-OPTAAD-00152': ['OPTAA-D_AC-S_SN_152_Calibration_Files_2013-12-12.zip',\n",
       "  'OPTAA-D_AC-S_SN_152_Calibration_Files_2014-11-06.zip',\n",
       "  'OPTAA-D_AC-S_SN_152_Calibration_Files_2016-10-25.zip',\n",
       "  'OPTAA-D_AC-S_SN_152_Calibration_Files_2018-07-11.zip'],\n",
       " 'CGINS-OPTAAD-00153': ['OPTAA-D_AC-S_SN_153_Calibration_Files_2013-12-12.zip',\n",
       "  'OPTAA-D_AC-S_SN_153_Calibration_Files_2016-08-16.zip'],\n",
       " 'CGINS-OPTAAD-00218': ['OPTAA-D_AC-S_SN_218_Calibration_Files_&RMA_2016-06-29.zip',\n",
       "  'OPTAA-D_AC-S_SN_218_Calibration_Files_2015-03-24.zip',\n",
       "  'OPTAA-D_AC-S_SN_218_Calibration_Files_2018-10-09.zip'],\n",
       " 'CGINS-OPTAAD-00151': ['OPTAA-D_AC-S_SN_151_Calibration_Files_2013-12-12.zip',\n",
       "  'OPTAA-D_AC-S_SN_151_Calibration_Files_2016-03-31.zip',\n",
       "  'OPTAA-D_AC-S_SN_151_Calibration_Files_2017-02-09.zip'],\n",
       " 'CGINS-OPTAAD-00130': ['OPTAA-D_AC-S_SN_130_Calibration_Files_2013-01-30.zip',\n",
       "  'OPTAA-D_AC-S_SN_130_Calibration_Files_2014-12-30.zip',\n",
       "  'OPTAA-D_AC-S_SN_130_Calibration_Files_2016-06-01.zip'],\n",
       " 'CGINS-OPTAAD-00255': ['OPTAA-D_AC-S_SN_255_Calibration_Files_2015-08-04.zip',\n",
       "  'OPTAA-D_AC-S_SN_255_Calibration_Files_2017-07-11.zip',\n",
       "  'OPTAA-D_AC-S_SN_255_Calibration_Files_2018-11-15.zip'],\n",
       " 'CGINS-OPTAAD-00193': ['OPTAA-D_AC-S_SN_193_Calibration_Files_2014-10-15.zip',\n",
       "  'OPTAA-D_AC-S_SN_193_Calibration_Files_2016-05-11.zip',\n",
       "  'OPTAA-D_AC-S_SN_193_Calibration_Files_2018-10-08.zip'],\n",
       " 'CGINS-OPTAAD-00256': ['OPTAA-D_AC-S_SN_256_Calibration_Files_2015-08-04.zip',\n",
       "  'OPTAA-D_AC-S_SN_256_Calibration_Files_2016-08-31.zip',\n",
       "  'OPTAA-D_AC-S_SN_256_Calibration_Files_2018-07-02.zip',\n",
       "  'OPTAA-D_AC-S_SN_256_Calibration_Files_2018-12-04.zip'],\n",
       " 'CGINS-OPTAAD-00159': ['OPTAA-D_AC-S_SN_159_Calibration_Files_2016-04-19.zip',\n",
       "  'OPTAA-D_AC-S_SN_159_Calibration_Files_2018-04-26.zip',\n",
       "  'OPTAA-D_AC-S_SN_159_Calibration_Files_2013-12-12.zip'],\n",
       " 'CGINS-OPTAAD-00241': ['OPTAA-D_AC-S_SN_241_Calibration_Files_2015-04-07.zip',\n",
       "  'OPTAA-D_AC-S_SN_241_Calibration_Files_2016-03-31.zip',\n",
       "  'OPTAA-D_AC-S_SN_241_Calibration_Files_2017-09-06.zip'],\n",
       " 'CGINS-OPTAAD-00240': ['OPTAA-D_AC-S_SN_240_Calibration_Files_2015-04-07.zip',\n",
       "  'OPTAA-D_AC-S_SN_240_Calibration_Files_2016-05-11.zip',\n",
       "  'OPTAA-D_AC-S_SN_240_Calibration_Files_2018-03-12.zip'],\n",
       " 'CGINS-OPTAAD-00209': ['OPTAA-D_AC-S_SN_209_Calibration_Files_2014-11-19.zip',\n",
       "  'OPTAA-D_AC-S_SN_209_Calibration_Files_2016-09-09.zip',\n",
       "  'OPTAA-D_AC-S_SN_209_Calibration_Files_2017-12-28.zip']}"
      ]
     },
     "execution_count": 16,
     "metadata": {},
     "output_type": "execute_result"
    }
   ],
   "source": [
    "cal_dict = get_calibration_files(serial_nums, cal_directory)\n",
    "cal_dict"
   ]
  },
  {
   "cell_type": "code",
   "execution_count": 17,
   "metadata": {},
   "outputs": [
    {
     "data": {
      "text/plain": [
       "'CGINS-OPTAAD-00129'"
      ]
     },
     "execution_count": 17,
     "metadata": {},
     "output_type": "execute_result"
    }
   ],
   "source": [
    "# Lets try opening/loading\n",
    "uid = uids[0]\n",
    "uid"
   ]
  },
  {
   "cell_type": "code",
   "execution_count": 90,
   "metadata": {},
   "outputs": [
    {
     "data": {
      "text/plain": [
       "['OPTAA-D_AC-S_SN_129_Calibration_Files_2015-10-05.zip',\n",
       " 'OPTAA-D_AC-S_SN_129_Calibration_Files_2017-02-09.zip',\n",
       " 'OPTAA-D_AC-S_SN_129_Calibration_Files_2018-04-11.zip',\n",
       " 'OPTAA-D_AC-S_SN_129_Calibration_Files_2013-01-30.zip']"
      ]
     },
     "execution_count": 90,
     "metadata": {},
     "output_type": "execute_result"
    }
   ],
   "source": [
    "cal_dict[uid]"
   ]
  },
  {
   "cell_type": "code",
   "execution_count": 20,
   "metadata": {},
   "outputs": [],
   "source": [
    "def generate_file_path(dirpath,filename,ext=['.cap','.txt','.log'],exclude=['_V','_Data_Workshop']):\n",
    "    \"\"\"\n",
    "    Function which searches for the location of the given file and returns\n",
    "    the full path to the file.\n",
    "    \n",
    "    Args:\n",
    "        dirpath - parent directory path under which to search\n",
    "        filename - the name of the file to search for\n",
    "        ext - file endings to search for\n",
    "        exclude - optional list which allows for excluding certain\n",
    "            directories from the search\n",
    "    Returns:\n",
    "        fpath - the file path to the filename from the current\n",
    "            working directory.\n",
    "    \"\"\"\n",
    "    # Check if the input file name has an extension already\n",
    "    # If it does, parse it for input into the search algo\n",
    "    if '.' in filename:\n",
    "        check = filename.split('.')\n",
    "        filename = check[0]\n",
    "        ext = ['.'+check[1]]\n",
    "\n",
    "    for root, dirs, files in os.walk(dirpath):\n",
    "        dirs[:] = [d for d in dirs if d not in exclude]\n",
    "        for fname in files:\n",
    "            if fnmatch.fnmatch(fname, [filename+'*'+x for x in ext]):\n",
    "                fpath = os.path.join(root, fname)\n",
    "                return fpath"
   ]
  },
  {
   "cell_type": "code",
   "execution_count": 19,
   "metadata": {},
   "outputs": [],
   "source": [
    "filepath = generate_file_path(cal_directory, cal_dict[uid][-1], ext=['.zip'])"
   ]
  },
  {
   "cell_type": "code",
   "execution_count": 21,
   "metadata": {},
   "outputs": [
    {
     "data": {
      "text/plain": [
       "'/media/andrew/OS/Users/areed/Documents/Project_Files/Records/Instrument_Records/OPTAA/OPTAA-D_AC-S_SN_129_Calibration_Files_2013-01-30.zip'"
      ]
     },
     "execution_count": 21,
     "metadata": {},
     "output_type": "execute_result"
    }
   ],
   "source": [
    "filepath"
   ]
  },
  {
   "cell_type": "code",
   "execution_count": 22,
   "metadata": {},
   "outputs": [],
   "source": [
    "import string"
   ]
  },
  {
   "cell_type": "code",
   "execution_count": 23,
   "metadata": {},
   "outputs": [],
   "source": [
    "optaa = OPTAACalibration(uid=uid)"
   ]
  },
  {
   "cell_type": "code",
   "execution_count": 24,
   "metadata": {},
   "outputs": [],
   "source": [
    "optaa.load_dev(filepath)"
   ]
  },
  {
   "cell_type": "code",
   "execution_count": 31,
   "metadata": {},
   "outputs": [
    {
     "name": "stdout",
     "output_type": "stream",
     "text": [
      "Write CGINS-OPTAAD-00129__20130123.csv to /home/andrew/Documents/OOI-CGSN/QAQC_Sandbox/Metadata_Review/temp/optaa? [y/n]: y\n"
     ]
    }
   ],
   "source": [
    "optaa.write_csv(optaa_savepath)"
   ]
  },
  {
   "cell_type": "code",
   "execution_count": 27,
   "metadata": {},
   "outputs": [],
   "source": [
    "import shutil"
   ]
  },
  {
   "cell_type": "code",
   "execution_count": 28,
   "metadata": {},
   "outputs": [],
   "source": [
    "# Purge the temp directory\n",
    "try:\n",
    "    shutil.rmtree('/'.join((os.getcwd(),'temp')))\n",
    "except:\n",
    "    pass\n",
    "# Put the csv files into a similar temp directory for local working\n",
    "ensure_dir('/'.join((os.getcwd(),'temp','optaa')))\n",
    "optaa_savepath = '/'.join((os.getcwd(),'temp','optaa'))"
   ]
  },
  {
   "cell_type": "code",
   "execution_count": 29,
   "metadata": {},
   "outputs": [
    {
     "data": {
      "text/plain": [
       "'/home/andrew/Documents/OOI-CGSN/QAQC_Sandbox/Metadata_Review/temp/optaa'"
      ]
     },
     "execution_count": 29,
     "metadata": {},
     "output_type": "execute_result"
    }
   ],
   "source": [
    "optaa_savepath"
   ]
  },
  {
   "cell_type": "code",
   "execution_count": 30,
   "metadata": {},
   "outputs": [
    {
     "data": {
      "text/plain": [
       "{'CC_taarray': 'SheetRef:CC_taarray',\n",
       " 'CC_tcarray': 'SheetRef:CC_tcarray',\n",
       " 'CC_tcal': '14.8',\n",
       " 'CC_tbins': '[3.670076, 4.415449, 5.479895, 6.477358, 7.48625, 8.485429, 9.496176, 10.569388, 11.502812, 12.492034, 13.497358, 14.4875, 15.487857, 16.484103, 17.494167, 18.489412, 19.495588, 20.494839, 21.489355, 22.487667, 23.489, 24.489677, 25.493437, 26.468846, 27.503077, 28.494815, 29.480357, 30.497778, 31.50875, 32.5, 33.4825, 34.493333, 35.526774, 36.576809, 37.106739]',\n",
       " 'CC_cwlngth': '[400.0, 404.4, 408.5, 412.8, 416.7, 421.5, 426.5, 431.1, 435.4, 439.8, 444.4, 449.3, 454.4, 459.0, 463.6, 468.5, 473.8, 478.9, 483.9, 488.6, 493.2, 497.9, 502.4, 507.8, 513.0, 518.4, 523.0, 528.0, 532.9, 537.3, 542.3, 547.3, 551.9, 557.0, 561.8, 566.6, 571.0, 575.6, 579.7, 583.0, 587.6, 592.0, 596.2, 600.8, 605.5, 610.5, 615.2, 619.5, 624.0, 628.5, 632.7, 637.0, 641.5, 646.1, 650.4, 654.9, 659.3, 663.9, 668.5, 672.4, 676.7, 680.9, 684.8, 688.5, 692.4, 696.2, 699.7, 703.4, 706.6, 710.2, 713.4, 716.9, 720.1, 723.5, 726.5, 729.7, 732.3, 735.3, 737.7, 740.3, 743.0, 745.1]',\n",
       " 'CC_awlngth': '[399.3, 403.4, 407.6, 411.6, 415.7, 420.3, 425.1, 429.7, 434.0, 438.2, 443.2, 447.9, 452.9, 457.6, 462.2, 466.6, 471.5, 476.9, 482.0, 486.9, 491.3, 495.8, 500.5, 505.5, 510.7, 515.9, 521.0, 526.0, 530.6, 535.1, 539.9, 544.5, 549.7, 554.5, 559.4, 564.2, 568.6, 573.0, 577.1, 581.2, 585.4, 589.6, 594.0, 598.4, 602.8, 607.3, 612.0, 616.5, 620.9, 625.2, 629.5, 633.9, 638.2, 642.6, 647.1, 651.4, 656.0, 660.3, 664.7, 669.0, 673.2, 677.2, 681.4, 685.1, 689.0, 692.8, 696.3, 699.9, 703.3, 706.8, 709.9, 713.6, 716.9, 720.3, 723.0, 726.5, 729.5, 732.3, 735.0, 738.0, 740.2, 742.7]',\n",
       " 'CC_ccwo': '[1.067927, 1.112983, 1.150655, 1.179094, 1.201569, 1.225822, 1.243822, 1.262554, 1.282274, 1.29971, 1.318789, 1.335943, 1.350471, 1.362499, 1.375685, 1.389501, 1.404679, 1.417556, 1.429258, 1.442497, 1.453712, 1.465074, 1.472217, 1.479041, 1.486722, 1.493456, 1.500873, 1.508205, 1.514299, 1.523707, 1.527552, 1.534764, 1.5452, 1.552164, 1.557909, 1.562192, 1.564908, 1.563976, 1.559171, 1.549025, 1.534976, 1.515481, 1.492629, 1.473101, 1.461201, 1.456204, 1.455637, 1.455857, 1.456125, 1.456548, 1.456326, 1.454742, 1.451795, 1.446616, 1.438352, 1.426979, 1.418322, 1.412131, 1.408232, 1.405192, 1.398736, 1.388557, 1.372698, 1.348974, 1.31713, 1.275406, 1.222187, 1.156455, 1.075691, 0.977706, 0.862486, 0.727109, 0.572165, 0.399775, 0.21467, 0.029004, 0.146196, 0.301012, 0.425347, 0.518534, 0.586203, 0.636022]',\n",
       " 'CC_acwo': '[1.725496, 1.379657, 1.113292, 0.91968, 0.777429, 0.667742, 0.576904, 0.498502, 0.428392, 0.363341, 0.304039, 0.247949, 0.195066, 0.144418, 0.096068, 0.050222, 0.005864, 0.036643, 0.077904, 0.116915, 0.154435, 0.190042, 0.223652, 0.255283, 0.285413, 0.315575, 0.345912, 0.375939, 0.405025, 0.432819, 0.459337, 0.484218, 0.507959, 0.531747, 0.554218, 0.575141, 0.59356, 0.608848, 0.620146, 0.620959, 0.623722, 0.621345, 0.614251, 0.60595, 0.601463, 0.604224, 0.613397, 0.625394, 0.638262, 0.650949, 0.663241, 0.675026, 0.685782, 0.694592, 0.700398, 0.703059, 0.703734, 0.705134, 0.709111, 0.714496, 0.719328, 0.721303, 0.718693, 0.71005, 0.694079, 0.669494, 0.634853, 0.589411, 0.531446, 0.45857, 0.369251, 0.26185, 0.135591, 0.010068, 0.174073, 0.350536, 0.529459, 0.699906, 0.85074, 0.973867, 1.067244, 1.134726]'}"
      ]
     },
     "execution_count": 30,
     "metadata": {},
     "output_type": "execute_result"
    }
   ],
   "source": [
    "optaa.coefficients"
   ]
  },
  {
   "cell_type": "code",
   "execution_count": 32,
   "metadata": {},
   "outputs": [
    {
     "data": {
      "text/plain": [
       "['CGINS-OPTAAD-00129__20130123.csv',\n",
       " 'CGINS-OPTAAD-00129__20130123.csv__CC_tcarray.ext',\n",
       " 'CGINS-OPTAAD-00129__20130123.csv__CC_taarray.ext']"
      ]
     },
     "execution_count": 32,
     "metadata": {},
     "output_type": "execute_result"
    }
   ],
   "source": [
    "os.listdir(optaa_savepath)"
   ]
  },
  {
   "cell_type": "code",
   "execution_count": 33,
   "metadata": {},
   "outputs": [],
   "source": [
    "OPTAA = whoi_asset_tracking(spreadsheet=excel_spreadsheet,sheet_name=sheet_name,instrument_class='OPTAA')"
   ]
  },
  {
   "cell_type": "code",
   "execution_count": 34,
   "metadata": {},
   "outputs": [
    {
     "data": {
      "text/html": [
       "<div>\n",
       "<style scoped>\n",
       "    .dataframe tbody tr th:only-of-type {\n",
       "        vertical-align: middle;\n",
       "    }\n",
       "\n",
       "    .dataframe tbody tr th {\n",
       "        vertical-align: top;\n",
       "    }\n",
       "\n",
       "    .dataframe thead th {\n",
       "        text-align: right;\n",
       "    }\n",
       "</style>\n",
       "<table border=\"1\" class=\"dataframe\">\n",
       "  <thead>\n",
       "    <tr style=\"text-align: right;\">\n",
       "      <th></th>\n",
       "      <th>Instrument\n",
       "Class</th>\n",
       "      <th>Series</th>\n",
       "      <th>Supplier\n",
       "Serial Number</th>\n",
       "      <th>WHOI #</th>\n",
       "      <th>OOI #</th>\n",
       "      <th>UID</th>\n",
       "      <th>Model</th>\n",
       "      <th>CGSN PN</th>\n",
       "      <th>Firmware Version</th>\n",
       "      <th>Supplier</th>\n",
       "      <th>...</th>\n",
       "      <th>QCT Testing</th>\n",
       "      <th>PreDeployment</th>\n",
       "      <th>Post Deployment</th>\n",
       "      <th>Refurbishment/ Repair</th>\n",
       "      <th>DO Number</th>\n",
       "      <th>Date Received</th>\n",
       "      <th>Deployment History</th>\n",
       "      <th>Current Deployment</th>\n",
       "      <th>Instrument Location on Current Deployment</th>\n",
       "      <th>Notes</th>\n",
       "    </tr>\n",
       "  </thead>\n",
       "  <tbody>\n",
       "    <tr>\n",
       "      <th>932</th>\n",
       "      <td>OPTAA</td>\n",
       "      <td>D</td>\n",
       "      <td>123</td>\n",
       "      <td></td>\n",
       "      <td>A00098</td>\n",
       "      <td>CGINS-OPTAAD-00123</td>\n",
       "      <td>AC-S</td>\n",
       "      <td>1336-00007-00004</td>\n",
       "      <td>1.11</td>\n",
       "      <td>WET Labs</td>\n",
       "      <td>...</td>\n",
       "      <td>3305-00113-00002\\n3305-00113-00011\\n3305-00113...</td>\n",
       "      <td>3305-00313-00034\\n3305-00313-00102\\n3305-00313...</td>\n",
       "      <td>3305-00513-00013\\n3305-00513-00061</td>\n",
       "      <td>3305-00900-00009\\n3305-00900-00129\\n3305-00900...</td>\n",
       "      <td>WH-SC12-17-OPTAA-1001</td>\n",
       "      <td>12/3/2012\\n07/20/15</td>\n",
       "      <td>CP01CNSM-00001\\nCP03ISSM-00003\\nCP01CNSM-00007...</td>\n",
       "      <td>NaN</td>\n",
       "      <td>NaN</td>\n",
       "      <td>NaN</td>\n",
       "    </tr>\n",
       "    <tr>\n",
       "      <th>933</th>\n",
       "      <td>OPTAA</td>\n",
       "      <td>D</td>\n",
       "      <td>129</td>\n",
       "      <td>115289</td>\n",
       "      <td>A00178</td>\n",
       "      <td>CGINS-OPTAAD-00129</td>\n",
       "      <td>AC-S</td>\n",
       "      <td>1336-00007-00004</td>\n",
       "      <td>1.1</td>\n",
       "      <td>WET Labs</td>\n",
       "      <td>...</td>\n",
       "      <td>3305-00113-00005\\n3305-00113-00067\\n3305-00113...</td>\n",
       "      <td>3305-00313-00056\\n3305-00313-00159</td>\n",
       "      <td>3305-00513-00024</td>\n",
       "      <td>3305-00900-00009\\n3305-00900-00170\\n3305-00900...</td>\n",
       "      <td>WH-SC12-17-OPTAA-1001</td>\n",
       "      <td>1/29/2013\\n10/05/15</td>\n",
       "      <td>CP01CNSM-00001\\nCP01CNSM-00005</td>\n",
       "      <td>CP03ISSM-00009</td>\n",
       "      <td>NSIF</td>\n",
       "      <td>09-27-2013 Pump 05-6836 returned to Wetlab for...</td>\n",
       "    </tr>\n",
       "    <tr>\n",
       "      <th>934</th>\n",
       "      <td>OPTAA</td>\n",
       "      <td>D</td>\n",
       "      <td>130</td>\n",
       "      <td>115290</td>\n",
       "      <td>A00179</td>\n",
       "      <td>CGINS-OPTAAD-00130</td>\n",
       "      <td>AC-S</td>\n",
       "      <td>1336-00007-00004</td>\n",
       "      <td>1.1</td>\n",
       "      <td>WET Labs</td>\n",
       "      <td>...</td>\n",
       "      <td>3305-00113-00006\\n3305-00113-00044\\n3305-00113...</td>\n",
       "      <td>3305-00313-00021\\n3305-00313-00089</td>\n",
       "      <td>NaN</td>\n",
       "      <td>3305-00900-00001\\n3305-00900-00069</td>\n",
       "      <td>WH-SC12-17-OPTAA-1001</td>\n",
       "      <td>1/29/2013\\n12/12/2014</td>\n",
       "      <td>CP03ISSM-00002\\nGS01SUMO-00003</td>\n",
       "      <td>NaN</td>\n",
       "      <td>NaN</td>\n",
       "      <td>09-27-2013 Pump 05-6838 returned to Wetlab for...</td>\n",
       "    </tr>\n",
       "    <tr>\n",
       "      <th>935</th>\n",
       "      <td>OPTAA</td>\n",
       "      <td>D</td>\n",
       "      <td>150</td>\n",
       "      <td>115838</td>\n",
       "      <td>A00496</td>\n",
       "      <td>CGINS-OPTAAD-00150</td>\n",
       "      <td>AC-S</td>\n",
       "      <td>1336-00007-00004</td>\n",
       "      <td>1.11</td>\n",
       "      <td>WET Labs</td>\n",
       "      <td>...</td>\n",
       "      <td>3305-00113-00014\\n3305-00113-00088</td>\n",
       "      <td>NaN</td>\n",
       "      <td>NaN</td>\n",
       "      <td>3305-00900-00068</td>\n",
       "      <td>WH-SC12-17-OPTAA-1003</td>\n",
       "      <td>2013-12-12 00:00:00</td>\n",
       "      <td>GI01SUMO-00001\\nGS01SUMO-00003</td>\n",
       "      <td>NaN</td>\n",
       "      <td>NaN</td>\n",
       "      <td>(NSIF)</td>\n",
       "    </tr>\n",
       "    <tr>\n",
       "      <th>936</th>\n",
       "      <td>OPTAA</td>\n",
       "      <td>D</td>\n",
       "      <td>151</td>\n",
       "      <td>115839</td>\n",
       "      <td>A00497</td>\n",
       "      <td>CGINS-OPTAAD-00151</td>\n",
       "      <td>AC-S</td>\n",
       "      <td>1336-00007-00004</td>\n",
       "      <td>1.11</td>\n",
       "      <td>WET Labs</td>\n",
       "      <td>...</td>\n",
       "      <td>3305-00113-00015\\n3305-00113-00083\\n3305-00113...</td>\n",
       "      <td>3305-00313-00007\\n3305-00313-00029\\n3305-00313...</td>\n",
       "      <td>3305-00513-00027\\n3305-00513-00065</td>\n",
       "      <td>3305-00900-00069\\n3305-00900-00170\\n3305-00900...</td>\n",
       "      <td>WH-SC12-17-OPTAA-1003</td>\n",
       "      <td>2013-12-12 00:00:00</td>\n",
       "      <td>CP01CNSM-00002\\nCP01CNSM-00003\\nCP03ISSM-00004...</td>\n",
       "      <td>NaN</td>\n",
       "      <td>NaN</td>\n",
       "      <td>NaN</td>\n",
       "    </tr>\n",
       "  </tbody>\n",
       "</table>\n",
       "<p>5 rows × 25 columns</p>\n",
       "</div>"
      ],
      "text/plain": [
       "    Instrument\\nClass Series Supplier\\nSerial Number  WHOI #   OOI #  \\\n",
       "932             OPTAA      D                     123          A00098   \n",
       "933             OPTAA      D                     129  115289  A00178   \n",
       "934             OPTAA      D                     130  115290  A00179   \n",
       "935             OPTAA      D                     150  115838  A00496   \n",
       "936             OPTAA      D                     151  115839  A00497   \n",
       "\n",
       "                    UID Model           CGSN PN Firmware Version  Supplier  \\\n",
       "932  CGINS-OPTAAD-00123  AC-S  1336-00007-00004             1.11  WET Labs   \n",
       "933  CGINS-OPTAAD-00129  AC-S  1336-00007-00004              1.1  WET Labs   \n",
       "934  CGINS-OPTAAD-00130  AC-S  1336-00007-00004              1.1  WET Labs   \n",
       "935  CGINS-OPTAAD-00150  AC-S  1336-00007-00004             1.11  WET Labs   \n",
       "936  CGINS-OPTAAD-00151  AC-S  1336-00007-00004             1.11  WET Labs   \n",
       "\n",
       "                           ...                          \\\n",
       "932                        ...                           \n",
       "933                        ...                           \n",
       "934                        ...                           \n",
       "935                        ...                           \n",
       "936                        ...                           \n",
       "\n",
       "                                           QCT Testing  \\\n",
       "932  3305-00113-00002\\n3305-00113-00011\\n3305-00113...   \n",
       "933  3305-00113-00005\\n3305-00113-00067\\n3305-00113...   \n",
       "934  3305-00113-00006\\n3305-00113-00044\\n3305-00113...   \n",
       "935                 3305-00113-00014\\n3305-00113-00088   \n",
       "936  3305-00113-00015\\n3305-00113-00083\\n3305-00113...   \n",
       "\n",
       "                                         PreDeployment  \\\n",
       "932  3305-00313-00034\\n3305-00313-00102\\n3305-00313...   \n",
       "933                 3305-00313-00056\\n3305-00313-00159   \n",
       "934                 3305-00313-00021\\n3305-00313-00089   \n",
       "935                                                NaN   \n",
       "936  3305-00313-00007\\n3305-00313-00029\\n3305-00313...   \n",
       "\n",
       "                        Post Deployment  \\\n",
       "932  3305-00513-00013\\n3305-00513-00061   \n",
       "933                    3305-00513-00024   \n",
       "934                                 NaN   \n",
       "935                                 NaN   \n",
       "936  3305-00513-00027\\n3305-00513-00065   \n",
       "\n",
       "                                 Refurbishment/ Repair              DO Number  \\\n",
       "932  3305-00900-00009\\n3305-00900-00129\\n3305-00900...  WH-SC12-17-OPTAA-1001   \n",
       "933  3305-00900-00009\\n3305-00900-00170\\n3305-00900...  WH-SC12-17-OPTAA-1001   \n",
       "934                 3305-00900-00001\\n3305-00900-00069  WH-SC12-17-OPTAA-1001   \n",
       "935                                   3305-00900-00068  WH-SC12-17-OPTAA-1003   \n",
       "936  3305-00900-00069\\n3305-00900-00170\\n3305-00900...  WH-SC12-17-OPTAA-1003   \n",
       "\n",
       "             Date Received                                 Deployment History  \\\n",
       "932    12/3/2012\\n07/20/15  CP01CNSM-00001\\nCP03ISSM-00003\\nCP01CNSM-00007...   \n",
       "933    1/29/2013\\n10/05/15                     CP01CNSM-00001\\nCP01CNSM-00005   \n",
       "934  1/29/2013\\n12/12/2014                     CP03ISSM-00002\\nGS01SUMO-00003   \n",
       "935    2013-12-12 00:00:00                     GI01SUMO-00001\\nGS01SUMO-00003   \n",
       "936    2013-12-12 00:00:00  CP01CNSM-00002\\nCP01CNSM-00003\\nCP03ISSM-00004...   \n",
       "\n",
       "    Current Deployment Instrument Location on Current Deployment  \\\n",
       "932                NaN                                       NaN   \n",
       "933     CP03ISSM-00009                                      NSIF   \n",
       "934                NaN                                       NaN   \n",
       "935                NaN                                       NaN   \n",
       "936                NaN                                       NaN   \n",
       "\n",
       "                                                 Notes  \n",
       "932                                                NaN  \n",
       "933  09-27-2013 Pump 05-6836 returned to Wetlab for...  \n",
       "934  09-27-2013 Pump 05-6838 returned to Wetlab for...  \n",
       "935                                             (NSIF)  \n",
       "936                                                NaN  \n",
       "\n",
       "[5 rows x 25 columns]"
      ]
     },
     "execution_count": 34,
     "metadata": {},
     "output_type": "execute_result"
    }
   ],
   "source": [
    "OPTAA.head()"
   ]
  },
  {
   "cell_type": "code",
   "execution_count": 35,
   "metadata": {},
   "outputs": [
    {
     "data": {
      "text/plain": [
       "'CGINS-OPTAAD-00129'"
      ]
     },
     "execution_count": 35,
     "metadata": {},
     "output_type": "execute_result"
    }
   ],
   "source": [
    "uid"
   ]
  },
  {
   "cell_type": "code",
   "execution_count": 36,
   "metadata": {},
   "outputs": [
    {
     "data": {
      "text/plain": [
       "['3305-00113-00005',\n",
       " '3305-00113-00067',\n",
       " '3305-00113-00115',\n",
       " '3305-00113-00142']"
      ]
     },
     "execution_count": 36,
     "metadata": {},
     "output_type": "execute_result"
    }
   ],
   "source": [
    "qct_dict[uid]"
   ]
  },
  {
   "cell_type": "code",
   "execution_count": 37,
   "metadata": {},
   "outputs": [],
   "source": [
    "qct_path = generate_file_path(qct_directory,qct_dict[uid][0])"
   ]
  },
  {
   "cell_type": "code",
   "execution_count": 38,
   "metadata": {},
   "outputs": [
    {
     "data": {
      "text/plain": [
       "'/media/andrew/OS/Users/areed/Documents/Project_Files/Records/Instrument_Records/3305-00113-00005-A.log'"
      ]
     },
     "execution_count": 38,
     "metadata": {},
     "output_type": "execute_result"
    }
   ],
   "source": [
    "qct_path"
   ]
  },
  {
   "cell_type": "code",
   "execution_count": 49,
   "metadata": {},
   "outputs": [],
   "source": [
    "with open(qct_path,'rb') as file:\n",
    "    data = file.read()"
   ]
  },
  {
   "cell_type": "code",
   "execution_count": 81,
   "metadata": {},
   "outputs": [
    {
     "data": {
      "text/plain": [
       "197"
      ]
     },
     "execution_count": 81,
     "metadata": {},
     "output_type": "execute_result"
    }
   ],
   "source": [
    "data[900:1000][52]"
   ]
  },
  {
   "cell_type": "code",
   "execution_count": 87,
   "metadata": {},
   "outputs": [
    {
     "data": {
      "text/plain": [
       "b'=83=08=8B\\nl=0BW\\r%\\t=E1=0B=CD=0C=CB=0E=FA=0B\\\\\\rR=0Ee=11=01\\r=01=0E=F4=10=1F=132=0E=CD=10=\\n=AA=11=F7=15=86=10=BD=12t=13=E4=17=F7=12=CA=14Q=15=E7=1A=84=14=F5=16R=18\\t=\\n=1D?=17K=18=84=1AV A=19=D4=1A=E2=1C=DB#=86=1C=9E=1D\\\\=1F=85&=FC=1F=9B=1F=EE\"=\\nO*=94\"=C4\"=A7%8._&=1A%=7F(E2a)=A3(e+k6}-R+Y.=A7:=B21$.E1=D9>=DC4=FA1]5(CI8=\\n=FE4v8=98G=C0=3D17=AE<=17L_A=82;=0F?=BCQ8F=07>=A7C=9CVeJ=E0B=91G=C9\\\\=01P=1A=\\nF=C1LNb=1CU=C5K=11Q=07h'"
      ]
     },
     "execution_count": 87,
     "metadata": {},
     "output_type": "execute_result"
    }
   ],
   "source": [
    "binascii.b2a_qp(data[1000:1200])"
   ]
  },
  {
   "cell_type": "code",
   "execution_count": null,
   "metadata": {},
   "outputs": [],
   "source": []
  }
 ],
 "metadata": {
  "kernelspec": {
   "display_name": "Python 3",
   "language": "python",
   "name": "python3"
  },
  "language_info": {
   "codemirror_mode": {
    "name": "ipython",
    "version": 3
   },
   "file_extension": ".py",
   "mimetype": "text/x-python",
   "name": "python",
   "nbconvert_exporter": "python",
   "pygments_lexer": "ipython3",
   "version": "3.7.3"
  }
 },
 "nbformat": 4,
 "nbformat_minor": 2
}
