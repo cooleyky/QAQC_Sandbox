{
 "cells": [
  {
   "cell_type": "markdown",
   "metadata": {},
   "source": [
    "# Exploratory Analysis for Metadata Review in OOI Asset Management System\n",
    "\n",
    "### Motivation:\n",
    "The Asset Management system for OOI is primarly housed on GitHub in a variety of csv files. Until now, the calibration coefficients stored in the csv files have been manually entered. While we have utilized a \"human-in-the-loop\" review approach to catch errors, some errors have slipped through (e.g. truncation of significant figures).\n",
    "\n",
    "### Approach:\n",
    "My goal is to develop an automated approach to catch possible errors which already exist within the asset management system. To accomplish this, I will compare the csv files loaded into the GitHub asset management system with the original vendor files as well as the QCT (quality control testing) documents which capture the coefficients loaded onto the instrument at the time of reception at WHOI from the vendor.\n",
    "\n",
    "### Data Sources:\n",
    "* **GitHub**: CSV files containing the calibration coefficients. Directory organization by sensor+class. The files are named as \"(CGINS)-(sensor+class)-(serial number)-(YYYYMMDD)\" where YYYYMMDD is the calibration date.\n",
    "* **Vault**: "
   ]
  },
  {
   "cell_type": "code",
   "execution_count": 1,
   "metadata": {},
   "outputs": [],
   "source": [
    "# Import likely important packages, etc.\n",
    "import sys, os, csv, re\n",
    "from wcmatch import fnmatch\n",
    "import datetime\n",
    "import time\n",
    "import xml.etree.ElementTree as et\n",
    "from zipfile import ZipFile\n",
    "import numpy as np\n",
    "import pandas as pd\n",
    "import xarray as xr"
   ]
  },
  {
   "cell_type": "code",
   "execution_count": 2,
   "metadata": {},
   "outputs": [],
   "source": [
    "coefficient_name_map = {\n",
    "            'TA0': 'CC_a0',\n",
    "            'TA1': 'CC_a1',\n",
    "            'TA2': 'CC_a2',\n",
    "            'TA3': 'CC_a3',\n",
    "            'CPCOR': 'CC_cpcor',\n",
    "            'CTCOR': 'CC_ctcor',\n",
    "            'CG': 'CC_g',\n",
    "            'CH': 'CC_h',\n",
    "            'CI': 'CC_i',\n",
    "            'CJ': 'CC_j',\n",
    "            'G': 'CC_g',\n",
    "            'H': 'CC_h',\n",
    "            'I': 'CC_i',\n",
    "            'J': 'CC_j',\n",
    "            'PA0': 'CC_pa0',\n",
    "            'PA1': 'CC_pa1',\n",
    "            'PA2': 'CC_pa2',\n",
    "            'PTEMPA0': 'CC_ptempa0',\n",
    "            'PTEMPA1': 'CC_ptempa1',\n",
    "            'PTEMPA2': 'CC_ptempa2',\n",
    "            'PTCA0': 'CC_ptca0',\n",
    "            'PTCA1': 'CC_ptca1',\n",
    "            'PTCA2': 'CC_ptca2',\n",
    "            'PTCB0': 'CC_ptcb0',\n",
    "            'PTCB1': 'CC_ptcb1',\n",
    "            'PTCB2': 'CC_ptcb2',\n",
    "            # additional types for series O\n",
    "            'C1': 'CC_C1',\n",
    "            'C2': 'CC_C2',\n",
    "            'C3': 'CC_C3',\n",
    "            'D1': 'CC_D1',\n",
    "            'D2': 'CC_D2',\n",
    "            'T1': 'CC_T1',\n",
    "            'T2': 'CC_T2',\n",
    "            'T3': 'CC_T3',\n",
    "            'T4': 'CC_T4',\n",
    "            'T5': 'CC_T5',\n",
    "        }\n",
    "\n",
    "o2_coefficients_map = {\n",
    "            'A': 'CC_residual_temperature_correction_factor_a',\n",
    "            'B': 'CC_residual_temperature_correction_factor_b',\n",
    "            'C': 'CC_residual_temperature_correction_factor_c',\n",
    "            'E': 'CC_residual_temperature_correction_factor_e',\n",
    "            'SOC': 'CC_oxygen_signal_slope',\n",
    "            'OFFSET': 'CC_frequency_offset'\n",
    "        }\n",
    "        "
   ]
  },
  {
   "cell_type": "code",
   "execution_count": 3,
   "metadata": {},
   "outputs": [],
   "source": [
    "o2_coefficients_map;"
   ]
  },
  {
   "cell_type": "code",
   "execution_count": 4,
   "metadata": {},
   "outputs": [],
   "source": [
    "coefficient_name_map;"
   ]
  },
  {
   "cell_type": "markdown",
   "metadata": {},
   "source": [
    "### WHOI Asset Tracking Spreadsheet\n",
    "First, I want to load and examine exactly what type of data is stored in the WHOI Asset Tracking Spreadsheet and what information it has that may be useful."
   ]
  },
  {
   "cell_type": "code",
   "execution_count": 5,
   "metadata": {},
   "outputs": [],
   "source": [
    "def whoi_asset_tracking(spreadsheet,sheet_name,instrument_class='All',whoi=True,series=None):\n",
    "    \"\"\"\n",
    "    Loads all the individual sensors of a specific instrument class and\n",
    "    series type. Currently applied only for WHOI deployed instruments.\n",
    "    \n",
    "    Args:\n",
    "        spreadsheet - directory path and name of the excel spreadsheet with\n",
    "            the WHOI asset tracking information.\n",
    "        sheet_name - name of the sheet in the spreadsheet to load\n",
    "        instrument_class - the type (i.e. CTDBP, CTDMO, PCO2W, etc). Defaults\n",
    "            to 'All', which will load all of the instruments\n",
    "        whoi - return only whoi instruments? Defaults to True.\n",
    "        series - a specified class of the instrument to load. Defaults to None,\n",
    "            which will load all of the series for a specified instrument class\n",
    "    \"\"\"\n",
    "    \n",
    "    all_sensors = pd.read_excel(spreadsheet,sheet_name=sheet_name,header=1)\n",
    "    # Select a specific class of instruments\n",
    "    if instrument_class == 'All':\n",
    "        inst_class = all_sensors\n",
    "    else:\n",
    "        inst_class  = all_sensors[all_sensors['Instrument\\nClass']==instrument_class]\n",
    "    # Return only the whoi instruments?\n",
    "    if whoi == True:\n",
    "        whoi_insts = inst_class[inst_class['Deployment History'] != 'EA']\n",
    "    else:\n",
    "        whoi_insts = inst_class\n",
    "    # Slect a specific series of the instrument?\n",
    "    if series != None:\n",
    "        instrument = whoi_insts[whoi_insts['Series'] == series]\n",
    "    else:\n",
    "        instrument = whoi_insts\n",
    " \n",
    "    return instrument\n",
    "    \n",
    "    "
   ]
  },
  {
   "cell_type": "code",
   "execution_count": 6,
   "metadata": {},
   "outputs": [],
   "source": [
    "#excel_spreadsheet = 'C:/Users/areed/Documents/Project_Files/Documentation/System/System Notebook/WHOI_Asset_Tracking.xlsx'\n",
    "excel_spreadsheet = '/media/andrew/OS/Users/areed/Documents/Project_Files/Documentation/System/System Notebook/WHOI_Asset_Tracking.xlsx'\n",
    "sheet_name = 'Sensors'"
   ]
  },
  {
   "cell_type": "code",
   "execution_count": 7,
   "metadata": {},
   "outputs": [],
   "source": [
    "# What are all the different series of CTDs?\n",
    "CTDBP = whoi_asset_tracking(excel_spreadsheet,sheet_name,instrument_class='CTDBP',whoi=True)"
   ]
  },
  {
   "cell_type": "code",
   "execution_count": 8,
   "metadata": {},
   "outputs": [
    {
     "data": {
      "text/plain": [
       "{'C', 'D', 'E', 'F', 'P'}"
      ]
     },
     "execution_count": 8,
     "metadata": {},
     "output_type": "execute_result"
    }
   ],
   "source": [
    "set(CTDBP['Series'])"
   ]
  },
  {
   "cell_type": "code",
   "execution_count": 9,
   "metadata": {},
   "outputs": [],
   "source": [
    "CTDBPF = whoi_asset_tracking(excel_spreadsheet,sheet_name,instrument_class='CTDBP',whoi=True,series='F')"
   ]
  },
  {
   "cell_type": "code",
   "execution_count": 10,
   "metadata": {},
   "outputs": [
    {
     "data": {
      "text/html": [
       "<div>\n",
       "<style scoped>\n",
       "    .dataframe tbody tr th:only-of-type {\n",
       "        vertical-align: middle;\n",
       "    }\n",
       "\n",
       "    .dataframe tbody tr th {\n",
       "        vertical-align: top;\n",
       "    }\n",
       "\n",
       "    .dataframe thead th {\n",
       "        text-align: right;\n",
       "    }\n",
       "</style>\n",
       "<table border=\"1\" class=\"dataframe\">\n",
       "  <thead>\n",
       "    <tr style=\"text-align: right;\">\n",
       "      <th></th>\n",
       "      <th>Instrument\n",
       "Class</th>\n",
       "      <th>Series</th>\n",
       "      <th>Supplier\n",
       "Serial Number</th>\n",
       "      <th>WHOI #</th>\n",
       "      <th>OOI #</th>\n",
       "      <th>UID</th>\n",
       "      <th>Model</th>\n",
       "      <th>CGSN PN</th>\n",
       "      <th>Firmware Version</th>\n",
       "      <th>Supplier</th>\n",
       "      <th>...</th>\n",
       "      <th>QCT Testing</th>\n",
       "      <th>PreDeployment</th>\n",
       "      <th>Post Deployment</th>\n",
       "      <th>Refurbishment/ Repair</th>\n",
       "      <th>DO Number</th>\n",
       "      <th>Date Received</th>\n",
       "      <th>Deployment History</th>\n",
       "      <th>Current Deployment</th>\n",
       "      <th>Instrument Location on Current Deployment</th>\n",
       "      <th>Notes</th>\n",
       "    </tr>\n",
       "  </thead>\n",
       "  <tbody>\n",
       "    <tr>\n",
       "      <th>49</th>\n",
       "      <td>CTDBP</td>\n",
       "      <td>F</td>\n",
       "      <td>16-50001</td>\n",
       "      <td>116098</td>\n",
       "      <td>A00635</td>\n",
       "      <td>CGINS-CTDBPF-50001</td>\n",
       "      <td>16PlusV2</td>\n",
       "      <td>1336-00001-00006</td>\n",
       "      <td>2.5.2</td>\n",
       "      <td>SeaBird</td>\n",
       "      <td>...</td>\n",
       "      <td>3305-00102-00016\\n3305-00102-00091\\n3305-00102...</td>\n",
       "      <td>NaN</td>\n",
       "      <td>NaN</td>\n",
       "      <td>3305-00900-00080\\n3305-00900-00280</td>\n",
       "      <td>WH-SC11-01-CTD-1007</td>\n",
       "      <td>2014-01-23 00:00:00</td>\n",
       "      <td>GI01SUMO-00001\\nGI01SUMO-00003\\nGI01SUMO-00005</td>\n",
       "      <td>GI01SUMO-00005</td>\n",
       "      <td>NSIF</td>\n",
       "      <td>(NSIF)</td>\n",
       "    </tr>\n",
       "    <tr>\n",
       "      <th>58</th>\n",
       "      <td>CTDBP</td>\n",
       "      <td>F</td>\n",
       "      <td>16-50060</td>\n",
       "      <td>116830</td>\n",
       "      <td>A01092</td>\n",
       "      <td>CGINS-CTDBPF-50060</td>\n",
       "      <td>16PlusV2</td>\n",
       "      <td>1336-00001-00006</td>\n",
       "      <td>2.5.2</td>\n",
       "      <td>SeaBird</td>\n",
       "      <td>...</td>\n",
       "      <td>3305-00102-00039\\n3305-00102-00092</td>\n",
       "      <td>NaN</td>\n",
       "      <td>NaN</td>\n",
       "      <td>3305-00900-00103</td>\n",
       "      <td>WH-SC11-01-CTD-1013</td>\n",
       "      <td>2014-09-29 00:00:00</td>\n",
       "      <td>GS01SUMO-00001\\nGS01SUMO-00003</td>\n",
       "      <td>NaN</td>\n",
       "      <td>NaN</td>\n",
       "      <td>NaN</td>\n",
       "    </tr>\n",
       "    <tr>\n",
       "      <th>59</th>\n",
       "      <td>CTDBP</td>\n",
       "      <td>F</td>\n",
       "      <td>16-50061</td>\n",
       "      <td>116831</td>\n",
       "      <td>A01093</td>\n",
       "      <td>CGINS-CTDBPF-50061</td>\n",
       "      <td>16PlusV2</td>\n",
       "      <td>1336-00001-00006</td>\n",
       "      <td>2.5.2</td>\n",
       "      <td>SeaBird</td>\n",
       "      <td>...</td>\n",
       "      <td>3305-00102-00040\\n3305-00102-00113</td>\n",
       "      <td>NaN</td>\n",
       "      <td>NaN</td>\n",
       "      <td>3305-00900-00155</td>\n",
       "      <td>WH-SC11-01-CTD-1013</td>\n",
       "      <td>2014-09-29 00:00:00</td>\n",
       "      <td>GI01SUMO-00002</td>\n",
       "      <td>NaN</td>\n",
       "      <td>NaN</td>\n",
       "      <td>NaN</td>\n",
       "    </tr>\n",
       "    <tr>\n",
       "      <th>60</th>\n",
       "      <td>CTDBP</td>\n",
       "      <td>F</td>\n",
       "      <td>16-50062</td>\n",
       "      <td>116832</td>\n",
       "      <td>A01094</td>\n",
       "      <td>CGINS-CTDBPF-50062</td>\n",
       "      <td>16PlusV2</td>\n",
       "      <td>1336-00001-00006</td>\n",
       "      <td>2.5.2</td>\n",
       "      <td>SeaBird</td>\n",
       "      <td>...</td>\n",
       "      <td>3305-00102-00041\\n3305-00102-00093\\n3305-00102...</td>\n",
       "      <td>NaN</td>\n",
       "      <td>NaN</td>\n",
       "      <td>3305-00900-00097\\n3305-00900-00329</td>\n",
       "      <td>WH-SC11-01-CTD-1013</td>\n",
       "      <td>2014-09-29 00:00:00</td>\n",
       "      <td>GA01SUMO-00001\\nGA01SUMO-00003</td>\n",
       "      <td>GS01SUMO-00004</td>\n",
       "      <td>NSIF</td>\n",
       "      <td>NaN</td>\n",
       "    </tr>\n",
       "    <tr>\n",
       "      <th>61</th>\n",
       "      <td>CTDBP</td>\n",
       "      <td>F</td>\n",
       "      <td>16-50065</td>\n",
       "      <td>116833</td>\n",
       "      <td>A01095</td>\n",
       "      <td>CGINS-CTDBPF-50065</td>\n",
       "      <td>16PlusV2</td>\n",
       "      <td>1336-00001-00006</td>\n",
       "      <td>2.5.2</td>\n",
       "      <td>SeaBird</td>\n",
       "      <td>...</td>\n",
       "      <td>3305-00102-00042\\n3305-00102-00072</td>\n",
       "      <td>NaN</td>\n",
       "      <td>NaN</td>\n",
       "      <td>3305-00900-00050</td>\n",
       "      <td>WH-SC11-01-CTD-1013</td>\n",
       "      <td>2014-09-29 00:00:00</td>\n",
       "      <td>GI Spare</td>\n",
       "      <td>NaN</td>\n",
       "      <td>NaN</td>\n",
       "      <td>Battery voltage diminished to \"!!!Low Battery!...</td>\n",
       "    </tr>\n",
       "    <tr>\n",
       "      <th>74</th>\n",
       "      <td>CTDBP</td>\n",
       "      <td>F</td>\n",
       "      <td>16-50116</td>\n",
       "      <td>117285</td>\n",
       "      <td>A01420</td>\n",
       "      <td>CGINS-CTDBPF-50116</td>\n",
       "      <td>16PlusV2</td>\n",
       "      <td>1336-00001-00006</td>\n",
       "      <td>2.5.2</td>\n",
       "      <td>SeaBird</td>\n",
       "      <td>...</td>\n",
       "      <td>3305-00102-00060\\n3305-00102-00133</td>\n",
       "      <td>NaN</td>\n",
       "      <td>NaN</td>\n",
       "      <td>3305-00900-00203</td>\n",
       "      <td>WH-SC11-01-CTD-1017</td>\n",
       "      <td>2015-05-14 00:00:00</td>\n",
       "      <td>GA01SUMO-00002\\nIrminger 5 Spare</td>\n",
       "      <td>GS 5 spare</td>\n",
       "      <td>NaN</td>\n",
       "      <td>NaN</td>\n",
       "    </tr>\n",
       "    <tr>\n",
       "      <th>81</th>\n",
       "      <td>CTDBP</td>\n",
       "      <td>F</td>\n",
       "      <td>16-50142</td>\n",
       "      <td>117448</td>\n",
       "      <td>A01573</td>\n",
       "      <td>CGINS-CTDBPF-50142</td>\n",
       "      <td>16PlusV2</td>\n",
       "      <td>1336-00001-00006</td>\n",
       "      <td>2.5.2</td>\n",
       "      <td>SeaBird</td>\n",
       "      <td>...</td>\n",
       "      <td>3305-00102-00061\\n3305-00102-00132\\n3305-00102...</td>\n",
       "      <td>NaN</td>\n",
       "      <td>NaN</td>\n",
       "      <td>3305-00900-00194\\n3305-00900-00395</td>\n",
       "      <td>WH-SC11-01-CTD-1018</td>\n",
       "      <td>2015-07-01 00:00:00</td>\n",
       "      <td>GS01SUMO-00002\\nGI01SUMO-00004</td>\n",
       "      <td>NaN</td>\n",
       "      <td>NSIF</td>\n",
       "      <td>NaN</td>\n",
       "    </tr>\n",
       "    <tr>\n",
       "      <th>82</th>\n",
       "      <td>CTDBP</td>\n",
       "      <td>F</td>\n",
       "      <td>16-50143</td>\n",
       "      <td>117447</td>\n",
       "      <td>A01572</td>\n",
       "      <td>CGINS-CTDBPF-50143</td>\n",
       "      <td>16PlusV2</td>\n",
       "      <td>1336-00001-00006</td>\n",
       "      <td>2.5.2</td>\n",
       "      <td>SeaBird</td>\n",
       "      <td>...</td>\n",
       "      <td>3305-00102-00062\\n3305-00102-00187</td>\n",
       "      <td>NaN</td>\n",
       "      <td>NaN</td>\n",
       "      <td>3305-00900-00345</td>\n",
       "      <td>WH-SC11-01-CTD-1018</td>\n",
       "      <td>2015-07-01 00:00:00</td>\n",
       "      <td>GA/GS Spare</td>\n",
       "      <td>NaN</td>\n",
       "      <td>NaN</td>\n",
       "      <td>NaN</td>\n",
       "    </tr>\n",
       "  </tbody>\n",
       "</table>\n",
       "<p>8 rows × 25 columns</p>\n",
       "</div>"
      ],
      "text/plain": [
       "   Instrument\\nClass Series Supplier\\nSerial Number  WHOI #   OOI #  \\\n",
       "49             CTDBP      F                16-50001  116098  A00635   \n",
       "58             CTDBP      F                16-50060  116830  A01092   \n",
       "59             CTDBP      F                16-50061  116831  A01093   \n",
       "60             CTDBP      F                16-50062  116832  A01094   \n",
       "61             CTDBP      F                16-50065  116833  A01095   \n",
       "74             CTDBP      F                16-50116  117285  A01420   \n",
       "81             CTDBP      F                16-50142  117448  A01573   \n",
       "82             CTDBP      F                16-50143  117447  A01572   \n",
       "\n",
       "                   UID     Model           CGSN PN Firmware Version Supplier  \\\n",
       "49  CGINS-CTDBPF-50001  16PlusV2  1336-00001-00006            2.5.2  SeaBird   \n",
       "58  CGINS-CTDBPF-50060  16PlusV2  1336-00001-00006            2.5.2  SeaBird   \n",
       "59  CGINS-CTDBPF-50061  16PlusV2  1336-00001-00006            2.5.2  SeaBird   \n",
       "60  CGINS-CTDBPF-50062  16PlusV2  1336-00001-00006            2.5.2  SeaBird   \n",
       "61  CGINS-CTDBPF-50065  16PlusV2  1336-00001-00006            2.5.2  SeaBird   \n",
       "74  CGINS-CTDBPF-50116  16PlusV2  1336-00001-00006            2.5.2  SeaBird   \n",
       "81  CGINS-CTDBPF-50142  16PlusV2  1336-00001-00006            2.5.2  SeaBird   \n",
       "82  CGINS-CTDBPF-50143  16PlusV2  1336-00001-00006            2.5.2  SeaBird   \n",
       "\n",
       "                          ...                          \\\n",
       "49                        ...                           \n",
       "58                        ...                           \n",
       "59                        ...                           \n",
       "60                        ...                           \n",
       "61                        ...                           \n",
       "74                        ...                           \n",
       "81                        ...                           \n",
       "82                        ...                           \n",
       "\n",
       "                                          QCT Testing PreDeployment  \\\n",
       "49  3305-00102-00016\\n3305-00102-00091\\n3305-00102...           NaN   \n",
       "58                 3305-00102-00039\\n3305-00102-00092           NaN   \n",
       "59                 3305-00102-00040\\n3305-00102-00113           NaN   \n",
       "60  3305-00102-00041\\n3305-00102-00093\\n3305-00102...           NaN   \n",
       "61                 3305-00102-00042\\n3305-00102-00072           NaN   \n",
       "74                 3305-00102-00060\\n3305-00102-00133           NaN   \n",
       "81  3305-00102-00061\\n3305-00102-00132\\n3305-00102...           NaN   \n",
       "82                 3305-00102-00062\\n3305-00102-00187           NaN   \n",
       "\n",
       "   Post Deployment               Refurbishment/ Repair             DO Number  \\\n",
       "49             NaN  3305-00900-00080\\n3305-00900-00280   WH-SC11-01-CTD-1007   \n",
       "58             NaN                    3305-00900-00103   WH-SC11-01-CTD-1013   \n",
       "59             NaN                    3305-00900-00155   WH-SC11-01-CTD-1013   \n",
       "60             NaN  3305-00900-00097\\n3305-00900-00329   WH-SC11-01-CTD-1013   \n",
       "61             NaN                    3305-00900-00050   WH-SC11-01-CTD-1013   \n",
       "74             NaN                    3305-00900-00203   WH-SC11-01-CTD-1017   \n",
       "81             NaN  3305-00900-00194\\n3305-00900-00395  WH-SC11-01-CTD-1018    \n",
       "82             NaN                    3305-00900-00345  WH-SC11-01-CTD-1018    \n",
       "\n",
       "          Date Received                              Deployment History  \\\n",
       "49  2014-01-23 00:00:00  GI01SUMO-00001\\nGI01SUMO-00003\\nGI01SUMO-00005   \n",
       "58  2014-09-29 00:00:00                  GS01SUMO-00001\\nGS01SUMO-00003   \n",
       "59  2014-09-29 00:00:00                                  GI01SUMO-00002   \n",
       "60  2014-09-29 00:00:00                  GA01SUMO-00001\\nGA01SUMO-00003   \n",
       "61  2014-09-29 00:00:00                                        GI Spare   \n",
       "74  2015-05-14 00:00:00                GA01SUMO-00002\\nIrminger 5 Spare   \n",
       "81  2015-07-01 00:00:00                  GS01SUMO-00002\\nGI01SUMO-00004   \n",
       "82  2015-07-01 00:00:00                                     GA/GS Spare   \n",
       "\n",
       "   Current Deployment Instrument Location on Current Deployment  \\\n",
       "49     GI01SUMO-00005                                      NSIF   \n",
       "58                NaN                                       NaN   \n",
       "59                NaN                                       NaN   \n",
       "60     GS01SUMO-00004                                      NSIF   \n",
       "61                NaN                                       NaN   \n",
       "74         GS 5 spare                                       NaN   \n",
       "81                NaN                                      NSIF   \n",
       "82                NaN                                       NaN   \n",
       "\n",
       "                                                Notes  \n",
       "49                                             (NSIF)  \n",
       "58                                                NaN  \n",
       "59                                                NaN  \n",
       "60                                                NaN  \n",
       "61  Battery voltage diminished to \"!!!Low Battery!...  \n",
       "74                                                NaN  \n",
       "81                                                NaN  \n",
       "82                                                NaN  \n",
       "\n",
       "[8 rows x 25 columns]"
      ]
     },
     "execution_count": 10,
     "metadata": {},
     "output_type": "execute_result"
    }
   ],
   "source": [
    "CTDBPF"
   ]
  },
  {
   "cell_type": "markdown",
   "metadata": {},
   "source": [
    "### Checking instrument calibration values\n",
    "After loading the **WHOI Asset Tracking Sheet**, we now have the following critical data for checking calibration information:\n",
    "* Supplier Serial Number - this links back to the original **.cal**, **.xmlcon**, and vendor docs\n",
    "* OOI UID - this is the link between the instrument and the OOINet\n",
    "* QCT Document Number - this number links the instrument to the QCT screen capture of the calibration values loaded onto the instruments"
   ]
  },
  {
   "cell_type": "markdown",
   "metadata": {},
   "source": [
    "### Process to load the **CSV** calibration file\n",
    "In order to check that the calibrations in asset management, I have to be able to load the asset management calibration csv files into a dataframe. \n",
    "* First, get all the unique CTDBPCs in Asset Management\n",
    "* Next, parse the csv files in asset management to get the unique instrument serial numbers\n",
    "* With the serial numbers, find the associated instrument calibration csvs\n",
    "* For each calibration csv, load the data into a pandas dataframe"
   ]
  },
  {
   "cell_type": "code",
   "execution_count": 11,
   "metadata": {},
   "outputs": [],
   "source": [
    "def load_asset_management(instrument,filepath):\n",
    "    \"\"\"\n",
    "    Loads the calibration csv files from a local repository containing\n",
    "    the asset management information.\n",
    "    \n",
    "    Args:\n",
    "        instrument - a pandas dataframe with the asset tracking information\n",
    "            for a specific instrument.\n",
    "        filepath - the directory path pointing to where the csv files are\n",
    "            stored.\n",
    "    Raises:\n",
    "        TypeError - if the instrument input is not a pandas dataframe\n",
    "    Returns:\n",
    "        csv_dict - a dictionary with keys of the UIDs from the instrument dataframe\n",
    "            which correspond to lists of the relevant calibration csv files\n",
    "            \n",
    "    \"\"\"\n",
    "    \n",
    "    # Check that the input is a pandas DataFrame\n",
    "    if type(instrument) != pd.core.frame.DataFrame:\n",
    "        raise TypeError()\n",
    "        \n",
    "    uids = sorted( list( set( instrument['UID'] ) ) )\n",
    "    \n",
    "    csv_dict = {}\n",
    "    for uid in uids:\n",
    "        # Get a specified uid from the instrument dataframe\n",
    "        instrument['UID_match'] = instrument['UID'].apply(lambda x: True if uid in x else False)\n",
    "        instrument[instrument['UID_match'] == True]\n",
    "        \n",
    "        # Now, get all the csvs from asset management for a particular UID\n",
    "        csv_files = []\n",
    "        for file in os.listdir(filepath):\n",
    "            if fnmatch.fnmatch(file,'*'+uid+'*'):\n",
    "                csv_files.append(file)\n",
    "            else:\n",
    "                pass\n",
    "        \n",
    "        # Update the dictionary storing the asset management files for each UID\n",
    "        if len(csv_files) > 0:\n",
    "            csv_dict.update({uid:csv_files})\n",
    "        else:\n",
    "            pass\n",
    "        \n",
    "    return csv_dict\n",
    "    "
   ]
  },
  {
   "cell_type": "code",
   "execution_count": 12,
   "metadata": {},
   "outputs": [
    {
     "data": {
      "text/plain": [
       "{'CGINS-CTDBPF-50001': ['CGINS-CTDBPF-50001__20140116.csv',\n",
       "  'CGINS-CTDBPF-50001__20151230.csv',\n",
       "  'CGINS-CTDBPF-50001__20170923.csv'],\n",
       " 'CGINS-CTDBPF-50060': ['CGINS-CTDBPF-50060__20140920.csv',\n",
       "  'CGINS-CTDBPF-50060__20150327.csv'],\n",
       " 'CGINS-CTDBPF-50061': ['CGINS-CTDBPF-50061__20140919.csv',\n",
       "  'CGINS-CTDBPF-50061__20161021.csv'],\n",
       " 'CGINS-CTDBPF-50062': ['CGINS-CTDBPF-50062__20140919.csv',\n",
       "  'CGINS-CTDBPF-50062__20160309.csv',\n",
       "  'CGINS-CTDBPF-50062__20180414.csv'],\n",
       " 'CGINS-CTDBPF-50116': ['CGINS-CTDBPF-50116__20150428.csv',\n",
       "  'CGINS-CTDBPF-50116__20170312.csv'],\n",
       " 'CGINS-CTDBPF-50142': ['CGINS-CTDBPF-50142__20150616.csv',\n",
       "  'CGINS-CTDBPF-50142__20170312.csv',\n",
       "  'CGINS-CTDBPF-50142__20181005.csv'],\n",
       " 'CGINS-CTDBPF-50143': ['CGINS-CTDBPF-50143__20150615.csv',\n",
       "  'CGINS-CTDBPF-50143__20180502.csv']}"
      ]
     },
     "execution_count": 12,
     "metadata": {},
     "output_type": "execute_result"
    }
   ],
   "source": [
    "csv_dict = load_asset_management(CTDBPF,'../../GitHub/OOI-Integration/asset-management/calibration/CTDBPF/')\n",
    "csv_dict"
   ]
  },
  {
   "cell_type": "code",
   "execution_count": 13,
   "metadata": {},
   "outputs": [],
   "source": [
    "# Now I need to load the all of the csv files based on their UID\n",
    "def load_csv_info(csv_dict,filepath):\n",
    "    \"\"\"\n",
    "    Loads the calibration coefficient information contained in asset management\n",
    "    \n",
    "    Args:\n",
    "        csv_dict - a dictionary which associates an instrument UID to the\n",
    "            calibration csv files in asset management\n",
    "        filepath - the path to the directory containing the calibration csv files\n",
    "    Returns:\n",
    "        csv_cals - a dictionary which associates an instrument UID to a pandas\n",
    "            dataframe which contains the calibration coefficients. The dataframes\n",
    "            are indexed by the date of calibration\n",
    "    \"\"\"\n",
    "    \n",
    "    # Load the calibration data into pandas dataframes, which are then placed into\n",
    "    # a dictionary by the UID\n",
    "    csv_cals = {}\n",
    "    for uid in csv_dict:\n",
    "        cals = pd.DataFrame()\n",
    "        for file in csv_dict[uid]:\n",
    "            data = pd.read_csv(filepath+file)\n",
    "            date = file.split('__')[1].split('.')[0]\n",
    "            data['CAL DATE'] = pd.to_datetime(date)\n",
    "            cals = cals.append(data)\n",
    "        csv_cals.update({uid:cals})\n",
    "        \n",
    "    # Pivot the dataframe to be sorted based on calibration date\n",
    "    for uid in csv_cals:\n",
    "        csv_cals[uid] = csv_cals[uid].pivot(index=csv_cals[uid]['CAL DATE'], columns='name')['value']\n",
    "        \n",
    "    return csv_cals\n",
    "\n"
   ]
  },
  {
   "cell_type": "code",
   "execution_count": 14,
   "metadata": {},
   "outputs": [
    {
     "data": {
      "text/plain": [
       "{'CGINS-CTDBPF-50001': name           CC_a0     CC_a1     CC_a2         CC_a3      CC_cpcor  \\\n",
       " CAL DATE                                                               \n",
       " 2014-01-16  0.001252  0.000275 -0.000001  1.775094e-07 -9.570000e-08   \n",
       " 2015-12-30  0.001247  0.000276 -0.000001  1.839354e-07 -9.570000e-08   \n",
       " 2017-09-23  0.001239  0.000279 -0.000002  1.976311e-07 -9.570000e-08   \n",
       " \n",
       " name        CC_ctcor      CC_g      CC_h      CC_i      CC_j     ...      \\\n",
       " CAL DATE                                                         ...       \n",
       " 2014-01-16  0.000003 -0.984788  0.137073 -0.000208  0.000033     ...       \n",
       " 2015-12-30  0.000003 -0.985320  0.137206 -0.000236  0.000036     ...       \n",
       " 2017-09-23  0.000003 -0.985739  0.137326 -0.000272  0.000039     ...       \n",
       " \n",
       " name              CC_pa2  CC_ptca0  CC_ptca1  CC_ptca2  CC_ptcb0  CC_ptcb1  \\\n",
       " CAL DATE                                                                     \n",
       " 2014-01-16 -1.079218e-11  525353.2  4.123545 -0.181259  25.13313  0.000025   \n",
       " 2015-12-30 -6.567602e-12  525496.7  7.572756 -0.246313  25.13313  0.000025   \n",
       " 2017-09-23 -5.984058e-12  525487.2  6.620634 -0.223880  25.13313  0.000025   \n",
       " \n",
       " name        CC_ptcb2  CC_ptempa0  CC_ptempa1  CC_ptempa2  \n",
       " CAL DATE                                                  \n",
       " 2014-01-16       0.0   -59.32189    54.50369   -0.522124  \n",
       " 2015-12-30       0.0   -59.32173    54.50363   -0.522145  \n",
       " 2017-09-23       0.0   -58.19950    52.90511    0.042391  \n",
       " \n",
       " [3 rows x 22 columns],\n",
       " 'CGINS-CTDBPF-50060': name           CC_a0     CC_a1         CC_a2         CC_a3      CC_cpcor  \\\n",
       " CAL DATE                                                                   \n",
       " 2014-09-20  0.001243  0.000274 -8.613106e-07  1.714459e-07  3.250000e-06   \n",
       " 2015-03-27  0.001236  0.000277 -1.136315e-06  1.819939e-07 -9.570000e-08   \n",
       " \n",
       " name            CC_ctcor      CC_g      CC_h      CC_i      CC_j     ...      \\\n",
       " CAL DATE                                                             ...       \n",
       " 2014-09-20 -9.570000e-08 -0.985419  0.148936 -0.000242  0.000039     ...       \n",
       " 2015-03-27  3.250000e-06 -0.985283  0.148939 -0.000251  0.000040     ...       \n",
       " \n",
       " name              CC_pa2  CC_ptca0  CC_ptca1  CC_ptca2  CC_ptcb0  CC_ptcb1  \\\n",
       " CAL DATE                                                                     \n",
       " 2014-09-20 -4.834738e-12  524187.3  5.096894 -0.236347    24.943    0.0002   \n",
       " 2015-03-27 -5.528520e-12  524331.9  5.433900 -0.225406    24.943    0.0002   \n",
       " \n",
       " name        CC_ptcb2  CC_ptempa0  CC_ptempa1  CC_ptempa2  \n",
       " CAL DATE                                                  \n",
       " 2014-09-20       0.0   -63.10504    52.90863   -0.474520  \n",
       " 2015-03-27       0.0   -63.31921    53.16866   -0.566648  \n",
       " \n",
       " [2 rows x 22 columns],\n",
       " 'CGINS-CTDBPF-50061': name          CC_a0     CC_a1     CC_a2         CC_a3      CC_cpcor  \\\n",
       " CAL DATE                                                              \n",
       " 2014-09-19  0.00124  0.000281 -0.000002  2.171960e-07 -9.570000e-08   \n",
       " 2016-10-21  0.00125  0.000277 -0.000002  1.970247e-07  3.250000e-06   \n",
       " \n",
       " name            CC_ctcor      CC_g      CC_h      CC_i      CC_j     ...      \\\n",
       " CAL DATE                                                             ...       \n",
       " 2014-09-19  3.250000e-06 -0.974369  0.152584 -0.000204  0.000038     ...       \n",
       " 2016-10-21 -9.570000e-08 -0.973840  0.152355 -0.000142  0.000034     ...       \n",
       " \n",
       " name              CC_pa2  CC_ptca0  CC_ptca1  CC_ptca2  CC_ptcb0  CC_ptcb1  \\\n",
       " CAL DATE                                                                     \n",
       " 2014-09-19 -5.194193e-12  524593.7  6.869682 -0.209360  24.94488  0.000175   \n",
       " 2016-10-21 -5.886745e-12  524735.0  8.002969 -0.221733  24.94488  0.000175   \n",
       " \n",
       " name        CC_ptcb2  CC_ptempa0  CC_ptempa1  CC_ptempa2  \n",
       " CAL DATE                                                  \n",
       " 2014-09-19       0.0   -67.19514    53.85675   -0.613323  \n",
       " 2016-10-21       0.0   -66.82500    53.39218   -0.472873  \n",
       " \n",
       " [2 rows x 22 columns],\n",
       " 'CGINS-CTDBPF-50062': name           CC_a0     CC_a1     CC_a2         CC_a3      CC_cpcor  \\\n",
       " CAL DATE                                                               \n",
       " 2014-09-19  0.001226  0.000281 -0.000002  2.130059e-07 -9.570000e-08   \n",
       " 2016-03-09  0.001240  0.000275 -0.000001  1.829387e-07 -9.570000e-08   \n",
       " 2018-04-14  0.001235  0.000277 -0.000001  1.944979e-07 -9.570000e-08   \n",
       " \n",
       " name        CC_ctcor      CC_g      CC_h      CC_i      CC_j     ...      \\\n",
       " CAL DATE                                                         ...       \n",
       " 2014-09-19  0.000003 -0.984382  0.139616 -0.000148  0.000030     ...       \n",
       " 2016-03-09  0.000003 -0.983827  0.139429 -0.000105  0.000028     ...       \n",
       " 2018-04-14  0.000003 -0.983800  0.139447 -0.000119  0.000030     ...       \n",
       " \n",
       " name              CC_pa2  CC_ptca0  CC_ptca1  CC_ptca2  CC_ptcb0  CC_ptcb1  \\\n",
       " CAL DATE                                                                     \n",
       " 2014-09-19 -6.734723e-12  525299.9  38.44535 -0.766024  24.80937  0.000675   \n",
       " 2016-03-09 -6.641159e-12  525403.0  40.65394 -0.818106  24.80937  0.000675   \n",
       " 2018-04-14 -6.300779e-12  525418.4  41.14356 -0.843118  24.80937  0.000675   \n",
       " \n",
       " name        CC_ptcb2  CC_ptempa0  CC_ptempa1  CC_ptempa2  \n",
       " CAL DATE                                                  \n",
       " 2014-09-19       0.0   -65.24563    51.69195   -0.284647  \n",
       " 2016-03-09       0.0   -65.42034    51.86271   -0.325537  \n",
       " 2018-04-14       0.0   -65.29686    51.69223   -0.284641  \n",
       " \n",
       " [3 rows x 22 columns],\n",
       " 'CGINS-CTDBPF-50116': name           CC_a0     CC_a1         CC_a2         CC_a3      CC_cpcor  \\\n",
       " CAL DATE                                                                   \n",
       " 2015-04-28  0.001258  0.000274 -1.106721e-06  1.819683e-07 -9.570000e-08   \n",
       " 2017-03-12  0.001263  0.000272 -8.547688e-07  1.713527e-07 -9.570000e-08   \n",
       " \n",
       " name        CC_ctcor      CC_g      CC_h      CC_i      CC_j     ...      \\\n",
       " CAL DATE                                                         ...       \n",
       " 2015-04-28  0.000003 -0.986372  0.155438 -0.000178  0.000037     ...       \n",
       " 2017-03-12  0.000003 -0.986369  0.155454 -0.000189  0.000038     ...       \n",
       " \n",
       " name              CC_pa2  CC_ptca0  CC_ptca1  CC_ptca2  CC_ptcb0  CC_ptcb1  \\\n",
       " CAL DATE                                                                     \n",
       " 2015-04-28  8.162023e-12  509657.7 -281.0540 -1.193867  25.08125   0.00025   \n",
       " 2017-03-12  9.425504e-12  509818.5 -280.4931 -1.200752  25.08125   0.00025   \n",
       " \n",
       " name        CC_ptcb2  CC_ptempa0  CC_ptempa1  CC_ptempa2  \n",
       " CAL DATE                                                  \n",
       " 2015-04-28       0.0    40.83414   -43.90766   -0.559684  \n",
       " 2017-03-12       0.0    40.78592   -44.03545   -0.345136  \n",
       " \n",
       " [2 rows x 22 columns],\n",
       " 'CGINS-CTDBPF-50142': name           CC_a0     CC_a1         CC_a2         CC_a3      CC_cpcor  \\\n",
       " CAL DATE                                                                   \n",
       " 2015-06-16  0.001242  0.000276 -1.310936e-06  1.911329e-07 -9.570000e-08   \n",
       " 2017-03-12  0.001254  0.000272 -6.874696e-07  1.643602e-07 -9.570000e-08   \n",
       " 2018-10-05  0.001251  0.000273 -8.672512e-07  1.722119e-07 -9.570000e-08   \n",
       " \n",
       " name        CC_ctcor      CC_g      CC_h      CC_i      CC_j     ...      \\\n",
       " CAL DATE                                                         ...       \n",
       " 2015-06-16  0.000003 -1.001360  0.154993 -0.000175  0.000036     ...       \n",
       " 2017-03-12  0.000003 -1.002615  0.155409 -0.000287  0.000045     ...       \n",
       " 2018-10-05  0.000003 -1.001339  0.154945 -0.000163  0.000037     ...       \n",
       " \n",
       " name              CC_pa2  CC_ptca0   CC_ptca1  CC_ptca2  CC_ptcb0  CC_ptcb1  \\\n",
       " CAL DATE                                                                      \n",
       " 2015-06-16  9.363741e-12  523479.1 -128.37800 -1.572428  24.93838  0.000475   \n",
       " 2017-03-12  9.077252e-12  523371.0 -129.01240 -1.569967  24.93838  0.000475   \n",
       " 2018-10-05 -3.215211e-12  524571.3   -6.45336  0.011898  25.24618 -0.000576   \n",
       " \n",
       " name        CC_ptcb2  CC_ptempa0  CC_ptempa1  CC_ptempa2  \n",
       " CAL DATE                                                  \n",
       " 2015-06-16       0.0   108.10770   -44.45154   -0.359412  \n",
       " 2017-03-12       0.0   104.27570   -40.88776   -1.126472  \n",
       " 2018-10-05       0.0   -55.90677    54.60593   -0.590973  \n",
       " \n",
       " [3 rows x 22 columns],\n",
       " 'CGINS-CTDBPF-50143': name           CC_a0     CC_a1         CC_a2         CC_a3      CC_cpcor  \\\n",
       " CAL DATE                                                                   \n",
       " 2015-06-15  0.001251  0.000272 -7.939960e-07  1.677430e-07 -9.570000e-08   \n",
       " 2018-05-02  0.001242  0.000276 -1.206305e-06  1.841338e-07 -9.570000e-08   \n",
       " \n",
       " name        CC_ctcor      CC_g      CC_h      CC_i      CC_j     ...      \\\n",
       " CAL DATE                                                         ...       \n",
       " 2015-06-15  0.000003 -0.977128  0.151004 -0.000199  0.000037     ...       \n",
       " 2018-05-02  0.000003 -0.978033  0.151247 -0.000259  0.000042     ...       \n",
       " \n",
       " name              CC_pa2  CC_ptca0  CC_ptca1  CC_ptca2  CC_ptcb0  CC_ptcb1  \\\n",
       " CAL DATE                                                                     \n",
       " 2015-06-15  9.694112e-12  521930.2 -137.0572 -1.187615  25.01138 -0.000525   \n",
       " 2018-05-02  1.008020e-11  521091.5 -139.3557 -1.203460  25.01138 -0.000525   \n",
       " \n",
       " name        CC_ptcb2  CC_ptempa0  CC_ptempa1  CC_ptempa2  \n",
       " CAL DATE                                                  \n",
       " 2015-06-15       0.0    106.0656   -41.28826   -1.523764  \n",
       " 2018-05-02       0.0    107.8710   -43.20901   -1.034720  \n",
       " \n",
       " [2 rows x 22 columns]}"
      ]
     },
     "execution_count": 14,
     "metadata": {},
     "output_type": "execute_result"
    }
   ],
   "source": [
    "CSV = load_csv_info(csv_dict,'../../GitHub/OOI-Integration/asset-management/calibration/CTDBPF/')\n",
    "CSV"
   ]
  },
  {
   "cell_type": "code",
   "execution_count": null,
   "metadata": {},
   "outputs": [],
   "source": [
    "#CSV['CGINS-CTDBPD-50110']"
   ]
  },
  {
   "cell_type": "markdown",
   "metadata": {},
   "source": [
    "Now we have successfully loaded the csv calibrations into a pandas dataframe that allows for easy comparison between calibrations based on the calibration date for each calibration coefficient."
   ]
  },
  {
   "cell_type": "markdown",
   "metadata": {},
   "source": [
    "### Load the QCT values\n",
    "The next step is to take the capture files from the QCT and load them into a comparable pandas dataframe. This involves several steps:\n",
    "* Get the QCT document numbers from the WHOI Asset Tracking Sheet for each individual instrument\n",
    "* Find where the QCT documents are stored\n",
    "* Load the QCT documents\n",
    "* Parse the QCT documents\n",
    "* Translate the parsed QCT values into a pandas dataframe"
   ]
  },
  {
   "cell_type": "code",
   "execution_count": 36,
   "metadata": {},
   "outputs": [],
   "source": [
    "uids = sorted( list( set( CTDBPF['UID'])))"
   ]
  },
  {
   "cell_type": "code",
   "execution_count": 37,
   "metadata": {},
   "outputs": [],
   "source": [
    "qct_dict = {}\n",
    "for uid in uids:\n",
    "    # Get the QCT Document numbers from the asset tracking sheet\n",
    "    CTDBPF['UID_match'] = CTDBPF['UID'].apply(lambda x: True if uid in x else False)\n",
    "    qct_series = CTDBPF[CTDBPF['UID_match'] == True]['QCT Testing']\n",
    "    qct_series = list(qct_series.iloc[0].split('\\n'))\n",
    "    qct_dict.update({uid:qct_series})"
   ]
  },
  {
   "cell_type": "code",
   "execution_count": 38,
   "metadata": {},
   "outputs": [
    {
     "data": {
      "text/plain": [
       "{'CGINS-CTDBPF-50001': ['3305-00102-00016',\n",
       "  '3305-00102-00091',\n",
       "  '3305-00102-00153'],\n",
       " 'CGINS-CTDBPF-50060': ['3305-00102-00039', '3305-00102-00092'],\n",
       " 'CGINS-CTDBPF-50061': ['3305-00102-00040', '3305-00102-00113'],\n",
       " 'CGINS-CTDBPF-50062': ['3305-00102-00041',\n",
       "  '3305-00102-00093',\n",
       "  '3305-00102-00174'],\n",
       " 'CGINS-CTDBPF-50065': ['3305-00102-00042', '3305-00102-00072'],\n",
       " 'CGINS-CTDBPF-50116': ['3305-00102-00060', '3305-00102-00133'],\n",
       " 'CGINS-CTDBPF-50142': ['3305-00102-00061',\n",
       "  '3305-00102-00132',\n",
       "  '3305-00102-00194'],\n",
       " 'CGINS-CTDBPF-50143': ['3305-00102-00062', '3305-00102-00187']}"
      ]
     },
     "execution_count": 38,
     "metadata": {},
     "output_type": "execute_result"
    }
   ],
   "source": [
    "qct_dict"
   ]
  },
  {
   "cell_type": "code",
   "execution_count": 39,
   "metadata": {},
   "outputs": [],
   "source": [
    "#dirpath = 'C:/Users/areed/Documents/Project_Files/Records/Instrument_Records/cap_files/'\n",
    "dirpath = '/media/andrew/OS/Users/areed/Documents/Project_Files/'"
   ]
  },
  {
   "cell_type": "code",
   "execution_count": 40,
   "metadata": {},
   "outputs": [],
   "source": [
    "# Try building a function to do the file path generator\n",
    "def generate_file_path(dirpath,filename,exclude=['_V','_Data_Workshop']):\n",
    "    \"\"\"\n",
    "    Function which searches for the location of the given file and returns\n",
    "    the full path to the file.\n",
    "    \n",
    "    Args:\n",
    "        dirpath - parent directory path under which to search\n",
    "        filename - the name of the file to search for\n",
    "        exclude - optional list which allows for excluding certain\n",
    "            directories from the search\n",
    "    Returns:\n",
    "        fpath - the file path to the filename from the current\n",
    "            working directory.\n",
    "    \"\"\"\n",
    "    for root, dirs, files in os.walk(dirpath):\n",
    "        dirs[:] = [d for d in dirs if d not in exclude]\n",
    "        for fname in files:\n",
    "            if fnmatch.fnmatch(fname, [filename+'*.cap', filename+'*.txt', filename+'*.log']):\n",
    "                fpath = os.path.join(root, fname)\n",
    "                return fpath"
   ]
  },
  {
   "cell_type": "code",
   "execution_count": 41,
   "metadata": {},
   "outputs": [],
   "source": [
    "# Now to develop an automated approach to load all the QCT documents, parse them\n",
    "# into a dictionary, and convert the dictionary into a pandas dataframe\n",
    "def load_qct_data(qct_dict,coefficient_name_map,dirpath='../../../Documents/Project_Files/'):\n",
    "    qct = {}\n",
    "    for uid in qct_dict:\n",
    "        print(uid)\n",
    "        capture_data = {}\n",
    "        for capfile in qct_dict[uid]:\n",
    "            # First, find and return the path to the capture file which\n",
    "            # matches the capture file indentifier\n",
    "            cappath = generate_file_path(dirpath, capfile)\n",
    "            \n",
    "            # Function to pull out the coefficients from the capture files. This is a naive implementation\n",
    "            # and splits only on either a \":\" or \"=\", it doesn't do any comprehension of the file\n",
    "            if cappath is None:\n",
    "                pass\n",
    "            else:\n",
    "                coeffs = {}\n",
    "                with open(cappath) as filename:\n",
    "                    data = filename.read()\n",
    "                    for line in data.splitlines():\n",
    "                        items = re.split(': | =',line)\n",
    "                        key = items[0].strip()\n",
    "                        value = items[-1].strip()\n",
    "                        coeffs.update({key:value})\n",
    "                    \n",
    "                # The best way to do this is to use the CTD name mapping to only get the important values\n",
    "                capture = {}\n",
    "                # With the capture coefficients, now map it to the CTD coefficients\n",
    "                for key in coeffs.keys():\n",
    "                    if key in coefficient_name_map.keys():\n",
    "                        capture[coefficient_name_map[key]] = coeffs[key]\n",
    "            \n",
    "                # Get the calibration date\n",
    "                caldate = coeffs['conductivity']\n",
    "            \n",
    "                # Update the capture file to include the calibration date\n",
    "                capture['CAL DATE'] = pd.to_datetime(caldate)\n",
    "            \n",
    "                # Now, update the parent dictionary\n",
    "                capture_data.update({capfile:capture})\n",
    "            \n",
    "        df = pd.DataFrame.from_dict({i: capture_data[i] for i in capture_data.keys()}, orient='index')\n",
    "        qct.update({uid:df})\n",
    "        \n",
    "    return qct   "
   ]
  },
  {
   "cell_type": "code",
   "execution_count": 42,
   "metadata": {},
   "outputs": [
    {
     "name": "stdout",
     "output_type": "stream",
     "text": [
      "CGINS-CTDBPF-50001\n",
      "CGINS-CTDBPF-50060\n",
      "CGINS-CTDBPF-50061\n",
      "CGINS-CTDBPF-50062\n",
      "CGINS-CTDBPF-50065\n",
      "CGINS-CTDBPF-50116\n",
      "CGINS-CTDBPF-50142\n",
      "CGINS-CTDBPF-50143\n"
     ]
    }
   ],
   "source": [
    "qct = load_qct_data(qct_dict,coefficient_name_map,dirpath='../../../../Documents/Project_Files/')"
   ]
  },
  {
   "cell_type": "code",
   "execution_count": 43,
   "metadata": {},
   "outputs": [
    {
     "data": {
      "text/plain": [
       "['3305-00102-00041', '3305-00102-00093', '3305-00102-00174']"
      ]
     },
     "execution_count": 43,
     "metadata": {},
     "output_type": "execute_result"
    }
   ],
   "source": [
    "qct_dict['CGINS-CTDBPF-50062']"
   ]
  },
  {
   "cell_type": "code",
   "execution_count": 47,
   "metadata": {},
   "outputs": [],
   "source": [
    "# Reset the index to the calibration date\n",
    "for uid in qct:\n",
    "    qct[uid].set_index('CAL DATE', drop=True, inplace=True)"
   ]
  },
  {
   "cell_type": "code",
   "execution_count": 48,
   "metadata": {
    "collapsed": true
   },
   "outputs": [
    {
     "data": {
      "text/plain": [
       "{'CGINS-CTDBPF-50001':                    CC_a0         CC_a1          CC_a2         CC_a3  \\\n",
       " CAL DATE                                                              \n",
       " 2014-01-16  1.251523e-03  2.750386e-04  -1.055218e-06  1.775094e-07   \n",
       " 2015-12-30  1.247330e-03  2.764855e-04  -1.221744e-06  1.839354e-07   \n",
       " 2017-09-23  1.239346e-03  2.793815e-04  -1.568446e-06  1.976311e-07   \n",
       " \n",
       "                      CC_g          CC_h           CC_i          CC_j  \\\n",
       " CAL DATE                                                               \n",
       " 2014-01-16  -9.847879e-01  1.370732e-01  -2.079871e-04  3.337904e-05   \n",
       " 2015-12-30  -9.853204e-01  1.372063e-01  -2.359660e-04  3.576452e-05   \n",
       " 2017-09-23  -9.857388e-01  1.373258e-01  -2.724398e-04  3.901116e-05   \n",
       " \n",
       "                  CC_cpcor      CC_ctcor      ...               CC_pa2  \\\n",
       " CAL DATE                                     ...                        \n",
       " 2014-01-16  -9.570000e-08  3.250000e-06      ...        -1.079218e-11   \n",
       " 2015-12-30  -9.570000e-08  3.250000e-06      ...        -6.567602e-12   \n",
       " 2017-09-23  -9.570000e-08  3.250000e-06      ...        -5.984058e-12   \n",
       " \n",
       "                 CC_ptca0      CC_ptca1       CC_ptca2      CC_ptcb0  \\\n",
       " CAL DATE                                                              \n",
       " 2014-01-16  5.253532e+05  4.123545e+00  -1.812588e-01  2.513313e+01   \n",
       " 2015-12-30  5.254967e+05  7.572756e+00  -2.463131e-01  2.513313e+01   \n",
       " 2017-09-23  5.254872e+05  6.620634e+00  -2.238795e-01  2.513313e+01   \n",
       " \n",
       "                 CC_ptcb1      CC_ptcb2     CC_ptempa0    CC_ptempa1  \\\n",
       " CAL DATE                                                              \n",
       " 2014-01-16  2.500000e-05  0.000000e+00  -5.932189e+01  5.450369e+01   \n",
       " 2015-12-30  2.500000e-05  0.000000e+00  -5.932173e+01  5.450363e+01   \n",
       " 2017-09-23  2.500000e-05  0.000000e+00  -5.819950e+01  5.290511e+01   \n",
       " \n",
       "                CC_ptempa2  \n",
       " CAL DATE                   \n",
       " 2014-01-16  -5.221240e-01  \n",
       " 2015-12-30  -5.221451e-01  \n",
       " 2017-09-23   4.239111e-02  \n",
       " \n",
       " [3 rows x 22 columns],\n",
       " 'CGINS-CTDBPF-50060':                    CC_a0         CC_a1          CC_a2         CC_a3  \\\n",
       " CAL DATE                                                              \n",
       " 2014-09-20  1.242662e-03  2.741985e-04  -8.613107e-07  1.714459e-07   \n",
       " 2016-03-27  1.235741e-03  2.765909e-04  -1.136315e-06  1.819939e-07   \n",
       " \n",
       "                      CC_g          CC_h           CC_i          CC_j  \\\n",
       " CAL DATE                                                               \n",
       " 2014-09-20  -9.854186e-01  1.489361e-01  -2.422111e-04  3.944113e-05   \n",
       " 2016-03-27  -9.852826e-01  1.489387e-01  -2.506805e-04  4.046134e-05   \n",
       " \n",
       "                  CC_cpcor      CC_ctcor      ...               CC_pa2  \\\n",
       " CAL DATE                                     ...                        \n",
       " 2014-09-20  -9.570000e-08  3.250000e-06      ...        -4.834738e-12   \n",
       " 2016-03-27  -9.570000e-08  3.250000e-06      ...        -5.528520e-12   \n",
       " \n",
       "                 CC_ptca0      CC_ptca1       CC_ptca2      CC_ptcb0  \\\n",
       " CAL DATE                                                              \n",
       " 2014-09-20  5.241873e+05  5.096894e+00  -2.363472e-01  2.494300e+01   \n",
       " 2016-03-27  5.243320e+05  5.433900e+00  -2.254057e-01  2.494300e+01   \n",
       " \n",
       "                 CC_ptcb1      CC_ptcb2     CC_ptempa0    CC_ptempa1  \\\n",
       " CAL DATE                                                              \n",
       " 2014-09-20  2.000000e-04  0.000000e+00  -6.310504e+01  5.290863e+01   \n",
       " 2016-03-27  2.000000e-04  0.000000e+00  -6.331921e+01  5.316866e+01   \n",
       " \n",
       "                CC_ptempa2  \n",
       " CAL DATE                   \n",
       " 2014-09-20  -4.745201e-01  \n",
       " 2016-03-27  -5.666482e-01  \n",
       " \n",
       " [2 rows x 22 columns],\n",
       " 'CGINS-CTDBPF-50061':                    CC_a0         CC_a1          CC_a2         CC_a3  \\\n",
       " CAL DATE                                                              \n",
       " 2014-09-19  1.239890e-03  2.812243e-04  -2.035512e-06  2.171960e-07   \n",
       " 2016-10-21  1.250450e-03  2.772533e-04  -1.542730e-06  1.970247e-07   \n",
       " \n",
       "                      CC_g          CC_h           CC_i          CC_j  \\\n",
       " CAL DATE                                                               \n",
       " 2014-09-19  -9.743689e-01  1.525839e-01  -2.043709e-04  3.776429e-05   \n",
       " 2016-10-21  -9.738400e-01  1.523551e-01  -1.415377e-04  3.432306e-05   \n",
       " \n",
       "                  CC_cpcor      CC_ctcor      ...               CC_pa2  \\\n",
       " CAL DATE                                     ...                        \n",
       " 2014-09-19  -9.570000e-08  3.250000e-06      ...        -5.194193e-12   \n",
       " 2016-10-21  -9.570000e-08  3.250000e-06      ...        -5.886745e-12   \n",
       " \n",
       "                 CC_ptca0      CC_ptca1       CC_ptca2      CC_ptcb0  \\\n",
       " CAL DATE                                                              \n",
       " 2014-09-19  5.245937e+05  6.869682e+00  -2.093598e-01  2.494488e+01   \n",
       " 2016-10-21  5.247350e+05  8.002969e+00  -2.217331e-01  2.494488e+01   \n",
       " \n",
       "                 CC_ptcb1      CC_ptcb2     CC_ptempa0    CC_ptempa1  \\\n",
       " CAL DATE                                                              \n",
       " 2014-09-19  1.750000e-04  0.000000e+00  -6.719514e+01  5.385675e+01   \n",
       " 2016-10-21  1.750000e-04  0.000000e+00  -6.682500e+01  5.339218e+01   \n",
       " \n",
       "                CC_ptempa2  \n",
       " CAL DATE                   \n",
       " 2014-09-19  -6.133229e-01  \n",
       " 2016-10-21  -4.728729e-01  \n",
       " \n",
       " [2 rows x 22 columns],\n",
       " 'CGINS-CTDBPF-50062':                    CC_a0         CC_a1          CC_a2         CC_a3  \\\n",
       " CAL DATE                                                              \n",
       " 2014-09-19  1.225591e-03  2.808447e-04  -1.798402e-06  2.130059e-07   \n",
       " 2016-03-09  1.240455e-03  2.751691e-04  -1.080498e-06  1.829387e-07   \n",
       " 2018-04-14  1.235085e-03  2.772567e-04  -1.350229e-06  1.944979e-07   \n",
       " \n",
       "                      CC_g          CC_h           CC_i          CC_j  \\\n",
       " CAL DATE                                                               \n",
       " 2014-09-19  -9.843822e-01  1.396164e-01  -1.484070e-04  2.967161e-05   \n",
       " 2016-03-09  -9.838273e-01  1.394294e-01  -1.052130e-04  2.753998e-05   \n",
       " 2018-04-14  -9.838002e-01  1.394465e-01  -1.192041e-04  2.954769e-05   \n",
       " \n",
       "                  CC_cpcor      CC_ctcor      ...               CC_pa2  \\\n",
       " CAL DATE                                     ...                        \n",
       " 2014-09-19  -9.570000e-08  3.250000e-06      ...        -6.734723e-12   \n",
       " 2016-03-09  -9.570000e-08  3.250000e-06      ...        -6.641159e-12   \n",
       " 2018-04-14  -9.570000e-08  3.250000e-06      ...        -6.300779e-12   \n",
       " \n",
       "                 CC_ptca0      CC_ptca1       CC_ptca2      CC_ptcb0  \\\n",
       " CAL DATE                                                              \n",
       " 2014-09-19  5.253000e+05  3.844535e+01  -7.660244e-01  2.480937e+01   \n",
       " 2016-03-09  5.254030e+05  4.065394e+01  -8.181058e-01  2.480937e+01   \n",
       " 2018-04-14  5.254185e+05  4.114356e+01  -8.431185e-01  2.480937e+01   \n",
       " \n",
       "                 CC_ptcb1      CC_ptcb2     CC_ptempa0    CC_ptempa1  \\\n",
       " CAL DATE                                                              \n",
       " 2014-09-19  6.750000e-04  0.000000e+00  -6.524563e+01  5.169195e+01   \n",
       " 2016-03-09  6.750000e-04  0.000000e+00  -6.542034e+01  5.186271e+01   \n",
       " 2018-04-14  6.750000e-04  0.000000e+00  -6.529686e+01  5.169223e+01   \n",
       " \n",
       "                CC_ptempa2  \n",
       " CAL DATE                   \n",
       " 2014-09-19  -2.846475e-01  \n",
       " 2016-03-09  -3.255374e-01  \n",
       " 2018-04-14  -2.846411e-01  \n",
       " \n",
       " [3 rows x 22 columns],\n",
       " 'CGINS-CTDBPF-50065':                    CC_a0         CC_a1          CC_a2         CC_a3  \\\n",
       " CAL DATE                                                              \n",
       " 2014-09-19  1.243392e-03  2.755739e-04  -1.140020e-06  1.830118e-07   \n",
       " 2015-10-28  1.243067e-03  2.757789e-04  -1.178609e-06  1.852142e-07   \n",
       " \n",
       "                      CC_g          CC_h           CC_i          CC_j  \\\n",
       " CAL DATE                                                               \n",
       " 2014-09-19  -9.847487e-01  1.523212e-01  -1.992144e-04  3.711031e-05   \n",
       " 2015-10-28  -9.849522e-01  1.523263e-01  -1.922527e-04  3.699211e-05   \n",
       " \n",
       "                  CC_cpcor      CC_ctcor      ...               CC_pa2  \\\n",
       " CAL DATE                                     ...                        \n",
       " 2014-09-19  -9.570000e-08  3.250000e-06      ...        -6.357806e-12   \n",
       " 2015-10-28  -9.570000e-08  3.250000e-06      ...        -6.655010e-12   \n",
       " \n",
       "                 CC_ptca0      CC_ptca1       CC_ptca2      CC_ptcb0  \\\n",
       " CAL DATE                                                              \n",
       " 2014-09-19  5.248387e+05  1.041255e+02  -2.061691e+00  2.500738e+01   \n",
       " 2015-10-28  5.249557e+05  1.009189e+02  -2.065729e+00  2.500738e+01   \n",
       " \n",
       "                  CC_ptcb1      CC_ptcb2     CC_ptempa0    CC_ptempa1  \\\n",
       " CAL DATE                                                               \n",
       " 2014-09-19  -1.325000e-03  0.000000e+00  -6.662534e+01  5.111636e+01   \n",
       " 2015-10-28  -1.325000e-03  0.000000e+00  -6.599618e+01  5.033480e+01   \n",
       " \n",
       "                CC_ptempa2  \n",
       " CAL DATE                   \n",
       " 2014-09-19  -2.550417e-01  \n",
       " 2015-10-28  -3.195989e-02  \n",
       " \n",
       " [2 rows x 22 columns],\n",
       " 'CGINS-CTDBPF-50116':                    CC_a0         CC_a1          CC_a2         CC_a3  \\\n",
       " CAL DATE                                                              \n",
       " 2017-03-12  1.263040e-03  2.720925e-04  -8.547688e-07  1.713527e-07   \n",
       " \n",
       "                      CC_g          CC_h           CC_i          CC_j  \\\n",
       " CAL DATE                                                               \n",
       " 2017-03-12  -9.863690e-01  1.554541e-01  -1.892472e-04  3.841265e-05   \n",
       " \n",
       "                  CC_cpcor      CC_ctcor      ...              CC_pa2  \\\n",
       " CAL DATE                                     ...                       \n",
       " 2017-03-12  -9.570000e-08  3.250000e-06      ...        9.425504e-12   \n",
       " \n",
       "                 CC_ptca0       CC_ptca1       CC_ptca2      CC_ptcb0  \\\n",
       " CAL DATE                                                               \n",
       " 2017-03-12  5.098185e+05  -2.804931e+02  -1.200752e+00  2.508125e+01   \n",
       " \n",
       "                 CC_ptcb1      CC_ptcb2    CC_ptempa0     CC_ptempa1  \\\n",
       " CAL DATE                                                              \n",
       " 2017-03-12  2.500000e-04  0.000000e+00  4.078592e+01  -4.403545e+01   \n",
       " \n",
       "                CC_ptempa2  \n",
       " CAL DATE                   \n",
       " 2017-03-12  -3.451364e-01  \n",
       " \n",
       " [1 rows x 22 columns],\n",
       " 'CGINS-CTDBPF-50142':                    CC_a0         CC_a1          CC_a2         CC_a3  \\\n",
       " CAL DATE                                                              \n",
       " 2017-03-12  1.254142e-03  2.716369e-04  -6.874697e-07  1.643602e-07   \n",
       " 2018-10-05  1.250743e-03  2.729980e-04  -8.672512e-07  1.722119e-07   \n",
       " \n",
       "                      CC_g          CC_h           CC_i          CC_j  \\\n",
       " CAL DATE                                                               \n",
       " 2017-03-12  -1.002615e+00  1.554087e-01  -2.874685e-04  4.495070e-05   \n",
       " 2018-10-05  -1.001339e+00  1.549455e-01  -1.633388e-04  3.716101e-05   \n",
       " \n",
       "                  CC_cpcor      CC_ctcor      ...               CC_pa2  \\\n",
       " CAL DATE                                     ...                        \n",
       " 2017-03-12  -9.570000e-08  3.250000e-06      ...         9.077252e-12   \n",
       " 2018-10-05  -9.570000e-08  3.250000e-06      ...        -3.215211e-12   \n",
       " \n",
       "                 CC_ptca0       CC_ptca1       CC_ptca2      CC_ptcb0  \\\n",
       " CAL DATE                                                               \n",
       " 2017-03-12  5.233710e+05  -1.290124e+02  -1.569967e+00  2.493838e+01   \n",
       " 2018-10-05  5.245713e+05  -6.453360e+00   1.189820e-02  2.524618e+01   \n",
       " \n",
       "                  CC_ptcb1      CC_ptcb2     CC_ptempa0     CC_ptempa1  \\\n",
       " CAL DATE                                                                \n",
       " 2017-03-12   4.750000e-04  0.000000e+00   1.042757e+02  -4.088776e+01   \n",
       " 2018-10-05  -5.764411e-04  0.000000e+00  -5.590677e+01   5.460593e+01   \n",
       " \n",
       "                CC_ptempa2  \n",
       " CAL DATE                   \n",
       " 2017-03-12  -1.126472e+00  \n",
       " 2018-10-05  -5.909725e-01  \n",
       " \n",
       " [2 rows x 22 columns],\n",
       " 'CGINS-CTDBPF-50143':                    CC_a0         CC_a1          CC_a2         CC_a3  \\\n",
       " CAL DATE                                                              \n",
       " 2018-05-02  1.241655e-03  2.758987e-04  -1.206305e-06  1.841338e-07   \n",
       " \n",
       "                      CC_g          CC_h           CC_i          CC_j  \\\n",
       " CAL DATE                                                               \n",
       " 2018-05-02  -9.780327e-01  1.512474e-01  -2.587186e-04  4.168463e-05   \n",
       " \n",
       "                  CC_cpcor      CC_ctcor      ...              CC_pa2  \\\n",
       " CAL DATE                                     ...                       \n",
       " 2018-05-02  -9.570000e-08  3.250000e-06      ...        1.008020e-11   \n",
       " \n",
       "                 CC_ptca0       CC_ptca1       CC_ptca2      CC_ptcb0  \\\n",
       " CAL DATE                                                               \n",
       " 2018-05-02  5.210915e+05  -1.393557e+02  -1.203460e+00  2.501138e+01   \n",
       " \n",
       "                  CC_ptcb1      CC_ptcb2    CC_ptempa0     CC_ptempa1  \\\n",
       " CAL DATE                                                               \n",
       " 2018-05-02  -5.250000e-04  0.000000e+00  1.078710e+02  -4.320901e+01   \n",
       " \n",
       "                CC_ptempa2  \n",
       " CAL DATE                   \n",
       " 2018-05-02  -1.034720e+00  \n",
       " \n",
       " [1 rows x 22 columns]}"
      ]
     },
     "execution_count": 48,
     "metadata": {},
     "output_type": "execute_result"
    }
   ],
   "source": [
    "qct"
   ]
  },
  {
   "cell_type": "markdown",
   "metadata": {},
   "source": [
    "### Vendor Calibration values: .cal and .xmlcon\n",
    "This next step is to load the CTD .cal and .xmlcon files in order to compare the"
   ]
  },
  {
   "cell_type": "code",
   "execution_count": 49,
   "metadata": {},
   "outputs": [
    {
     "data": {
      "text/html": [
       "<div>\n",
       "<style scoped>\n",
       "    .dataframe tbody tr th:only-of-type {\n",
       "        vertical-align: middle;\n",
       "    }\n",
       "\n",
       "    .dataframe tbody tr th {\n",
       "        vertical-align: top;\n",
       "    }\n",
       "\n",
       "    .dataframe thead th {\n",
       "        text-align: right;\n",
       "    }\n",
       "</style>\n",
       "<table border=\"1\" class=\"dataframe\">\n",
       "  <thead>\n",
       "    <tr style=\"text-align: right;\">\n",
       "      <th></th>\n",
       "      <th>Instrument\n",
       "Class</th>\n",
       "      <th>Series</th>\n",
       "      <th>Supplier\n",
       "Serial Number</th>\n",
       "      <th>WHOI #</th>\n",
       "      <th>OOI #</th>\n",
       "      <th>UID</th>\n",
       "      <th>Model</th>\n",
       "      <th>CGSN PN</th>\n",
       "      <th>Firmware Version</th>\n",
       "      <th>Supplier</th>\n",
       "      <th>...</th>\n",
       "      <th>PreDeployment</th>\n",
       "      <th>Post Deployment</th>\n",
       "      <th>Refurbishment/ Repair</th>\n",
       "      <th>DO Number</th>\n",
       "      <th>Date Received</th>\n",
       "      <th>Deployment History</th>\n",
       "      <th>Current Deployment</th>\n",
       "      <th>Instrument Location on Current Deployment</th>\n",
       "      <th>Notes</th>\n",
       "      <th>UID_match</th>\n",
       "    </tr>\n",
       "  </thead>\n",
       "  <tbody>\n",
       "    <tr>\n",
       "      <th>82</th>\n",
       "      <td>CTDBP</td>\n",
       "      <td>F</td>\n",
       "      <td>16-50143</td>\n",
       "      <td>117447</td>\n",
       "      <td>A01572</td>\n",
       "      <td>CGINS-CTDBPF-50143</td>\n",
       "      <td>16PlusV2</td>\n",
       "      <td>1336-00001-00006</td>\n",
       "      <td>2.5.2</td>\n",
       "      <td>SeaBird</td>\n",
       "      <td>...</td>\n",
       "      <td>NaN</td>\n",
       "      <td>NaN</td>\n",
       "      <td>3305-00900-00345</td>\n",
       "      <td>WH-SC11-01-CTD-1018</td>\n",
       "      <td>2015-07-01 00:00:00</td>\n",
       "      <td>GA/GS Spare</td>\n",
       "      <td>NaN</td>\n",
       "      <td>NaN</td>\n",
       "      <td>NaN</td>\n",
       "      <td>True</td>\n",
       "    </tr>\n",
       "  </tbody>\n",
       "</table>\n",
       "<p>1 rows × 26 columns</p>\n",
       "</div>"
      ],
      "text/plain": [
       "   Instrument\\nClass Series Supplier\\nSerial Number  WHOI #   OOI #  \\\n",
       "82             CTDBP      F                16-50143  117447  A01572   \n",
       "\n",
       "                   UID     Model           CGSN PN Firmware Version Supplier  \\\n",
       "82  CGINS-CTDBPF-50143  16PlusV2  1336-00001-00006            2.5.2  SeaBird   \n",
       "\n",
       "      ...    PreDeployment Post Deployment Refurbishment/ Repair  \\\n",
       "82    ...              NaN             NaN      3305-00900-00345   \n",
       "\n",
       "               DO Number        Date Received Deployment History  \\\n",
       "82  WH-SC11-01-CTD-1018   2015-07-01 00:00:00        GA/GS Spare   \n",
       "\n",
       "   Current Deployment Instrument Location on Current Deployment Notes  \\\n",
       "82                NaN                                       NaN   NaN   \n",
       "\n",
       "   UID_match  \n",
       "82      True  \n",
       "\n",
       "[1 rows x 26 columns]"
      ]
     },
     "execution_count": 49,
     "metadata": {},
     "output_type": "execute_result"
    }
   ],
   "source": [
    "CTDBPF[CTDBPF['UID_match'] == True]"
   ]
  },
  {
   "cell_type": "code",
   "execution_count": 50,
   "metadata": {},
   "outputs": [],
   "source": [
    "def get_serial_num(df):\n",
    "    serial_num = list(df[df['UID_match'] == True]['Supplier\\nSerial Number'])\n",
    "    serial_num = serial_num[0].split('-')[1]\n",
    "    return serial_num"
   ]
  },
  {
   "cell_type": "code",
   "execution_count": 51,
   "metadata": {},
   "outputs": [],
   "source": [
    "serial_nums = {}\n",
    "for uid in uids:\n",
    "    CTDBPF['UID_match'] = CTDBPF['UID'].apply(lambda x: True if uid in x else False)\n",
    "    serial_num = get_serial_num(CTDBPF)\n",
    "    serial_nums.update({uid:serial_num})\n",
    "    "
   ]
  },
  {
   "cell_type": "code",
   "execution_count": 52,
   "metadata": {},
   "outputs": [
    {
     "data": {
      "text/plain": [
       "{'CGINS-CTDBPF-50001': '50001',\n",
       " 'CGINS-CTDBPF-50060': '50060',\n",
       " 'CGINS-CTDBPF-50061': '50061',\n",
       " 'CGINS-CTDBPF-50062': '50062',\n",
       " 'CGINS-CTDBPF-50065': '50065',\n",
       " 'CGINS-CTDBPF-50116': '50116',\n",
       " 'CGINS-CTDBPF-50142': '50142',\n",
       " 'CGINS-CTDBPF-50143': '50143'}"
      ]
     },
     "execution_count": 52,
     "metadata": {},
     "output_type": "execute_result"
    }
   ],
   "source": [
    "serial_nums"
   ]
  },
  {
   "cell_type": "code",
   "execution_count": 53,
   "metadata": {},
   "outputs": [],
   "source": [
    "def read_cal(data, coefficient_name_map):\n",
    "    \"\"\"\n",
    "    Reads in the calibration coefficients from the vendor supplied\n",
    "    .cal file.\n",
    "        \n",
    "    Args:\n",
    "        self - the CTD object\n",
    "        data - an opened, read cal file that has been interpreted\n",
    "        into ASCII.\n",
    "    Returns:\n",
    "        A populated CTD object's dictionary with coeff names and\n",
    "        associated values from the cal file. \n",
    "    \"\"\"\n",
    "    coefficients = {}\n",
    "    for line in data.splitlines():\n",
    "        key, value = line.replace(\" \",\"\").split('=')\n",
    "\n",
    "        if key == 'INSTRUMENT_TYPE' and value == 'SEACATPLUS':\n",
    "            serial = '16-'\n",
    "\n",
    "        if key == 'SERIALNO':\n",
    "            serial = serial + value\n",
    "    \n",
    "        if key == 'CCALDATE':\n",
    "            date = datetime.datetime.strptime(value, '%d-%b-%y').strftime('%Y%m%d')\n",
    "\n",
    "        name = coefficient_name_map.get(key)\n",
    "        if not name or name is None:\n",
    "            continue\n",
    "        else:\n",
    "            coefficients[name] = value\n",
    "            \n",
    "    return coefficients,date"
   ]
  },
  {
   "cell_type": "code",
   "execution_count": 54,
   "metadata": {},
   "outputs": [],
   "source": [
    "def read_xml(data, coefficient_name_map, o2_coefficients_map):\n",
    "    Tflag = False\n",
    "    O2flag = False\n",
    "    coefficients = {}\n",
    "    date = None\n",
    "        \n",
    "    for child in data.iter():\n",
    "        key = child.tag.upper()\n",
    "        value = child.text.upper()\n",
    "        \n",
    "        # Do a couple of checks for type of CTD and flag for presence of\n",
    "        # Oxygen sensor, Type (16+ vs 37)\n",
    "        if key == 'OXYGENSENSOR':\n",
    "            O2flag = True\n",
    "        \n",
    "        if key == 'CALIBRATIONDATE':\n",
    "            if date is None and value is not None:\n",
    "                date = datetime.datetime.strptime(value, '%d-%b-%y').strftime('%Y%m%d')\n",
    "            \n",
    "        # Have to rename the temperature keys to 'T'+key because fuck it, nothing is straightforward\n",
    "        if key == 'TEMPERATURESENSOR':\n",
    "            Tflag = True\n",
    "        elif 'SENSOR' in key and Tflag == True:\n",
    "            Tflag = False\n",
    "        else:\n",
    "            pass\n",
    "        \n",
    "        if Tflag == True:\n",
    "            key = 'T'+key\n",
    "        \n",
    "        # Find the mapping of the vendor coeff name -> UFrame coefficient name\n",
    "        try:\n",
    "            name = coefficient_name_map.get(key)\n",
    "        except:\n",
    "            if O2flag == True:\n",
    "                try:\n",
    "                    name = o2_coefficients_map.get(key)\n",
    "                except:\n",
    "                    pass\n",
    "            else:\n",
    "                pass\n",
    "\n",
    "        # Now, can update a dictionary to store key->value pairs of coefficients from the xmlcon file    \n",
    "        coefficients.update({name:value})\n",
    "        \n",
    "    return coefficients,date"
   ]
  },
  {
   "cell_type": "code",
   "execution_count": 55,
   "metadata": {},
   "outputs": [
    {
     "data": {
      "text/plain": [
       "{'CGINS-CTDBPF-50001': '50001',\n",
       " 'CGINS-CTDBPF-50060': '50060',\n",
       " 'CGINS-CTDBPF-50061': '50061',\n",
       " 'CGINS-CTDBPF-50062': '50062',\n",
       " 'CGINS-CTDBPF-50065': '50065',\n",
       " 'CGINS-CTDBPF-50116': '50116',\n",
       " 'CGINS-CTDBPF-50142': '50142',\n",
       " 'CGINS-CTDBPF-50143': '50143'}"
      ]
     },
     "execution_count": 55,
     "metadata": {},
     "output_type": "execute_result"
    }
   ],
   "source": [
    "serial_nums"
   ]
  },
  {
   "cell_type": "code",
   "execution_count": 107,
   "metadata": {},
   "outputs": [],
   "source": [
    "vendor_files = {}\n",
    "for uid,sn in serial_nums.items():\n",
    "    files = []\n",
    "    for file in os.listdir('../../../../Documents/Project_Files/Records/Instrument_Records/CTDBP/'):\n",
    "        if sn in file:\n",
    "            if 'Calibration_File' in file:\n",
    "                files.append(file)\n",
    "            else:\n",
    "                pass\n",
    "        else:\n",
    "            pass\n",
    "    vendor_files.update({uid:files})"
   ]
  },
  {
   "cell_type": "code",
   "execution_count": 108,
   "metadata": {},
   "outputs": [
    {
     "data": {
      "text/plain": [
       "{'CGINS-CTDBPF-50001': ['CTDBP-F_SBE_16PlusV2_SN_16-50001_Calibration_Files.zip',\n",
       "  'CTDBP-F_SBE_16PlusV2_SN_16-50001_Calibration_Files_2016-03-31.zip',\n",
       "  'CTDBP-F_SBE_16PlusV2_SN_16-50001_Calibration_Files_2017-09-29.zip'],\n",
       " 'CGINS-CTDBPF-50060': ['CTDBP-F_SBE_16PlusV2_SN_16-50060_Calibration_Files_2014-10-15.zip',\n",
       "  'CTDBP-F_SBE_16PlusV2_SN_16-50060_Calibration_Files_2016-05-02.zip'],\n",
       " 'CGINS-CTDBPF-50061': ['CTDBP-F_SBE_16PlusV2_SN_16-50061_Calibration_Files_2014-10-15.zip',\n",
       "  'CTDBP-F_SBE_16plusV2_SN_16-50061_Calibration_Files_2016-10-21.zip'],\n",
       " 'CGINS-CTDBPF-50062': ['CTDBP-F_SBE_16PlusV2_SN_16-50062_Calibration_Files_2014-10-15.zip',\n",
       "  'CTDBP-F_SBE_16PlusV2_SN_16-50062_Calibration_Files_2016-05-11.zip',\n",
       "  'CTDBP-F_SBE_16PlusV2_SN_16-50062_Calibration_Files_2018-04-14.zip'],\n",
       " 'CGINS-CTDBPF-50065': ['CTDBP-F_SBE_16PlusV2_SN_16-50065_Calibration_Files_2014-10-15.zip',\n",
       "  'CTDBP-F_SBE_16PlusV2_SN_16-50065_Calibration_Files_2015-12-08.zip',\n",
       "  'CTDBP-F_SBE_16plusV2_SN_16-50065_Calibration_File_2015-10-28.xmlcon'],\n",
       " 'CGINS-CTDBPF-50116': ['CTDBP-F_SBE_16PlusV2_SN_16-50116_Calibration_Files_2015-05-18.pdf',\n",
       "  'CTDBP-F_SBE_16PlusV2_SN_16-50116_Calibration_Files_2017-03-12.zip'],\n",
       " 'CGINS-CTDBPF-50142': ['CTDBP-F_SBE_16PlusV2_SN_16-50142_Calibration_Files_2015-07-01.zip',\n",
       "  'CTDBP-F_SBE_16PlusV2_SN_16-50142_Calibration_Files_2017-03-12.zip',\n",
       "  'CTDBP-F_SBE_16PlusV2_SN_16-50142_Calibration_Files_2018-10-05.zip'],\n",
       " 'CGINS-CTDBPF-50143': ['CTDBP-F_SBE_16PlusV2_SN_16-50143_Calibration_Files_2015-07-01.zip',\n",
       "  'CTDBP-F_SBE_16PlusV2_SN_16-50143_Calibration_Files_2018-05-02.zip']}"
      ]
     },
     "execution_count": 108,
     "metadata": {},
     "output_type": "execute_result"
    }
   ],
   "source": [
    "vendor_files"
   ]
  },
  {
   "cell_type": "code",
   "execution_count": 131,
   "metadata": {},
   "outputs": [],
   "source": [
    "def load_cal_coeffs(files,filepath, coefficient_name_map, o2_coefficients_map):\n",
    "    \"\"\"\n",
    "    Loads all of the calibration coefficients from the vendor cal files for\n",
    "    a given CTD instrument class.\n",
    "    \n",
    "    Args:\n",
    "        files - a list of zipfile names containing the vendor calibration files\n",
    "        filepath - directory path to where the zipfiles are stored locally\n",
    "        coefficient_name_map - a mapping of the calibration names in the vendor file\n",
    "            to the calibration coeff names needed for OOINet\n",
    "        o2_coefficients_map - mapping for CTDs containing an oxygen sensor\n",
    "    Returns:\n",
    "        cal_coeffs - a dictionary of the calibration coefficients with the respective\n",
    "            values, nested in a dictionary sorted by calibration date\n",
    "    \"\"\"\n",
    "    cal_coeffs = {}\n",
    "    missing = []\n",
    "    for file in files:\n",
    "        fpath = filepath+file\n",
    "        if fpath.endswith('.pdf'):\n",
    "            missing.append(file)\n",
    "            print(f\"Vendor documents for file {file} only available as pdf.\")\n",
    "        elif fpath.endswith('.cal'):\n",
    "            data = file.read()\n",
    "            coeffs, date = read_cal(data, coefficient_name_map)\n",
    "            cal_coeffs.update({date:coeffs})\n",
    "        elif fpath.endswith('.zip'):\n",
    "            with ZipFile(fpath) as zfile:\n",
    "                if any('.cal' in x for x in zfile.namelist()):\n",
    "                    findex, *ignore = [(i,x) for i,x in enumerate(zfile.namelist()) if '.cal' in x][0]\n",
    "                    filename = zfile.namelist()[findex]\n",
    "                    data = zfile.read(filename).decode('ASCII')\n",
    "                    coeffs, date = read_cal(data, coefficient_name_map)\n",
    "                    cal_coeffs.update({date:coeffs})\n",
    "                else:\n",
    "                    missing.append(file)\n",
    "        else:\n",
    "            missing.append(file)\n",
    "            print(f\"No vendor documents found for file {file}.\")\n",
    "\n",
    "    return cal_coeffs, missing\n"
   ]
  },
  {
   "cell_type": "code",
   "execution_count": 132,
   "metadata": {},
   "outputs": [
    {
     "data": {
      "text/plain": [
       "{'CGINS-CTDBPF-50001': ['CTDBP-F_SBE_16PlusV2_SN_16-50001_Calibration_Files.zip',\n",
       "  'CTDBP-F_SBE_16PlusV2_SN_16-50001_Calibration_Files_2016-03-31.zip',\n",
       "  'CTDBP-F_SBE_16PlusV2_SN_16-50001_Calibration_Files_2017-09-29.zip'],\n",
       " 'CGINS-CTDBPF-50060': ['CTDBP-F_SBE_16PlusV2_SN_16-50060_Calibration_Files_2014-10-15.zip',\n",
       "  'CTDBP-F_SBE_16PlusV2_SN_16-50060_Calibration_Files_2016-05-02.zip'],\n",
       " 'CGINS-CTDBPF-50061': ['CTDBP-F_SBE_16PlusV2_SN_16-50061_Calibration_Files_2014-10-15.zip',\n",
       "  'CTDBP-F_SBE_16plusV2_SN_16-50061_Calibration_Files_2016-10-21.zip'],\n",
       " 'CGINS-CTDBPF-50062': ['CTDBP-F_SBE_16PlusV2_SN_16-50062_Calibration_Files_2014-10-15.zip',\n",
       "  'CTDBP-F_SBE_16PlusV2_SN_16-50062_Calibration_Files_2016-05-11.zip',\n",
       "  'CTDBP-F_SBE_16PlusV2_SN_16-50062_Calibration_Files_2018-04-14.zip'],\n",
       " 'CGINS-CTDBPF-50065': ['CTDBP-F_SBE_16PlusV2_SN_16-50065_Calibration_Files_2014-10-15.zip',\n",
       "  'CTDBP-F_SBE_16PlusV2_SN_16-50065_Calibration_Files_2015-12-08.zip',\n",
       "  'CTDBP-F_SBE_16plusV2_SN_16-50065_Calibration_File_2015-10-28.xmlcon'],\n",
       " 'CGINS-CTDBPF-50116': ['CTDBP-F_SBE_16PlusV2_SN_16-50116_Calibration_Files_2015-05-18.pdf',\n",
       "  'CTDBP-F_SBE_16PlusV2_SN_16-50116_Calibration_Files_2017-03-12.zip'],\n",
       " 'CGINS-CTDBPF-50142': ['CTDBP-F_SBE_16PlusV2_SN_16-50142_Calibration_Files_2015-07-01.zip',\n",
       "  'CTDBP-F_SBE_16PlusV2_SN_16-50142_Calibration_Files_2017-03-12.zip',\n",
       "  'CTDBP-F_SBE_16PlusV2_SN_16-50142_Calibration_Files_2018-10-05.zip'],\n",
       " 'CGINS-CTDBPF-50143': ['CTDBP-F_SBE_16PlusV2_SN_16-50143_Calibration_Files_2015-07-01.zip',\n",
       "  'CTDBP-F_SBE_16PlusV2_SN_16-50143_Calibration_Files_2018-05-02.zip']}"
      ]
     },
     "execution_count": 132,
     "metadata": {},
     "output_type": "execute_result"
    }
   ],
   "source": [
    "vendor_files"
   ]
  },
  {
   "cell_type": "code",
   "execution_count": 133,
   "metadata": {},
   "outputs": [
    {
     "name": "stdout",
     "output_type": "stream",
     "text": [
      "No vendor documents found for file CTDBP-F_SBE_16plusV2_SN_16-50065_Calibration_File_2015-10-28.xmlcon.\n",
      "Vendor documents for file CTDBP-F_SBE_16PlusV2_SN_16-50116_Calibration_Files_2015-05-18.pdf only available as pdf.\n"
     ]
    }
   ],
   "source": [
    "cal = {}\n",
    "cal_missing = {}\n",
    "filepath = '../../../../Documents/Project_Files/Records/Instrument_Records/CTDBP/'\n",
    "for uid,files in vendor_files.items():\n",
    "    cal_coeffs, missing = load_cal_coeffs(files,filepath,coefficient_name_map,o2_coefficients_map)\n",
    "    cal_df = pd.DataFrame.from_dict({i: cal_coeffs[i] for i in cal_coeffs.keys()}, orient='index')\n",
    "    cal_df.index = pd.to_datetime(cal_df.index)\n",
    "    cal.update({uid:cal_df})\n",
    "    cal_missing.update({uid:missing})"
   ]
  },
  {
   "cell_type": "code",
   "execution_count": 134,
   "metadata": {},
   "outputs": [
    {
     "data": {
      "text/plain": [
       "{'CGINS-CTDBPF-50001':                     CC_a0          CC_a1           CC_a2          CC_a3  \\\n",
       " 2014-01-16  1.251523e-003  2.750386e-004  -1.055218e-006  1.775094e-007   \n",
       " 2015-12-30  1.247330e-003  2.764855e-004  -1.221744e-006  1.839354e-007   \n",
       " \n",
       "                       CC_g           CC_h            CC_i           CC_j  \\\n",
       " 2014-01-16  -9.847879e-001  1.370732e-001  -2.079871e-004  3.337904e-005   \n",
       " 2015-12-30  -9.853204e-001  1.372063e-001  -2.359660e-004  3.576452e-005   \n",
       " \n",
       "                  CC_ctcor        CC_cpcor       ...                CC_pa2  \\\n",
       " 2014-01-16  3.250000e-006  -9.570000e-008       ...        -1.079218e-011   \n",
       " 2015-12-30  3.250000e-006  -9.570000e-008       ...        -6.567602e-012   \n",
       " \n",
       "                  CC_ptca0       CC_ptca1        CC_ptca2       CC_ptcb0  \\\n",
       " 2014-01-16  5.253532e+005  4.123545e+000  -1.812588e-001  2.513313e+001   \n",
       " 2015-12-30  5.254967e+005  7.572756e+000  -2.463131e-001  2.513313e+001   \n",
       " \n",
       "                  CC_ptcb1       CC_ptcb2      CC_ptempa0     CC_ptempa1  \\\n",
       " 2014-01-16  2.500000e-005  0.000000e+000  -5.932189e+001  5.450369e+001   \n",
       " 2015-12-30  2.500000e-005  0.000000e+000  -5.932173e+001  5.450363e+001   \n",
       " \n",
       "                 CC_ptempa2  \n",
       " 2014-01-16  -5.221239e-001  \n",
       " 2015-12-30  -5.221451e-001  \n",
       " \n",
       " [2 rows x 22 columns],\n",
       " 'CGINS-CTDBPF-50060':                     CC_a0          CC_a1           CC_a2          CC_a3  \\\n",
       " 2014-09-20  1.242662e-003  2.741985e-004  -8.613106e-007  1.714459e-007   \n",
       " \n",
       "                       CC_g           CC_h            CC_i           CC_j  \\\n",
       " 2014-09-20  -9.854186e-001  1.489361e-001  -2.422111e-004  3.944113e-005   \n",
       " \n",
       "                  CC_ctcor        CC_cpcor       ...                CC_pa2  \\\n",
       " 2014-09-20  3.250000e-006  -9.570000e-008       ...        -4.834738e-012   \n",
       " \n",
       "                  CC_ptca0       CC_ptca1        CC_ptca2       CC_ptcb0  \\\n",
       " 2014-09-20  5.241873e+005  5.096894e+000  -2.363472e-001  2.494300e+001   \n",
       " \n",
       "                  CC_ptcb1       CC_ptcb2      CC_ptempa0     CC_ptempa1  \\\n",
       " 2014-09-20  2.000000e-004  0.000000e+000  -6.310504e+001  5.290863e+001   \n",
       " \n",
       "                 CC_ptempa2  \n",
       " 2014-09-20  -4.745201e-001  \n",
       " \n",
       " [1 rows x 22 columns],\n",
       " 'CGINS-CTDBPF-50061':                     CC_a0          CC_a1           CC_a2          CC_a3  \\\n",
       " 2014-09-19  1.239890e-003  2.812243e-004  -2.035512e-006  2.171960e-007   \n",
       " \n",
       "                       CC_g           CC_h            CC_i           CC_j  \\\n",
       " 2014-09-19  -9.743689e-001  1.525839e-001  -2.043709e-004  3.776429e-005   \n",
       " \n",
       "                  CC_ctcor        CC_cpcor       ...                CC_pa2  \\\n",
       " 2014-09-19  3.250000e-006  -9.570000e-008       ...        -5.194193e-012   \n",
       " \n",
       "                  CC_ptca0       CC_ptca1        CC_ptca2       CC_ptcb0  \\\n",
       " 2014-09-19  5.245937e+005  6.869682e+000  -2.093598e-001  2.494488e+001   \n",
       " \n",
       "                  CC_ptcb1       CC_ptcb2      CC_ptempa0     CC_ptempa1  \\\n",
       " 2014-09-19  1.750000e-004  0.000000e+000  -6.719514e+001  5.385675e+001   \n",
       " \n",
       "                 CC_ptempa2  \n",
       " 2014-09-19  -6.133229e-001  \n",
       " \n",
       " [1 rows x 22 columns],\n",
       " 'CGINS-CTDBPF-50062':                     CC_a0          CC_a1           CC_a2          CC_a3  \\\n",
       " 2014-09-19  1.225591e-003  2.808447e-004  -1.798402e-006  2.130059e-007   \n",
       " 2016-03-09  1.240455e-003  2.751691e-004  -1.080498e-006  1.829387e-007   \n",
       " 2018-04-14  1.235085e-003  2.772567e-004  -1.350229e-006  1.944979e-007   \n",
       " \n",
       "                       CC_g           CC_h            CC_i           CC_j  \\\n",
       " 2014-09-19  -9.843822e-001  1.396164e-001  -1.484070e-004  2.967161e-005   \n",
       " 2016-03-09  -9.838273e-001  1.394294e-001  -1.052130e-004  2.753998e-005   \n",
       " 2018-04-14  -9.838002e-001  1.394465e-001  -1.192041e-004  2.954769e-005   \n",
       " \n",
       "                  CC_ctcor        CC_cpcor       ...                CC_pa2  \\\n",
       " 2014-09-19  3.250000e-006  -9.570000e-008       ...        -6.734723e-012   \n",
       " 2016-03-09  3.250000e-006  -9.570000e-008       ...        -6.641159e-012   \n",
       " 2018-04-14  3.250000e-006  -9.570000e-008       ...        -6.300779e-012   \n",
       " \n",
       "                  CC_ptca0       CC_ptca1        CC_ptca2       CC_ptcb0  \\\n",
       " 2014-09-19  5.252999e+005  3.844535e+001  -7.660244e-001  2.480937e+001   \n",
       " 2016-03-09  5.254030e+005  4.065394e+001  -8.181058e-001  2.480937e+001   \n",
       " 2018-04-14  5.254184e+005  4.114356e+001  -8.431185e-001  2.480937e+001   \n",
       " \n",
       "                  CC_ptcb1       CC_ptcb2      CC_ptempa0     CC_ptempa1  \\\n",
       " 2014-09-19  6.750000e-004  0.000000e+000  -6.524563e+001  5.169195e+001   \n",
       " 2016-03-09  6.750000e-004  0.000000e+000  -6.542034e+001  5.186271e+001   \n",
       " 2018-04-14  6.750000e-004  0.000000e+000  -6.529686e+001  5.169223e+001   \n",
       " \n",
       "                 CC_ptempa2  \n",
       " 2014-09-19  -2.846475e-001  \n",
       " 2016-03-09  -3.255374e-001  \n",
       " 2018-04-14  -2.846411e-001  \n",
       " \n",
       " [3 rows x 22 columns],\n",
       " 'CGINS-CTDBPF-50065':                     CC_a0          CC_a1           CC_a2          CC_a3  \\\n",
       " 2014-09-19  1.243392e-003  2.755739e-004  -1.140020e-006  1.830118e-007   \n",
       " 2015-10-28  1.243067e-003  2.757789e-004  -1.178609e-006  1.852142e-007   \n",
       " \n",
       "                       CC_g           CC_h            CC_i           CC_j  \\\n",
       " 2014-09-19  -9.847487e-001  1.523212e-001  -1.992144e-004  3.711031e-005   \n",
       " 2015-10-28  -9.849522e-001  1.523263e-001  -1.922527e-004  3.699211e-005   \n",
       " \n",
       "                  CC_ctcor        CC_cpcor       ...                CC_pa2  \\\n",
       " 2014-09-19  3.250000e-006  -9.570000e-008       ...        -6.357806e-012   \n",
       " 2015-10-28  3.250000e-006  -9.570000e-008       ...        -6.655009e-012   \n",
       " \n",
       "                  CC_ptca0       CC_ptca1        CC_ptca2       CC_ptcb0  \\\n",
       " 2014-09-19  5.248386e+005  1.041255e+002  -2.061691e+000  2.500738e+001   \n",
       " 2015-10-28  5.249557e+005  1.009189e+002  -2.065729e+000  2.500738e+001   \n",
       " \n",
       "                   CC_ptcb1       CC_ptcb2      CC_ptempa0     CC_ptempa1  \\\n",
       " 2014-09-19  -1.325000e-003  0.000000e+000  -6.662534e+001  5.111636e+001   \n",
       " 2015-10-28  -1.325000e-003  0.000000e+000  -6.599618e+001  5.033480e+001   \n",
       " \n",
       "                 CC_ptempa2  \n",
       " 2014-09-19  -2.550417e-001  \n",
       " 2015-10-28  -3.195989e-002  \n",
       " \n",
       " [2 rows x 22 columns],\n",
       " 'CGINS-CTDBPF-50116': Empty DataFrame\n",
       " Columns: []\n",
       " Index: [],\n",
       " 'CGINS-CTDBPF-50142':                     CC_a0          CC_a1           CC_a2          CC_a3  \\\n",
       " 2018-10-05  1.250743e-003  2.729980e-004  -8.672512e-007  1.722119e-007   \n",
       " \n",
       "                       CC_g           CC_h            CC_i           CC_j  \\\n",
       " 2018-10-05  -1.001339e+000  1.549455e-001  -1.633388e-004  3.716101e-005   \n",
       " \n",
       "                  CC_ctcor        CC_cpcor       ...                CC_pa2  \\\n",
       " 2018-10-05  3.250000e-006  -9.570000e-008       ...        -3.215211e-012   \n",
       " \n",
       "                  CC_ptca0        CC_ptca1       CC_ptca2       CC_ptcb0  \\\n",
       " 2018-10-05  5.245713e+005  -6.453360e+000  1.189820e-002  2.524618e+001   \n",
       " \n",
       "                   CC_ptcb1       CC_ptcb2      CC_ptempa0     CC_ptempa1  \\\n",
       " 2018-10-05  -5.764411e-004  0.000000e+000  -5.590677e+001  5.460593e+001   \n",
       " \n",
       "                 CC_ptempa2  \n",
       " 2018-10-05  -5.909725e-001  \n",
       " \n",
       " [1 rows x 22 columns],\n",
       " 'CGINS-CTDBPF-50143': Empty DataFrame\n",
       " Columns: []\n",
       " Index: []}"
      ]
     },
     "execution_count": 134,
     "metadata": {},
     "output_type": "execute_result"
    }
   ],
   "source": [
    "cal"
   ]
  },
  {
   "cell_type": "code",
   "execution_count": 135,
   "metadata": {},
   "outputs": [
    {
     "data": {
      "text/plain": [
       "{'CGINS-CTDBPF-50001': ['CTDBP-F_SBE_16PlusV2_SN_16-50001_Calibration_Files_2017-09-29.zip'],\n",
       " 'CGINS-CTDBPF-50060': ['CTDBP-F_SBE_16PlusV2_SN_16-50060_Calibration_Files_2016-05-02.zip'],\n",
       " 'CGINS-CTDBPF-50061': ['CTDBP-F_SBE_16plusV2_SN_16-50061_Calibration_Files_2016-10-21.zip'],\n",
       " 'CGINS-CTDBPF-50062': [],\n",
       " 'CGINS-CTDBPF-50065': ['CTDBP-F_SBE_16plusV2_SN_16-50065_Calibration_File_2015-10-28.xmlcon'],\n",
       " 'CGINS-CTDBPF-50116': ['CTDBP-F_SBE_16PlusV2_SN_16-50116_Calibration_Files_2015-05-18.pdf',\n",
       "  'CTDBP-F_SBE_16PlusV2_SN_16-50116_Calibration_Files_2017-03-12.zip'],\n",
       " 'CGINS-CTDBPF-50142': ['CTDBP-F_SBE_16PlusV2_SN_16-50142_Calibration_Files_2015-07-01.zip',\n",
       "  'CTDBP-F_SBE_16PlusV2_SN_16-50142_Calibration_Files_2017-03-12.zip'],\n",
       " 'CGINS-CTDBPF-50143': ['CTDBP-F_SBE_16PlusV2_SN_16-50143_Calibration_Files_2015-07-01.zip',\n",
       "  'CTDBP-F_SBE_16PlusV2_SN_16-50143_Calibration_Files_2018-05-02.zip']}"
      ]
     },
     "execution_count": 135,
     "metadata": {},
     "output_type": "execute_result"
    }
   ],
   "source": [
    "cal_missing"
   ]
  },
  {
   "cell_type": "code",
   "execution_count": 140,
   "metadata": {},
   "outputs": [
    {
     "data": {
      "text/plain": [
       "'CTDBP-F_SBE_16PlusV2_SN_16-50001_Calibration_Files_2017-09-29.zip'"
      ]
     },
     "execution_count": 140,
     "metadata": {},
     "output_type": "execute_result"
    }
   ],
   "source": [
    "# Development for when zipfile contains folders\n",
    "file = cal_missing['CGINS-CTDBPF-50001'][0]\n",
    "file"
   ]
  },
  {
   "cell_type": "code",
   "execution_count": 143,
   "metadata": {},
   "outputs": [
    {
     "ename": "TypeError",
     "evalue": "expected str, bytes or os.PathLike object, not ZipFile",
     "output_type": "error",
     "traceback": [
      "\u001b[0;31m---------------------------------------------------------------------------\u001b[0m",
      "\u001b[0;31mTypeError\u001b[0m                                 Traceback (most recent call last)",
      "\u001b[0;32m<ipython-input-143-c7734ac409e0>\u001b[0m in \u001b[0;36m<module>\u001b[0;34m\u001b[0m\n\u001b[1;32m      1\u001b[0m \u001b[0;32mwith\u001b[0m \u001b[0mZipFile\u001b[0m\u001b[0;34m(\u001b[0m\u001b[0mfilepath\u001b[0m\u001b[0;34m+\u001b[0m\u001b[0mfile\u001b[0m\u001b[0;34m)\u001b[0m \u001b[0;32mas\u001b[0m \u001b[0mzfile\u001b[0m\u001b[0;34m:\u001b[0m\u001b[0;34m\u001b[0m\u001b[0;34m\u001b[0m\u001b[0m\n\u001b[0;32m----> 2\u001b[0;31m     \u001b[0;32mfor\u001b[0m \u001b[0mroots\u001b[0m\u001b[0;34m,\u001b[0m \u001b[0mdirs\u001b[0m\u001b[0;34m,\u001b[0m \u001b[0mfiles\u001b[0m \u001b[0;32min\u001b[0m \u001b[0mos\u001b[0m\u001b[0;34m.\u001b[0m\u001b[0mwalk\u001b[0m\u001b[0;34m(\u001b[0m\u001b[0mzfile\u001b[0m\u001b[0;34m)\u001b[0m\u001b[0;34m:\u001b[0m\u001b[0;34m\u001b[0m\u001b[0;34m\u001b[0m\u001b[0m\n\u001b[0m\u001b[1;32m      3\u001b[0m         \u001b[0mprint\u001b[0m\u001b[0;34m(\u001b[0m\u001b[0mdirs\u001b[0m\u001b[0;34m)\u001b[0m\u001b[0;34m\u001b[0m\u001b[0;34m\u001b[0m\u001b[0m\n",
      "\u001b[0;32m~/anaconda3/lib/python3.7/os.py\u001b[0m in \u001b[0;36mwalk\u001b[0;34m(top, topdown, onerror, followlinks)\u001b[0m\n\u001b[1;32m    334\u001b[0m \u001b[0;34m\u001b[0m\u001b[0m\n\u001b[1;32m    335\u001b[0m     \"\"\"\n\u001b[0;32m--> 336\u001b[0;31m     \u001b[0mtop\u001b[0m \u001b[0;34m=\u001b[0m \u001b[0mfspath\u001b[0m\u001b[0;34m(\u001b[0m\u001b[0mtop\u001b[0m\u001b[0;34m)\u001b[0m\u001b[0;34m\u001b[0m\u001b[0;34m\u001b[0m\u001b[0m\n\u001b[0m\u001b[1;32m    337\u001b[0m     \u001b[0mdirs\u001b[0m \u001b[0;34m=\u001b[0m \u001b[0;34m[\u001b[0m\u001b[0;34m]\u001b[0m\u001b[0;34m\u001b[0m\u001b[0;34m\u001b[0m\u001b[0m\n\u001b[1;32m    338\u001b[0m     \u001b[0mnondirs\u001b[0m \u001b[0;34m=\u001b[0m \u001b[0;34m[\u001b[0m\u001b[0;34m]\u001b[0m\u001b[0;34m\u001b[0m\u001b[0;34m\u001b[0m\u001b[0m\n",
      "\u001b[0;31mTypeError\u001b[0m: expected str, bytes or os.PathLike object, not ZipFile"
     ]
    }
   ],
   "source": [
    "with ZipFile(filepath+file) as zfile:\n",
    "    for roots, dirs, files in os.walk(zfile):\n",
    "        print(dirs)"
   ]
  },
  {
   "cell_type": "code",
   "execution_count": 160,
   "metadata": {},
   "outputs": [
    {
     "ename": "FileNotFoundError",
     "evalue": "[Errno 2] No such file or directory: '../../../../Documents/Project_Files/Records/Instrument_Records/CTDBP/CTDBP-F_SBE_16PlusV2_SN_16-50001_Calibration_Files_2017-09-29/SERVICE REPORT 1005502717.pdf'",
     "output_type": "error",
     "traceback": [
      "\u001b[0;31m---------------------------------------------------------------------------\u001b[0m",
      "\u001b[0;31mFileNotFoundError\u001b[0m                         Traceback (most recent call last)",
      "\u001b[0;32m<ipython-input-160-d05a67d6e68c>\u001b[0m in \u001b[0;36m<module>\u001b[0;34m\u001b[0m\n\u001b[0;32m----> 1\u001b[0;31m \u001b[0;32mwith\u001b[0m \u001b[0mZipFile\u001b[0m\u001b[0;34m(\u001b[0m\u001b[0mfilepath\u001b[0m\u001b[0;34m+\u001b[0m\u001b[0mfile\u001b[0m\u001b[0;34m)\u001b[0m \u001b[0;32mas\u001b[0m \u001b[0mzfile\u001b[0m\u001b[0;34m:\u001b[0m\u001b[0;34m\u001b[0m\u001b[0;34m\u001b[0m\u001b[0m\n\u001b[0m\u001b[1;32m      2\u001b[0m     \u001b[0mzdata\u001b[0m \u001b[0;34m=\u001b[0m \u001b[0mzfile\u001b[0m\u001b[0;34m.\u001b[0m\u001b[0mextract\u001b[0m\u001b[0;34m(\u001b[0m\u001b[0;34m)\u001b[0m\u001b[0;34m\u001b[0m\u001b[0;34m\u001b[0m\u001b[0m\n",
      "\u001b[0;32m~/anaconda3/lib/python3.7/zipfile.py\u001b[0m in \u001b[0;36m__init__\u001b[0;34m(self, file, mode, compression, allowZip64, compresslevel)\u001b[0m\n\u001b[1;32m   1202\u001b[0m             \u001b[0;32mwhile\u001b[0m \u001b[0;32mTrue\u001b[0m\u001b[0;34m:\u001b[0m\u001b[0;34m\u001b[0m\u001b[0;34m\u001b[0m\u001b[0m\n\u001b[1;32m   1203\u001b[0m                 \u001b[0;32mtry\u001b[0m\u001b[0;34m:\u001b[0m\u001b[0;34m\u001b[0m\u001b[0;34m\u001b[0m\u001b[0m\n\u001b[0;32m-> 1204\u001b[0;31m                     \u001b[0mself\u001b[0m\u001b[0;34m.\u001b[0m\u001b[0mfp\u001b[0m \u001b[0;34m=\u001b[0m \u001b[0mio\u001b[0m\u001b[0;34m.\u001b[0m\u001b[0mopen\u001b[0m\u001b[0;34m(\u001b[0m\u001b[0mfile\u001b[0m\u001b[0;34m,\u001b[0m \u001b[0mfilemode\u001b[0m\u001b[0;34m)\u001b[0m\u001b[0;34m\u001b[0m\u001b[0;34m\u001b[0m\u001b[0m\n\u001b[0m\u001b[1;32m   1205\u001b[0m                 \u001b[0;32mexcept\u001b[0m \u001b[0mOSError\u001b[0m\u001b[0;34m:\u001b[0m\u001b[0;34m\u001b[0m\u001b[0;34m\u001b[0m\u001b[0m\n\u001b[1;32m   1206\u001b[0m                     \u001b[0;32mif\u001b[0m \u001b[0mfilemode\u001b[0m \u001b[0;32min\u001b[0m \u001b[0mmodeDict\u001b[0m\u001b[0;34m:\u001b[0m\u001b[0;34m\u001b[0m\u001b[0;34m\u001b[0m\u001b[0m\n",
      "\u001b[0;31mFileNotFoundError\u001b[0m: [Errno 2] No such file or directory: '../../../../Documents/Project_Files/Records/Instrument_Records/CTDBP/CTDBP-F_SBE_16PlusV2_SN_16-50001_Calibration_Files_2017-09-29/SERVICE REPORT 1005502717.pdf'"
     ]
    }
   ],
   "source": [
    "with ZipFile(filepath+file) as zfile:\n",
    "    zfi"
   ]
  },
  {
   "cell_type": "code",
   "execution_count": 165,
   "metadata": {},
   "outputs": [
    {
     "name": "stdout",
     "output_type": "stream",
     "text": [
      "True\n",
      "False\n",
      "False\n",
      "False\n",
      "True\n",
      "False\n",
      "True\n",
      "False\n",
      "False\n"
     ]
    }
   ],
   "source": [
    "for name in zfile.namelist():\n",
    "    zinfo = zfile.getinfo(name)\n",
    "    print(zinfo.is_dir())"
   ]
  },
  {
   "cell_type": "code",
   "execution_count": 116,
   "metadata": {},
   "outputs": [
    {
     "name": "stdout",
     "output_type": "stream",
     "text": [
      "CGINS-CTDBPF-50001: ['CTDBP-F_SBE_16PlusV2_SN_16-50001_Calibration_Files.zip', 'CTDBP-F_SBE_16PlusV2_SN_16-50001_Calibration_Files_2016-03-31.zip', 'CTDBP-F_SBE_16PlusV2_SN_16-50001_Calibration_Files_2017-09-29.zip']\n",
      "CGINS-CTDBPF-50060: ['CTDBP-F_SBE_16PlusV2_SN_16-50060_Calibration_Files_2014-10-15.zip', 'CTDBP-F_SBE_16PlusV2_SN_16-50060_Calibration_Files_2016-05-02.zip']\n",
      "CGINS-CTDBPF-50061: ['CTDBP-F_SBE_16PlusV2_SN_16-50061_Calibration_Files_2014-10-15.zip', 'CTDBP-F_SBE_16plusV2_SN_16-50061_Calibration_Files_2016-10-21.zip']\n",
      "CGINS-CTDBPF-50062: ['CTDBP-F_SBE_16PlusV2_SN_16-50062_Calibration_Files_2014-10-15.zip', 'CTDBP-F_SBE_16PlusV2_SN_16-50062_Calibration_Files_2016-05-11.zip', 'CTDBP-F_SBE_16PlusV2_SN_16-50062_Calibration_Files_2018-04-14.zip']\n",
      "CGINS-CTDBPF-50065: ['CTDBP-F_SBE_16PlusV2_SN_16-50065_Calibration_Files_2014-10-15.zip', 'CTDBP-F_SBE_16PlusV2_SN_16-50065_Calibration_Files_2015-12-08.zip', 'CTDBP-F_SBE_16plusV2_SN_16-50065_Calibration_File_2015-10-28.xmlcon']\n",
      "CGINS-CTDBPF-50116: ['CTDBP-F_SBE_16PlusV2_SN_16-50116_Calibration_Files_2015-05-18.pdf', 'CTDBP-F_SBE_16PlusV2_SN_16-50116_Calibration_Files_2017-03-12.zip']\n",
      "CGINS-CTDBPF-50142: ['CTDBP-F_SBE_16PlusV2_SN_16-50142_Calibration_Files_2015-07-01.zip', 'CTDBP-F_SBE_16PlusV2_SN_16-50142_Calibration_Files_2017-03-12.zip', 'CTDBP-F_SBE_16PlusV2_SN_16-50142_Calibration_Files_2018-10-05.zip']\n",
      "CGINS-CTDBPF-50143: ['CTDBP-F_SBE_16PlusV2_SN_16-50143_Calibration_Files_2015-07-01.zip', 'CTDBP-F_SBE_16PlusV2_SN_16-50143_Calibration_Files_2018-05-02.zip']\n"
     ]
    }
   ],
   "source": [
    "for uid,files in vendor_files.items():\n",
    "    print(uid + \": \" + str(files))"
   ]
  },
  {
   "cell_type": "code",
   "execution_count": 103,
   "metadata": {},
   "outputs": [
    {
     "data": {
      "text/plain": [
       "{'CGINS-CTDBPF-50001':                     CC_a0          CC_a1           CC_a2          CC_a3  \\\n",
       " 2014-01-16  1.251523e-003  2.750386e-004  -1.055218e-006  1.775094e-007   \n",
       " \n",
       "                       CC_g           CC_h            CC_i           CC_j  \\\n",
       " 2014-01-16  -9.847879e-001  1.370732e-001  -2.079871e-004  3.337904e-005   \n",
       " \n",
       "                  CC_ctcor        CC_cpcor       ...                CC_pa2  \\\n",
       " 2014-01-16  3.250000e-006  -9.570000e-008       ...        -1.079218e-011   \n",
       " \n",
       "                  CC_ptca0       CC_ptca1        CC_ptca2       CC_ptcb0  \\\n",
       " 2014-01-16  5.253532e+005  4.123545e+000  -1.812588e-001  2.513313e+001   \n",
       " \n",
       "                  CC_ptcb1       CC_ptcb2      CC_ptempa0     CC_ptempa1  \\\n",
       " 2014-01-16  2.500000e-005  0.000000e+000  -5.932189e+001  5.450369e+001   \n",
       " \n",
       "                 CC_ptempa2  \n",
       " 2014-01-16  -5.221239e-001  \n",
       " \n",
       " [1 rows x 22 columns],\n",
       " 'CGINS-CTDBPF-50060':                     CC_a0          CC_a1           CC_a2          CC_a3  \\\n",
       " 2014-09-20  1.242662e-003  2.741985e-004  -8.613106e-007  1.714459e-007   \n",
       " \n",
       "                       CC_g           CC_h            CC_i           CC_j  \\\n",
       " 2014-09-20  -9.854186e-001  1.489361e-001  -2.422111e-004  3.944113e-005   \n",
       " \n",
       "                  CC_ctcor        CC_cpcor       ...                CC_pa2  \\\n",
       " 2014-09-20  3.250000e-006  -9.570000e-008       ...        -4.834738e-012   \n",
       " \n",
       "                  CC_ptca0       CC_ptca1        CC_ptca2       CC_ptcb0  \\\n",
       " 2014-09-20  5.241873e+005  5.096894e+000  -2.363472e-001  2.494300e+001   \n",
       " \n",
       "                  CC_ptcb1       CC_ptcb2      CC_ptempa0     CC_ptempa1  \\\n",
       " 2014-09-20  2.000000e-004  0.000000e+000  -6.310504e+001  5.290863e+001   \n",
       " \n",
       "                 CC_ptempa2  \n",
       " 2014-09-20  -4.745201e-001  \n",
       " \n",
       " [1 rows x 22 columns],\n",
       " 'CGINS-CTDBPF-50061':                     CC_a0          CC_a1           CC_a2          CC_a3  \\\n",
       " 2014-09-19  1.239890e-003  2.812243e-004  -2.035512e-006  2.171960e-007   \n",
       " \n",
       "                       CC_g           CC_h            CC_i           CC_j  \\\n",
       " 2014-09-19  -9.743689e-001  1.525839e-001  -2.043709e-004  3.776429e-005   \n",
       " \n",
       "                  CC_ctcor        CC_cpcor       ...                CC_pa2  \\\n",
       " 2014-09-19  3.250000e-006  -9.570000e-008       ...        -5.194193e-012   \n",
       " \n",
       "                  CC_ptca0       CC_ptca1        CC_ptca2       CC_ptcb0  \\\n",
       " 2014-09-19  5.245937e+005  6.869682e+000  -2.093598e-001  2.494488e+001   \n",
       " \n",
       "                  CC_ptcb1       CC_ptcb2      CC_ptempa0     CC_ptempa1  \\\n",
       " 2014-09-19  1.750000e-004  0.000000e+000  -6.719514e+001  5.385675e+001   \n",
       " \n",
       "                 CC_ptempa2  \n",
       " 2014-09-19  -6.133229e-001  \n",
       " \n",
       " [1 rows x 22 columns],\n",
       " 'CGINS-CTDBPF-50062':                     CC_a0          CC_a1           CC_a2          CC_a3  \\\n",
       " 2014-09-19  1.225591e-003  2.808447e-004  -1.798402e-006  2.130059e-007   \n",
       " \n",
       "                       CC_g           CC_h            CC_i           CC_j  \\\n",
       " 2014-09-19  -9.843822e-001  1.396164e-001  -1.484070e-004  2.967161e-005   \n",
       " \n",
       "                  CC_ctcor        CC_cpcor       ...                CC_pa2  \\\n",
       " 2014-09-19  3.250000e-006  -9.570000e-008       ...        -6.734723e-012   \n",
       " \n",
       "                  CC_ptca0       CC_ptca1        CC_ptca2       CC_ptcb0  \\\n",
       " 2014-09-19  5.252999e+005  3.844535e+001  -7.660244e-001  2.480937e+001   \n",
       " \n",
       "                  CC_ptcb1       CC_ptcb2      CC_ptempa0     CC_ptempa1  \\\n",
       " 2014-09-19  6.750000e-004  0.000000e+000  -6.524563e+001  5.169195e+001   \n",
       " \n",
       "                 CC_ptempa2  \n",
       " 2014-09-19  -2.846475e-001  \n",
       " \n",
       " [1 rows x 22 columns],\n",
       " 'CGINS-CTDBPF-50065':                     CC_a0          CC_a1           CC_a2          CC_a3  \\\n",
       " 2014-09-19  1.243392e-003  2.755739e-004  -1.140020e-006  1.830118e-007   \n",
       " \n",
       "                       CC_g           CC_h            CC_i           CC_j  \\\n",
       " 2014-09-19  -9.847487e-001  1.523212e-001  -1.992144e-004  3.711031e-005   \n",
       " \n",
       "                  CC_ctcor        CC_cpcor       ...                CC_pa2  \\\n",
       " 2014-09-19  3.250000e-006  -9.570000e-008       ...        -6.357806e-012   \n",
       " \n",
       "                  CC_ptca0       CC_ptca1        CC_ptca2       CC_ptcb0  \\\n",
       " 2014-09-19  5.248386e+005  1.041255e+002  -2.061691e+000  2.500738e+001   \n",
       " \n",
       "                   CC_ptcb1       CC_ptcb2      CC_ptempa0     CC_ptempa1  \\\n",
       " 2014-09-19  -1.325000e-003  0.000000e+000  -6.662534e+001  5.111636e+001   \n",
       " \n",
       "                 CC_ptempa2  \n",
       " 2014-09-19  -2.550417e-001  \n",
       " \n",
       " [1 rows x 22 columns],\n",
       " 'CGINS-CTDBPF-50116': Empty DataFrame\n",
       " Columns: []\n",
       " Index: [],\n",
       " 'CGINS-CTDBPF-50142': Empty DataFrame\n",
       " Columns: []\n",
       " Index: [],\n",
       " 'CGINS-CTDBPF-50143': Empty DataFrame\n",
       " Columns: []\n",
       " Index: []}"
      ]
     },
     "execution_count": 103,
     "metadata": {},
     "output_type": "execute_result"
    }
   ],
   "source": [
    "cal"
   ]
  },
  {
   "cell_type": "markdown",
   "metadata": {},
   "source": [
    "#### Repeat the above process with the .xmlcon file"
   ]
  },
  {
   "cell_type": "code",
   "execution_count": 98,
   "metadata": {},
   "outputs": [],
   "source": [
    "def load_xml_coeffs(files,filepath, coefficient_name_map, o2_coefficients_map):\n",
    "    \"\"\"\n",
    "    Loads all of the calibration coefficients from the vendor cal files in xmlcon\n",
    "    format for a given CTD instrument class.\n",
    "    \n",
    "    Args:\n",
    "        files - a list of zipfile names containing the vendor calibration files\n",
    "        filepath - directory path to where the zipfiles are stored locally\n",
    "        coefficient_name_map - a mapping of the calibration names in the vendor file\n",
    "            to the calibration coeff names needed for OOINet\n",
    "        o2_coefficients_map - mapping for CTDs containing an oxygen sensor\n",
    "    Returns:\n",
    "        cal_coeffs - a dictionary of the calibration coefficients with the respective\n",
    "            values, nested in a dictionary sorted by calibration date\n",
    "    \"\"\"\n",
    "    xml_coeffs = {}\n",
    "    for file in files:\n",
    "        fpath = filepath+file\n",
    "        if fpath.endswith('.pdf'):\n",
    "            print(f\"Vendor documents for file {file} only available as pdf.\")\n",
    "        elif fpath.endswith('.zip'):\n",
    "            with ZipFile(fpath) as zfile:\n",
    "                if any('.xmlcon' in x for x in zfile.namelist()):\n",
    "                    findex, *ignore = [(i,x) for i,x in enumerate(zfile.namelist()) if '.xmlcon' in x][0]\n",
    "                    filename = zfile.namelist()[findex]\n",
    "                    data = et.parse(zfile.open(filename))\n",
    "                    coeffs, date = read_xml(data, coefficient_name_map, o2_coefficients_map)\n",
    "                    xml_coeffs.update({date:coeffs})\n",
    "            return xml_coeffs\n",
    "        else:\n",
    "            print(f\"No vendor documents found for file {file}.\")"
   ]
  },
  {
   "cell_type": "code",
   "execution_count": 102,
   "metadata": {},
   "outputs": [
    {
     "ename": "KeyError",
     "evalue": "'[None] not found in axis'",
     "output_type": "error",
     "traceback": [
      "\u001b[0;31m---------------------------------------------------------------------------\u001b[0m",
      "\u001b[0;31mKeyError\u001b[0m                                  Traceback (most recent call last)",
      "\u001b[0;32m<ipython-input-102-345fc40e64ad>\u001b[0m in \u001b[0;36m<module>\u001b[0;34m\u001b[0m\n\u001b[1;32m      4\u001b[0m     \u001b[0mxml_coeffs\u001b[0m \u001b[0;34m=\u001b[0m \u001b[0mload_xml_coeffs\u001b[0m\u001b[0;34m(\u001b[0m\u001b[0mfiles\u001b[0m\u001b[0;34m,\u001b[0m\u001b[0mfilepath\u001b[0m\u001b[0;34m,\u001b[0m\u001b[0mcoefficient_name_map\u001b[0m\u001b[0;34m,\u001b[0m\u001b[0mo2_coefficients_map\u001b[0m\u001b[0;34m)\u001b[0m\u001b[0;34m\u001b[0m\u001b[0;34m\u001b[0m\u001b[0m\n\u001b[1;32m      5\u001b[0m     \u001b[0mxml_df\u001b[0m \u001b[0;34m=\u001b[0m \u001b[0mpd\u001b[0m\u001b[0;34m.\u001b[0m\u001b[0mDataFrame\u001b[0m\u001b[0;34m.\u001b[0m\u001b[0mfrom_dict\u001b[0m\u001b[0;34m(\u001b[0m\u001b[0;34m{\u001b[0m\u001b[0mi\u001b[0m\u001b[0;34m:\u001b[0m \u001b[0mxml_coeffs\u001b[0m\u001b[0;34m[\u001b[0m\u001b[0mi\u001b[0m\u001b[0;34m]\u001b[0m \u001b[0;32mfor\u001b[0m \u001b[0mi\u001b[0m \u001b[0;32min\u001b[0m \u001b[0mxml_coeffs\u001b[0m\u001b[0;34m.\u001b[0m\u001b[0mkeys\u001b[0m\u001b[0;34m(\u001b[0m\u001b[0;34m)\u001b[0m\u001b[0;34m}\u001b[0m\u001b[0;34m,\u001b[0m \u001b[0morient\u001b[0m\u001b[0;34m=\u001b[0m\u001b[0;34m'index'\u001b[0m\u001b[0;34m)\u001b[0m\u001b[0;34m\u001b[0m\u001b[0;34m\u001b[0m\u001b[0m\n\u001b[0;32m----> 6\u001b[0;31m     \u001b[0mxml_df\u001b[0m\u001b[0;34m.\u001b[0m\u001b[0mdrop\u001b[0m\u001b[0;34m(\u001b[0m\u001b[0mcolumns\u001b[0m\u001b[0;34m=\u001b[0m\u001b[0;34m[\u001b[0m\u001b[0;32mNone\u001b[0m\u001b[0;34m]\u001b[0m\u001b[0;34m,\u001b[0m\u001b[0maxis\u001b[0m\u001b[0;34m=\u001b[0m\u001b[0;36m1\u001b[0m\u001b[0;34m,\u001b[0m\u001b[0minplace\u001b[0m\u001b[0;34m=\u001b[0m\u001b[0;32mTrue\u001b[0m\u001b[0;34m)\u001b[0m\u001b[0;34m\u001b[0m\u001b[0;34m\u001b[0m\u001b[0m\n\u001b[0m\u001b[1;32m      7\u001b[0m     \u001b[0mxml_df\u001b[0m\u001b[0;34m.\u001b[0m\u001b[0mindex\u001b[0m \u001b[0;34m=\u001b[0m \u001b[0mpd\u001b[0m\u001b[0;34m.\u001b[0m\u001b[0mto_datetime\u001b[0m\u001b[0;34m(\u001b[0m\u001b[0mxml_df\u001b[0m\u001b[0;34m.\u001b[0m\u001b[0mindex\u001b[0m\u001b[0;34m)\u001b[0m\u001b[0;34m\u001b[0m\u001b[0;34m\u001b[0m\u001b[0m\n\u001b[1;32m      8\u001b[0m     \u001b[0mxml\u001b[0m\u001b[0;34m.\u001b[0m\u001b[0mupdate\u001b[0m\u001b[0;34m(\u001b[0m\u001b[0;34m{\u001b[0m\u001b[0muid\u001b[0m\u001b[0;34m:\u001b[0m\u001b[0mxml_df\u001b[0m\u001b[0;34m}\u001b[0m\u001b[0;34m)\u001b[0m\u001b[0;34m\u001b[0m\u001b[0;34m\u001b[0m\u001b[0m\n",
      "\u001b[0;32m~/anaconda3/lib/python3.7/site-packages/pandas/core/frame.py\u001b[0m in \u001b[0;36mdrop\u001b[0;34m(self, labels, axis, index, columns, level, inplace, errors)\u001b[0m\n\u001b[1;32m   3695\u001b[0m                                            \u001b[0mindex\u001b[0m\u001b[0;34m=\u001b[0m\u001b[0mindex\u001b[0m\u001b[0;34m,\u001b[0m \u001b[0mcolumns\u001b[0m\u001b[0;34m=\u001b[0m\u001b[0mcolumns\u001b[0m\u001b[0;34m,\u001b[0m\u001b[0;34m\u001b[0m\u001b[0;34m\u001b[0m\u001b[0m\n\u001b[1;32m   3696\u001b[0m                                            \u001b[0mlevel\u001b[0m\u001b[0;34m=\u001b[0m\u001b[0mlevel\u001b[0m\u001b[0;34m,\u001b[0m \u001b[0minplace\u001b[0m\u001b[0;34m=\u001b[0m\u001b[0minplace\u001b[0m\u001b[0;34m,\u001b[0m\u001b[0;34m\u001b[0m\u001b[0;34m\u001b[0m\u001b[0m\n\u001b[0;32m-> 3697\u001b[0;31m                                            errors=errors)\n\u001b[0m\u001b[1;32m   3698\u001b[0m \u001b[0;34m\u001b[0m\u001b[0m\n\u001b[1;32m   3699\u001b[0m     @rewrite_axis_style_signature('mapper', [('copy', True),\n",
      "\u001b[0;32m~/anaconda3/lib/python3.7/site-packages/pandas/core/generic.py\u001b[0m in \u001b[0;36mdrop\u001b[0;34m(self, labels, axis, index, columns, level, inplace, errors)\u001b[0m\n\u001b[1;32m   3109\u001b[0m         \u001b[0;32mfor\u001b[0m \u001b[0maxis\u001b[0m\u001b[0;34m,\u001b[0m \u001b[0mlabels\u001b[0m \u001b[0;32min\u001b[0m \u001b[0maxes\u001b[0m\u001b[0;34m.\u001b[0m\u001b[0mitems\u001b[0m\u001b[0;34m(\u001b[0m\u001b[0;34m)\u001b[0m\u001b[0;34m:\u001b[0m\u001b[0;34m\u001b[0m\u001b[0;34m\u001b[0m\u001b[0m\n\u001b[1;32m   3110\u001b[0m             \u001b[0;32mif\u001b[0m \u001b[0mlabels\u001b[0m \u001b[0;32mis\u001b[0m \u001b[0;32mnot\u001b[0m \u001b[0;32mNone\u001b[0m\u001b[0;34m:\u001b[0m\u001b[0;34m\u001b[0m\u001b[0;34m\u001b[0m\u001b[0m\n\u001b[0;32m-> 3111\u001b[0;31m                 \u001b[0mobj\u001b[0m \u001b[0;34m=\u001b[0m \u001b[0mobj\u001b[0m\u001b[0;34m.\u001b[0m\u001b[0m_drop_axis\u001b[0m\u001b[0;34m(\u001b[0m\u001b[0mlabels\u001b[0m\u001b[0;34m,\u001b[0m \u001b[0maxis\u001b[0m\u001b[0;34m,\u001b[0m \u001b[0mlevel\u001b[0m\u001b[0;34m=\u001b[0m\u001b[0mlevel\u001b[0m\u001b[0;34m,\u001b[0m \u001b[0merrors\u001b[0m\u001b[0;34m=\u001b[0m\u001b[0merrors\u001b[0m\u001b[0;34m)\u001b[0m\u001b[0;34m\u001b[0m\u001b[0;34m\u001b[0m\u001b[0m\n\u001b[0m\u001b[1;32m   3112\u001b[0m \u001b[0;34m\u001b[0m\u001b[0m\n\u001b[1;32m   3113\u001b[0m         \u001b[0;32mif\u001b[0m \u001b[0minplace\u001b[0m\u001b[0;34m:\u001b[0m\u001b[0;34m\u001b[0m\u001b[0;34m\u001b[0m\u001b[0m\n",
      "\u001b[0;32m~/anaconda3/lib/python3.7/site-packages/pandas/core/generic.py\u001b[0m in \u001b[0;36m_drop_axis\u001b[0;34m(self, labels, axis, level, errors)\u001b[0m\n\u001b[1;32m   3141\u001b[0m                 \u001b[0mnew_axis\u001b[0m \u001b[0;34m=\u001b[0m \u001b[0maxis\u001b[0m\u001b[0;34m.\u001b[0m\u001b[0mdrop\u001b[0m\u001b[0;34m(\u001b[0m\u001b[0mlabels\u001b[0m\u001b[0;34m,\u001b[0m \u001b[0mlevel\u001b[0m\u001b[0;34m=\u001b[0m\u001b[0mlevel\u001b[0m\u001b[0;34m,\u001b[0m \u001b[0merrors\u001b[0m\u001b[0;34m=\u001b[0m\u001b[0merrors\u001b[0m\u001b[0;34m)\u001b[0m\u001b[0;34m\u001b[0m\u001b[0;34m\u001b[0m\u001b[0m\n\u001b[1;32m   3142\u001b[0m             \u001b[0;32melse\u001b[0m\u001b[0;34m:\u001b[0m\u001b[0;34m\u001b[0m\u001b[0;34m\u001b[0m\u001b[0m\n\u001b[0;32m-> 3143\u001b[0;31m                 \u001b[0mnew_axis\u001b[0m \u001b[0;34m=\u001b[0m \u001b[0maxis\u001b[0m\u001b[0;34m.\u001b[0m\u001b[0mdrop\u001b[0m\u001b[0;34m(\u001b[0m\u001b[0mlabels\u001b[0m\u001b[0;34m,\u001b[0m \u001b[0merrors\u001b[0m\u001b[0;34m=\u001b[0m\u001b[0merrors\u001b[0m\u001b[0;34m)\u001b[0m\u001b[0;34m\u001b[0m\u001b[0;34m\u001b[0m\u001b[0m\n\u001b[0m\u001b[1;32m   3144\u001b[0m             \u001b[0mresult\u001b[0m \u001b[0;34m=\u001b[0m \u001b[0mself\u001b[0m\u001b[0;34m.\u001b[0m\u001b[0mreindex\u001b[0m\u001b[0;34m(\u001b[0m\u001b[0;34m**\u001b[0m\u001b[0;34m{\u001b[0m\u001b[0maxis_name\u001b[0m\u001b[0;34m:\u001b[0m \u001b[0mnew_axis\u001b[0m\u001b[0;34m}\u001b[0m\u001b[0;34m)\u001b[0m\u001b[0;34m\u001b[0m\u001b[0;34m\u001b[0m\u001b[0m\n\u001b[1;32m   3145\u001b[0m \u001b[0;34m\u001b[0m\u001b[0m\n",
      "\u001b[0;32m~/anaconda3/lib/python3.7/site-packages/pandas/core/indexes/base.py\u001b[0m in \u001b[0;36mdrop\u001b[0;34m(self, labels, errors)\u001b[0m\n\u001b[1;32m   4402\u001b[0m             \u001b[0;32mif\u001b[0m \u001b[0merrors\u001b[0m \u001b[0;34m!=\u001b[0m \u001b[0;34m'ignore'\u001b[0m\u001b[0;34m:\u001b[0m\u001b[0;34m\u001b[0m\u001b[0;34m\u001b[0m\u001b[0m\n\u001b[1;32m   4403\u001b[0m                 raise KeyError(\n\u001b[0;32m-> 4404\u001b[0;31m                     '{} not found in axis'.format(labels[mask]))\n\u001b[0m\u001b[1;32m   4405\u001b[0m             \u001b[0mindexer\u001b[0m \u001b[0;34m=\u001b[0m \u001b[0mindexer\u001b[0m\u001b[0;34m[\u001b[0m\u001b[0;34m~\u001b[0m\u001b[0mmask\u001b[0m\u001b[0;34m]\u001b[0m\u001b[0;34m\u001b[0m\u001b[0;34m\u001b[0m\u001b[0m\n\u001b[1;32m   4406\u001b[0m         \u001b[0;32mreturn\u001b[0m \u001b[0mself\u001b[0m\u001b[0;34m.\u001b[0m\u001b[0mdelete\u001b[0m\u001b[0;34m(\u001b[0m\u001b[0mindexer\u001b[0m\u001b[0;34m)\u001b[0m\u001b[0;34m\u001b[0m\u001b[0;34m\u001b[0m\u001b[0m\n",
      "\u001b[0;31mKeyError\u001b[0m: '[None] not found in axis'"
     ]
    }
   ],
   "source": [
    "xml = {}\n",
    "filepath = '../../../../Documents/Project_Files/Records/Instrument_Records/CTDBP/'\n",
    "for uid,files in vendor_files.items():\n",
    "    xml_coeffs = load_xml_coeffs(files,filepath,coefficient_name_map,o2_coefficients_map)\n",
    "    xml_df = pd.DataFrame.from_dict({i: xml_coeffs[i] for i in xml_coeffs.keys()}, orient='index')\n",
    "    xml_df.drop(columns=[None],axis=1,inplace=True)\n",
    "    xml_df.index = pd.to_datetime(xml_df.index)\n",
    "    xml.update({uid:xml_df})"
   ]
  },
  {
   "cell_type": "code",
   "execution_count": 105,
   "metadata": {},
   "outputs": [
    {
     "data": {
      "text/plain": [
       "['CTDBP-F_SBE_16PlusV2_SN_16-50001_Calibration_Files.zip',\n",
       " 'CTDBP-F_SBE_16PlusV2_SN_16-50001_Calibration_Files_2016-03-31.zip',\n",
       " 'CTDBP-F_SBE_16PlusV2_SN_16-50001_Calibration_Files_2017-09-29.zip']"
      ]
     },
     "execution_count": 105,
     "metadata": {},
     "output_type": "execute_result"
    }
   ],
   "source": [
    "files"
   ]
  },
  {
   "cell_type": "code",
   "execution_count": null,
   "metadata": {},
   "outputs": [],
   "source": [
    "xml"
   ]
  },
  {
   "cell_type": "markdown",
   "metadata": {},
   "source": [
    "### Comparisons\n",
    "Now that I have .cal, .xmlcon, the qct capture files, and the csv files from asset management, I can begin comparison of the calibration coefficients between the different files. The goal is that the dates, values, and coefficients all match."
   ]
  },
  {
   "cell_type": "code",
   "execution_count": null,
   "metadata": {},
   "outputs": [],
   "source": [
    "CSV"
   ]
  },
  {
   "cell_type": "code",
   "execution_count": null,
   "metadata": {},
   "outputs": [],
   "source": [
    "qct"
   ]
  },
  {
   "cell_type": "code",
   "execution_count": null,
   "metadata": {},
   "outputs": [],
   "source": [
    "cal"
   ]
  },
  {
   "cell_type": "code",
   "execution_count": null,
   "metadata": {},
   "outputs": [],
   "source": [
    "xml"
   ]
  },
  {
   "cell_type": "code",
   "execution_count": null,
   "metadata": {},
   "outputs": [],
   "source": [
    "# First, I need to reindex all of the different dataframes such that they all have two indices:\n",
    "# A dataset index and a datetime index, and set them to uniform name (for concatenation)\n",
    "for uid in uids:\n",
    "    CSV[uid]['Dataset'] = 'CSV'\n",
    "    CSV[uid].set_index(['Dataset',CSV[uid].index],inplace=True)\n",
    "    CSV[uid].index.set_names(['Dataset','Cal Date'],inplace=True)\n",
    "CSV"
   ]
  },
  {
   "cell_type": "code",
   "execution_count": null,
   "metadata": {},
   "outputs": [],
   "source": [
    "for uid in uids:\n",
    "    qct[uid]['Dataset'] = 'QCT'\n",
    "    qct[uid].set_index(['Dataset',qct[uid].index],inplace=True)\n",
    "    qct[uid].index.set_names(['Dataset','Cal Date'],inplace=True)\n"
   ]
  },
  {
   "cell_type": "code",
   "execution_count": null,
   "metadata": {},
   "outputs": [],
   "source": [
    "for uid in uids:\n",
    "    cal[uid]['Dataset'] = 'CAL'\n",
    "    cal[uid].set_index(['Dataset',cal[uid].index],inplace=True)\n",
    "    cal[uid].index.set_names(['Dataset','Cal Date'],inplace=True)\n",
    "cal"
   ]
  },
  {
   "cell_type": "code",
   "execution_count": null,
   "metadata": {},
   "outputs": [],
   "source": [
    "for uid in uids:\n",
    "    xml[uid]['Dataset'] = 'XML'\n",
    "    xml[uid].set_index(['Dataset',xml[uid].index],inplace=True)\n",
    "    xml[uid].index.set_names(['Dataset','Cal Date'],inplace=True)\n",
    "xml"
   ]
  },
  {
   "cell_type": "markdown",
   "metadata": {},
   "source": [
    "All four possible sources of calibration coefficients available for an instrument - the calibration **CSV** loaded into asset management, the calibration coefficients loaded onto the instrument during check-in (**QCT**), the **.cal** file provided by the vendor, and the **XML** file provided by the vendor. \n",
    "\n",
    "The next step is to concatenate the different instruments into a single dataframe and to sort by calibration date. This will allow for comparison based on the date of the calibration."
   ]
  },
  {
   "cell_type": "code",
   "execution_count": null,
   "metadata": {},
   "outputs": [],
   "source": [
    "comparison = {}\n",
    "for uid in uids:\n",
    "    comparison.update({uid:pd.concat([CSV[uid], cal[uid], xml[uid], qct[uid]])})\n",
    "    comparison[uid].reset_index(level='Cal Date',inplace=True)\n",
    "    comparison[uid].sort_values(by='Cal Date',inplace=True)\n",
    "comparison"
   ]
  },
  {
   "cell_type": "code",
   "execution_count": null,
   "metadata": {},
   "outputs": [],
   "source": [
    "def convert_type(x):\n",
    "    if type(x) is str:\n",
    "        return float(x)\n",
    "    else:\n",
    "        return x"
   ]
  },
  {
   "cell_type": "code",
   "execution_count": null,
   "metadata": {},
   "outputs": [],
   "source": [
    "for uid in uids:\n",
    "    comparison[uid] = comparison[uid].applymap(convert_type)\n",
    "comparison"
   ]
  },
  {
   "cell_type": "code",
   "execution_count": null,
   "metadata": {},
   "outputs": [],
   "source": [
    "def all_the_same(elements):\n",
    "    \"\"\"\n",
    "    This function checks which values in an array are all the same.\n",
    "    \n",
    "    Args:\n",
    "        elements - an array of values\n",
    "    Returns:\n",
    "        error - an array of length (m-1) which checks if\n",
    "    \n",
    "    \"\"\"\n",
    "    if len(elements) < 1:\n",
    "        return True\n",
    "    el = iter(elements)\n",
    "    first = next(el, None)\n",
    "    #check = [element == first for element in el]\n",
    "    error = [np.isclose(element,first) for element in el]\n",
    "    return error"
   ]
  },
  {
   "cell_type": "code",
   "execution_count": null,
   "metadata": {},
   "outputs": [],
   "source": [
    "def locate_cal_error(array):\n",
    "    \"\"\"\n",
    "    This function locates which source file (e.g. xmlcon vs csv vs cal)\n",
    "    have calibration values that are different from the others. It does\n",
    "    NOT identify which is correct, only which is different.\n",
    "    \n",
    "    Args:\n",
    "        array - A numpy array which contains the values for a specific\n",
    "                calibration coefficient for a specific date from all of\n",
    "                the calibration source files\n",
    "    Returns:\n",
    "        dataset - a list containing which calibration sources are different\n",
    "                from the other files\n",
    "        True - if all of the calibration values are the same\n",
    "        False - if the first calibration value is different\n",
    "    \"\"\"\n",
    "    # Call the function to check if there are any differences between each of\n",
    "    # calibration values from the different sheets\n",
    "    error = all_the_same(array)\n",
    "    # If they are all the same, return True\n",
    "    if all(error):\n",
    "        return True\n",
    "    # If there is a mixture of True/False, find the false and return them\n",
    "    elif any(error) == True:\n",
    "        indices = [i+1 for i, j in enumerate(error) if j == False]\n",
    "        dataset = list(array.index[indices])\n",
    "        return dataset\n",
    "    # Last, if all are false, that means the first value \n",
    "    else:\n",
    "        return False"
   ]
  },
  {
   "cell_type": "code",
   "execution_count": null,
   "metadata": {},
   "outputs": [],
   "source": [
    "# With all the functions set up, now go through all of the data\n",
    "def search_for_errors(df):\n",
    "    \"\"\"\n",
    "    This function is designed to search through a pandas dataframe\n",
    "    which contains all of the calibration coefficients from all of\n",
    "    the files, and check for differences.\n",
    "    \n",
    "    Args: \n",
    "        df - A dataframe which contains all fo the calibration coefficients\n",
    "        from the asset management csv, qct checkout, and the vendor\n",
    "        files (.cal and .xmlcon)\n",
    "    Returns:\n",
    "        cal_errors - A nested dictionary containing the calibration timestamp, the\n",
    "        relevant calibration coefficient, and which file(s) have the\n",
    "        erroneous calibration file.\n",
    "    \"\"\"\n",
    "    \n",
    "    cal_errors = {}\n",
    "    for date in np.unique(df['Cal Date']):\n",
    "        df2 = df[df['Cal Date'] == date]\n",
    "        wrong_cals = {}\n",
    "        for column in df2.columns.values:\n",
    "            array = df2[column]\n",
    "            array.sort_index()\n",
    "            if array.dtype == 'datetime64[ns]':\n",
    "                pass\n",
    "            else:\n",
    "                error = locate_cal_error(array)\n",
    "                if error == False:\n",
    "                    wrong_cals.update({column:array.index[0]})\n",
    "                elif error == True:\n",
    "                    pass\n",
    "                else:\n",
    "                    wrong_cals.update({column:error})\n",
    "        \n",
    "        if len(wrong_cals) < 1:\n",
    "            cal_errors.update({str(date).split('T')[0]:'No Errors'})\n",
    "        else:\n",
    "            cal_errors.update({str(date).split('T')[0]:wrong_cals})\n",
    "    \n",
    "    return cal_errors"
   ]
  },
  {
   "cell_type": "code",
   "execution_count": null,
   "metadata": {},
   "outputs": [],
   "source": [
    "cal_errors = {}\n",
    "for uid in uids:\n",
    "    ce = search_for_errors(comparison[uid])\n",
    "    cal_errors.update({uid:ce})\n",
    "    "
   ]
  },
  {
   "cell_type": "code",
   "execution_count": null,
   "metadata": {},
   "outputs": [],
   "source": [
    "cal_errors"
   ]
  },
  {
   "cell_type": "code",
   "execution_count": null,
   "metadata": {},
   "outputs": [],
   "source": [
    "pd.DataFrame.from_dict(cal_errors)"
   ]
  },
  {
   "cell_type": "code",
   "execution_count": null,
   "metadata": {},
   "outputs": [],
   "source": [
    "df2=pd.DataFrame.from_dict({i: cal_errors[i] for i in cal_errors.keys()}, orient='index')"
   ]
  },
  {
   "cell_type": "code",
   "execution_count": null,
   "metadata": {},
   "outputs": [],
   "source": [
    "df2"
   ]
  },
  {
   "cell_type": "code",
   "execution_count": null,
   "metadata": {},
   "outputs": [],
   "source": [
    "df2.to_csv('CTDBPF_Errors.csv')"
   ]
  },
  {
   "cell_type": "markdown",
   "metadata": {},
   "source": [
    "### Check which CTDBP-C Calibration files are not correctly named\n",
    "In order to check the calibration values, need to have the correctly named calibration csv files. We can check this by comparison of deployment dates with the CTDBPC calibration dates. This requires loading both the deployment csv and parsing all the file names, flagging the file names THAT MATCH, and then revisiting them in order to correct the name."
   ]
  },
  {
   "cell_type": "code",
   "execution_count": null,
   "metadata": {},
   "outputs": [],
   "source": [
    "# Load the deployment csvs fo\n",
    "# Parse for all WHOI CG Deployment Sheets based on 'CP' or CG\n",
    "# Easier to check for non-CG \n",
    "deploy_csvs = []\n",
    "for file in os.listdir('../../GitHub/OOI-Integration/asset-management/deployment/'):\n",
    "    if file[0:2] == 'RS' or file[0:2] == 'CE':\n",
    "        pass\n",
    "    elif 'MOAS' in file:\n",
    "        pass\n",
    "    else:\n",
    "        deploy_csvs.append(file)\n",
    "        print(file)"
   ]
  },
  {
   "cell_type": "code",
   "execution_count": null,
   "metadata": {},
   "outputs": [],
   "source": [
    "# Get the Deployment History from the WHOI Asset Tracking System\n",
    "CTDBPF_Deploy = CTDBPF['Deployment History']"
   ]
  },
  {
   "cell_type": "code",
   "execution_count": null,
   "metadata": {},
   "outputs": [],
   "source": [
    "CTDBPF_Deploy"
   ]
  },
  {
   "cell_type": "code",
   "execution_count": null,
   "metadata": {},
   "outputs": [],
   "source": [
    "# Split the string at the newline to generate a list of deployments for each CTDBP-C\n",
    "CTDBPF_Deploy = CTDBPF['Deployment History'].apply(lambda x: x.split('\\n'))"
   ]
  },
  {
   "cell_type": "code",
   "execution_count": null,
   "metadata": {},
   "outputs": [],
   "source": [
    "CTDBPF_Deploy"
   ]
  },
  {
   "cell_type": "code",
   "execution_count": null,
   "metadata": {},
   "outputs": [],
   "source": [
    "# List out all the individual deployments\n",
    "deploy_list = []\n",
    "for i in range(0,len(CTDBPF_Deploy)):\n",
    "    for item in CTDBPF_Deploy.iloc[i]:\n",
    "        if '-' in item:\n",
    "            deploy_list.append(item)\n",
    "        else:\n",
    "            pass"
   ]
  },
  {
   "cell_type": "code",
   "execution_count": null,
   "metadata": {},
   "outputs": [],
   "source": [
    "deploy_list"
   ]
  },
  {
   "cell_type": "code",
   "execution_count": null,
   "metadata": {},
   "outputs": [],
   "source": [
    "# So I now have a list of the deployments all the CTDBP-Cs were used on.\n",
    "# Now, parse the name of the array to\n",
    "array = list( set( [x.split('-')[0] for x in deploy_list] ) )\n",
    "array"
   ]
  },
  {
   "cell_type": "code",
   "execution_count": null,
   "metadata": {},
   "outputs": [],
   "source": [
    "# With the list of array names, I can now parse the deployment file names to find\n",
    "# the relevant deployment sheets which match where the CTDBP-Cs were deployed\n",
    "deploy_csvs = []\n",
    "for file in os.listdir('../../GitHub/OOI-Integration/asset-management/deployment/'):\n",
    "    if file.split('_')[0] in array:\n",
    "        deploy_csvs.append(file)\n",
    "deploy_csvs"
   ]
  },
  {
   "cell_type": "code",
   "execution_count": null,
   "metadata": {},
   "outputs": [],
   "source": [
    "# Using the identified deployment csvs, can now load the deployment csvs into\n",
    "# a pandas dataframe\n",
    "deployments = pd.DataFrame()\n",
    "for file in deploy_csvs:\n",
    "    deployments = deployments.append(pd.read_csv('../../GitHub/OOI-Integration/asset-management/deployment/'+file))\n",
    "deployments.head()"
   ]
  },
  {
   "cell_type": "code",
   "execution_count": null,
   "metadata": {},
   "outputs": [],
   "source": [
    "# Get the CTDBPC sensor uids\n",
    "sensor_uids = list( set( CTDBPF['UID'] ) )\n",
    "sensor_uids"
   ]
  },
  {
   "cell_type": "code",
   "execution_count": null,
   "metadata": {},
   "outputs": [],
   "source": [
    "# Find in the deployment spreadsheets the matching entry for the CTDBP-Cs that I'm looking for\n",
    "deployments['CTDBPF'] = deployments['sensor.uid'].apply(lambda x: True if x in sensor_uids else False)\n",
    "deployments = deployments[deployments['CTDBPF'] == True]"
   ]
  },
  {
   "cell_type": "code",
   "execution_count": null,
   "metadata": {},
   "outputs": [],
   "source": [
    "deployments.head()"
   ]
  },
  {
   "cell_type": "code",
   "execution_count": null,
   "metadata": {},
   "outputs": [],
   "source": [
    "# Now, parse out the date string in the format of YYYYMMDD from the startDateTime\n",
    "# in order to compare with the date in the calibration file names\n",
    "deploy_dates = deployments['startDateTime'].apply(lambda x: x.replace('-','').split('T')[0])\n",
    "deploy_dates = list(set(deploy_dates))\n",
    "deploy_dates"
   ]
  },
  {
   "cell_type": "code",
   "execution_count": null,
   "metadata": {},
   "outputs": [],
   "source": [
    "cal_csvs = []\n",
    "for file in os.listdir('../../GitHub/OOI-Integration/asset-management/calibration/CTDBPF/'):\n",
    "    date = file.split('__')[1].split('.')[0]\n",
    "    print(date)\n",
    "    if date in deploy_dates:\n",
    "        cal_csvs = cal_csvs.append(file)\n",
    "print(cal_csvs)\n",
    "        "
   ]
  },
  {
   "cell_type": "code",
   "execution_count": null,
   "metadata": {},
   "outputs": [],
   "source": [
    "cal_csvs"
   ]
  },
  {
   "cell_type": "markdown",
   "metadata": {},
   "source": [
    "Great! None of the CTDBP-C have calibration dates which match deployment dates. That is a good sign - it means that the dates in the calibration file name *should* match the calibration dates in the calibration info.\n",
    "\n",
    "However, that is no guarantee that the date in the file name matches the date in the calibration data. This can be check in a future step by comparing the calibration date in the vendor docs, QCT info, and the .cal and .xmlcon file info."
   ]
  },
  {
   "cell_type": "code",
   "execution_count": null,
   "metadata": {},
   "outputs": [],
   "source": [
    "# Now, using the \"deploy\" csvs for each node in the various arrays,\n",
    "# need to load into a large pandas dataframe for easy handling\n",
    "import pandas as pd\n",
    "\n",
    "deployments = pd.DataFrame()\n",
    "for file in deploy_csvs:\n",
    "    deployments = deployments.append(pd.read_csv('../GitHub/OOI-Integration/asset-management/deployment/'+file))"
   ]
  },
  {
   "cell_type": "code",
   "execution_count": null,
   "metadata": {},
   "outputs": [],
   "source": [
    "deployments"
   ]
  },
  {
   "cell_type": "code",
   "execution_count": null,
   "metadata": {},
   "outputs": [],
   "source": [
    "# Get all the unique deployment dates from the deployment csvs and put into the form of \n",
    "# YYYYMMDD. \n",
    "deploy_dates = deployments['startDateTime'].apply(lambda x: x.split('T')[0].replace('-',''))"
   ]
  },
  {
   "cell_type": "code",
   "execution_count": null,
   "metadata": {},
   "outputs": [],
   "source": [
    "deploy_dates = list(set(deploy_dates))\n",
    "deploy_dates[0:10]"
   ]
  },
  {
   "cell_type": "code",
   "execution_count": null,
   "metadata": {},
   "outputs": [],
   "source": [
    "len(deploy_dates)"
   ]
  },
  {
   "cell_type": "code",
   "execution_count": null,
   "metadata": {},
   "outputs": [],
   "source": [
    "check_files = []\n",
    "for root, dirs, files in os.walk('../GitHub/OOI-Integration/asset-management/calibration/'):\n",
    "    for name in files:\n",
    "        if 'CGINS' in name:\n",
    "            cal_date = name.split('__')[1].split('.')[0]\n",
    "            if cal_date in deploy_dates:\n",
    "                check_files.append(name)"
   ]
  },
  {
   "cell_type": "code",
   "execution_count": null,
   "metadata": {},
   "outputs": [],
   "source": [
    "# Okay, there are a potential 1364 files that we need to check on the\n",
    "# calibration date in the file name, because the parsed date in the \n",
    "# file name matches a deployment date.\n",
    "len(list(set(check_files)))"
   ]
  },
  {
   "cell_type": "code",
   "execution_count": null,
   "metadata": {},
   "outputs": [],
   "source": [
    "# Cool, now save the file to the local working directory\n",
    "with open('calibration_files_to_check.csv','w') as csvfile:\n",
    "    writer = csv.writer(csvfile)\n",
    "    writer.writerow(check_files)"
   ]
  }
 ],
 "metadata": {
  "kernelspec": {
   "display_name": "Python 3",
   "language": "python",
   "name": "python3"
  },
  "language_info": {
   "codemirror_mode": {
    "name": "ipython",
    "version": 3
   },
   "file_extension": ".py",
   "mimetype": "text/x-python",
   "name": "python",
   "nbconvert_exporter": "python",
   "pygments_lexer": "ipython3",
   "version": "3.7.1"
  }
 },
 "nbformat": 4,
 "nbformat_minor": 2
}
