{
 "cells": [
  {
   "cell_type": "code",
   "execution_count": 1,
   "metadata": {},
   "outputs": [],
   "source": [
    "from utils import *"
   ]
  },
  {
   "cell_type": "code",
   "execution_count": 2,
   "metadata": {},
   "outputs": [],
   "source": [
    "import csv\n",
    "import datetime\n",
    "import os\n",
    "import shutil\n",
    "import sys\n",
    "import time\n",
    "import re\n",
    "import xml.etree.ElementTree as et\n",
    "import pandas as pd\n",
    "from zipfile import ZipFile"
   ]
  },
  {
   "cell_type": "markdown",
   "metadata": {},
   "source": [
    "========================================================================================================================\n",
    "### Define functions"
   ]
  },
  {
   "cell_type": "code",
   "execution_count": 3,
   "metadata": {},
   "outputs": [],
   "source": [
    "def get_calibration_files(serial_nums,dirpath):\n",
    "    \"\"\"\n",
    "    Function which gets all the calibration files associated with the\n",
    "    instrument serial numbers.\n",
    "    \n",
    "    Args:\n",
    "        serial_nums - serial numbers of the instruments\n",
    "        dirpath - path to the directory containing the calibration files\n",
    "    Returns:\n",
    "        calibration_files - a dictionary of instrument uids with associated\n",
    "            calibration files\n",
    "    \"\"\"\n",
    "    calibration_files = {}\n",
    "    for uid in serial_nums.keys():\n",
    "        sn = serial_nums.get(uid)[0].strip()\n",
    "        sn = str(sn)\n",
    "        files = []\n",
    "        for file in os.listdir(dirpath):\n",
    "            if sn in file:\n",
    "                if 'Calibration' in file:\n",
    "                    files.append(file)\n",
    "                else:\n",
    "                    pass\n",
    "            else:\n",
    "                pass\n",
    "        \n",
    "        calibration_files.update({uid:files})\n",
    "        \n",
    "    return calibration_files"
   ]
  },
  {
   "cell_type": "code",
   "execution_count": 4,
   "metadata": {},
   "outputs": [],
   "source": [
    "def get_qct_files(df, qct_directory):\n",
    "    qct_dict = {}\n",
    "    uids = list(set(df['UID']))\n",
    "    for uid in uids:\n",
    "        df['UID_match'] = df['UID'].apply(lambda x: True if uid in x else False)\n",
    "        qct_series = df[df['UID_match'] == True]['QCT Testing']\n",
    "        qct_series = list(str(qct_series.iloc[0]).split('\\n'))\n",
    "        qct_dict.update({uid:qct_series})\n",
    "    return qct_dict"
   ]
  },
  {
   "cell_type": "code",
   "execution_count": 5,
   "metadata": {},
   "outputs": [],
   "source": [
    "# Now I need to load the all of the csv files based on their UID\n",
    "def load_csv_info(csv_dict,filepath):\n",
    "    \"\"\"\n",
    "    Loads the calibration coefficient information contained in asset management\n",
    "    \n",
    "    Args:\n",
    "        csv_dict - a dictionary which associates an instrument UID to the\n",
    "            calibration csv files in asset management\n",
    "        filepath - the path to the directory containing the calibration csv files\n",
    "    Returns:\n",
    "        csv_cals - a dictionary which associates an instrument UID to a pandas\n",
    "            dataframe which contains the calibration coefficients. The dataframes\n",
    "            are indexed by the date of calibration\n",
    "    \"\"\"\n",
    "    \n",
    "    # Load the calibration data into pandas dataframes, which are then placed into\n",
    "    # a dictionary by the UID\n",
    "    csv_cals = {}\n",
    "    for uid in csv_dict:\n",
    "        cals = pd.DataFrame()\n",
    "        for file in csv_dict[uid]:\n",
    "            data = pd.read_csv(filepath+file)\n",
    "            date = file.split('__')[1].split('.')[0]\n",
    "            data['CAL DATE'] = pd.to_datetime(date)\n",
    "            cals = cals.append(data)\n",
    "        csv_cals.update({uid:cals})\n",
    "        \n",
    "    # Pivot the dataframe to be sorted based on calibration date\n",
    "    for uid in csv_cals:\n",
    "        csv_cals[uid] = csv_cals[uid].pivot(index=csv_cals[uid]['CAL DATE'], columns='name')['value']\n",
    "        \n",
    "    return csv_cals"
   ]
  },
  {
   "cell_type": "code",
   "execution_count": 6,
   "metadata": {},
   "outputs": [],
   "source": [
    "def splitDataFrameList(df,target_column):\n",
    "    ''' \n",
    "    df = dataframe to split,\n",
    "    target_column = the column containing the values to split\n",
    "    separator = the symbol used to perform the split\n",
    "    returns: a dataframe with each entry for the target column separated, with each element moved into a new row. \n",
    "    The values in the other columns are duplicated across the newly divided rows.\n",
    "    '''\n",
    "    \n",
    "    def splitListToRows(row,row_accumulator,target_column):\n",
    "        split_row = row[target_column]\n",
    "        for s in split_row:\n",
    "            new_row = row.to_dict()\n",
    "            new_row[target_column] = s\n",
    "            row_accumulator.append(new_row)\n",
    "            \n",
    "    new_rows = []\n",
    "    df.apply(splitListToRows,axis=1,args = (new_rows,target_column))\n",
    "    new_df = pd.DataFrame(new_rows)\n",
    "    return new_df"
   ]
  },
  {
   "cell_type": "markdown",
   "metadata": {},
   "source": [
    "========================================================================================================================\n",
    "### Directories\n",
    "**Define the main directories where important information is stored.**"
   ]
  },
  {
   "cell_type": "code",
   "execution_count": 306,
   "metadata": {},
   "outputs": [],
   "source": [
    "qct_directory = '/media/andrew/OS/Users/areed/Documents/Project_Files/Records/Instrument_Records/PRESF/PRESF_Results'\n",
    "cal_directory = '/media/andrew/OS/Users/areed/Documents/Project_Files/Records/Instrument_Records/PRESF/PRESF_Cal'\n",
    "asset_management_directory = '/home/andrew/Documents/OOI-CGSN/ooi-integration/asset-management/calibration/PRESFC'"
   ]
  },
  {
   "cell_type": "code",
   "execution_count": 307,
   "metadata": {},
   "outputs": [],
   "source": [
    "excel_spreadsheet = '/media/andrew/OS/Users/areed/Documents/Project_Files/Documentation/System/System Notebook/WHOI_Asset_Tracking.xlsx'\n",
    "sheet_name = 'Sensors'"
   ]
  },
  {
   "cell_type": "code",
   "execution_count": 308,
   "metadata": {},
   "outputs": [
    {
     "data": {
      "text/html": [
       "<div>\n",
       "<style scoped>\n",
       "    .dataframe tbody tr th:only-of-type {\n",
       "        vertical-align: middle;\n",
       "    }\n",
       "\n",
       "    .dataframe tbody tr th {\n",
       "        vertical-align: top;\n",
       "    }\n",
       "\n",
       "    .dataframe thead th {\n",
       "        text-align: right;\n",
       "    }\n",
       "</style>\n",
       "<table border=\"1\" class=\"dataframe\">\n",
       "  <thead>\n",
       "    <tr style=\"text-align: right;\">\n",
       "      <th></th>\n",
       "      <th>Instrument\n",
       "Class</th>\n",
       "      <th>Series</th>\n",
       "      <th>Supplier\n",
       "Serial Number</th>\n",
       "      <th>WHOI #</th>\n",
       "      <th>OOI #</th>\n",
       "      <th>UID</th>\n",
       "      <th>Model</th>\n",
       "      <th>CGSN PN</th>\n",
       "      <th>Firmware Version</th>\n",
       "      <th>Supplier</th>\n",
       "      <th>...</th>\n",
       "      <th>QCT Testing</th>\n",
       "      <th>PreDeployment</th>\n",
       "      <th>Post Deployment</th>\n",
       "      <th>Refurbishment/ Repair</th>\n",
       "      <th>DO Number</th>\n",
       "      <th>Date Received</th>\n",
       "      <th>Deployment History</th>\n",
       "      <th>Current Deployment</th>\n",
       "      <th>Instrument Location on Current Deployment</th>\n",
       "      <th>Notes</th>\n",
       "    </tr>\n",
       "  </thead>\n",
       "  <tbody>\n",
       "    <tr>\n",
       "      <th>1057</th>\n",
       "      <td>PRESF</td>\n",
       "      <td>B</td>\n",
       "      <td>26-1392</td>\n",
       "      <td>116898</td>\n",
       "      <td>A01141</td>\n",
       "      <td>CGINS-PRESFB-01392</td>\n",
       "      <td>26Plus</td>\n",
       "      <td>3305-00012-00002</td>\n",
       "      <td>7.2</td>\n",
       "      <td>SeaBird</td>\n",
       "      <td>...</td>\n",
       "      <td>3305-00105-00018\\n3305-00105-00045\\n3305-00105...</td>\n",
       "      <td>NaN</td>\n",
       "      <td>NaN</td>\n",
       "      <td>3305-00900-00178\\n3305-00900-00361</td>\n",
       "      <td>WHOI_11-09-2011-PRESF-1003</td>\n",
       "      <td>10/30/2014\\n4/3/2015</td>\n",
       "      <td>CP01CNSM-00005\\nCP8 Spare\\nCP01CNSM-00008\\nCP0...</td>\n",
       "      <td>NaN</td>\n",
       "      <td>MFN</td>\n",
       "      <td>NaN</td>\n",
       "    </tr>\n",
       "    <tr>\n",
       "      <th>1058</th>\n",
       "      <td>PRESF</td>\n",
       "      <td>C</td>\n",
       "      <td>26-1400</td>\n",
       "      <td>116909</td>\n",
       "      <td>A01187</td>\n",
       "      <td>CGINS-PRESFC-01400</td>\n",
       "      <td>26Plus</td>\n",
       "      <td>3305-00012-00003</td>\n",
       "      <td>7.2</td>\n",
       "      <td>SeaBird</td>\n",
       "      <td>...</td>\n",
       "      <td>3305-00105-00019\\n3305-00105-00028\\n3305-00108...</td>\n",
       "      <td>NaN</td>\n",
       "      <td>NaN</td>\n",
       "      <td>3305-00900-00085</td>\n",
       "      <td>WHOI_11-09-2011-PRESF-1003</td>\n",
       "      <td>2014-12-12 00:00:00</td>\n",
       "      <td>CP04OSSM-00002\\nCP04OSSM-00005\\nCP04OSSM-00008</td>\n",
       "      <td>Pioneer 12 spare</td>\n",
       "      <td>NaN</td>\n",
       "      <td>NaN</td>\n",
       "    </tr>\n",
       "    <tr>\n",
       "      <th>1059</th>\n",
       "      <td>PRESF</td>\n",
       "      <td>C</td>\n",
       "      <td>26-1401</td>\n",
       "      <td>116910</td>\n",
       "      <td>A01188</td>\n",
       "      <td>CGINS-PRESFC-01401</td>\n",
       "      <td>26Plus</td>\n",
       "      <td>3305-00012-00003</td>\n",
       "      <td>7.2</td>\n",
       "      <td>SeaBird</td>\n",
       "      <td>...</td>\n",
       "      <td>3305-00105-00020\\n3305-00105-00037\\n3305-00105...</td>\n",
       "      <td>NaN</td>\n",
       "      <td>NaN</td>\n",
       "      <td>3305-00900-00135\\n3305-00900-00309</td>\n",
       "      <td>WHOI_11-09-2011-PRESF-1003</td>\n",
       "      <td>2014-12-12 00:00:00</td>\n",
       "      <td>CP4 Spare\\nCP04OSSM-00003\\nCP04OSSM-00006\\nP10...</td>\n",
       "      <td>CP04OSSM-00010</td>\n",
       "      <td>MFN</td>\n",
       "      <td>NaN</td>\n",
       "    </tr>\n",
       "    <tr>\n",
       "      <th>1061</th>\n",
       "      <td>PRESF</td>\n",
       "      <td>B</td>\n",
       "      <td>26P64515-1329</td>\n",
       "      <td>114940</td>\n",
       "      <td>A00051</td>\n",
       "      <td>CGINS-PRESFB-01329</td>\n",
       "      <td>26Plus</td>\n",
       "      <td>3305-00012-00002</td>\n",
       "      <td>6.1e</td>\n",
       "      <td>SeaBird</td>\n",
       "      <td>...</td>\n",
       "      <td>3305-00105-00002\\n3305-00105-00027\\n3305-00105...</td>\n",
       "      <td>NaN</td>\n",
       "      <td>NaN</td>\n",
       "      <td>3305-00900-00085\\n3305-00900-00178\\n3305-00900...</td>\n",
       "      <td>WH-DO-1</td>\n",
       "      <td>2012-04-09 00:00:00</td>\n",
       "      <td>CP1 Spare\\nCP3a Spare\\nCP03ISSM-00002\\nCP03ISS...</td>\n",
       "      <td>NaN</td>\n",
       "      <td>MFN</td>\n",
       "      <td>NaN</td>\n",
       "    </tr>\n",
       "    <tr>\n",
       "      <th>1062</th>\n",
       "      <td>PRESF</td>\n",
       "      <td>B</td>\n",
       "      <td>26P71826-1352</td>\n",
       "      <td>115275</td>\n",
       "      <td>A00165</td>\n",
       "      <td>CGINS-PRESFB-01352</td>\n",
       "      <td>26Plus</td>\n",
       "      <td>3305-00012-00002</td>\n",
       "      <td>7.2</td>\n",
       "      <td>SeaBird</td>\n",
       "      <td>...</td>\n",
       "      <td>3305-00105-00003\\n3305-00105-00038\\n3305-00105...</td>\n",
       "      <td>NaN</td>\n",
       "      <td>NaN</td>\n",
       "      <td>3305-00900-00013\\n3305-00900-00135\\n3305-00900...</td>\n",
       "      <td>WHOI_Contract_11-09-2011-PRESF-1001</td>\n",
       "      <td>2813-01-01 00:00:00</td>\n",
       "      <td>CP01CNSM-00001\\nCP4 Spare\\nCP03ISSM-00003\\nCP0...</td>\n",
       "      <td>CP01CNSM-00011</td>\n",
       "      <td>MFN</td>\n",
       "      <td>NaN</td>\n",
       "    </tr>\n",
       "    <tr>\n",
       "      <th>1063</th>\n",
       "      <td>PRESF</td>\n",
       "      <td>B</td>\n",
       "      <td>26P76848-1386</td>\n",
       "      <td>116453</td>\n",
       "      <td>A00813</td>\n",
       "      <td>CGINS-PRESFB-01386</td>\n",
       "      <td>26Plus</td>\n",
       "      <td>3305-00012-00002</td>\n",
       "      <td>7.2</td>\n",
       "      <td>SeaBird</td>\n",
       "      <td>...</td>\n",
       "      <td>3305-00105-00010\\n3305-00105-00025\\n3305-00105...</td>\n",
       "      <td>NaN</td>\n",
       "      <td>NaN</td>\n",
       "      <td>3305-00900-00085\\n3305-00900-00178\\n3305-00900...</td>\n",
       "      <td>WHOI_Contract_11-09-2011-PRESF-1002</td>\n",
       "      <td>2014-04-11 00:00:00</td>\n",
       "      <td>CP01CNSM-00002\\nCP01CNSM-00003\\nCP04OSSM-00004...</td>\n",
       "      <td>CP03ISSM-00010</td>\n",
       "      <td>MFN</td>\n",
       "      <td>NaN</td>\n",
       "    </tr>\n",
       "    <tr>\n",
       "      <th>1064</th>\n",
       "      <td>PRESF</td>\n",
       "      <td>B</td>\n",
       "      <td>26P76848-1387</td>\n",
       "      <td>116337</td>\n",
       "      <td>A00761</td>\n",
       "      <td>CGINS-PRESFB-01387</td>\n",
       "      <td>26Plus</td>\n",
       "      <td>3305-00012-00002</td>\n",
       "      <td>7.2</td>\n",
       "      <td>SeaBird</td>\n",
       "      <td>...</td>\n",
       "      <td>3305-00105-00011\\n3305-00105-00026\\n3305-00105...</td>\n",
       "      <td>NaN</td>\n",
       "      <td>NaN</td>\n",
       "      <td>3305-00900-00085</td>\n",
       "      <td>WHOI_Contract_11-09-2011-PRESF-1002</td>\n",
       "      <td>2014-04-11 00:00:00</td>\n",
       "      <td>CP03ISSM-00001\\nCP01CNSM-00006\\nCP03ISSM-00008</td>\n",
       "      <td>Pioneer 12 spare</td>\n",
       "      <td>NaN</td>\n",
       "      <td>NaN</td>\n",
       "    </tr>\n",
       "    <tr>\n",
       "      <th>1065</th>\n",
       "      <td>PRESF</td>\n",
       "      <td>C</td>\n",
       "      <td>26P76848-1388</td>\n",
       "      <td>116338</td>\n",
       "      <td>A00762</td>\n",
       "      <td>CGINS-PRESFC-01388</td>\n",
       "      <td>26Plus</td>\n",
       "      <td>3305-00012-00003</td>\n",
       "      <td>7.2</td>\n",
       "      <td>SeaBird</td>\n",
       "      <td>...</td>\n",
       "      <td>3305-00105-00012\\n3305-00105-00024\\n3305-00105...</td>\n",
       "      <td>NaN</td>\n",
       "      <td>NaN</td>\n",
       "      <td>3305-00900-00035\\n3305-00900-00364</td>\n",
       "      <td>WHOI_Contract_11-09-2011-PRESF-1002</td>\n",
       "      <td>2014-04-11 00:00:00</td>\n",
       "      <td>CP04OSSM-00001\\nCP8 Spare\\nCP04OSSM-00007\\nCP0...</td>\n",
       "      <td>NaN</td>\n",
       "      <td>MFN</td>\n",
       "      <td>NaN</td>\n",
       "    </tr>\n",
       "  </tbody>\n",
       "</table>\n",
       "<p>8 rows × 25 columns</p>\n",
       "</div>"
      ],
      "text/plain": [
       "     Instrument\\nClass Series Supplier\\nSerial Number  WHOI #   OOI #  \\\n",
       "1057             PRESF      B                 26-1392  116898  A01141   \n",
       "1058             PRESF      C                 26-1400  116909  A01187   \n",
       "1059             PRESF      C                 26-1401  116910  A01188   \n",
       "1061             PRESF      B           26P64515-1329  114940  A00051   \n",
       "1062             PRESF      B           26P71826-1352  115275  A00165   \n",
       "1063             PRESF      B          26P76848-1386   116453  A00813   \n",
       "1064             PRESF      B           26P76848-1387  116337  A00761   \n",
       "1065             PRESF      C           26P76848-1388  116338  A00762   \n",
       "\n",
       "                     UID   Model           CGSN PN Firmware Version Supplier  \\\n",
       "1057  CGINS-PRESFB-01392  26Plus  3305-00012-00002              7.2  SeaBird   \n",
       "1058  CGINS-PRESFC-01400  26Plus  3305-00012-00003              7.2  SeaBird   \n",
       "1059  CGINS-PRESFC-01401  26Plus  3305-00012-00003              7.2  SeaBird   \n",
       "1061  CGINS-PRESFB-01329  26Plus  3305-00012-00002             6.1e  SeaBird   \n",
       "1062  CGINS-PRESFB-01352  26Plus  3305-00012-00002              7.2  SeaBird   \n",
       "1063  CGINS-PRESFB-01386  26Plus  3305-00012-00002              7.2  SeaBird   \n",
       "1064  CGINS-PRESFB-01387  26Plus  3305-00012-00002              7.2  SeaBird   \n",
       "1065  CGINS-PRESFC-01388  26Plus  3305-00012-00003              7.2  SeaBird   \n",
       "\n",
       "      ...                                        QCT Testing PreDeployment  \\\n",
       "1057  ...  3305-00105-00018\\n3305-00105-00045\\n3305-00105...           NaN   \n",
       "1058  ...  3305-00105-00019\\n3305-00105-00028\\n3305-00108...           NaN   \n",
       "1059  ...  3305-00105-00020\\n3305-00105-00037\\n3305-00105...           NaN   \n",
       "1061  ...  3305-00105-00002\\n3305-00105-00027\\n3305-00105...           NaN   \n",
       "1062  ...  3305-00105-00003\\n3305-00105-00038\\n3305-00105...           NaN   \n",
       "1063  ...  3305-00105-00010\\n3305-00105-00025\\n3305-00105...           NaN   \n",
       "1064  ...  3305-00105-00011\\n3305-00105-00026\\n3305-00105...           NaN   \n",
       "1065  ...  3305-00105-00012\\n3305-00105-00024\\n3305-00105...           NaN   \n",
       "\n",
       "     Post Deployment                              Refurbishment/ Repair  \\\n",
       "1057             NaN                 3305-00900-00178\\n3305-00900-00361   \n",
       "1058             NaN                                   3305-00900-00085   \n",
       "1059             NaN                 3305-00900-00135\\n3305-00900-00309   \n",
       "1061             NaN  3305-00900-00085\\n3305-00900-00178\\n3305-00900...   \n",
       "1062             NaN  3305-00900-00013\\n3305-00900-00135\\n3305-00900...   \n",
       "1063             NaN  3305-00900-00085\\n3305-00900-00178\\n3305-00900...   \n",
       "1064             NaN                                   3305-00900-00085   \n",
       "1065             NaN                 3305-00900-00035\\n3305-00900-00364   \n",
       "\n",
       "                                DO Number         Date Received  \\\n",
       "1057           WHOI_11-09-2011-PRESF-1003  10/30/2014\\n4/3/2015   \n",
       "1058           WHOI_11-09-2011-PRESF-1003   2014-12-12 00:00:00   \n",
       "1059           WHOI_11-09-2011-PRESF-1003   2014-12-12 00:00:00   \n",
       "1061                              WH-DO-1   2012-04-09 00:00:00   \n",
       "1062  WHOI_Contract_11-09-2011-PRESF-1001   2813-01-01 00:00:00   \n",
       "1063  WHOI_Contract_11-09-2011-PRESF-1002   2014-04-11 00:00:00   \n",
       "1064  WHOI_Contract_11-09-2011-PRESF-1002   2014-04-11 00:00:00   \n",
       "1065  WHOI_Contract_11-09-2011-PRESF-1002   2014-04-11 00:00:00   \n",
       "\n",
       "                                     Deployment History Current Deployment  \\\n",
       "1057  CP01CNSM-00005\\nCP8 Spare\\nCP01CNSM-00008\\nCP0...                NaN   \n",
       "1058     CP04OSSM-00002\\nCP04OSSM-00005\\nCP04OSSM-00008   Pioneer 12 spare   \n",
       "1059  CP4 Spare\\nCP04OSSM-00003\\nCP04OSSM-00006\\nP10...     CP04OSSM-00010   \n",
       "1061  CP1 Spare\\nCP3a Spare\\nCP03ISSM-00002\\nCP03ISS...                NaN   \n",
       "1062  CP01CNSM-00001\\nCP4 Spare\\nCP03ISSM-00003\\nCP0...     CP01CNSM-00011   \n",
       "1063  CP01CNSM-00002\\nCP01CNSM-00003\\nCP04OSSM-00004...     CP03ISSM-00010   \n",
       "1064     CP03ISSM-00001\\nCP01CNSM-00006\\nCP03ISSM-00008   Pioneer 12 spare   \n",
       "1065  CP04OSSM-00001\\nCP8 Spare\\nCP04OSSM-00007\\nCP0...                NaN   \n",
       "\n",
       "     Instrument Location on Current Deployment Notes  \n",
       "1057                                       MFN   NaN  \n",
       "1058                                       NaN   NaN  \n",
       "1059                                       MFN   NaN  \n",
       "1061                                       MFN   NaN  \n",
       "1062                                       MFN   NaN  \n",
       "1063                                       MFN   NaN  \n",
       "1064                                       NaN   NaN  \n",
       "1065                                       MFN   NaN  \n",
       "\n",
       "[8 rows x 25 columns]"
      ]
     },
     "execution_count": 308,
     "metadata": {},
     "output_type": "execute_result"
    }
   ],
   "source": [
    "PRESF = whoi_asset_tracking(excel_spreadsheet,sheet_name,instrument_class='PRESF',whoi=True)\n",
    "PRESF"
   ]
  },
  {
   "cell_type": "markdown",
   "metadata": {},
   "source": [
    "**Identify the QCT Testing documents associated with each individual instrument (the UID)**"
   ]
  },
  {
   "cell_type": "code",
   "execution_count": 309,
   "metadata": {},
   "outputs": [
    {
     "data": {
      "text/plain": [
       "{'CGINS-PRESFB-01392': ['3305-00105-00018',\n",
       "  '3305-00105-00045',\n",
       "  '3305-00105-00066'],\n",
       " 'CGINS-PRESFB-01386': ['3305-00105-00010',\n",
       "  '3305-00105-00025',\n",
       "  '3305-00105-00044',\n",
       "  '3305-00105-00056'],\n",
       " 'CGINS-PRESFB-01329': ['3305-00105-00002',\n",
       "  '3305-00105-00027',\n",
       "  '3305-00105-00043',\n",
       "  '3305-00105-00054'],\n",
       " 'CGINS-PRESFB-01352': ['3305-00105-00003',\n",
       "  '3305-00105-00038',\n",
       "  '3305-00105-00047',\n",
       "  '3305-00105-00065'],\n",
       " 'CGINS-PRESFC-01400': ['3305-00105-00019',\n",
       "  '3305-00105-00028',\n",
       "  '3305-00108-00048'],\n",
       " 'CGINS-PRESFB-01387': ['3305-00105-00011',\n",
       "  '3305-00105-00026',\n",
       "  '3305-00105-00046'],\n",
       " 'CGINS-PRESFC-01388': ['3305-00105-00012',\n",
       "  '3305-00105-00024',\n",
       "  '3305-00105-00067'],\n",
       " 'CGINS-PRESFC-01401': ['3305-00105-00020',\n",
       "  '3305-00105-00037',\n",
       "  '3305-00105-00055']}"
      ]
     },
     "execution_count": 309,
     "metadata": {},
     "output_type": "execute_result"
    }
   ],
   "source": [
    "qct_dict = get_qct_files(PRESF, qct_directory)\n",
    "qct_dict"
   ]
  },
  {
   "cell_type": "markdown",
   "metadata": {},
   "source": [
    "**Identify the calibration csvs stored in asset management which correspond to a particular instrument.**"
   ]
  },
  {
   "cell_type": "code",
   "execution_count": 310,
   "metadata": {},
   "outputs": [
    {
     "data": {
      "text/plain": [
       "{'CGINS-PRESFC-01388': ['CGINS-PRESFC-01388__20180614.csv',\n",
       "  'CGINS-PRESFC-01388__20150929.csv',\n",
       "  'CGINS-PRESFC-01388__20141212.csv'],\n",
       " 'CGINS-PRESFC-01400': ['CGINS-PRESFC-01400__20170811.csv',\n",
       "  'CGINS-PRESFC-01400__20150509.csv',\n",
       "  'CGINS-PRESFC-01400__20161012.csv'],\n",
       " 'CGINS-PRESFC-01401': ['CGINS-PRESFC-01401__20151022.csv',\n",
       "  'CGINS-PRESFC-01401__20160818.csv',\n",
       "  'CGINS-PRESFC-01401__20171217.csv']}"
      ]
     },
     "execution_count": 310,
     "metadata": {},
     "output_type": "execute_result"
    }
   ],
   "source": [
    "csv_dict = load_asset_management(PRESF, asset_management_directory)\n",
    "csv_dict"
   ]
  },
  {
   "cell_type": "code",
   "execution_count": 311,
   "metadata": {},
   "outputs": [],
   "source": [
    "uids = sorted(list(csv_dict.keys()))"
   ]
  },
  {
   "cell_type": "code",
   "execution_count": 312,
   "metadata": {},
   "outputs": [
    {
     "data": {
      "text/plain": [
       "{'CGINS-PRESFC-01388': ['26P76848-1388'],\n",
       " 'CGINS-PRESFC-01400': ['26-1400'],\n",
       " 'CGINS-PRESFC-01401': ['26-1401']}"
      ]
     },
     "execution_count": 312,
     "metadata": {},
     "output_type": "execute_result"
    }
   ],
   "source": [
    "serial_nums = get_serial_nums(PRESF, uids)\n",
    "serial_nums"
   ]
  },
  {
   "cell_type": "code",
   "execution_count": 313,
   "metadata": {},
   "outputs": [
    {
     "data": {
      "text/plain": [
       "{'CGINS-PRESFC-01388': ['PRESF-C_SBE_26plus_SN_26P76848-1388_Calibration_Documents_2014-04-11.pdf',\n",
       "  'PRESF-C_SBE_26Plus_SN_26P76848-1388_Calibration_Files_2015-10-16.zip',\n",
       "  'PRESF-C_SBE_26Plus_SN_26P76848-1388_Calibration_Files_2018-06-16.zip'],\n",
       " 'CGINS-PRESFC-01400': ['PRESF-C_SBE_26Plus_SN_26-1400_Calibration_Files_2014-12-12.zip',\n",
       "  'PRESF-C_SBE_26Plus_SN_26-1400_Calibration_Files_2016-01-06.zip',\n",
       "  'PRESF-C_SBE_26Plus_SN_26-1400_Calibration_Files_2017-07-25.zip'],\n",
       " 'CGINS-PRESFC-01401': ['PRESF-C_SBE_26Plus_SN_26-1401_Calibration_Files_2014-12-12.zip',\n",
       "  'PRESF-C_SBE_26Plus_SN_26-1401_Calibration_Files_2016-08-16.zip',\n",
       "  'PRESF-C_SBE_26Plus_SN_26-1401_Calibration_Files_2017-12-17.zip']}"
      ]
     },
     "execution_count": 313,
     "metadata": {},
     "output_type": "execute_result"
    }
   ],
   "source": [
    "cal_dict = get_calibration_files(serial_nums, cal_directory)\n",
    "cal_dict"
   ]
  },
  {
   "cell_type": "markdown",
   "metadata": {},
   "source": [
    "========================================================================================================================\n",
    "**Now, need to get all the files for a particular CTDMO UID:**"
   ]
  },
  {
   "cell_type": "code",
   "execution_count": 404,
   "metadata": {},
   "outputs": [
    {
     "data": {
      "text/plain": [
       "'CGINS-PRESFC-01401'"
      ]
     },
     "execution_count": 404,
     "metadata": {},
     "output_type": "execute_result"
    }
   ],
   "source": [
    "uid = sorted(uids)[2]\n",
    "uid"
   ]
  },
  {
   "cell_type": "code",
   "execution_count": 405,
   "metadata": {},
   "outputs": [
    {
     "name": "stdout",
     "output_type": "stream",
     "text": [
      "PRESF-C_SBE_26Plus_SN_26-1401_Calibration_Files_2014-12-12.zip\n",
      "PRESF-C_SBE_26Plus_SN_26-1401_Calibration_Files_2016-08-16.zip\n",
      "PRESF-C_SBE_26Plus_SN_26-1401_Calibration_Files_2017-12-17.zip\n"
     ]
    }
   ],
   "source": [
    "cal_files = sorted(cal_dict[uid])\n",
    "for file in cal_files:\n",
    "    print(file)"
   ]
  },
  {
   "cell_type": "code",
   "execution_count": 406,
   "metadata": {},
   "outputs": [
    {
     "name": "stdout",
     "output_type": "stream",
     "text": [
      "CGINS-PRESFC-01401__20151022.csv\n",
      "CGINS-PRESFC-01401__20160818.csv\n",
      "CGINS-PRESFC-01401__20171217.csv\n"
     ]
    }
   ],
   "source": [
    "csv_files = sorted(csv_dict[uid])\n",
    "for file in csv_files:\n",
    "    print(file)"
   ]
  },
  {
   "cell_type": "code",
   "execution_count": 407,
   "metadata": {},
   "outputs": [
    {
     "name": "stdout",
     "output_type": "stream",
     "text": [
      "3305-00105-00020\n",
      "3305-00105-00037\n",
      "3305-00105-00055\n"
     ]
    }
   ],
   "source": [
    "qct_files = sorted(qct_dict[uid])\n",
    "for file in qct_files:\n",
    "    print(file)"
   ]
  },
  {
   "cell_type": "code",
   "execution_count": 408,
   "metadata": {},
   "outputs": [
    {
     "data": {
      "text/plain": [
       "['/home/andrew/Documents/OOI-CGSN/ooi-integration/asset-management/calibration/PRESFC/CGINS-PRESFC-01401__20151022.csv',\n",
       " '/home/andrew/Documents/OOI-CGSN/ooi-integration/asset-management/calibration/PRESFC/CGINS-PRESFC-01401__20160818.csv',\n",
       " '/home/andrew/Documents/OOI-CGSN/ooi-integration/asset-management/calibration/PRESFC/CGINS-PRESFC-01401__20171217.csv']"
      ]
     },
     "execution_count": 408,
     "metadata": {},
     "output_type": "execute_result"
    }
   ],
   "source": [
    "csv_path = []\n",
    "for cf in csv_files:\n",
    "    path = generate_file_path(asset_management_directory, cf)\n",
    "    csv_path.append(path)\n",
    "csv_path"
   ]
  },
  {
   "cell_type": "code",
   "execution_count": 409,
   "metadata": {},
   "outputs": [
    {
     "data": {
      "text/plain": [
       "['/media/andrew/OS/Users/areed/Documents/Project_Files/Records/Instrument_Records/PRESF/PRESF_Cal/PRESF-C_SBE_26Plus_SN_26-1401_Calibration_Files_2014-12-12.zip',\n",
       " '/media/andrew/OS/Users/areed/Documents/Project_Files/Records/Instrument_Records/PRESF/PRESF_Cal/PRESF-C_SBE_26Plus_SN_26-1401_Calibration_Files_2016-08-16.zip',\n",
       " '/media/andrew/OS/Users/areed/Documents/Project_Files/Records/Instrument_Records/PRESF/PRESF_Cal/PRESF-C_SBE_26Plus_SN_26-1401_Calibration_Files_2017-12-17.zip']"
      ]
     },
     "execution_count": 409,
     "metadata": {},
     "output_type": "execute_result"
    }
   ],
   "source": [
    "cal_path = []\n",
    "for cf in cal_files:\n",
    "    path = generate_file_path(cal_directory, cf)\n",
    "    cal_path.append(path)\n",
    "cal_path"
   ]
  },
  {
   "cell_type": "code",
   "execution_count": 410,
   "metadata": {},
   "outputs": [
    {
     "data": {
      "text/plain": [
       "['/media/andrew/OS/Users/areed/Documents/Project_Files/Records/Instrument_Records/PRESF/PRESF_Results/3305-00105-00020-A.zip',\n",
       " '/media/andrew/OS/Users/areed/Documents/Project_Files/Records/Instrument_Records/PRESF/PRESF_Results/3305-00105-00037-A.zip',\n",
       " '/media/andrew/OS/Users/areed/Documents/Project_Files/Records/Instrument_Records/PRESF/PRESF_Results/3305-00105-00055-A.zip']"
      ]
     },
     "execution_count": 410,
     "metadata": {},
     "output_type": "execute_result"
    }
   ],
   "source": [
    "qct_path = []\n",
    "for qf in qct_files:\n",
    "    path = generate_file_path(qct_directory, qf, ext=['.log','.txt','.zip'])\n",
    "    qct_path.append(path)\n",
    "qct_path"
   ]
  },
  {
   "cell_type": "markdown",
   "metadata": {},
   "source": [
    "========================================================================================================================\n",
    "### Now develop code to load the calibration coeffs from the capture files\n",
    "The **PRESFCalibration** object below is an object designed to load, parse, and write the respective PRESF calibration csvs. The calibration coefficients are stored in the object as attributes."
   ]
  },
  {
   "cell_type": "code",
   "execution_count": 411,
   "metadata": {},
   "outputs": [],
   "source": [
    "class PRESFCalibration():\n",
    "    # Class that stores calibration values for CTDs.\n",
    "\n",
    "    def __init__(self, uid):\n",
    "        self.serial = ''\n",
    "        self.uid = uid\n",
    "        self.coefficients = {\n",
    "            'CC_offset_correction_factor':'0',\n",
    "            'CC_slope_correction_factor':'1',\n",
    "        }\n",
    "        self.date = {}\n",
    "        self.notes = {}\n",
    "\n",
    "        # Name mapping for the MO-type CTDs (when reading from pdfs)\n",
    "        self.coefficient_name_map = {\n",
    "            'U0':'CC_u0',\n",
    "            'Y1':'CC_y1',\n",
    "            'Y2':'CC_y2',\n",
    "            'Y3':'CC_y3',\n",
    "            'C1':'CC_c1',\n",
    "            'C2':'CC_c2',\n",
    "            'C3':'CC_c3',\n",
    "            'D1':'CC_d1',\n",
    "            'D2':'CC_d2',\n",
    "            'T1':'CC_t1',\n",
    "            'T2':'CC_t2',\n",
    "            'T3':'CC_t3',\n",
    "            'T4':'CC_t4',\n",
    "            'M':'CC_m',\n",
    "            'B':'CC_b',\n",
    "            'OFFSET':'CC_pressure_offset_calibration_coefficient'\n",
    "        }\n",
    "\n",
    "    @property\n",
    "    def uid(self):\n",
    "        return self._uid\n",
    "\n",
    "    @uid.setter\n",
    "    def uid(self, d):\n",
    "        r = re.compile('.{5}-.{6}-.{5}')\n",
    "        if r.match(d) is not None:\n",
    "            self.serial = '26-' + d.split('-')[2].lstrip('0')\n",
    "            self._uid = d\n",
    "        else:\n",
    "            raise Exception(f\"The instrument uid {d} is not a valid uid. Please check.\")\n",
    "            \n",
    "\n",
    "    def parse_qct(self, filepath):\n",
    "        \"\"\"\n",
    "        Parses the QCT data in ascii-format.\n",
    "        \n",
    "        Args:\n",
    "            filepath - the full directory to either the parent \n",
    "                directory or the full path with filename of the\n",
    "                QCT file to parse\n",
    "        Returns:\n",
    "            self.coefficients - a dictionary which contains the\n",
    "                calibration coefficients names as key with associated\n",
    "                values as the key-entries\n",
    "        \"\"\"\n",
    "        \n",
    "        data = self.open_qct(filepath)\n",
    "        Calflag = False\n",
    "        for line in data.splitlines():\n",
    "    \n",
    "            line = line.replace('*','').strip()\n",
    "    \n",
    "            if 'Pressure coefficients' in line:\n",
    "                _, cal_date = line.split(':')\n",
    "                cal_date = pd.to_datetime(cal_date.strip()).strftime('%Y%m%d')\n",
    "                self.date = cal_date\n",
    "                # Turn on the flag\n",
    "                Calflag = True\n",
    "                # And move on to the next line\n",
    "                continue\n",
    "            elif 'Temperature coefficients' in line:\n",
    "                # Turn the flag off\n",
    "                Calflag = False\n",
    "            else:\n",
    "                pass\n",
    "        \n",
    "            if Calflag:\n",
    "                key,_,value = line.split()\n",
    "                name = self.coefficient_name_map.get(key)\n",
    "                self.coefficients.update({name:value})\n",
    "            \n",
    "            \n",
    "    def open_qct(self, filepath):\n",
    "        \"\"\"\n",
    "        Function which opens and reads in the QCT data into a \n",
    "        format which is parseable.\n",
    "        \n",
    "        Args:\n",
    "            filepath - the full directory to either the parent \n",
    "                directory or the full path with filename of the\n",
    "                QCT file to parse\n",
    "        Returns:\n",
    "            data - the data in ascii-format from the QCT file\n",
    "        \"\"\"\n",
    "        \n",
    "        if filepath.endswith('.zip'):\n",
    "            with ZipFile(filepath) as zfile:\n",
    "                for name in zfile.namelist():\n",
    "                    if fnmatch.fnmatch(name,'*.hex'):\n",
    "                        fname = name\n",
    "                data = zfile.read(fname).decode('ascii')\n",
    "\n",
    "        elif os.path.isdir(filepath):\n",
    "            for file in os.listdir(filepath):\n",
    "                if fnmatch.fnmatch(name,'*.hex'):\n",
    "                    fname = file\n",
    "            with open(fname) as file:\n",
    "                data = file.read().decode('ascii')\n",
    "                \n",
    "        else:\n",
    "            with open(filepath) as file:\n",
    "                data = file.read().decode('ascii')\n",
    "        \n",
    "        return data\n",
    "\n",
    "\n",
    "    def write_csv(self, outpath):\n",
    "        \"\"\"\n",
    "        This function writes the correctly named csv file for the ctd to the\n",
    "        specified directory.\n",
    "\n",
    "        Args:\n",
    "            outpath - directory path of where to write the csv file\n",
    "        Raises:\n",
    "            ValueError - raised if the CTD object's coefficient dictionary\n",
    "                has not been populated\n",
    "        Returns:\n",
    "            self.to_csv - a csv of the calibration coefficients which is\n",
    "                written to the specified directory from the outpath.\n",
    "        \"\"\"\n",
    "\n",
    "        # Run a check that the coefficients have actually been loaded\n",
    "        if len(self.coefficients) == 0:\n",
    "            raise ValueError('No calibration coefficients have been loaded.')\n",
    "\n",
    "        # Create a dataframe to write to the csv\n",
    "        data = {\n",
    "            'serial': [self.serial]*len(self.coefficients),\n",
    "            'name': list(self.coefficients.keys()),\n",
    "            'value': list(self.coefficients.values())\n",
    "        }\n",
    "        df = pd.DataFrame().from_dict(data)\n",
    "\n",
    "        # Define a function to reformat the notes into an uniform system\n",
    "        def reformat_notes(x):\n",
    "            # First, get rid of \n",
    "            try:\n",
    "                np.isnan(x)\n",
    "                x = ''\n",
    "            except:\n",
    "                x = str(x).replace('[','').replace(']','')\n",
    "            return x\n",
    "        \n",
    "        # Now merge the coefficients dataframe with the notes\n",
    "        if len(self.notes) > 0:\n",
    "            notes = pd.DataFrame().from_dict({\n",
    "                'name':list(self.notes.keys()),\n",
    "                'notes':list(self.notes.values())\n",
    "            })\n",
    "            df = df.merge(notes, how='outer', left_on='name', right_on='name')\n",
    "        else:\n",
    "            df['notes'] = ''\n",
    "        \n",
    "        # Sort the data by the coefficient name\n",
    "        df = df.sort_values(by='name')\n",
    "\n",
    "        # Generate the csv name\n",
    "        cal_date = self.date\n",
    "        csv_name = self.uid + '__' + cal_date + '.csv'\n",
    "\n",
    "        # Write the dataframe to a csv file\n",
    "        # check = input(f\"Write {csv_name} to {outpath}? [y/n]: \")\n",
    "        check = 'y'\n",
    "        if check.lower().strip() == 'y':\n",
    "            df.to_csv(outpath+'/'+csv_name, index=False)"
   ]
  },
  {
   "cell_type": "markdown",
   "metadata": {},
   "source": [
    "**Initialize the PRESFCalibration object using the instrument uid.**"
   ]
  },
  {
   "cell_type": "code",
   "execution_count": 167,
   "metadata": {},
   "outputs": [],
   "source": [
    "presf = PRESFCalibration(uid)"
   ]
  },
  {
   "cell_type": "markdown",
   "metadata": {},
   "source": [
    "**Check that the serial number has been correctly parsed.**"
   ]
  },
  {
   "cell_type": "code",
   "execution_count": 168,
   "metadata": {},
   "outputs": [
    {
     "data": {
      "text/plain": [
       "'26-1386'"
      ]
     },
     "execution_count": 168,
     "metadata": {},
     "output_type": "execute_result"
    }
   ],
   "source": [
    "presf.serial"
   ]
  },
  {
   "cell_type": "markdown",
   "metadata": {},
   "source": [
    "**Load the PRESF calibration coefficients based on the QCT file.**"
   ]
  },
  {
   "cell_type": "code",
   "execution_count": 169,
   "metadata": {},
   "outputs": [],
   "source": [
    "presf.parse_qct(qct_path[2])"
   ]
  },
  {
   "cell_type": "markdown",
   "metadata": {},
   "source": [
    "**Check that the calibration coefficients loaded successfully.**"
   ]
  },
  {
   "cell_type": "code",
   "execution_count": 170,
   "metadata": {},
   "outputs": [
    {
     "data": {
      "text/plain": [
       "{'CC_offset_correction_factor': '0',\n",
       " 'CC_slope_correction_factor': '1',\n",
       " 'CC_u0': '5.810283e+00',\n",
       " 'CC_y1': '-3.944121e+03',\n",
       " 'CC_y2': '-1.073763e+04',\n",
       " 'CC_y3': '0.000000e+00',\n",
       " 'CC_c1': '2.066838e+03',\n",
       " 'CC_c2': '-1.270562e+01',\n",
       " 'CC_c3': '-3.470497e+03',\n",
       " 'CC_d1': '2.391000e-02',\n",
       " 'CC_d2': '0.000000e+00',\n",
       " 'CC_t1': '2.763804e+01',\n",
       " 'CC_t2': '4.278750e-01',\n",
       " 'CC_t3': '1.776240e+01',\n",
       " 'CC_t4': '2.186445e+01',\n",
       " 'CC_m': '41943.0',\n",
       " 'CC_b': '2796.2',\n",
       " 'CC_pressure_offset_calibration_coefficient': '-1.930000e-01'}"
      ]
     },
     "execution_count": 170,
     "metadata": {},
     "output_type": "execute_result"
    }
   ],
   "source": [
    "presf.coefficients"
   ]
  },
  {
   "cell_type": "code",
   "execution_count": 171,
   "metadata": {},
   "outputs": [
    {
     "data": {
      "text/plain": [
       "['3305-00105-00010',\n",
       " '3305-00105-00025',\n",
       " '3305-00105-00044',\n",
       " '3305-00105-00056']"
      ]
     },
     "execution_count": 171,
     "metadata": {},
     "output_type": "execute_result"
    }
   ],
   "source": [
    "qct_dict[uid]"
   ]
  },
  {
   "cell_type": "markdown",
   "metadata": {},
   "source": [
    "**Now, if you want to add any notes to the calibration csv, they can be added using a dictionary to the notes attribute, based on the calibration coefficient name by writing.**"
   ]
  },
  {
   "cell_type": "code",
   "execution_count": 172,
   "metadata": {},
   "outputs": [],
   "source": [
    "presf.notes = {\n",
    "    'CC_b': 'Source file is QCT document number 3305-00105-00043.',\n",
    "    'CC_m': 'I think that this is a constant value.'\n",
    "}"
   ]
  },
  {
   "cell_type": "markdown",
   "metadata": {},
   "source": [
    "**For right now, write the file to a temporary local directory.**"
   ]
  },
  {
   "cell_type": "code",
   "execution_count": 322,
   "metadata": {},
   "outputs": [],
   "source": [
    "temp_directory = '/'.join((os.getcwd(),'temp'))\n",
    "temp_directory\n",
    "shutil.rmtree(temp_directory)"
   ]
  },
  {
   "cell_type": "code",
   "execution_count": 323,
   "metadata": {},
   "outputs": [],
   "source": [
    "temp_path = '/'.join((temp_directory,'qct'))\n",
    "ensure_dir(temp_path)"
   ]
  },
  {
   "cell_type": "markdown",
   "metadata": {},
   "source": [
    "**Write the PRESF calibration object using the standardized naming format to the temporary directory in a format that can be ingested by UFrame.**"
   ]
  },
  {
   "cell_type": "code",
   "execution_count": 252,
   "metadata": {},
   "outputs": [],
   "source": [
    "presf.write_csv(temp_path)"
   ]
  },
  {
   "cell_type": "markdown",
   "metadata": {},
   "source": [
    "**Check that it wrote.**"
   ]
  },
  {
   "cell_type": "code",
   "execution_count": 253,
   "metadata": {},
   "outputs": [
    {
     "data": {
      "text/plain": [
       "['CGINS-PRESFB-01387__20170724.csv']"
      ]
     },
     "execution_count": 253,
     "metadata": {},
     "output_type": "execute_result"
    }
   ],
   "source": [
    "os.listdir(temp_path)"
   ]
  },
  {
   "cell_type": "markdown",
   "metadata": {},
   "source": [
    "========================================================================================================================\n",
    "## Metadata Comparison\n",
    "Now the goal is to compare the calibration csvs contained in asset management against the calibration coefficients stored in the QCT files."
   ]
  },
  {
   "cell_type": "markdown",
   "metadata": {},
   "source": [
    "**First, need to copy the calibration csvs from asset management to the local temp directory.**"
   ]
  },
  {
   "cell_type": "code",
   "execution_count": 412,
   "metadata": {},
   "outputs": [],
   "source": [
    "shutil.rmtree('/'.join((os.getcwd(),'temp')))"
   ]
  },
  {
   "cell_type": "code",
   "execution_count": 413,
   "metadata": {},
   "outputs": [],
   "source": [
    "for file in csv_path:\n",
    "    savedir = '/'.join((os.getcwd(),'temp','csv'))\n",
    "    ensure_dir(savedir)\n",
    "    shutil.copy(file, savedir)"
   ]
  },
  {
   "cell_type": "code",
   "execution_count": 414,
   "metadata": {},
   "outputs": [
    {
     "data": {
      "text/plain": [
       "['CGINS-PRESFC-01401__20151022.csv',\n",
       " 'CGINS-PRESFC-01401__20160818.csv',\n",
       " 'CGINS-PRESFC-01401__20171217.csv']"
      ]
     },
     "execution_count": 414,
     "metadata": {},
     "output_type": "execute_result"
    }
   ],
   "source": [
    "os.listdir(savedir)"
   ]
  },
  {
   "cell_type": "markdown",
   "metadata": {},
   "source": [
    "**Next, write all the QCT files to the temp directory in the appropriate csv format. This will print out any QCT files which don't parse.**"
   ]
  },
  {
   "cell_type": "code",
   "execution_count": 415,
   "metadata": {},
   "outputs": [],
   "source": [
    "ensure_dir(temp_path)\n",
    "for qct in qct_path:\n",
    "    try:\n",
    "        presf = PRESFCalibration(uid=uid)\n",
    "        presf.parse_qct(qct)\n",
    "        presf.write_csv(temp_path)\n",
    "    except:\n",
    "        print(qct)"
   ]
  },
  {
   "cell_type": "code",
   "execution_count": 420,
   "metadata": {},
   "outputs": [
    {
     "data": {
      "text/plain": [
       "['CGINS-PRESFC-01401__20160714.csv',\n",
       " 'CGINS-PRESFC-01401__20141125.csv',\n",
       " 'CGINS-PRESFC-01401__20171212.csv']"
      ]
     },
     "execution_count": 420,
     "metadata": {},
     "output_type": "execute_result"
    }
   ],
   "source": [
    "os.listdir(temp_path)"
   ]
  },
  {
   "cell_type": "markdown",
   "metadata": {},
   "source": [
    "========================================================================================================================\n",
    "### Compare results\n",
    "Now, with QCT files parsed into csvs which follow the UFrame format, I can load both the QCT and the calibration csvs into pandas dataframes, which will allow element by element comparison in relatively few lines of code."
   ]
  },
  {
   "cell_type": "code",
   "execution_count": 417,
   "metadata": {},
   "outputs": [],
   "source": [
    "def get_file_date(x):\n",
    "    x = str(x)\n",
    "    ind1 = x.index('__')\n",
    "    ind2 = x.index('.')\n",
    "    return x[ind1+2:ind2]"
   ]
  },
  {
   "cell_type": "markdown",
   "metadata": {},
   "source": [
    "**Load the calibration csvs:**"
   ]
  },
  {
   "cell_type": "code",
   "execution_count": 418,
   "metadata": {},
   "outputs": [
    {
     "data": {
      "text/html": [
       "<div>\n",
       "<style scoped>\n",
       "    .dataframe tbody tr th:only-of-type {\n",
       "        vertical-align: middle;\n",
       "    }\n",
       "\n",
       "    .dataframe tbody tr th {\n",
       "        vertical-align: top;\n",
       "    }\n",
       "\n",
       "    .dataframe thead th {\n",
       "        text-align: right;\n",
       "    }\n",
       "</style>\n",
       "<table border=\"1\" class=\"dataframe\">\n",
       "  <thead>\n",
       "    <tr style=\"text-align: right;\">\n",
       "      <th></th>\n",
       "      <th>csv</th>\n",
       "    </tr>\n",
       "    <tr>\n",
       "      <th>cal date</th>\n",
       "      <th></th>\n",
       "    </tr>\n",
       "  </thead>\n",
       "  <tbody>\n",
       "    <tr>\n",
       "      <th>20151022</th>\n",
       "      <td>CGINS-PRESFC-01401__20151022.csv</td>\n",
       "    </tr>\n",
       "    <tr>\n",
       "      <th>20160818</th>\n",
       "      <td>CGINS-PRESFC-01401__20160818.csv</td>\n",
       "    </tr>\n",
       "    <tr>\n",
       "      <th>20171217</th>\n",
       "      <td>CGINS-PRESFC-01401__20171217.csv</td>\n",
       "    </tr>\n",
       "  </tbody>\n",
       "</table>\n",
       "</div>"
      ],
      "text/plain": [
       "                                       csv\n",
       "cal date                                  \n",
       "20151022  CGINS-PRESFC-01401__20151022.csv\n",
       "20160818  CGINS-PRESFC-01401__20160818.csv\n",
       "20171217  CGINS-PRESFC-01401__20171217.csv"
      ]
     },
     "execution_count": 418,
     "metadata": {},
     "output_type": "execute_result"
    }
   ],
   "source": [
    "# Now we want to compare dataframe\n",
    "csv_files = pd.DataFrame(sorted(csv_dict[uid]),columns=['csv'])\n",
    "csv_files['cal date'] = csv_files['csv'].apply(lambda x: get_file_date(x))\n",
    "csv_files.set_index('cal date',inplace=True)\n",
    "csv_files"
   ]
  },
  {
   "cell_type": "code",
   "execution_count": 419,
   "metadata": {},
   "outputs": [
    {
     "data": {
      "text/html": [
       "<div>\n",
       "<style scoped>\n",
       "    .dataframe tbody tr th:only-of-type {\n",
       "        vertical-align: middle;\n",
       "    }\n",
       "\n",
       "    .dataframe tbody tr th {\n",
       "        vertical-align: top;\n",
       "    }\n",
       "\n",
       "    .dataframe thead th {\n",
       "        text-align: right;\n",
       "    }\n",
       "</style>\n",
       "<table border=\"1\" class=\"dataframe\">\n",
       "  <thead>\n",
       "    <tr style=\"text-align: right;\">\n",
       "      <th></th>\n",
       "      <th>qct</th>\n",
       "    </tr>\n",
       "    <tr>\n",
       "      <th>cal date</th>\n",
       "      <th></th>\n",
       "    </tr>\n",
       "  </thead>\n",
       "  <tbody>\n",
       "    <tr>\n",
       "      <th>20141125</th>\n",
       "      <td>CGINS-PRESFC-01401__20141125.csv</td>\n",
       "    </tr>\n",
       "    <tr>\n",
       "      <th>20160714</th>\n",
       "      <td>CGINS-PRESFC-01401__20160714.csv</td>\n",
       "    </tr>\n",
       "    <tr>\n",
       "      <th>20171212</th>\n",
       "      <td>CGINS-PRESFC-01401__20171212.csv</td>\n",
       "    </tr>\n",
       "  </tbody>\n",
       "</table>\n",
       "</div>"
      ],
      "text/plain": [
       "                                       qct\n",
       "cal date                                  \n",
       "20141125  CGINS-PRESFC-01401__20141125.csv\n",
       "20160714  CGINS-PRESFC-01401__20160714.csv\n",
       "20171212  CGINS-PRESFC-01401__20171212.csv"
      ]
     },
     "execution_count": 419,
     "metadata": {},
     "output_type": "execute_result"
    }
   ],
   "source": [
    "# Now we want to compare dataframe\n",
    "qct_files = pd.DataFrame(sorted(os.listdir('temp/qct')),columns=['qct'])\n",
    "qct_files['cal date'] = qct_files['qct'].apply(lambda x: get_file_date(x))\n",
    "qct_files.set_index('cal date',inplace=True)\n",
    "qct_files"
   ]
  },
  {
   "cell_type": "code",
   "execution_count": 433,
   "metadata": {},
   "outputs": [
    {
     "data": {
      "text/html": [
       "<div>\n",
       "<style scoped>\n",
       "    .dataframe tbody tr th:only-of-type {\n",
       "        vertical-align: middle;\n",
       "    }\n",
       "\n",
       "    .dataframe tbody tr th {\n",
       "        vertical-align: top;\n",
       "    }\n",
       "\n",
       "    .dataframe thead th {\n",
       "        text-align: right;\n",
       "    }\n",
       "</style>\n",
       "<table border=\"1\" class=\"dataframe\">\n",
       "  <thead>\n",
       "    <tr style=\"text-align: right;\">\n",
       "      <th></th>\n",
       "      <th>csv</th>\n",
       "      <th>qct</th>\n",
       "    </tr>\n",
       "    <tr>\n",
       "      <th>cal date</th>\n",
       "      <th></th>\n",
       "      <th></th>\n",
       "    </tr>\n",
       "  </thead>\n",
       "  <tbody>\n",
       "    <tr>\n",
       "      <th>20141125</th>\n",
       "      <td>CGINS-PRESFC-01401__20141125.csv</td>\n",
       "      <td>CGINS-PRESFC-01401__20141125.csv</td>\n",
       "    </tr>\n",
       "    <tr>\n",
       "      <th>20160714</th>\n",
       "      <td>CGINS-PRESFC-01401__20160714.csv</td>\n",
       "      <td>CGINS-PRESFC-01401__20160714.csv</td>\n",
       "    </tr>\n",
       "    <tr>\n",
       "      <th>20171212</th>\n",
       "      <td>CGINS-PRESFC-01401__20171212.csv</td>\n",
       "      <td>CGINS-PRESFC-01401__20171212.csv</td>\n",
       "    </tr>\n",
       "  </tbody>\n",
       "</table>\n",
       "</div>"
      ],
      "text/plain": [
       "                                       csv                               qct\n",
       "cal date                                                                    \n",
       "20141125  CGINS-PRESFC-01401__20141125.csv  CGINS-PRESFC-01401__20141125.csv\n",
       "20160714  CGINS-PRESFC-01401__20160714.csv  CGINS-PRESFC-01401__20160714.csv\n",
       "20171212  CGINS-PRESFC-01401__20171212.csv  CGINS-PRESFC-01401__20171212.csv"
      ]
     },
     "execution_count": 433,
     "metadata": {},
     "output_type": "execute_result"
    }
   ],
   "source": [
    "df_files = csv_files.join(qct_files,how='outer').fillna(value='-999')\n",
    "df_files"
   ]
  },
  {
   "cell_type": "markdown",
   "metadata": {},
   "source": [
    "**The above dataframe shows the names of the csv files both pulled from asset management (csv) and from the qct. When they don't match based on the calibration date (cal date), that suggests that the date in the csv filename is likely incorrect.**"
   ]
  },
  {
   "cell_type": "markdown",
   "metadata": {},
   "source": [
    "**If the filename is wrong, the calibration coefficient checker will not manage to compare the results. Consequently, we'll make a local copy of the wrong file to a new file with the correct name, and then run the calibration coefficient checker. Do this for all the incorrectly named files.**"
   ]
  },
  {
   "cell_type": "code",
   "execution_count": 430,
   "metadata": {},
   "outputs": [
    {
     "data": {
      "text/plain": [
       "'temp/csv/CGINS-PRESFC-01401__20171212.csv'"
      ]
     },
     "execution_count": 430,
     "metadata": {},
     "output_type": "execute_result"
    }
   ],
   "source": [
    "a = 'temp/csv/' + 'CGINS-PRESFC-01401__20171217.csv'\n",
    "b = 'temp/csv/' + 'CGINS-PRESFC-01401__20171212.csv'\n",
    "shutil.copy(a,b)"
   ]
  },
  {
   "cell_type": "code",
   "execution_count": 431,
   "metadata": {},
   "outputs": [],
   "source": [
    "!rm 'temp/csv/CGINS-PRESFC-01401__20171217.csv'"
   ]
  },
  {
   "cell_type": "code",
   "execution_count": 432,
   "metadata": {},
   "outputs": [
    {
     "data": {
      "text/html": [
       "<div>\n",
       "<style scoped>\n",
       "    .dataframe tbody tr th:only-of-type {\n",
       "        vertical-align: middle;\n",
       "    }\n",
       "\n",
       "    .dataframe tbody tr th {\n",
       "        vertical-align: top;\n",
       "    }\n",
       "\n",
       "    .dataframe thead th {\n",
       "        text-align: right;\n",
       "    }\n",
       "</style>\n",
       "<table border=\"1\" class=\"dataframe\">\n",
       "  <thead>\n",
       "    <tr style=\"text-align: right;\">\n",
       "      <th></th>\n",
       "      <th>csv</th>\n",
       "    </tr>\n",
       "    <tr>\n",
       "      <th>cal date</th>\n",
       "      <th></th>\n",
       "    </tr>\n",
       "  </thead>\n",
       "  <tbody>\n",
       "    <tr>\n",
       "      <th>20141125</th>\n",
       "      <td>CGINS-PRESFC-01401__20141125.csv</td>\n",
       "    </tr>\n",
       "    <tr>\n",
       "      <th>20160714</th>\n",
       "      <td>CGINS-PRESFC-01401__20160714.csv</td>\n",
       "    </tr>\n",
       "    <tr>\n",
       "      <th>20171212</th>\n",
       "      <td>CGINS-PRESFC-01401__20171212.csv</td>\n",
       "    </tr>\n",
       "  </tbody>\n",
       "</table>\n",
       "</div>"
      ],
      "text/plain": [
       "                                       csv\n",
       "cal date                                  \n",
       "20141125  CGINS-PRESFC-01401__20141125.csv\n",
       "20160714  CGINS-PRESFC-01401__20160714.csv\n",
       "20171212  CGINS-PRESFC-01401__20171212.csv"
      ]
     },
     "execution_count": 432,
     "metadata": {},
     "output_type": "execute_result"
    }
   ],
   "source": [
    "csv_files = pd.DataFrame(sorted(os.listdir('temp/csv')),columns=['csv'])\n",
    "csv_files['cal date'] = csv_files['csv'].apply(lambda x: get_file_date(x))\n",
    "csv_files.set_index('cal date',inplace=True)\n",
    "csv_files"
   ]
  },
  {
   "cell_type": "markdown",
   "metadata": {},
   "source": [
    "**Define a function to check the calibration coefficients between the asset management csv and the csv generated from the QCT file. This function checks based on the relative difference, which is set to 0.01% threshold.**"
   ]
  },
  {
   "cell_type": "code",
   "execution_count": 434,
   "metadata": {},
   "outputs": [],
   "source": [
    "def check_cal_coeffs(coeffs_dict):\n",
    "    \n",
    "    # Part 1: coeff by coeff comparison between each source of coefficients\n",
    "    keys = list(coeffs_dict.keys())\n",
    "    comparison = {}\n",
    "    for i in range(len(keys)):\n",
    "        names = (keys[i], keys[i - (len(keys)-1)])\n",
    "        check = len(coeffs_dict.get(keys[i])['value']) == len(coeffs_dict.get(keys[i - (len(keys)-1)])['value'])\n",
    "        if check:\n",
    "            compare = np.isclose(coeffs_dict.get(keys[i])['value'], coeffs_dict.get(keys[i - (len(keys)-1)])['value'])\n",
    "            comparison.update({names:compare})\n",
    "        else:\n",
    "            pass\n",
    "        \n",
    "    # Part 2: now do a logical_and comparison between the results from part 1\n",
    "    keys = list(comparison.keys())\n",
    "    i = 0\n",
    "    mask = comparison.get(keys[i])\n",
    "    while i < len(keys)-1:\n",
    "        i = i + 1\n",
    "        mask = np.logical_and(mask, comparison.get(keys[i]))\n",
    "        print(i)\n",
    "       \n",
    "    return mask "
   ]
  },
  {
   "cell_type": "code",
   "execution_count": 435,
   "metadata": {},
   "outputs": [
    {
     "name": "stdout",
     "output_type": "stream",
     "text": [
      "csv-CGINS-PRESFC-01401__20141125.csv: 26-1401\n",
      "qct-CGINS-PRESFC-01401__20141125.csv: 26-1401\n",
      "1\n",
      "csv-CGINS-PRESFC-01401__20160714.csv: 26-1401\n",
      "qct-CGINS-PRESFC-01401__20160714.csv: 26-1401\n",
      "1\n",
      "csv-CGINS-PRESFC-01401__20171212.csv: 26-1401\n",
      "qct-CGINS-PRESFC-01401__20171212.csv: 26-1401\n",
      "1\n"
     ]
    }
   ],
   "source": [
    "result = {}\n",
    "for cal_date in df_files.index:\n",
    "    # Part 1, load all of the csv files\n",
    "    coeffs_dict = {}\n",
    "    for source,fname in df_files.loc[cal_date].items():\n",
    "        if fname != '-999':\n",
    "            load_directory = '/'.join((os.getcwd(),'temp',source,fname))\n",
    "            df_coeffs = pd.read_csv(load_directory)\n",
    "            for i in list(set(df_coeffs['serial'])):\n",
    "                print(source + '-' + fname + ': ' + str(i))\n",
    "            df_coeffs.set_index(keys='name',inplace=True)\n",
    "            df_coeffs.sort_index(inplace=True)\n",
    "            coeffs_dict.update({source:df_coeffs})\n",
    "        else:\n",
    "            pass\n",
    "    \n",
    "    # Part 2, now check the calibration coefficients\n",
    "    mask = check_cal_coeffs(coeffs_dict)\n",
    "    \n",
    "    # Part 3: get the calibration coefficients are wrong\n",
    "    # and show them\n",
    "    fname = df_files.loc[cal_date]['csv']\n",
    "    if fname == '-999':\n",
    "        incorrect = 'No csv file.'\n",
    "    else:\n",
    "        incorrect = coeffs_dict['csv'][mask == False]\n",
    "    result.update({fname:incorrect})"
   ]
  },
  {
   "cell_type": "code",
   "execution_count": 436,
   "metadata": {},
   "outputs": [
    {
     "data": {
      "text/plain": [
       "{'CGINS-PRESFC-01401__20141125.csv': Empty DataFrame\n",
       " Columns: [serial, value, notes]\n",
       " Index: [], 'CGINS-PRESFC-01401__20160714.csv': Empty DataFrame\n",
       " Columns: [serial, value, notes]\n",
       " Index: [], 'CGINS-PRESFC-01401__20171212.csv': Empty DataFrame\n",
       " Columns: [serial, value, notes]\n",
       " Index: []}"
      ]
     },
     "execution_count": 436,
     "metadata": {},
     "output_type": "execute_result"
    }
   ],
   "source": [
    "result"
   ]
  },
  {
   "cell_type": "code",
   "execution_count": null,
   "metadata": {},
   "outputs": [],
   "source": []
  }
 ],
 "metadata": {
  "kernelspec": {
   "display_name": "Python 3",
   "language": "python",
   "name": "python3"
  },
  "language_info": {
   "codemirror_mode": {
    "name": "ipython",
    "version": 3
   },
   "file_extension": ".py",
   "mimetype": "text/x-python",
   "name": "python",
   "nbconvert_exporter": "python",
   "pygments_lexer": "ipython3",
   "version": "3.7.3"
  }
 },
 "nbformat": 4,
 "nbformat_minor": 2
}
