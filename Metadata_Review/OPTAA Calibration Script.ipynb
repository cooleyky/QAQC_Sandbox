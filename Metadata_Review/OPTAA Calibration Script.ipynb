{
 "cells": [
  {
   "cell_type": "markdown",
   "metadata": {},
   "source": [
    "# OPTAA Calibration Script\n",
    "This script provides an example of using the OPTAA Calibration parser for writing a calibration csv in the appropriate manner for OOInet to be pushed to asset management. "
   ]
  },
  {
   "cell_type": "code",
   "execution_count": null,
   "metadata": {},
   "outputs": [],
   "source": [
    "from utils import *"
   ]
  },
  {
   "cell_type": "code",
   "execution_count": null,
   "metadata": {},
   "outputs": [],
   "source": [
    "import shutil\n",
    "import string"
   ]
  },
  {
   "cell_type": "code",
   "execution_count": null,
   "metadata": {},
   "outputs": [],
   "source": [
    "def get_calibration_files(serial_nums,dirpath):\n",
    "    \"\"\"\n",
    "    Function which gets all the calibration files associated with the\n",
    "    instrument serial numbers.\n",
    "    \n",
    "    Args:\n",
    "        serial_nums - serial numbers of the instruments\n",
    "        dirpath - path to the directory containing the calibration files\n",
    "    Returns:\n",
    "        calibration_files - a dictionary of instrument uids with associated\n",
    "            calibration files\n",
    "    \"\"\"\n",
    "    calibration_files = {}\n",
    "    for uid in serial_nums.keys():\n",
    "        sn = serial_nums.get(uid)[0]\n",
    "        print(sn)\n",
    "        files = []\n",
    "        for file in os.listdir(dirpath):\n",
    "            if sn in file:\n",
    "                if 'Calibration_File' in file:\n",
    "                    files.append(file)\n",
    "                else:\n",
    "                    pass\n",
    "            else:\n",
    "                pass\n",
    "        \n",
    "        calibration_files.update({uid:files})\n",
    "        \n",
    "    return calibration_files"
   ]
  },
  {
   "cell_type": "code",
   "execution_count": null,
   "metadata": {},
   "outputs": [],
   "source": [
    "def ensure_dir(file_path):\n",
    "    \"\"\"\n",
    "    Function which checks that the directory where you want\n",
    "    to save a file exists. If it doesn't, it creates the \n",
    "    directory.\n",
    "    \"\"\"\n",
    "    if not os.path.exists(file_path):\n",
    "        os.makedirs(file_path)"
   ]
  },
  {
   "cell_type": "code",
   "execution_count": null,
   "metadata": {},
   "outputs": [],
   "source": [
    "class OPTAACalibration():\n",
    "    \n",
    "    def __init__(self, uid):\n",
    "        self.serial = ''\n",
    "        self.uid = uid\n",
    "        self.date = None\n",
    "        self.cwlngth = []\n",
    "        self.awlngth = []\n",
    "        self.tcal = None\n",
    "        self.tbins = None\n",
    "        self.ccwo = []\n",
    "        self.acwo = []\n",
    "        self.tcarray = []\n",
    "        self.taarray = []\n",
    "        self.nbins = None  # number of temperature bins\n",
    "        self.coefficients = {'CC_taarray': 'SheetRef:CC_taarray',\n",
    "                             'CC_tcarray': 'SheetRef:CC_tcarray'}\n",
    "        \n",
    "    @property\n",
    "    def uid(self):\n",
    "        return self._uid\n",
    "        \n",
    "    @uid.setter\n",
    "    def uid(self, d):\n",
    "        r = re.compile('.{5}-.{6}-.{5}')\n",
    "        if r.match(d) is not None:\n",
    "            self.serial = 'ACS-' + d.split('-')[2].strip('0')\n",
    "            self._uid = d       \n",
    "        else:\n",
    "            raise Exception(f\"The instrument uid {d} is not a valid uid. Please check.\")\n",
    "            \n",
    "\n",
    "    def load_dev(self, filepath):\n",
    "        \"\"\"\n",
    "        Function loads the dev file for the OPTAA.\n",
    "        \n",
    "        Args:\n",
    "            filepath - the full path, including the name of the file, to the optaa\n",
    "                dev file.\n",
    "        Returns:\n",
    "            self.date - the date of calibration\n",
    "            self.tcal - calibration temperature\n",
    "            self.nbins - number of temperature bins\n",
    "            self.cwlngth\n",
    "            self.awlngth\n",
    "            self.ccwo\n",
    "            self.acwo\n",
    "            self.tcarray\n",
    "            self.taarray\n",
    "            self.coefficients - a dictionary of the calibration values and associated\n",
    "                keys following the OOI csv naming convention\n",
    "\n",
    "        \"\"\"\n",
    "        \n",
    "        \n",
    "        if filepath.endswith('.zip'):\n",
    "            with ZipFile(filepath) as zfile:\n",
    "                filename = [name for name in zfile.namelist() if name.endswith('.dev')]\n",
    "                text = zfile.read(filename[0]).decode('ASCII')\n",
    "        \n",
    "        else:\n",
    "            with open(filepath) as file:\n",
    "                text = file.read()\n",
    "            \n",
    "        # Remove extraneous characters from the \n",
    "        punctuation = ''.join((letter for letter in string.punctuation if letter not in ';/.'))\n",
    "        \n",
    "        for line in text.replace('\\t',' ').splitlines():\n",
    "            line = ''.join((word for word in line if word not in punctuation))\n",
    "            \n",
    "            if 'tcal' in line:\n",
    "                data = line.split()\n",
    "                # Temperature calibration value\n",
    "                tcal = data.index('tcal')\n",
    "                self.tcal = data[tcal+1]\n",
    "                self.coefficients['CC_tcal'] = self.tcal\n",
    "                # Temperature calibration date\n",
    "                cal_date = data[-1].strip()\n",
    "                self.date = pd.to_datetime(cal_date).strftime('%Y%m%d')\n",
    "                \n",
    "            elif ';' in line:\n",
    "                data, comment = line.split(';')\n",
    "        \n",
    "                if 'temperature bins' in comment:\n",
    "                    if 'number' in comment:\n",
    "                        self.nbins = int(data)\n",
    "                    else:\n",
    "                        self.tbins = data.split()\n",
    "                        self.tbins = [float(x) for x in self.tbins]\n",
    "                        self.coefficients['CC_tbins'] = json.dumps(self.tbins)\n",
    "                \n",
    "                elif 'C and A offset' in comment:\n",
    "                    data = data.split()\n",
    "                    self.cwlngth.append(float(data[0][1:]))\n",
    "                    self.awlngth.append(float(data[1][1:]))\n",
    "                    self.ccwo.append(float(data[3]))\n",
    "                    self.acwo.append(float(data[4]))\n",
    "                    tcrow = [float(x) for x in data[5:self.nbins+5]]\n",
    "                    tarow = [float(x) for x in data[self.nbins+5:2*self.nbins+5]]\n",
    "                    self.tcarray.append(tcrow)\n",
    "                    self.taarray.append(tarow)\n",
    "                    self.coefficients['CC_cwlngth'] = json.dumps(self.cwlngth)\n",
    "                    self.coefficients['CC_awlngth'] = json.dumps(self.awlngth)\n",
    "                    self.coefficients['CC_ccwo'] = json.dumps(self.ccwo)\n",
    "                    self.coefficients['CC_acwo'] = json.dumps(self.acwo)\n",
    "            \n",
    "                else:\n",
    "                    pass\n",
    "            \n",
    "            else:\n",
    "                pass\n",
    "            \n",
    "            \n",
    "    def write_csv(self, savepath):\n",
    "        \"\"\"\n",
    "        This function writes the correctly named csv file for the ctd to the\n",
    "        specified directory.\n",
    "    \n",
    "        Args:\n",
    "            outpath - directory path of where to write the csv file\n",
    "        Raises:\n",
    "            ValueError - raised if the OPTAA's object's coefficient dictionary \n",
    "                has not been populated\n",
    "        Returns:\n",
    "            self.to_csv - a csv of the calibration coefficients which is \n",
    "                written to the specified directory from the outpath.\n",
    "        \"\"\"\n",
    "        # Now, write to a csv file\n",
    "        # Create a dataframe to write to the csv\n",
    "        data = {\n",
    "            'serial':self.serial,\n",
    "            'name':list(self.coefficients.keys()),\n",
    "            'value':list(self.coefficients.values()),\n",
    "            'notes':['']*len(self.coefficients)\n",
    "        }\n",
    "        \n",
    "        df = pd.DataFrame().from_dict(data)\n",
    "        \n",
    "        # Generate the cal csv filename\n",
    "        filename = self.uid + '__' + self.date + '.csv'\n",
    "        # Now write to \n",
    "        check = input(f\"Write {filename} to {savepath}? [y/n]: \")\n",
    "        if check.lower().strip() == 'y':\n",
    "            df.to_csv(savepath+'/'+filename, index=False)\n",
    "        \n",
    "        # Generate the tc and ta array filename\n",
    "        tc_name = filename + '__CC_tcarray.ext'\n",
    "        ta_name = filename + '__CC_taarray.ext'\n",
    "        \n",
    "        def write_array(filename, array):\n",
    "            with open(filename, 'w') as out:\n",
    "                array_writer = csv.writer(out)\n",
    "                array_writer.writerows(array)\n",
    "                \n",
    "        write_array(savepath+'/'+tc_name, self.tcarray)\n",
    "        write_array(savepath+'/'+ta_name, self.taarray)"
   ]
  },
  {
   "cell_type": "code",
   "execution_count": null,
   "metadata": {},
   "outputs": [],
   "source": [
    "qct_directory = '/media/andrew/OS/Users/areed/Documents/Project_Files/'\n",
    "cal_directory = '/media/andrew/OS/Users/areed/Documents/Project_Files/Records/Instrument_Records/OPTAA/'\n",
    "asset_management_directory = '/home/andrew/Documents/OOI-CGSN/ooi-integration/asset-management/calibration/OPTAA/'"
   ]
  },
  {
   "cell_type": "code",
   "execution_count": null,
   "metadata": {},
   "outputs": [],
   "source": [
    "excel_spreadsheet = '/media/andrew/OS/Users/areed/Documents/Project_Files/Documentation/System/System Notebook/WHOI_Asset_Tracking.xlsx'\n",
    "sheet_name = 'Sensors'"
   ]
  },
  {
   "cell_type": "code",
   "execution_count": null,
   "metadata": {},
   "outputs": [],
   "source": [
    "uid,sn = serial_nums.items()"
   ]
  },
  {
   "cell_type": "code",
   "execution_count": null,
   "metadata": {},
   "outputs": [],
   "source": [
    "OPTAA"
   ]
  },
  {
   "cell_type": "code",
   "execution_count": null,
   "metadata": {},
   "outputs": [],
   "source": [
    "uids = list(set(OPTAA['UID']))\n",
    "qct_dict = {}\n",
    "for uid in uids:\n",
    "    # Get the QCT Document numbers from the asset tracking sheet\n",
    "    OPTAA['UID_match'] = OPTAA['UID'].apply(lambda x: True if uid in x else False)\n",
    "    qct_series = OPTAA[OPTAA['UID_match'] == True]['QCT Testing']\n",
    "    qct_series = list(qct_series.iloc[0].split('\\n'))\n",
    "    qct_dict.update({uid:qct_series})"
   ]
  },
  {
   "cell_type": "code",
   "execution_count": null,
   "metadata": {},
   "outputs": [],
   "source": [
    "uids"
   ]
  },
  {
   "cell_type": "code",
   "execution_count": null,
   "metadata": {},
   "outputs": [],
   "source": [
    "serial_nums = get_serial_nums(OPTAA, uids)"
   ]
  },
  {
   "cell_type": "code",
   "execution_count": null,
   "metadata": {},
   "outputs": [],
   "source": [
    "for key in serial_nums.keys():\n",
    "    values = [str(x) for x in serial_nums[key]]\n",
    "    serial_nums[key] = values\n",
    "    print(values)"
   ]
  },
  {
   "cell_type": "code",
   "execution_count": null,
   "metadata": {},
   "outputs": [],
   "source": [
    "serial_nums"
   ]
  },
  {
   "cell_type": "code",
   "execution_count": null,
   "metadata": {},
   "outputs": [],
   "source": [
    "cal_dict = get_calibration_files(serial_nums, cal_directory)\n",
    "cal_dict"
   ]
  },
  {
   "cell_type": "code",
   "execution_count": null,
   "metadata": {},
   "outputs": [],
   "source": [
    "# Lets try opening/loading\n",
    "uid = uids[0]\n",
    "uid"
   ]
  },
  {
   "cell_type": "code",
   "execution_count": null,
   "metadata": {},
   "outputs": [],
   "source": [
    "cal_dict[uid]"
   ]
  },
  {
   "cell_type": "code",
   "execution_count": null,
   "metadata": {},
   "outputs": [],
   "source": [
    "filepath = generate_file_path(cal_directory, 'OPTAA-D_AC-S_SN_129_Calibration_Files_2015-10-05', ext=['.zip'])"
   ]
  },
  {
   "cell_type": "code",
   "execution_count": null,
   "metadata": {},
   "outputs": [],
   "source": [
    "filepath"
   ]
  },
  {
   "cell_type": "code",
   "execution_count": null,
   "metadata": {},
   "outputs": [],
   "source": [
    "import string"
   ]
  },
  {
   "cell_type": "code",
   "execution_count": null,
   "metadata": {},
   "outputs": [],
   "source": [
    "optaa = OPTAACalibration(uid=uid)"
   ]
  },
  {
   "cell_type": "code",
   "execution_count": null,
   "metadata": {},
   "outputs": [],
   "source": [
    "optaa.load_dev(filepath)"
   ]
  },
  {
   "cell_type": "code",
   "execution_count": null,
   "metadata": {},
   "outputs": [],
   "source": [
    "optaa.write_csv(optaa_savepath)"
   ]
  },
  {
   "cell_type": "code",
   "execution_count": null,
   "metadata": {},
   "outputs": [],
   "source": [
    "import shutil"
   ]
  },
  {
   "cell_type": "code",
   "execution_count": null,
   "metadata": {},
   "outputs": [],
   "source": [
    "# Purge the temp directory\n",
    "try:\n",
    "    shutil.rmtree('/'.join((os.getcwd(),'temp')))\n",
    "except:\n",
    "    pass\n",
    "# Put the csv files into a similar temp directory for local working\n",
    "ensure_dir('/'.join((os.getcwd(),'temp','optaa')))\n",
    "optaa_savepath = '/'.join((os.getcwd(),'temp','optaa'))"
   ]
  },
  {
   "cell_type": "code",
   "execution_count": null,
   "metadata": {},
   "outputs": [],
   "source": [
    "optaa_savepath"
   ]
  },
  {
   "cell_type": "code",
   "execution_count": null,
   "metadata": {},
   "outputs": [],
   "source": [
    "optaa.coefficients"
   ]
  },
  {
   "cell_type": "code",
   "execution_count": null,
   "metadata": {},
   "outputs": [],
   "source": []
  },
  {
   "cell_type": "markdown",
   "metadata": {},
   "source": []
  },
  {
   "cell_type": "code",
   "execution_count": null,
   "metadata": {},
   "outputs": [],
   "source": [
    "OPTAA = whoi_asset_tracking(spreadsheet=excel_spreadsheet,sheet_name=sheet_name,instrument_class='OPTAA')"
   ]
  }
 ],
 "metadata": {
  "kernelspec": {
   "display_name": "Python 3",
   "language": "python",
   "name": "python3"
  },
  "language_info": {
   "codemirror_mode": {
    "name": "ipython",
    "version": 3
   },
   "file_extension": ".py",
   "mimetype": "text/x-python",
   "name": "python",
   "nbconvert_exporter": "python",
   "pygments_lexer": "ipython3",
   "version": "3.7.1"
  }
 },
 "nbformat": 4,
 "nbformat_minor": 2
}
