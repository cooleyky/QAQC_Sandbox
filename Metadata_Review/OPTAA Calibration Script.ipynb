{
 "cells": [
  {
   "cell_type": "markdown",
   "metadata": {},
   "source": [
    "# OPTAA Calibration Script\n",
    "This script provides an example of using the OPTAA Calibration parser for writing a calibration csv in the appropriate manner for OOInet to be pushed to asset management."
   ]
  },
  {
   "cell_type": "code",
   "execution_count": 1,
   "metadata": {},
   "outputs": [],
   "source": [
    "from utils import *"
   ]
  },
  {
   "cell_type": "code",
   "execution_count": 265,
   "metadata": {},
   "outputs": [],
   "source": [
    "import shutil\n",
    "import string"
   ]
  },
  {
   "cell_type": "code",
   "execution_count": 38,
   "metadata": {},
   "outputs": [],
   "source": [
    "def get_calibration_files(serial_nums,dirpath):\n",
    "    \"\"\"\n",
    "    Function which gets all the calibration files associated with the\n",
    "    instrument serial numbers.\n",
    "    \n",
    "    Args:\n",
    "        serial_nums - serial numbers of the instruments\n",
    "        dirpath - path to the directory containing the calibration files\n",
    "    Returns:\n",
    "        calibration_files - a dictionary of instrument uids with associated\n",
    "            calibration files\n",
    "    \"\"\"\n",
    "    calibration_files = {}\n",
    "    for uid in serial_nums.keys():\n",
    "        sn = serial_nums.get(uid)[0]\n",
    "        print(sn)\n",
    "        files = []\n",
    "        for file in os.listdir(dirpath):\n",
    "            if sn in file:\n",
    "                if 'Calibration_File' in file:\n",
    "                    files.append(file)\n",
    "                else:\n",
    "                    pass\n",
    "            else:\n",
    "                pass\n",
    "        \n",
    "        calibration_files.update({uid:files})\n",
    "        \n",
    "    return calibration_files"
   ]
  },
  {
   "cell_type": "code",
   "execution_count": 250,
   "metadata": {},
   "outputs": [],
   "source": [
    "def ensure_dir(file_path):\n",
    "    \"\"\"\n",
    "    Function which checks that the directory where you want\n",
    "    to save a file exists. If it doesn't, it creates the \n",
    "    directory.\n",
    "    \"\"\"\n",
    "    if not os.path.exists(file_path):\n",
    "        os.makedirs(file_path)"
   ]
  },
  {
   "cell_type": "code",
   "execution_count": 261,
   "metadata": {},
   "outputs": [],
   "source": [
    "class OPTAACalibration():\n",
    "    \n",
    "    def __init__(self, uid):\n",
    "        self.serial = ''\n",
    "        self.uid = uid\n",
    "        self.date = None\n",
    "        self.cwlngth = []\n",
    "        self.awlngth = []\n",
    "        self.tcal = None\n",
    "        self.tbins = None\n",
    "        self.ccwo = []\n",
    "        self.acwo = []\n",
    "        self.tcarray = []\n",
    "        self.taarray = []\n",
    "        self.nbins = None  # number of temperature bins\n",
    "        self.coefficients = {'CC_taarray': 'SheetRef:CC_taarray',\n",
    "                             'CC_tcarray': 'SheetRef:CC_tcarray'}\n",
    "        \n",
    "    @property\n",
    "    def uid(self):\n",
    "        return self._uid\n",
    "        \n",
    "    @uid.setter\n",
    "    def uid(self, d):\n",
    "        r = re.compile('.{5}-.{6}-.{5}')\n",
    "        if r.match(d) is not None:\n",
    "            self.serial = 'ACS-' + d.split('-')[2].strip('0')\n",
    "            self._uid = d       \n",
    "        else:\n",
    "            raise Exception(f\"The instrument uid {d} is not a valid uid. Please check.\")\n",
    "            \n",
    "\n",
    "    def load_dev(self, filepath):\n",
    "        \"\"\"\n",
    "        Function loads the dev file for the OPTAA.\n",
    "        \n",
    "        Args:\n",
    "            filepath - the full path, including the name of the file, to the optaa\n",
    "                dev file.\n",
    "        Returns:\n",
    "            self.date - the date of calibration\n",
    "            self.tcal - calibration temperature\n",
    "            self.nbins - number of temperature bins\n",
    "            self.cwlngth\n",
    "            self.awlngth\n",
    "            self.ccwo\n",
    "            self.acwo\n",
    "            self.tcarray\n",
    "            self.taarray\n",
    "            self.coefficients - a dictionary of the calibration values and associated\n",
    "                keys following the OOI csv naming convention\n",
    "\n",
    "        \"\"\"\n",
    "        \n",
    "        \n",
    "        if filepath.endswith('.zip'):\n",
    "            with ZipFile(filepath) as zfile:\n",
    "                filename = [name for name in zfile.namelist() if name.endswith('.dev')]\n",
    "                text = zfile.read(filename[0]).decode('ASCII')\n",
    "        \n",
    "        else:\n",
    "            with open(filepath) as file:\n",
    "                text = file.read()\n",
    "            \n",
    "        # Remove extraneous characters from the \n",
    "        punctuation = ''.join((letter for letter in string.punctuation if letter not in ';/.'))\n",
    "        \n",
    "        for line in text.replace('\\t',' ').splitlines():\n",
    "            line = ''.join((word for word in line if word not in punctuation))\n",
    "            \n",
    "            if 'tcal' in line:\n",
    "                data = line.split()\n",
    "                # Temperature calibration value\n",
    "                tcal = data.index('tcal')\n",
    "                self.tcal = data[tcal+1]\n",
    "                self.coefficients['CC_tcal'] = self.tcal\n",
    "                # Temperature calibration date\n",
    "                cal_date = data[-1].strip()\n",
    "                self.date = pd.to_datetime(cal_date).strftime('%Y%m%d')\n",
    "                \n",
    "            elif ';' in line:\n",
    "                data, comment = line.split(';')\n",
    "        \n",
    "                if 'temperature bins' in comment:\n",
    "                    if 'number' in comment:\n",
    "                        self.nbins = int(data)\n",
    "                    else:\n",
    "                        self.tbins = data.split()\n",
    "                        self.tbins = [float(x) for x in self.tbins]\n",
    "                        self.coefficients['CC_tbins'] = json.dumps(self.tbins)\n",
    "                \n",
    "                elif 'C and A offset' in comment:\n",
    "                    data = data.split()\n",
    "                    self.cwlngth.append(float(data[0][1:]))\n",
    "                    self.awlngth.append(float(data[1][1:]))\n",
    "                    self.ccwo.append(float(data[3]))\n",
    "                    self.acwo.append(float(data[4]))\n",
    "                    tcrow = [float(x) for x in data[5:self.nbins+5]]\n",
    "                    tarow = [float(x) for x in data[self.nbins+5:2*self.nbins+5]]\n",
    "                    self.tcarray.append(tcrow)\n",
    "                    self.taarray.append(tarow)\n",
    "                    self.coefficients['CC_cwlngth'] = json.dumps(self.cwlngth)\n",
    "                    self.coefficients['CC_awlngth'] = json.dumps(self.awlngth)\n",
    "                    self.coefficients['CC_ccwo'] = json.dumps(self.ccwo)\n",
    "                    self.coefficients['CC_acwo'] = json.dumps(self.acwo)\n",
    "            \n",
    "                else:\n",
    "                    pass\n",
    "            \n",
    "            else:\n",
    "                pass\n",
    "            \n",
    "            \n",
    "    def write_csv(self, savepath):\n",
    "        \"\"\"\n",
    "        This function writes the correctly named csv file for the ctd to the\n",
    "        specified directory.\n",
    "    \n",
    "        Args:\n",
    "            outpath - directory path of where to write the csv file\n",
    "        Raises:\n",
    "            ValueError - raised if the OPTAA's object's coefficient dictionary \n",
    "                has not been populated\n",
    "        Returns:\n",
    "            self.to_csv - a csv of the calibration coefficients which is \n",
    "                written to the specified directory from the outpath.\n",
    "        \"\"\"\n",
    "        # Now, write to a csv file\n",
    "        # Create a dataframe to write to the csv\n",
    "        data = {\n",
    "            'serial':self.serial,\n",
    "            'name':list(self.coefficients.keys()),\n",
    "            'value':list(self.coefficients.values()),\n",
    "            'notes':['']*len(self.coefficients)\n",
    "        }\n",
    "        \n",
    "        df = pd.DataFrame().from_dict(data)\n",
    "        \n",
    "        # Generate the cal csv filename\n",
    "        filename = self.uid + '__' + self.date + '.csv'\n",
    "        # Now write to \n",
    "        check = input(f\"Write {filename} to {savepath}? [y/n]: \")\n",
    "        if check.lower().strip() == 'y':\n",
    "            df.to_csv(savepath+'/'+filename, index=False)\n",
    "        \n",
    "        # Generate the tc and ta array filename\n",
    "        tc_name = filename + '__CC_tcarray.ext'\n",
    "        ta_name = filename + '__CC_taarray.ext'\n",
    "        \n",
    "        def write_array(filename, array):\n",
    "            with open(filename, 'w') as out:\n",
    "                array_writer = csv.writer(out)\n",
    "                array_writer.writerows(array)\n",
    "                \n",
    "        write_array(savepath+'/'+tc_name, self.tcarray)\n",
    "        write_array(savepath+'/'+ta_name, self.taarray)"
   ]
  },
  {
   "cell_type": "code",
   "execution_count": 3,
   "metadata": {},
   "outputs": [],
   "source": [
    "qct_directory = '/media/andrew/OS/Users/areed/Documents/Project_Files/'\n",
    "cal_directory = '/media/andrew/OS/Users/areed/Documents/Project_Files/Records/Instrument_Records/OPTAA/'\n",
    "asset_management_directory = '/home/andrew/Documents/OOI-CGSN/ooi-integration/asset-management/calibration/OPTAA/'"
   ]
  },
  {
   "cell_type": "code",
   "execution_count": 4,
   "metadata": {},
   "outputs": [],
   "source": [
    "excel_spreadsheet = '/media/andrew/OS/Users/areed/Documents/Project_Files/Documentation/System/System Notebook/WHOI_Asset_Tracking.xlsx'\n",
    "sheet_name = 'Sensors'"
   ]
  },
  {
   "cell_type": "code",
   "execution_count": 5,
   "metadata": {},
   "outputs": [],
   "source": [
    "OPTAA = whoi_asset_tracking(spreadsheet=excel_spreadsheet,sheet_name=sheet_name,instrument_class='OPTAA')"
   ]
  },
  {
   "cell_type": "code",
   "execution_count": 24,
   "metadata": {},
   "outputs": [
    {
     "ename": "ValueError",
     "evalue": "too many values to unpack (expected 2)",
     "output_type": "error",
     "traceback": [
      "\u001b[0;31m---------------------------------------------------------------------------\u001b[0m",
      "\u001b[0;31mValueError\u001b[0m                                Traceback (most recent call last)",
      "\u001b[0;32m<ipython-input-24-ed6cfeee0a97>\u001b[0m in \u001b[0;36m<module>\u001b[0;34m\u001b[0m\n\u001b[0;32m----> 1\u001b[0;31m \u001b[0muid\u001b[0m\u001b[0;34m,\u001b[0m\u001b[0msn\u001b[0m \u001b[0;34m=\u001b[0m \u001b[0mserial_nums\u001b[0m\u001b[0;34m.\u001b[0m\u001b[0mitems\u001b[0m\u001b[0;34m(\u001b[0m\u001b[0;34m)\u001b[0m\u001b[0;34m\u001b[0m\u001b[0;34m\u001b[0m\u001b[0m\n\u001b[0m",
      "\u001b[0;31mValueError\u001b[0m: too many values to unpack (expected 2)"
     ]
    }
   ],
   "source": [
    "uid,sn = serial_nums.items()"
   ]
  },
  {
   "cell_type": "code",
   "execution_count": null,
   "metadata": {},
   "outputs": [],
   "source": [
    "OPTAA"
   ]
  },
  {
   "cell_type": "code",
   "execution_count": 31,
   "metadata": {},
   "outputs": [],
   "source": [
    "uids = list(set(OPTAA['UID']))\n",
    "qct_dict = {}\n",
    "for uid in uids:\n",
    "    # Get the QCT Document numbers from the asset tracking sheet\n",
    "    OPTAA['UID_match'] = OPTAA['UID'].apply(lambda x: True if uid in x else False)\n",
    "    qct_series = OPTAA[OPTAA['UID_match'] == True]['QCT Testing']\n",
    "    qct_series = list(qct_series.iloc[0].split('\\n'))\n",
    "    qct_dict.update({uid:qct_series})"
   ]
  },
  {
   "cell_type": "code",
   "execution_count": 33,
   "metadata": {},
   "outputs": [
    {
     "data": {
      "text/plain": [
       "['CGINS-OPTAAD-00129',\n",
       " 'CGINS-OPTAAD-00123',\n",
       " 'CGINS-OPTAAD-00153',\n",
       " 'CGINS-OPTAAD-00255',\n",
       " 'CGINS-OPTAAD-00165',\n",
       " 'CGINS-OPTAAD-00205',\n",
       " 'CGINS-OPTAAD-00241',\n",
       " 'CGINS-OPTAAD-00150',\n",
       " 'CGINS-OPTAAD-00206',\n",
       " 'CGINS-OPTAAD-00187',\n",
       " 'CGINS-OPTAAD-00222',\n",
       " 'CGINS-OPTAAD-00245',\n",
       " 'CGINS-OPTAAD-00256',\n",
       " 'CGINS-OPTAAD-00257',\n",
       " 'CGINS-OPTAAD-00218',\n",
       " 'CGINS-OPTAAD-00240',\n",
       " 'CGINS-OPTAAD-00152',\n",
       " 'CGINS-OPTAAD-00209',\n",
       " 'CGINS-OPTAAD-00254',\n",
       " 'CGINS-OPTAAD-00189',\n",
       " 'CGINS-OPTAAD-00207',\n",
       " 'CGINS-OPTAAD-00193',\n",
       " 'CGINS-OPTAAD-00130',\n",
       " 'CGINS-OPTAAD-00242',\n",
       " 'CGINS-OPTAAD-00185',\n",
       " 'CGINS-OPTAAD-00159',\n",
       " 'CGINS-OPTAAD-00151']"
      ]
     },
     "execution_count": 33,
     "metadata": {},
     "output_type": "execute_result"
    }
   ],
   "source": [
    "uids"
   ]
  },
  {
   "cell_type": "code",
   "execution_count": 34,
   "metadata": {},
   "outputs": [],
   "source": [
    "serial_nums = get_serial_nums(OPTAA, uids)"
   ]
  },
  {
   "cell_type": "code",
   "execution_count": 35,
   "metadata": {},
   "outputs": [
    {
     "name": "stdout",
     "output_type": "stream",
     "text": [
      "['129']\n",
      "['123']\n",
      "['153']\n",
      "['255']\n",
      "['165']\n",
      "['205']\n",
      "['241']\n",
      "['150']\n",
      "['206']\n",
      "['187']\n",
      "['222']\n",
      "['245']\n",
      "['256']\n",
      "['257']\n",
      "['218']\n",
      "['240']\n",
      "['152']\n",
      "['209']\n",
      "['254']\n",
      "['189']\n",
      "['207']\n",
      "['193']\n",
      "['130']\n",
      "['242']\n",
      "['185']\n",
      "['159']\n",
      "['151']\n"
     ]
    }
   ],
   "source": [
    "for key in serial_nums.keys():\n",
    "    values = [str(x) for x in serial_nums[key]]\n",
    "    serial_nums[key] = values\n",
    "    print(values)"
   ]
  },
  {
   "cell_type": "code",
   "execution_count": 36,
   "metadata": {
    "collapsed": true
   },
   "outputs": [
    {
     "data": {
      "text/plain": [
       "{'CGINS-OPTAAD-00129': ['129'],\n",
       " 'CGINS-OPTAAD-00123': ['123'],\n",
       " 'CGINS-OPTAAD-00153': ['153'],\n",
       " 'CGINS-OPTAAD-00255': ['255'],\n",
       " 'CGINS-OPTAAD-00165': ['165'],\n",
       " 'CGINS-OPTAAD-00205': ['205'],\n",
       " 'CGINS-OPTAAD-00241': ['241'],\n",
       " 'CGINS-OPTAAD-00150': ['150'],\n",
       " 'CGINS-OPTAAD-00206': ['206'],\n",
       " 'CGINS-OPTAAD-00187': ['187'],\n",
       " 'CGINS-OPTAAD-00222': ['222'],\n",
       " 'CGINS-OPTAAD-00245': ['245'],\n",
       " 'CGINS-OPTAAD-00256': ['256'],\n",
       " 'CGINS-OPTAAD-00257': ['257'],\n",
       " 'CGINS-OPTAAD-00218': ['218'],\n",
       " 'CGINS-OPTAAD-00240': ['240'],\n",
       " 'CGINS-OPTAAD-00152': ['152'],\n",
       " 'CGINS-OPTAAD-00209': ['209'],\n",
       " 'CGINS-OPTAAD-00254': ['254'],\n",
       " 'CGINS-OPTAAD-00189': ['189'],\n",
       " 'CGINS-OPTAAD-00207': ['207'],\n",
       " 'CGINS-OPTAAD-00193': ['193'],\n",
       " 'CGINS-OPTAAD-00130': ['130'],\n",
       " 'CGINS-OPTAAD-00242': ['242'],\n",
       " 'CGINS-OPTAAD-00185': ['185'],\n",
       " 'CGINS-OPTAAD-00159': ['159'],\n",
       " 'CGINS-OPTAAD-00151': ['151']}"
      ]
     },
     "execution_count": 36,
     "metadata": {},
     "output_type": "execute_result"
    }
   ],
   "source": [
    "serial_nums"
   ]
  },
  {
   "cell_type": "code",
   "execution_count": 39,
   "metadata": {
    "collapsed": true
   },
   "outputs": [
    {
     "name": "stdout",
     "output_type": "stream",
     "text": [
      "129\n",
      "123\n",
      "153\n",
      "255\n",
      "165\n",
      "205\n",
      "241\n",
      "150\n",
      "206\n",
      "187\n",
      "222\n",
      "245\n",
      "256\n",
      "257\n",
      "218\n",
      "240\n",
      "152\n",
      "209\n",
      "254\n",
      "189\n",
      "207\n",
      "193\n",
      "130\n",
      "242\n",
      "185\n",
      "159\n",
      "151\n"
     ]
    },
    {
     "data": {
      "text/plain": [
       "{'CGINS-OPTAAD-00129': ['OPTAA-D_AC-S_SN_129_Calibration_Files_2015-10-05.zip',\n",
       "  'OPTAA-D_AC-S_SN_129_Calibration_Files_2017-02-09.zip',\n",
       "  'OPTAA-D_AC-S_SN_129_Calibration_Files_2018-04-11.zip',\n",
       "  'OPTAA-D_AC-S_SN_129_Calibration_Files_2013-01-30.zip'],\n",
       " 'CGINS-OPTAAD-00123': ['OPTAA-D_AC-S_SN_123_Calibration_Files.zip',\n",
       "  'OPTAA-D_AC-S_SN_123_Calibration_Files_2013-07-17.zip',\n",
       "  'OPTAA-D_AC-S_SN_123_Calibration_Files_2015-07-20.zip',\n",
       "  'OPTAA-D_AC-S_SN_123_Calibration_Files_2016-09-29.zip'],\n",
       " 'CGINS-OPTAAD-00153': ['OPTAA-D_AC-S_SN_153_Calibration_Files_2013-12-12.zip',\n",
       "  'OPTAA-D_AC-S_SN_153_Calibration_Files_2016-08-16.zip'],\n",
       " 'CGINS-OPTAAD-00255': ['OPTAA-D_AC-S_SN_255_Calibration_Files_2015-08-04.zip',\n",
       "  'OPTAA-D_AC-S_SN_255_Calibration_Files_2017-07-11.zip',\n",
       "  'OPTAA-D_AC-S_SN_255_Calibration_Files_2018-11-15.zip'],\n",
       " 'CGINS-OPTAAD-00165': ['OPTAA-D_AC-S_SN_165_Calibration_Files.zip',\n",
       "  'OPTAA-D_AC-S_SN_165_Calibration_Files_2016-01-07.zip',\n",
       "  'OPTAA-D_AC-S_SN_165_Calibration_Files_2017-03-27.zip'],\n",
       " 'CGINS-OPTAAD-00205': ['OPTAA-D_AC-S_SN_205_Calibration_Files_2014-10-16.zip',\n",
       "  'OPTAA-D_AC-S_SN_205_Calibration_Files_2016-08-25.zip',\n",
       "  'OPTAA-D_AC-S_SN_205_Calibration_Files_2018-01-24.zip'],\n",
       " 'CGINS-OPTAAD-00241': ['OPTAA-D_AC-S_SN_241_Calibration_Files_2015-04-07.zip',\n",
       "  'OPTAA-D_AC-S_SN_241_Calibration_Files_2016-03-31.zip',\n",
       "  'OPTAA-D_AC-S_SN_241_Calibration_Files_2017-09-06.zip'],\n",
       " 'CGINS-OPTAAD-00150': ['OPTAA-D_AC-S_SN_150_Calibration_Files_2013-12-12.zip',\n",
       "  'OPTAA-D_AC-S_SN_150_Calibration_Files_2016-05-11.zip'],\n",
       " 'CGINS-OPTAAD-00206': ['OPTAA-D_AC-S_SN_206_Calibration_Files_2014-10-28.zip',\n",
       "  'OPTAA-D_AC-S_SN_206_Calibration_Files_2016-08-19.zip',\n",
       "  'OPTAA-D_AC-S_SN_206_Calibration_Files_2018-01-18.zip',\n",
       "  'OPTAA-D_AC-S_SN_206_Calibration_Files_2019-01-04.zip'],\n",
       " 'CGINS-OPTAAD-00187': ['OPTAA-D_AC-S_SN_187_Calibration_Files_2014-09-26.zip',\n",
       "  'OPTAA-D_AC-S_SN_187_Calibration_Files_2016-06-01.zip',\n",
       "  'OPTAA-D_AC-S_SN_187_Calibration_Files_2018-12-18.zip'],\n",
       " 'CGINS-OPTAAD-00222': ['OPTAA-D_AC-S_SN_222_Calibration_Files_2015-04-30.zip',\n",
       "  'OPTAA-D_AC-S_SN_222_Calibration_Files_2017-01-04.zip',\n",
       "  'OPTAA-D_AC-S_SN_222_Calibration_Files_2018-05-22.zip'],\n",
       " 'CGINS-OPTAAD-00245': ['OPTAA-D_AC-S_SN_245_Calibration_Files_2015-05-27.zip',\n",
       "  'OPTAA-D_AC-S_SN_245_Calibration_Files_2017-11-06.zip'],\n",
       " 'CGINS-OPTAAD-00256': ['OPTAA-D_AC-S_SN_256_Calibration_Files_2015-08-04.zip',\n",
       "  'OPTAA-D_AC-S_SN_256_Calibration_Files_2016-08-31.zip',\n",
       "  'OPTAA-D_AC-S_SN_256_Calibration_Files_2018-07-02.zip',\n",
       "  'OPTAA-D_AC-S_SN_256_Calibration_Files_2018-12-04.zip'],\n",
       " 'CGINS-OPTAAD-00257': ['OPTAA-D_AC-S_SN_257_Calibration_Files_2015-08-20.zip',\n",
       "  'OPTAA-D_AC-S_SN_257_Calibration_Files_2016-08-26.zip'],\n",
       " 'CGINS-OPTAAD-00218': ['OPTAA-D_AC-S_SN_218_Calibration_Files_&RMA_2016-06-29.zip',\n",
       "  'OPTAA-D_AC-S_SN_218_Calibration_Files_2015-03-24.zip',\n",
       "  'OPTAA-D_AC-S_SN_218_Calibration_Files_2018-10-09.zip'],\n",
       " 'CGINS-OPTAAD-00240': ['OPTAA-D_AC-S_SN_240_Calibration_Files_2015-04-07.zip',\n",
       "  'OPTAA-D_AC-S_SN_240_Calibration_Files_2016-05-11.zip',\n",
       "  'OPTAA-D_AC-S_SN_240_Calibration_Files_2018-03-12.zip'],\n",
       " 'CGINS-OPTAAD-00152': ['OPTAA-D_AC-S_SN_152_Calibration_Files_2013-12-12.zip',\n",
       "  'OPTAA-D_AC-S_SN_152_Calibration_Files_2014-11-06.zip',\n",
       "  'OPTAA-D_AC-S_SN_152_Calibration_Files_2016-10-25.zip',\n",
       "  'OPTAA-D_AC-S_SN_152_Calibration_Files_2018-07-11.zip'],\n",
       " 'CGINS-OPTAAD-00209': ['OPTAA-D_AC-S_SN_209_Calibration_Files_2014-11-19.zip',\n",
       "  'OPTAA-D_AC-S_SN_209_Calibration_Files_2016-09-09.zip',\n",
       "  'OPTAA-D_AC-S_SN_209_Calibration_Files_2017-12-28.zip'],\n",
       " 'CGINS-OPTAAD-00254': ['OPTAA-D_AC-S_SN_254_Calibration_Files_2015-07-20.zip',\n",
       "  'OPTAA-D_AC-S_SN_254_Calibration_Files_2018-05-17.zip'],\n",
       " 'CGINS-OPTAAD-00189': ['OPTAA-D_AC-S_SN_189_Calibration_Files_2014-09-26.zip',\n",
       "  'OPTAA-D_AC-S_SN_189_Calibration_Files_2016-01-07.zip',\n",
       "  'OPTAA-D_AC-S_SN_189_Calibration_Files_2017-06-14.zip'],\n",
       " 'CGINS-OPTAAD-00207': ['OPTAA-D_AC-S_SN_207_Calibration_Files_2014-10-28.zip',\n",
       "  'OPTAA-D_AC-S_SN_207_Calibration_Files_2016-08-19.zip'],\n",
       " 'CGINS-OPTAAD-00193': ['OPTAA-D_AC-S_SN_193_Calibration_Files_2014-10-15.zip',\n",
       "  'OPTAA-D_AC-S_SN_193_Calibration_Files_2016-05-11.zip',\n",
       "  'OPTAA-D_AC-S_SN_193_Calibration_Files_2018-10-08.zip'],\n",
       " 'CGINS-OPTAAD-00130': ['OPTAA-D_AC-S_SN_130_Calibration_Files_2013-01-30.zip',\n",
       "  'OPTAA-D_AC-S_SN_130_Calibration_Files_2014-12-30.zip',\n",
       "  'OPTAA-D_AC-S_SN_130_Calibration_Files_2016-06-01.zip'],\n",
       " 'CGINS-OPTAAD-00242': ['OPTAA-D_AC-S_SN_242_Calibration_Files_2015-04-09.zip',\n",
       "  'OPTAA-D_AC-S_SN_242_Calibration_Files_2016-11-11.zip',\n",
       "  'OPTAA-D_AC-S_SN_242_Calibration_Files_2018-05-18.zip',\n",
       "  'OPTAA-D_AC-S_SN_242_Calibration_Files_2018-12-13.zip'],\n",
       " 'CGINS-OPTAAD-00185': ['OPTAA-D_AC-S_SN_185_Calibration_Files_2014-08-22.zip',\n",
       "  'OPTAA-D_AC-S_SN_185_Calibration_Files_2016-03-31.zip',\n",
       "  'OPTAA-D_AC-S_SN_185_Calibration_Files_2017-03-07.zip'],\n",
       " 'CGINS-OPTAAD-00159': ['OPTAA-D_AC-S_SN_159_Calibration_Files_2016-04-19.zip',\n",
       "  'OPTAA-D_AC-S_SN_159_Calibration_Files_2018-04-26.zip',\n",
       "  'OPTAA-D_AC-S_SN_159_Calibration_Files_2013-12-12.zip'],\n",
       " 'CGINS-OPTAAD-00151': ['OPTAA-D_AC-S_SN_151_Calibration_Files_2013-12-12.zip',\n",
       "  'OPTAA-D_AC-S_SN_151_Calibration_Files_2016-03-31.zip',\n",
       "  'OPTAA-D_AC-S_SN_151_Calibration_Files_2017-02-09.zip']}"
      ]
     },
     "execution_count": 39,
     "metadata": {},
     "output_type": "execute_result"
    }
   ],
   "source": [
    "cal_dict = get_calibration_files(serial_nums, cal_directory)\n",
    "cal_dict"
   ]
  },
  {
   "cell_type": "code",
   "execution_count": 42,
   "metadata": {},
   "outputs": [
    {
     "data": {
      "text/plain": [
       "'CGINS-OPTAAD-00129'"
      ]
     },
     "execution_count": 42,
     "metadata": {},
     "output_type": "execute_result"
    }
   ],
   "source": [
    "# Lets try opening/loading\n",
    "uid = uids[0]\n",
    "uid"
   ]
  },
  {
   "cell_type": "code",
   "execution_count": 43,
   "metadata": {},
   "outputs": [
    {
     "data": {
      "text/plain": [
       "['OPTAA-D_AC-S_SN_129_Calibration_Files_2015-10-05.zip',\n",
       " 'OPTAA-D_AC-S_SN_129_Calibration_Files_2017-02-09.zip',\n",
       " 'OPTAA-D_AC-S_SN_129_Calibration_Files_2018-04-11.zip',\n",
       " 'OPTAA-D_AC-S_SN_129_Calibration_Files_2013-01-30.zip']"
      ]
     },
     "execution_count": 43,
     "metadata": {},
     "output_type": "execute_result"
    }
   ],
   "source": [
    "cal_dict[uid]"
   ]
  },
  {
   "cell_type": "code",
   "execution_count": 44,
   "metadata": {},
   "outputs": [],
   "source": [
    "filepath = generate_file_path(cal_directory, 'OPTAA-D_AC-S_SN_129_Calibration_Files_2015-10-05', ext=['.zip'])"
   ]
  },
  {
   "cell_type": "code",
   "execution_count": 45,
   "metadata": {},
   "outputs": [
    {
     "data": {
      "text/plain": [
       "'/media/andrew/OS/Users/areed/Documents/Project_Files/Records/Instrument_Records/OPTAA/OPTAA-D_AC-S_SN_129_Calibration_Files_2015-10-05.zip'"
      ]
     },
     "execution_count": 45,
     "metadata": {},
     "output_type": "execute_result"
    }
   ],
   "source": [
    "filepath"
   ]
  },
  {
   "cell_type": "code",
   "execution_count": 94,
   "metadata": {},
   "outputs": [],
   "source": [
    "import string"
   ]
  },
  {
   "cell_type": "code",
   "execution_count": 262,
   "metadata": {},
   "outputs": [],
   "source": [
    "optaa = OPTAACalibration(uid=uid)"
   ]
  },
  {
   "cell_type": "code",
   "execution_count": 263,
   "metadata": {},
   "outputs": [],
   "source": [
    "optaa.load_dev(filepath)"
   ]
  },
  {
   "cell_type": "code",
   "execution_count": 264,
   "metadata": {},
   "outputs": [
    {
     "name": "stdout",
     "output_type": "stream",
     "text": [
      "Write CGINS-OPTAAD-00129__20150930.csv to /home/andrew/Documents/OOI-CGSN/QAQC_Sandbox/Metadata_Review/temp/optaa? [y/n]: y\n"
     ]
    }
   ],
   "source": [
    "optaa.write_csv(optaa_savepath)"
   ]
  },
  {
   "cell_type": "code",
   "execution_count": 249,
   "metadata": {},
   "outputs": [],
   "source": [
    "import shutil"
   ]
  },
  {
   "cell_type": "code",
   "execution_count": 253,
   "metadata": {},
   "outputs": [],
   "source": [
    "# Purge the temp directory\n",
    "try:\n",
    "    shutil.rmtree('/'.join((os.getcwd(),'temp')))\n",
    "except:\n",
    "    pass\n",
    "# Put the csv files into a similar temp directory for local working\n",
    "ensure_dir('/'.join((os.getcwd(),'temp','optaa')))\n",
    "optaa_savepath = '/'.join((os.getcwd(),'temp','optaa'))"
   ]
  },
  {
   "cell_type": "code",
   "execution_count": 257,
   "metadata": {},
   "outputs": [
    {
     "data": {
      "text/plain": [
       "'/home/andrew/Documents/OOI-CGSN/QAQC_Sandbox/Metadata_Review/temp/optaa'"
      ]
     },
     "execution_count": 257,
     "metadata": {},
     "output_type": "execute_result"
    }
   ],
   "source": [
    "optaa_savepath"
   ]
  },
  {
   "cell_type": "code",
   "execution_count": 246,
   "metadata": {},
   "outputs": [
    {
     "data": {
      "text/plain": [
       "{'CC_taarray': 'SheetRef:CC_taarray',\n",
       " 'CC_tcarray': 'SheetRef:CC_tcarray',\n",
       " 'CC_tbins': '[3.912083, 4.359483, 5.456582, 6.47945, 7.488736, 8.494507, 9.485833, 10.491887, 11.492, 12.483182, 13.479512, 14.478, 15.492105, 16.496857, 17.482424, 18.477273, 19.496364, 20.505333, 21.500345, 22.488519, 23.487778, 24.498077, 25.4912, 26.500769, 27.5168, 28.5004, 29.487692, 30.496786, 31.502069, 32.490909, 33.487714, 34.493158]',\n",
       " 'CC_cwlngth': '[399.6, 404.3, 408.5, 412.5, 417.1, 421.7, 426.9, 431.5, 435.6, 440.0, 444.9, 450.4, 455.0, 459.6, 464.3, 469.2, 474.5, 479.7, 484.8, 489.5, 494.1, 498.8, 503.4, 508.8, 513.9, 519.2, 524.2, 529.1, 533.7, 538.4, 543.2, 548.0, 552.9, 557.7, 562.8, 567.4, 571.9, 576.1, 580.2, 584.4, 587.8, 592.3, 596.7, 601.1, 605.8, 610.5, 615.2, 619.5, 624.0, 628.4, 632.9, 637.0, 641.5, 645.8, 650.4, 654.9, 659.5, 663.9, 668.2, 672.4, 676.5, 680.7, 684.5, 688.7, 692.3, 696.0, 699.4, 703.1, 706.5, 710.0, 713.7, 716.9, 720.0, 723.3, 726.7, 729.4, 732.6, 735.1, 738.1, 740.8, 743.7, 745.7, 748.1]',\n",
       " 'CC_awlngth': '[401.6, 405.9, 410.1, 414.1, 418.9, 423.5, 428.3, 432.9, 437.1, 441.7, 446.9, 451.8, 456.6, 461.1, 465.9, 470.8, 476.1, 481.3, 486.2, 490.9, 495.4, 500.1, 505.0, 510.2, 515.2, 520.6, 525.6, 530.3, 534.9, 539.7, 544.4, 549.3, 554.1, 559.1, 563.9, 568.6, 572.9, 577.1, 581.2, 585.3, 586.6, 591.0, 595.2, 599.8, 604.3, 608.8, 613.5, 618.0, 622.4, 626.7, 631.0, 635.5, 639.8, 644.3, 648.8, 653.0, 657.5, 662.3, 666.5, 670.8, 675.0, 679.1, 682.8, 686.9, 690.8, 694.4, 697.9, 701.5, 705.2, 708.6, 712.0, 715.3, 718.7, 721.7, 725.3, 728.3, 731.0, 734.0, 736.5, 739.6, 742.1, 744.6, 747.2]',\n",
       " 'CC_ccwo': '[0.69994, 0.543529, 0.411559, 0.304826, 0.204408, 0.118373, 0.044765, 0.021304, 0.081809, 0.137694, 0.190074, 0.237702, 0.277719, 0.315232, 0.347697, 0.382519, 0.414361, 0.441618, 0.470327, 0.495308, 0.518904, 0.540308, 0.558224, 0.57549, 0.5915, 0.60494, 0.620745, 0.634454, 0.645303, 0.659735, 0.66835, 0.678403, 0.691991, 0.701971, 0.711149, 0.718666, 0.722576, 0.724701, 0.721851, 0.714356, 0.70082, 0.68211, 0.660232, 0.640228, 0.628552, 0.625656, 0.627115, 0.630482, 0.629784, 0.632387, 0.634929, 0.634776, 0.633983, 0.630383, 0.622979, 0.612168, 0.602363, 0.595971, 0.592903, 0.590143, 0.585107, 0.575999, 0.559576, 0.536552, 0.503806, 0.461651, 0.409114, 0.341583, 0.258534, 0.158262, 0.036774, 0.104858, 0.267088, 0.449484, 0.648379, 0.846523, 1.031756, 1.196041, 1.327243, 1.423294, 1.489857, 1.536729, 1.567533]',\n",
       " 'CC_acwo': '[0.766926, 0.894161, 0.957891, 0.984062, 0.987937, 0.983649, 0.975092, 0.968009, 0.963695, 0.960259, 0.959012, 0.960023, 0.964128, 0.970136, 0.977806, 0.986423, 0.996488, 1.007325, 1.019311, 1.030866, 1.042842, 1.05405, 1.06508, 1.07627, 1.089193, 1.103873, 1.11907, 1.134618, 1.149675, 1.163649, 1.177754, 1.190986, 1.20484, 1.218425, 1.231287, 1.24234, 1.250494, 1.25497, 1.25535, 1.251098, 1.247511, 1.236381, 1.221798, 1.208685, 1.202229, 1.203842, 1.210942, 1.219875, 1.229272, 1.238456, 1.247008, 1.254964, 1.261347, 1.265101, 1.265396, 1.262901, 1.259981, 1.259572, 1.261833, 1.265173, 1.26684, 1.265036, 1.257733, 1.243343, 1.220577, 1.188022, 1.144454, 1.087939, 1.016388, 0.927716, 0.820502, 0.69176, 0.542299, 0.372671, 0.185641, 0.006931, 0.191703, 0.3591, 0.497052, 0.601565, 0.674938, 0.72369, 0.754966]'}"
      ]
     },
     "execution_count": 246,
     "metadata": {},
     "output_type": "execute_result"
    }
   ],
   "source": [
    "optaa.coefficients"
   ]
  },
  {
   "cell_type": "code",
   "execution_count": 230,
   "metadata": {},
   "outputs": [
    {
     "ename": "TypeError",
     "evalue": "unsupported operand type(s) for +: 'NoneType' and 'int'",
     "output_type": "error",
     "traceback": [
      "\u001b[0;31m---------------------------------------------------------------------------\u001b[0m",
      "\u001b[0;31mTypeError\u001b[0m                                 Traceback (most recent call last)",
      "\u001b[0;32m<ipython-input-230-25a5ec280e51>\u001b[0m in \u001b[0;36m<module>\u001b[0;34m\u001b[0m\n\u001b[1;32m     36\u001b[0m             \u001b[0moptaa\u001b[0m\u001b[0;34m.\u001b[0m\u001b[0mccwo\u001b[0m\u001b[0;34m.\u001b[0m\u001b[0mappend\u001b[0m\u001b[0;34m(\u001b[0m\u001b[0mfloat\u001b[0m\u001b[0;34m(\u001b[0m\u001b[0mdata\u001b[0m\u001b[0;34m[\u001b[0m\u001b[0;36m3\u001b[0m\u001b[0;34m]\u001b[0m\u001b[0;34m)\u001b[0m\u001b[0;34m)\u001b[0m\u001b[0;34m\u001b[0m\u001b[0;34m\u001b[0m\u001b[0m\n\u001b[1;32m     37\u001b[0m             \u001b[0moptaa\u001b[0m\u001b[0;34m.\u001b[0m\u001b[0macwo\u001b[0m\u001b[0;34m.\u001b[0m\u001b[0mappend\u001b[0m\u001b[0;34m(\u001b[0m\u001b[0mfloat\u001b[0m\u001b[0;34m(\u001b[0m\u001b[0mdata\u001b[0m\u001b[0;34m[\u001b[0m\u001b[0;36m4\u001b[0m\u001b[0;34m]\u001b[0m\u001b[0;34m)\u001b[0m\u001b[0;34m)\u001b[0m\u001b[0;34m\u001b[0m\u001b[0;34m\u001b[0m\u001b[0m\n\u001b[0;32m---> 38\u001b[0;31m             \u001b[0mtcrow\u001b[0m \u001b[0;34m=\u001b[0m \u001b[0;34m[\u001b[0m\u001b[0mfloat\u001b[0m\u001b[0;34m(\u001b[0m\u001b[0mx\u001b[0m\u001b[0;34m)\u001b[0m \u001b[0;32mfor\u001b[0m \u001b[0mx\u001b[0m \u001b[0;32min\u001b[0m \u001b[0mdata\u001b[0m\u001b[0;34m[\u001b[0m\u001b[0;36m5\u001b[0m\u001b[0;34m:\u001b[0m\u001b[0moptaa\u001b[0m\u001b[0;34m.\u001b[0m\u001b[0mnbins\u001b[0m\u001b[0;34m+\u001b[0m\u001b[0;36m5\u001b[0m\u001b[0;34m]\u001b[0m\u001b[0;34m]\u001b[0m\u001b[0;34m\u001b[0m\u001b[0;34m\u001b[0m\u001b[0m\n\u001b[0m\u001b[1;32m     39\u001b[0m             \u001b[0mtarow\u001b[0m \u001b[0;34m=\u001b[0m \u001b[0;34m[\u001b[0m\u001b[0mfloat\u001b[0m\u001b[0;34m(\u001b[0m\u001b[0mx\u001b[0m\u001b[0;34m)\u001b[0m \u001b[0;32mfor\u001b[0m \u001b[0mx\u001b[0m \u001b[0;32min\u001b[0m \u001b[0mdata\u001b[0m\u001b[0;34m[\u001b[0m\u001b[0moptaa\u001b[0m\u001b[0;34m.\u001b[0m\u001b[0mnbins\u001b[0m\u001b[0;34m+\u001b[0m\u001b[0;36m5\u001b[0m\u001b[0;34m:\u001b[0m\u001b[0;36m2\u001b[0m\u001b[0;34m*\u001b[0m\u001b[0moptaa\u001b[0m\u001b[0;34m.\u001b[0m\u001b[0mnbins\u001b[0m\u001b[0;34m+\u001b[0m\u001b[0;36m5\u001b[0m\u001b[0;34m]\u001b[0m\u001b[0;34m]\u001b[0m\u001b[0;34m\u001b[0m\u001b[0;34m\u001b[0m\u001b[0m\n\u001b[1;32m     40\u001b[0m             \u001b[0moptaa\u001b[0m\u001b[0;34m.\u001b[0m\u001b[0mtcarray\u001b[0m\u001b[0;34m.\u001b[0m\u001b[0mappend\u001b[0m\u001b[0;34m(\u001b[0m\u001b[0mtcrow\u001b[0m\u001b[0;34m)\u001b[0m\u001b[0;34m\u001b[0m\u001b[0;34m\u001b[0m\u001b[0m\n",
      "\u001b[0;31mTypeError\u001b[0m: unsupported operand type(s) for +: 'NoneType' and 'int'"
     ]
    }
   ],
   "source": [
    "if filepath.endswith('.zip'):\n",
    "    with ZipFile(filepath) as zfile:\n",
    "        filename = [name for name in zfile.namelist() if name.endswith('.dev')]\n",
    "        text = zfile.read(filename[0]).decode('ASCII')\n",
    "\n",
    "# Remove extraneous characters from the \n",
    "punctuation = ''.join((letter for letter in string.punctuation if letter not in ';/.'))\n",
    "        \n",
    "for line in text.replace('\\t',' ').splitlines():\n",
    "    line = ''.join((word for word in line if word not in punctuation))\n",
    "            \n",
    "    if 'tcal' in line:\n",
    "        data = line.split()\n",
    "        # Temperature calibration value\n",
    "        tcal = data.index('tcal')\n",
    "        optaa.tcal = data[tcal+1]\n",
    "        # Temperature calibration date\n",
    "        cal_date = data[-1].strip()\n",
    "        optaa.date = pd.to_datetime(cal_date).strftime('%Y%m%d')\n",
    "            \n",
    "    elif ';' in line:\n",
    "        data, comment = line.split(';')\n",
    "        \n",
    "        if 'temperature bins' in comment:\n",
    "            if 'number' in comment:\n",
    "                optaa.nbins = int(data)\n",
    "            else:\n",
    "                optaa.tbins = data.split()\n",
    "                optaa.tbins = [float(x) for x in optaa.tbins]\n",
    "                optaa.coefficients['CC_tbins'] = json.dumps(optaa.tbins)\n",
    "                \n",
    "        elif 'C and A offset' in comment:\n",
    "            data = data.split()\n",
    "            optaa.cwlngth.append(float(data[0][1:]))\n",
    "            optaa.awlngth.append(float(data[1][1:]))\n",
    "            optaa.ccwo.append(float(data[3]))\n",
    "            optaa.acwo.append(float(data[4]))\n",
    "            tcrow = [float(x) for x in data[5:optaa.nbins+5]]\n",
    "            tarow = [float(x) for x in data[optaa.nbins+5:2*optaa.nbins+5]]\n",
    "            optaa.tcarray.append(tcrow)\n",
    "            optaa.taarray.append(tarow)\n",
    "            optaa.coefficients['CC_cwlngth'] = json.dumps(optaa.cwlngth)\n",
    "            optaa.coefficients['CC_awlngth'] = json.dumps(optaa.awlngth)\n",
    "            optaa.coefficients['CC_ccwo'] = json.dumps(optaa.ccwo)\n",
    "            optaa.coefficients['CC_acwo'] = json.dumps(optaa.acwo)\n",
    "    \n",
    "        else:\n",
    "            pass\n",
    "            \n",
    "    else:\n",
    "        pass\n",
    "            \n",
    "            \n"
   ]
  },
  {
   "cell_type": "code",
   "execution_count": 241,
   "metadata": {},
   "outputs": [
    {
     "name": "stdout",
     "output_type": "stream",
     "text": [
      "53000081  ; Serial number                                                                      \n",
      "3 ; structure version number                                                                       \n",
      "0 0  ; Depth calibration                                                                     \n",
      "115200   ; Baud rate                                                                     \n",
      "0.25   ; Path length (meters)                                                                     \n",
      "83   ; output wavelengths                                                                     \n",
      "32   ; number of temperature bins                                                                     \n",
      "32   :: number of temperature bins                                                                     \n",
      "     3.912083 4.359483 5.456582 6.47945 7.488736 8.494507 9.485833 10.491887 11.492 12.483182 13.479512 14.478 15.492105 16.496857 17.482424 18.477273 19.496364 20.505333 21.500345 22.488519 23.487778 24.498077 25.4912 26.500769 27.5168 28.5004 29.487692 30.496786 31.502069 32.490909 33.487714 34.493158 ; temperature bins                                   \n",
      "C399.6 A401.6 8 -0.69994 0.766926  0.028624 0.029754 0.030644 0.030939 0.030487 0.029077 0.028587 0.027245 0.027794 0.025895 0.02335 0.022538 0.021997 0.021057 0.018629 0.017541 0.014918 0.012867 0.010633 0.00919 0.004672 0.0018 0 -0.00294 -0.003908 -0.008106 -0.011494 -0.014011 -0.017153 -0.021033 -0.022882 -0.026213  -0.090953 -0.093115 -0.092166 -0.088711 -0.084722 -0.08115 -0.077252 -0.073383 -0.067757 -0.063907 -0.059391 -0.054128 -0.050448 -0.045742 -0.039796 -0.034538 -0.028644 -0.023933 -0.018497 -0.013977 -0.009827 -0.004595 0 0.003711 0.009724 0.01363 0.019698 0.024696 0.030077 0.035897 0.04191 0.04889  \"; C and A offset, and C and A temperature correction info\"\n",
      "C404.3 A405.9 10 -0.543529 0.894161  0.018917 0.019895 0.021297 0.022296 0.022379 0.021345 0.020933 0.021098 0.0187 0.018799 0.018272 0.017089 0.017131 0.016761 0.014811 0.013693 0.011826 0.010315 0.008034 0.006185 0.003802 0.00185 0 -0.002774 -0.003266 -0.006522 -0.009032 -0.011825 -0.014292 -0.017452 -0.018682 -0.020873  -0.080913 -0.082171 -0.081115 -0.077856 -0.0744 -0.071539 -0.067444 -0.063957 -0.058887 -0.055299 -0.051704 -0.047499 -0.04341 -0.039409 -0.034242 -0.029542 -0.025589 -0.020847 -0.015537 -0.012247 -0.007948 -0.004068 0 0.003575 0.008516 0.012231 0.017308 0.022086 0.025833 0.030825 0.035985 0.041683  \"; C and A offset, and C and A temperature correction info\"\n",
      "C408.5 A410.1 11 -0.411559 0.957891  0.01559 0.016878 0.018515 0.018176 0.017654 0.018287 0.017778 0.016964 0.016651 0.016519 0.01534 0.014577 0.014635 0.013769 0.012339 0.011603 0.009171 0.008383 0.006606 0.005432 0.002488 0.001072 0 -0.001464 -0.00334 -0.005647 -0.007916 -0.010187 -0.012962 -0.01529 -0.017111 -0.018059  -0.072831 -0.073818 -0.072353 -0.069296 -0.066024 -0.063187 -0.059881 -0.057092 -0.052426 -0.04938 -0.046099 -0.041878 -0.038136 -0.034497 -0.029969 -0.025715 -0.021502 -0.017398 -0.013591 -0.01018 -0.00641 -0.003598 0 0.002492 0.00699 0.010074 0.014148 0.01757 0.020437 0.024787 0.028435 0.03316  \"; C and A offset, and C and A temperature correction info\"\n",
      "C412.5 A414.1 12 -0.304826 0.984062  0.011215 0.012226 0.013932 0.014376 0.014817 0.014612 0.014468 0.014304 0.013874 0.013387 0.013088 0.012637 0.012732 0.012685 0.011345 0.010981 0.009477 0.008284 0.006101 0.005117 0.002379 0.000461 0 -0.00246 -0.002337 -0.004175 -0.006851 -0.007783 -0.010522 -0.012667 -0.013519 -0.015515  -0.064701 -0.065474 -0.064185 -0.061625 -0.05865 -0.056268 -0.053006 -0.049988 -0.045896 -0.042897 -0.039875 -0.036075 -0.032926 -0.030221 -0.025659 -0.022241 -0.018458 -0.014654 -0.011203 -0.008309 -0.005097 -0.002677 0 0.002694 0.006561 0.008224 0.011815 0.014675 0.017045 0.0204 0.023519 0.026872  \"; C and A offset, and C and A temperature correction info\"\n",
      "C417.1 A418.9 13 -0.204408 0.987937  0.006993 0.008099 0.010072 0.010715 0.01084 0.010666 0.011074 0.010694 0.010814 0.010719 0.010209 0.010466 0.010305 0.010479 0.009704 0.008758 0.007599 0.006061 0.005088 0.003677 0.002511 0.001393 0 -0.001021 -0.001223 -0.003002 -0.005041 -0.006192 -0.008309 -0.009654 -0.010097 -0.011738  -0.057866 -0.058456 -0.057302 -0.054762 -0.052269 -0.049745 -0.046527 -0.044374 -0.040987 -0.038243 -0.035646 -0.032462 -0.029608 -0.026788 -0.022951 -0.019986 -0.016473 -0.01316 -0.010224 -0.007317 -0.004979 -0.002422 0 0.001988 0.005001 0.0076 0.010402 0.012674 0.01451 0.017126 0.019568 0.022454  \"; C and A offset, and C and A temperature correction info\"\n",
      "C421.7 A423.5 15 -0.118373 0.983649  0.005505 0.006679 0.007889 0.008285 0.008228 0.008431 0.008441 0.008699 0.008997 0.008638 0.008535 0.008048 0.008681 0.008938 0.008092 0.007305 0.006282 0.005711 0.004424 0.003186 0.00164 0.000519 0 -0.001502 -0.002358 -0.003525 -0.004773 -0.005835 -0.006926 -0.008728 -0.009453 -0.010191  -0.054803 -0.055093 -0.053646 -0.051115 -0.048626 -0.046423 -0.043635 -0.041343 -0.038263 -0.036005 -0.033046 -0.030497 -0.027521 -0.024545 -0.020989 -0.018356 -0.015496 -0.012573 -0.009657 -0.007066 -0.004862 -0.00226 0 0.001847 0.004512 0.006475 0.009014 0.011061 0.012727 0.014874 0.017293 0.020047  \"; C and A offset, and C and A temperature correction info\"\n",
      "C426.9 A428.3 16 -0.044765 0.975092  0.002176 0.003306 0.004986 0.006088 0.006622 0.006653 0.00705 0.006713 0.007001 0.007157 0.007165 0.007137 0.007307 0.007519 0.00695 0.006692 0.005432 0.00456 0.003316 0.002839 0.001477 0.001023 0 -0.000623 -0.000937 -0.002922 -0.003488 -0.004315 -0.006108 -0.007413 -0.007436 -0.00772  -0.050136 -0.050433 -0.049242 -0.0465 -0.044262 -0.04247 -0.039903 -0.037765 -0.034947 -0.032812 -0.030392 -0.027621 -0.025013 -0.022255 -0.019164 -0.016901 -0.014216 -0.011293 -0.008584 -0.006331 -0.003904 -0.001925 0 0.001419 0.004205 0.006086 0.008084 0.010028 0.011693 0.013688 0.015773 0.017896  \"; C and A offset, and C and A temperature correction info\"\n",
      "C431.5 A432.9 17 0.021304 0.968009  0.001664 0.002763 0.004589 0.004756 0.005169 0.005279 0.005723 0.005812 0.005932 0.006045 0.005807 0.005977 0.006561 0.006634 0.006386 0.00595 0.00459 0.004025 0.003253 0.002748 0.001407 0.000481 0 -0.00078 -0.001192 -0.002022 -0.003379 -0.003892 -0.004971 -0.006105 -0.006373 -0.006742  -0.04727 -0.047507 -0.04625 -0.043944 -0.041872 -0.039946 -0.037755 -0.035517 -0.032959 -0.031163 -0.028675 -0.026249 -0.023554 -0.021303 -0.018036 -0.015827 -0.013168 -0.01054 -0.007977 -0.005899 -0.003734 -0.001927 0 0.001526 0.003931 0.005619 0.007846 0.009389 0.010713 0.012618 0.014396 0.016525  \"; C and A offset, and C and A temperature correction info\"\n",
      "C435.6 A437.1 18 0.081809 0.963695  0.000151 0.00104 0.002358 0.00307 0.003223 0.003707 0.003759 0.004272 0.005113 0.005141 0.00482 0.005182 0.005174 0.005621 0.005489 0.004766 0.004187 0.003508 0.002658 0.002189 0.001099 0.000127 0 -0.001503 -0.001044 -0.002026 -0.002529 -0.003222 -0.004195 -0.005039 -0.005153 -0.005343  -0.043807 -0.044059 -0.04295 -0.041036 -0.039023 -0.037298 -0.035126 -0.033068 -0.030856 -0.029136 -0.026721 -0.024589 -0.022178 -0.019971 -0.01719 -0.015233 -0.012418 -0.009958 -0.007708 -0.005426 -0.003516 -0.00159 0 0.001421 0.003882 0.005393 0.007383 0.008861 0.010215 0.01182 0.01357 0.015278  \"; C and A offset, and C and A temperature correction info\"\n",
      "C440.0 A441.7 20 0.137694 0.960259  -0.002267 -0.001189 0.000624 0.001402 0.002062 0.002184 0.00252 0.002985 0.003242 0.003495 0.003801 0.003962 0.00449 0.004748 0.004427 0.004419 0.003168 0.002733 0.002142 0.00178 0.000597 0.000394 0 -0.000178 -0.000298 -0.001435 -0.002276 -0.002535 -0.003126 -0.004288 -0.003872 -0.004154  -0.042373 -0.042348 -0.040955 -0.039031 -0.037155 -0.035453 -0.033493 -0.031512 -0.029343 -0.027566 -0.025399 -0.023349 -0.020897 -0.018899 -0.016157 -0.014186 -0.011824 -0.009241 -0.007194 -0.005255 -0.003292 -0.001738 0 0.00146 0.003668 0.004969 0.006671 0.00819 0.009602 0.01108 0.012678 0.014226  \"; C and A offset, and C and A temperature correction info\"\n",
      "C444.9 A446.9 21 0.190074 0.959012  -0.002394 -0.00144 0.00001 0.000262 0.00089 0.001347 0.001851 0.001915 0.002551 0.002703 0.003084 0.003254 0.003866 0.004081 0.0042 0.003619 0.002967 0.002697 0.001922 0.001447 0.000754 0.000039 0 -0.000643 -0.000699 -0.001023 -0.001793 -0.002371 -0.002762 -0.003249 -0.003361 -0.003308  -0.039827 -0.039903 -0.03869 -0.036957 -0.035374 -0.033794 -0.031976 -0.030075 -0.027939 -0.026169 -0.023964 -0.022069 -0.020029 -0.017826 -0.0154 -0.013455 -0.011101 -0.008826 -0.006781 -0.004943 -0.003134 -0.001491 0 0.001519 0.003317 0.004988 0.006493 0.007963 0.009049 0.010507 0.012019 0.01344  \"; C and A offset, and C and A temperature correction info\"\n",
      "C450.4 A451.8 22 0.237702 0.960023  -0.004347 -0.003421 -0.00198 -0.001181 -0.000453 -0.000129 0.000238 0.000955 0.001584 0.001859 0.001756 0.002311 0.002752 0.003204 0.003221 0.003152 0.002298 0.00201 0.001593 0.001283 0.000175 0.000397 0 -0.000483 -0.000348 -0.000974 -0.001158 -0.001449 -0.001935 -0.002526 -0.002205 -0.002051  -0.038206 -0.038156 -0.036972 -0.035278 -0.033684 -0.032186 -0.030262 -0.028648 -0.026691 -0.024943 -0.023046 -0.021031 -0.018869 -0.017031 -0.014638 -0.012818 -0.010499 -0.008388 -0.006435 -0.004612 -0.003076 -0.001375 0 0.001232 0.003181 0.004689 0.006301 0.007604 0.008677 0.009966 0.011294 0.012771  \"; C and A offset, and C and A temperature correction info\"\n",
      "C455.0 A456.6 23 0.277719 0.964128  -0.005169 -0.004134 -0.002535 -0.001954 -0.001222 -0.001065 -0.000312 -0.000028 0.000319 0.000723 0.00141 0.001462 0.002104 0.0026 0.002697 0.002509 0.001987 0.001646 0.000923 0.000798 0.000638 -0.000019 0 -0.000163 -0.000038 -0.000516 -0.000938 -0.001017 -0.001319 -0.001449 -0.001433 -0.001235  -0.035992 -0.035985 -0.034803 -0.033209 -0.031721 -0.030251 -0.028593 -0.027125 -0.025164 -0.023539 -0.021776 -0.019681 -0.017892 -0.016101 -0.01386 -0.011985 -0.010018 -0.008008 -0.006092 -0.004486 -0.002814 -0.001274 0 0.001369 0.003205 0.00439 0.005784 0.007208 0.008184 0.009492 0.010724 0.011983  \"; C and A offset, and C and A temperature correction info\"\n",
      "C459.6 A461.1 LtBlue 0.315232 0.970136  -0.005051 -0.004289 -0.003166 -0.002654 -0.002094 -0.001584 -0.00108 -0.000515 0.000128 0.000554 0.000794 0.001411 0.001654 0.002277 0.002615 0.002326 0.001688 0.001467 0.001254 0.000977 0.000336 0.000186 0 -0.000328 -0.000286 -0.000575 -0.000602 -0.00072 -0.000845 -0.001019 -0.000767 -0.000346  -0.03472 -0.034684 -0.033575 -0.03205 -0.030638 -0.029227 -0.027585 -0.026193 -0.024393 -0.02275 -0.021091 -0.019237 -0.017259 -0.01553 -0.013375 -0.011627 -0.009659 -0.007821 -0.005919 -0.00424 -0.002746 -0.00129 0 0.001145 0.00287 0.004031 0.00559 0.006783 0.007791 0.008919 0.010024 0.011246  \"; C and A offset, and C and A temperature correction info\"\n",
      "C464.3 A465.9 26 0.347697 0.977806  -0.006298 -0.005511 -0.004033 -0.003248 -0.002558 -0.00217 -0.001599 -0.001005 -0.000492 -0.000205 0.000161 0.000568 0.001097 0.001611 0.001666 0.001628 0.001321 0.001217 0.000643 0.000561 0.00006 -0.000017 0 -0.00019 0.000056 -0.000058 -0.00044 -0.000209 -0.000272 -0.000407 -0.000089 0.000354  -0.033441 -0.033372 -0.032256 -0.030768 -0.029332 -0.028027 -0.026532 -0.025112 -0.023404 -0.021884 -0.020219 -0.018389 -0.016539 -0.014946 -0.012728 -0.011075 -0.009293 -0.007395 -0.005601 -0.004125 -0.002687 -0.001206 0 0.0012 0.00288 0.003934 0.005249 0.006489 0.007431 0.008531 0.00951 0.010725  \"; C and A offset, and C and A temperature correction info\"\n",
      "C469.2 A470.8 27 0.382519 0.986423  -0.007171 -0.006359 -0.004937 -0.004361 -0.003641 -0.00314 -0.002513 -0.002134 -0.001416 -0.000954 -0.000357 0.000041 0.000792 0.001184 0.001598 0.001531 0.001028 0.000748 0.00058 0.000418 0.00026 -0.00006 0 -0.000076 0.000144 -0.000022 0.00003 0.000069 0.000055 0.00019 0.000642 0.001091  -0.03203 -0.031908 -0.030838 -0.029463 -0.028095 -0.02681 -0.025473 -0.024112 -0.022464 -0.020945 -0.019451 -0.017635 -0.015948 -0.014268 -0.012218 -0.010614 -0.008893 -0.007081 -0.005381 -0.003904 -0.002461 -0.001154 0 0.001197 0.002687 0.003902 0.005058 0.00616 0.007089 0.008112 0.008997 0.010084  \"; C and A offset, and C and A temperature correction info\"\n",
      "C474.5 A476.1 28 0.414361 0.996488  -0.006965 -0.006301 -0.005285 -0.004789 -0.004077 -0.003575 -0.002972 -0.002368 -0.00168 -0.001316 -0.000952 -0.000444 0.000128 0.0007 0.001097 0.001 0.000554 0.000729 0.000437 0.00025 -0.000215 -0.000246 0 -0.000266 -0.000007 0.000043 0.000348 0.000395 0.000556 0.000697 0.001014 0.00168  -0.030896 -0.030785 -0.02976 -0.02845 -0.027119 -0.025828 -0.024444 -0.023309 -0.021683 -0.02026 -0.01874 -0.017105 -0.015407 -0.013848 -0.011842 -0.010284 -0.008662 -0.006816 -0.005142 -0.003798 -0.0024 -0.001138 0 0.001169 0.00252 0.003624 0.004775 0.005838 0.006706 0.00767 0.008617 0.009602  \"; C and A offset, and C and A temperature correction info\"\n",
      "C479.7 A481.3 30 0.441618 1.007325  -0.008133 -0.007453 -0.006141 -0.005337 -0.004601 -0.00425 -0.003588 -0.003057 -0.002525 -0.002047 -0.001483 -0.000911 -0.000166 0.000475 0.000671 0.00083 0.000667 0.000339 -0.000011 0.000073 -0.000142 -0.000128 0 -0.000027 0.000511 0.000437 0.000354 0.00078 0.001032 0.001285 0.001759 0.002281  -0.029741 -0.029554 -0.028505 -0.027276 -0.025992 -0.024707 -0.023491 -0.022325 -0.020793 -0.019449 -0.01801 -0.016406 -0.014804 -0.013231 -0.011329 -0.009834 -0.008205 -0.006521 -0.004949 -0.003654 -0.002318 -0.001033 0 0.001098 0.002391 0.003548 0.00459 0.005579 0.006423 0.007346 0.008158 0.00906  \"; C and A offset, and C and A temperature correction info\"\n",
      "C484.8 A486.2 31 0.470327 1.019311  -0.008482 -0.007814 -0.006615 -0.006071 -0.005398 -0.004807 -0.004219 -0.00373 -0.002932 -0.002414 -0.001715 -0.001127 -0.000458 0.000065 0.000648 0.000644 0.000415 0.000395 0.000148 0.000132 0.000063 -0.000048 0 0.00016 0.000526 0.00049 0.000953 0.001038 0.001343 0.001797 0.002255 0.002799  -0.028746 -0.02859 -0.027591 -0.026417 -0.025181 -0.023945 -0.02274 -0.021612 -0.020131 -0.018826 -0.017397 -0.015931 -0.01433 -0.012746 -0.010982 -0.009514 -0.007908 -0.006302 -0.004784 -0.003517 -0.002223 -0.001 0 0.001069 0.002338 0.003324 0.004384 0.005361 0.006097 0.006911 0.007765 0.008571  \"; C and A offset, and C and A temperature correction info\"\n",
      "C489.5 A490.9 32 0.495308 1.030866  -0.008622 -0.008083 -0.007124 -0.006405 -0.00562 -0.00521 -0.004521 -0.003967 -0.003297 -0.002764 -0.002341 -0.001886 -0.001073 -0.000381 0.000059 0.000207 0.000072 0.00014 -0.000098 -0.000012 -0.0005 -0.000433 0 -0.000135 0.000252 0.000498 0.00079 0.00117 0.001573 0.001938 0.002398 0.003084  -0.027625 -0.027472 -0.026519 -0.025355 -0.024188 -0.022959 -0.021832 -0.020763 -0.019396 -0.018163 -0.016772 -0.01537 -0.013809 -0.012313 -0.010518 -0.009129 -0.007611 -0.005959 -0.004516 -0.003346 -0.00219 -0.000871 0 0.001054 0.002213 0.003182 0.004179 0.005151 0.005885 0.006635 0.007385 0.008142  \"; C and A offset, and C and A temperature correction info\"\n",
      "C494.1 A495.4 34 0.518904 1.042842  -0.009562 -0.008922 -0.007715 -0.007019 -0.006258 -0.005831 -0.005137 -0.004678 -0.004006 -0.003425 -0.002745 -0.001929 -0.001256 -0.000624 -0.000126 0.000099 -0.000013 -0.000157 -0.00025 -0.00019 -0.000384 -0.000134 0 0.00006 0.00058 0.00065 0.000918 0.001421 0.001661 0.002116 0.002628 0.003365  -0.026489 -0.026314 -0.025398 -0.024292 -0.023112 -0.021986 -0.020918 -0.019922 -0.018579 -0.017468 -0.016108 -0.014745 -0.013263 -0.011711 -0.010179 -0.008802 -0.007375 -0.005776 -0.004425 -0.003264 -0.002048 -0.00089 0 0.000917 0.002106 0.003017 0.003952 0.004896 0.005567 0.006296 0.007012 0.007759  \"; C and A offset, and C and A temperature correction info\"\n",
      "C498.8 A500.1 35 0.540308 1.05405  -0.009471 -0.008958 -0.007993 -0.007461 -0.006745 -0.006055 -0.005482 -0.004787 -0.004099 -0.003452 -0.002759 -0.002105 -0.001343 -0.000676 0.000014 0.000117 0.000089 0.000033 0.000002 -0.000085 -0.000092 -0.000127 0 0.000311 0.000606 0.001014 0.001439 0.001715 0.002173 0.002768 0.003189 0.003815  -0.025563 -0.025396 -0.024497 -0.023497 -0.022366 -0.021296 -0.020257 -0.019277 -0.017987 -0.016819 -0.015565 -0.014244 -0.012772 -0.011382 -0.00983 -0.008421 -0.007017 -0.005616 -0.004255 -0.003116 -0.001986 -0.000828 0 0.000948 0.002045 0.002927 0.003842 0.004642 0.005386 0.006001 0.006645 0.007338  \"; C and A offset, and C and A temperature correction info\"\n",
      "C503.4 A505.0 36 0.558224 1.06508  -0.009936 -0.009438 -0.008451 -0.007742 -0.00692 -0.006426 -0.005776 -0.00523 -0.004469 -0.003863 -0.003329 -0.002568 -0.00177 -0.000972 -0.000515 -0.000211 -0.000264 -0.00015 -0.000457 -0.000467 -0.000592 -0.000358 0 -0.000064 0.000432 0.00068 0.001105 0.00155 0.001994 0.002469 0.00306 0.003732  -0.024518 -0.024349 -0.023477 -0.022504 -0.021389 -0.020367 -0.019408 -0.01851 -0.017284 -0.01613 -0.014956 -0.013701 -0.012232 -0.010914 -0.009421 -0.008075 -0.006687 -0.005306 -0.004042 -0.003007 -0.001876 -0.000821 0 0.000911 0.001942 0.002808 0.003703 0.00453 0.005103 0.005719 0.006366 0.006995  \"; C and A offset, and C and A temperature correction info\"\n",
      "C508.8 A510.2 37 0.57549 1.07627  -0.010436 -0.009882 -0.008847 -0.008171 -0.007436 -0.006944 -0.006245 -0.005683 -0.004836 -0.004172 -0.003357 -0.002565 -0.001859 -0.001037 -0.000469 -0.000181 -0.000183 -0.000179 -0.000345 -0.000237 -0.000222 -0.000195 0 0.00025 0.000684 0.000924 0.001365 0.001647 0.002196 0.002768 0.003315 0.004007  -0.023657 -0.02351 -0.022693 -0.021766 -0.020704 -0.019716 -0.018786 -0.017973 -0.016697 -0.015661 -0.014477 -0.01324 -0.011921 -0.010618 -0.009151 -0.007819 -0.006549 -0.005156 -0.003876 -0.002897 -0.00187 -0.000832 0 0.000858 0.001903 0.002649 0.003476 0.004282 0.004838 0.005417 0.005987 0.006558  \"; C and A offset, and C and A temperature correction info\"\n",
      "C513.9 A515.2 39 0.5915 1.089193  -0.010628 -0.010217 -0.009348 -0.008713 -0.007904 -0.007202 -0.006565 -0.005856 -0.005058 -0.00436 -0.003544 -0.002849 -0.001872 -0.001156 -0.00041 -0.00018 -0.000095 -0.000132 -0.00019 -0.000227 -0.000351 -0.000166 0 0.000122 0.000646 0.00099 0.001355 0.001842 0.002449 0.003012 0.003516 0.004228  -0.022834 -0.02267 -0.021903 -0.021011 -0.019986 -0.019006 -0.018129 -0.017322 -0.016151 -0.015073 -0.014054 -0.012822 -0.011536 -0.010235 -0.008841 -0.007498 -0.006298 -0.005004 -0.003797 -0.002805 -0.001766 -0.000779 0 0.000819 0.001813 0.002594 0.003313 0.004074 0.004656 0.005149 0.005721 0.00627  \"; C and A offset, and C and A temperature correction info\"\n",
      "C519.2 A520.6 40 0.60494 1.103873  -0.010517 -0.010064 -0.009148 -0.008435 -0.007637 -0.007114 -0.006381 -0.005916 -0.005105 -0.004424 -0.003725 -0.002832 -0.002036 -0.001179 -0.000516 -0.000207 -0.000242 -0.000228 -0.000433 -0.000357 -0.00042 -0.000317 0 0.000072 0.000524 0.000742 0.00127 0.001694 0.002282 0.002852 0.00342 0.004028  -0.021757 -0.021629 -0.020879 -0.02003 -0.019098 -0.01819 -0.017343 -0.016588 -0.0155 -0.014497 -0.013492 -0.012296 -0.0111 -0.009813 -0.008469 -0.007225 -0.006083 -0.004846 -0.003602 -0.00267 -0.001748 -0.000757 0 0.000763 0.001693 0.002458 0.003186 0.003881 0.004365 0.004895 0.005423 0.005921  \"; C and A offset, and C and A temperature correction info\"\n",
      "C524.2 A525.6 41 0.620745 1.11907  -0.010755 -0.01036 -0.009401 -0.008784 -0.008078 -0.007421 -0.006791 -0.006112 -0.00531 -0.004531 -0.003605 -0.002714 -0.001849 -0.001108 -0.000384 -0.000156 -0.000097 -0.000161 -0.000181 -0.000267 -0.000222 -0.0001 0 0.000236 0.000664 0.000908 0.001377 0.001856 0.002497 0.003095 0.003628 0.004347  -0.020958 -0.020847 -0.020132 -0.019353 -0.018411 -0.01752 -0.016738 -0.015989 -0.014924 -0.013927 -0.012954 -0.011841 -0.010699 -0.009495 -0.008142 -0.006965 -0.005856 -0.004654 -0.003503 -0.002567 -0.001621 -0.000719 0 0.00076 0.001672 0.002326 0.003038 0.003687 0.00425 0.004707 0.005139 0.00562  \"; C and A offset, and C and A temperature correction info\"\n",
      "C529.1 A530.3 42 0.634454 1.134618  -0.010059 -0.009788 -0.009116 -0.00854 -0.00771 -0.007096 -0.00638 -0.005773 -0.004989 -0.004274 -0.003541 -0.002835 -0.001938 -0.001114 -0.000394 -0.000117 -0.000032 -0.000002 -0.000169 -0.000174 -0.000346 -0.00025 0 0.000117 0.000532 0.000904 0.001392 0.001841 0.002421 0.003024 0.003674 0.004284  -0.020179 -0.020077 -0.019412 -0.018642 -0.01776 -0.016883 -0.016154 -0.015471 -0.014381 -0.013486 -0.012549 -0.011479 -0.010366 -0.009154 -0.007856 -0.006699 -0.005644 -0.004482 -0.003389 -0.00246 -0.001567 -0.000689 0 0.000773 0.001581 0.00232 0.002988 0.003574 0.004062 0.00451 0.004961 0.005383  \"; C and A offset, and C and A temperature correction info\"\n",
      "C533.7 A534.9 44 0.645303 1.149675  -0.009789 -0.00946 -0.00863 -0.007968 -0.007274 -0.006831 -0.006114 -0.005714 -0.004859 -0.004216 -0.003393 -0.002571 -0.00174 -0.000926 -0.000346 -0.000025 -0.000031 -0.000099 -0.000324 -0.000308 -0.000328 -0.000282 0 -0.000004 0.000392 0.000676 0.001079 0.0016 0.002194 0.002816 0.003345 0.004133  -0.019153 -0.019081 -0.018443 -0.017744 -0.016902 -0.016093 -0.015416 -0.014751 -0.01378 -0.012923 -0.012022 -0.011044 -0.00992 -0.008767 -0.007503 -0.00642 -0.005398 -0.004309 -0.003224 -0.002333 -0.001474 -0.000638 0 0.000763 0.001587 0.002207 0.00286 0.003445 0.00391 0.004314 0.004716 0.005077  \"; C and A offset, and C and A temperature correction info\"\n",
      "C538.4 A539.7 45 0.659735 1.163649  -0.009674 -0.009414 -0.008754 -0.00826 -0.007567 -0.006898 -0.006316 -0.005676 -0.00485 -0.004104 -0.003235 -0.002412 -0.00163 -0.000936 -0.000171 0.000036 0.000113 0.000027 -0.000072 -0.000087 -0.00021 -0.000096 0 0.000151 0.000565 0.000848 0.001383 0.001766 0.002385 0.00305 0.003656 0.004239  -0.018321 -0.018231 -0.017634 -0.016989 -0.016168 -0.015411 -0.014782 -0.014145 -0.013216 -0.012431 -0.011503 -0.010604 -0.009547 -0.00844 -0.007217 -0.006203 -0.005242 -0.004122 -0.003101 -0.002269 -0.001406 -0.00061 0 0.000689 0.001437 0.002132 0.002661 0.003235 0.003626 0.004026 0.004412 0.004778  \"; C and A offset, and C and A temperature correction info\"\n",
      "C543.2 A544.4 46 0.66835 1.177754  -0.00867 -0.008462 -0.007885 -0.007384 -0.006677 -0.006185 -0.005546 -0.005057 -0.004364 -0.003715 -0.002903 -0.002211 -0.001385 -0.000625 0.000036 0.000298 0.000254 0.000206 -0.00001 -0.000063 -0.000184 -0.000161 0 0.00014 0.000523 0.000878 0.00127 0.001683 0.002339 0.002931 0.003418 0.004091  -0.017819 -0.01774 -0.017165 -0.016515 -0.015716 -0.01498 -0.014372 -0.013739 -0.012856 -0.012071 -0.011225 -0.01034 -0.009295 -0.008183 -0.007049 -0.006013 -0.005087 -0.00402 -0.003046 -0.002173 -0.001382 -0.000623 0 0.000653 0.001411 0.002045 0.002554 0.003111 0.00356 0.003935 0.00425 0.004592  \"; C and A offset, and C and A temperature correction info\"\n",
      "C548.0 A549.3 47 0.678403 1.190986  -0.0088 -0.008547 -0.007916 -0.007399 -0.006734 -0.006284 -0.005706 -0.005231 -0.004452 -0.003765 -0.003024 -0.002147 -0.001438 -0.000627 -0.000125 0.000205 0.000199 0.000056 -0.000165 -0.000152 -0.000223 -0.000173 0 0.000011 0.000362 0.000593 0.001087 0.001568 0.002003 0.002726 0.003224 0.003881  -0.017327 -0.017237 -0.016658 -0.016039 -0.015278 -0.014572 -0.013994 -0.013354 -0.012522 -0.011758 -0.0109 -0.010049 -0.009007 -0.007947 -0.006867 -0.005824 -0.004868 -0.003904 -0.002928 -0.002124 -0.001327 -0.000578 0 0.000682 0.001392 0.002018 0.002537 0.00304 0.003457 0.003779 0.004114 0.00443  \"; C and A offset, and C and A temperature correction info\"\n",
      "C552.9 A554.1 49 0.691991 1.20484  -0.008398 -0.008243 -0.00771 -0.007228 -0.006631 -0.006041 -0.00554 -0.00495 -0.004216 -0.003503 -0.002766 -0.00202 -0.001216 -0.000554 0.000127 0.000309 0.000364 0.000207 0.000096 0.000002 -0.000141 -0.000046 0 0.000139 0.000533 0.000776 0.001235 0.001613 0.002202 0.002803 0.00336 0.003897  -0.01685 -0.016775 -0.016236 -0.015649 -0.014882 -0.014194 -0.013649 -0.013007 -0.012196 -0.011466 -0.010613 -0.009764 -0.008816 -0.007795 -0.006686 -0.005706 -0.004804 -0.003801 -0.002894 -0.002081 -0.001273 -0.000581 0 0.000646 0.001314 0.001959 0.002398 0.002925 0.003308 0.003631 0.003954 0.004217  \"; C and A offset, and C and A temperature correction info\"\n",
      "C557.7 A559.1 LtCyan 0.701971 1.218425  -0.008586 -0.008398 -0.007805 -0.007326 -0.006644 -0.006149 -0.005543 -0.005064 -0.004332 -0.003696 -0.002951 -0.002254 -0.001424 -0.000646 -0.000008 0.000273 0.000227 0.000113 -0.000049 -0.000147 -0.000179 -0.000178 0 0.000056 0.00041 0.000647 0.001111 0.001504 0.002018 0.002647 0.003214 0.003733  -0.01643 -0.016364 -0.015817 -0.015229 -0.014478 -0.013835 -0.013276 -0.012683 -0.011893 -0.011163 -0.010375 -0.009557 -0.008614 -0.007582 -0.006545 -0.005536 -0.004692 -0.003732 -0.002856 -0.002041 -0.001226 -0.00057 0 0.000634 0.001306 0.0019 0.002377 0.00283 0.003208 0.003526 0.00384 0.00407  \"; C and A offset, and C and A temperature correction info\"\n",
      "C562.8 A563.9 51 0.711149 1.231287  -0.008494 -0.008302 -0.007728 -0.007238 -0.00664 -0.006129 -0.005598 -0.005089 -0.004374 -0.003684 -0.00292 -0.002082 -0.001346 -0.000643 -0.000067 0.000189 0.000228 0.000072 -0.000036 -0.000131 -0.000205 -0.000125 0 0.000001 0.000377 0.000584 0.001067 0.001494 0.002014 0.00268 0.003119 0.003717  -0.016086 -0.015997 -0.015445 -0.014887 -0.01415 -0.013505 -0.012996 -0.012396 -0.011619 -0.010916 -0.010125 -0.009294 -0.008378 -0.007399 -0.006391 -0.005405 -0.004546 -0.003652 -0.002742 -0.00197 -0.001206 -0.000539 0 0.000624 0.001326 0.00186 0.002366 0.00279 0.003175 0.003461 0.003722 0.003992  \"; C and A offset, and C and A temperature correction info\"\n",
      "C567.4 A568.6 52 0.718666 1.24234  -0.008459 -0.0083 -0.007759 -0.007273 -0.006616 -0.006097 -0.00557 -0.004986 -0.004245 -0.003584 -0.002803 -0.00213 -0.001298 -0.0006 0.000065 0.000269 0.000335 0.000222 0.000057 -0.000011 -0.000142 -0.000061 0 0.000188 0.000498 0.000829 0.001218 0.001613 0.002192 0.002742 0.003243 0.003769  -0.015672 -0.015575 -0.015047 -0.014497 -0.013776 -0.013146 -0.012667 -0.012105 -0.011323 -0.010604 -0.00987 -0.009063 -0.008151 -0.007233 -0.006224 -0.005253 -0.00445 -0.003536 -0.002672 -0.001898 -0.001189 -0.000517 0 0.000631 0.001325 0.001816 0.002336 0.00279 0.003133 0.003404 0.003676 0.003902  \"; C and A offset, and C and A temperature correction info\"\n",
      "C571.9 A572.9 54 0.722576 1.250494  -0.008119 -0.007938 -0.007382 -0.006915 -0.006281 -0.005825 -0.005245 -0.00488 -0.004182 -0.003534 -0.002776 -0.002048 -0.001248 -0.000502 0.000062 0.000317 0.000273 0.000137 -0.000088 -0.000131 -0.000198 -0.000181 0 0.000045 0.000417 0.000664 0.001065 0.001447 0.001962 0.002553 0.003007 0.003562  -0.015379 -0.015278 -0.014747 -0.014174 -0.013488 -0.012872 -0.012411 -0.011871 -0.011139 -0.010429 -0.00975 -0.008941 -0.008052 -0.007122 -0.006149 -0.005219 -0.004414 -0.003537 -0.002684 -0.001914 -0.001181 -0.000591 0 0.000598 0.001254 0.001762 0.002253 0.002667 0.002987 0.003258 0.003539 0.003731  \"; C and A offset, and C and A temperature correction info\"\n",
      "C576.1 A577.1 55 0.724701 1.25497  -0.008167 -0.007971 -0.007384 -0.00693 -0.006362 -0.005846 -0.005331 -0.004827 -0.00409 -0.003434 -0.002701 -0.001928 -0.001218 -0.000513 0.000062 0.000269 0.000302 0.000155 -0.000035 -0.000083 -0.00024 -0.000167 0 0.000057 0.000339 0.000556 0.001023 0.001438 0.00193 0.002479 0.002983 0.003501  -0.015176 -0.015063 -0.014479 -0.013927 -0.013248 -0.012654 -0.012184 -0.011666 -0.010923 -0.010213 -0.009525 -0.008762 -0.007898 -0.006985 -0.006016 -0.005133 -0.004346 -0.003433 -0.00263 -0.001859 -0.001173 -0.000533 0 0.000576 0.001225 0.001751 0.002237 0.002632 0.002999 0.003231 0.003491 0.003676  \"; C and A offset, and C and A temperature correction info\"\n",
      "C580.2 A581.2 56 0.721851 1.25535  -0.008045 -0.007844 -0.007265 -0.006745 -0.006136 -0.00565 -0.005139 -0.004646 -0.003973 -0.003335 -0.002603 -0.001914 -0.001141 -0.000422 0.00018 0.000383 0.000401 0.000214 0.000072 -0.000031 -0.000131 -0.000099 0 0.00012 0.000446 0.000708 0.001115 0.001507 0.002044 0.002606 0.003063 0.00358  -0.01499 -0.014823 -0.014204 -0.013616 -0.012946 -0.012349 -0.011907 -0.01137 -0.010676 -0.010002 -0.009298 -0.008556 -0.007728 -0.006816 -0.005841 -0.005008 -0.004255 -0.003371 -0.002581 -0.001832 -0.001149 -0.000531 0 0.00056 0.001189 0.001745 0.00215 0.002545 0.002907 0.003133 0.003363 0.003557  \"; C and A offset, and C and A temperature correction info\"\n",
      "C584.4 A585.3 57 0.714356 1.251098  -0.007943 -0.007665 -0.006965 -0.006487 -0.005899 -0.00547 -0.004952 -0.004528 -0.003841 -0.003182 -0.002462 -0.001714 -0.001035 -0.000321 0.000233 0.00045 0.00043 0.00029 0.000065 -0.000029 -0.000127 -0.000156 0 -0.00001 0.000326 0.000599 0.001019 0.001336 0.001902 0.002459 0.002924 0.003446  -0.014889 -0.014668 -0.013971 -0.013364 -0.01271 -0.01214 -0.011702 -0.01119 -0.010523 -0.009844 -0.009163 -0.00844 -0.007584 -0.006697 -0.005741 -0.004914 -0.004161 -0.003334 -0.002524 -0.001797 -0.0011 -0.000501 0 0.000582 0.001228 0.001701 0.002125 0.002537 0.002858 0.003047 0.003319 0.003509  \"; C and A offset, and C and A temperature correction info\"\n",
      "C587.8 A586.6 59 0.70082 1.247511  -0.008342 -0.008207 -0.007643 -0.007081 -0.006388 -0.005877 -0.005251 -0.004812 -0.004129 -0.00343 -0.002637 -0.001882 -0.001099 -0.000357 0.000239 0.00046 0.000459 0.00033 0.000099 0.000041 -0.000073 -0.000085 0 0.000066 0.000343 0.000602 0.000987 0.001349 0.001874 0.002418 0.002897 0.003393  -0.015158 -0.015008 -0.014384 -0.013778 -0.013058 -0.012432 -0.011955 -0.011363 -0.010639 -0.009977 -0.009219 -0.008489 -0.007605 -0.00669 -0.00572 -0.00495 -0.004157 -0.003333 -0.002534 -0.00179 -0.001111 -0.000476 0 0.000558 0.001194 0.001686 0.002119 0.002528 0.002855 0.003072 0.003321 0.003518  \"; C and A offset, and C and A temperature correction info\"\n",
      "C592.3 A591.0 60 0.68211 1.236381  -0.008268 -0.008122 -0.007565 -0.007077 -0.006424 -0.005891 -0.00536 -0.004835 -0.004087 -0.003393 -0.002632 -0.001857 -0.001084 -0.000393 0.000177 0.000449 0.000512 0.000337 0.000186 0.000083 -0.000074 -0.000047 0 0.000047 0.000304 0.00056 0.00101 0.001376 0.001865 0.002407 0.002852 0.003413  -0.014824 -0.014677 -0.014063 -0.013467 -0.012776 -0.012187 -0.011715 -0.011178 -0.010498 -0.009862 -0.009112 -0.008389 -0.007528 -0.006628 -0.005705 -0.004924 -0.004153 -0.00333 -0.002532 -0.0018 -0.001125 -0.000498 0 0.000527 0.001156 0.001686 0.002065 0.002468 0.002787 0.003018 0.003246 0.003431  \"; C and A offset, and C and A temperature correction info\"\n",
      "C596.7 A595.2 61 0.660232 1.221798  -0.008002 -0.007921 -0.007424 -0.006926 -0.006282 -0.005716 -0.005158 -0.004656 -0.00394 -0.003302 -0.002511 -0.001779 -0.00104 -0.00034 0.000269 0.000481 0.000514 0.000356 0.000133 0.000011 -0.000092 -0.000074 0 0.000049 0.000291 0.000535 0.000913 0.001298 0.001771 0.002323 0.002772 0.003269  -0.014681 -0.014503 -0.01385 -0.013265 -0.012602 -0.011987 -0.011531 -0.010979 -0.010286 -0.009626 -0.008888 -0.008192 -0.007366 -0.006496 -0.005588 -0.004793 -0.00404 -0.003232 -0.002466 -0.00175 -0.00111 -0.000478 0 0.000529 0.001092 0.00158 0.00195 0.002363 0.002646 0.002843 0.003078 0.003266  \"; C and A offset, and C and A temperature correction info\"\n",
      "C601.1 A599.8 62 0.640228 1.208685  -0.008166 -0.007978 -0.007364 -0.006854 -0.006172 -0.005699 -0.005096 -0.004631 -0.003929 -0.003275 -0.002521 -0.001771 -0.001031 -0.000347 0.000275 0.000467 0.000432 0.000295 0.00007 -0.000008 -0.000065 -0.000099 0 0.000007 0.000302 0.000502 0.000864 0.001225 0.001684 0.002253 0.002647 0.003139  -0.014349 -0.014172 -0.013568 -0.013019 -0.012363 -0.011749 -0.011299 -0.01078 -0.010111 -0.009501 -0.008818 -0.008107 -0.007265 -0.006402 -0.005487 -0.004686 -0.003985 -0.003182 -0.00241 -0.001721 -0.001065 -0.000469 0 0.000539 0.001088 0.001587 0.001955 0.00232 0.002637 0.002827 0.003078 0.003209  \"; C and A offset, and C and A temperature correction info\"\n",
      "C605.8 A604.3 64 0.628552 1.202229  -0.00812 -0.007985 -0.007435 -0.00697 -0.006329 -0.005809 -0.005267 -0.00474 -0.004027 -0.003333 -0.002571 -0.001825 -0.001083 -0.000348 0.000192 0.000443 0.000483 0.00031 0.000161 0.000043 -0.000069 -0.000066 0 0.000028 0.000271 0.000472 0.000891 0.001212 0.001702 0.002224 0.002612 0.003092  -0.014076 -0.013894 -0.013261 -0.012701 -0.012048 -0.011477 -0.011027 -0.010509 -0.009815 -0.009177 -0.008499 -0.007806 -0.006983 -0.006196 -0.005322 -0.004568 -0.003851 -0.00309 -0.002334 -0.001676 -0.000992 -0.0004 0 0.000524 0.001068 0.001564 0.001895 0.002247 0.00253 0.002704 0.002918 0.003068  \"; C and A offset, and C and A temperature correction info\"\n",
      "C610.5 A608.8 65 0.625656 1.203842  -0.007817 -0.007657 -0.007136 -0.006663 -0.006047 -0.005531 -0.004987 -0.004541 -0.003817 -0.003215 -0.002444 -0.00172 -0.000986 -0.000276 0.000321 0.000485 0.000514 0.000355 0.000162 0.000044 -0.000067 -0.000061 0 0.000045 0.000305 0.000518 0.000876 0.001192 0.001688 0.002171 0.002558 0.003032  -0.013774 -0.013604 -0.013027 -0.012483 -0.011832 -0.011249 -0.010819 -0.010316 -0.009698 -0.009069 -0.008413 -0.007701 -0.006915 -0.006117 -0.005265 -0.004508 -0.003845 -0.003067 -0.002329 -0.00166 -0.000997 -0.00045 0 0.000522 0.001092 0.001526 0.001904 0.002201 0.002492 0.002662 0.002849 0.002978  \"; C and A offset, and C and A temperature correction info\"\n",
      "C615.2 A613.5 66 0.627115 1.210942  -0.007722 -0.007541 -0.006971 -0.006528 -0.005904 -0.005419 -0.004877 -0.004407 -0.003718 -0.00308 -0.002364 -0.001636 -0.000929 -0.00027 0.000265 0.000505 0.000467 0.00029 0.000113 0.000039 -0.000062 -0.000032 0 0.000017 0.000273 0.000466 0.000854 0.001167 0.001628 0.002111 0.002445 0.002896  -0.01331 -0.013116 -0.012509 -0.011976 -0.011391 -0.010825 -0.010415 -0.009955 -0.009334 -0.008744 -0.008133 -0.00746 -0.006712 -0.00592 -0.00507 -0.004346 -0.003713 -0.002959 -0.002243 -0.001607 -0.000955 -0.000435 0 0.000458 0.001014 0.001439 0.001778 0.002097 0.002369 0.002539 0.002739 0.002823  \"; C and A offset, and C and A temperature correction info\"\n",
      "C619.5 A618.0 67 0.630482 1.219875  -0.00756 -0.007386 -0.006887 -0.006408 -0.005783 -0.005241 -0.004735 -0.004293 -0.003597 -0.002966 -0.002243 -0.00154 -0.000864 -0.000201 0.000375 0.000556 0.000558 0.000386 0.00019 0.000096 -0.000051 -0.000034 0 0.000012 0.000246 0.000452 0.000805 0.001108 0.001571 0.002006 0.00237 0.002819  -0.013081 -0.0129 -0.012301 -0.01176 -0.011131 -0.010577 -0.01018 -0.009732 -0.009125 -0.008519 -0.007926 -0.007242 -0.006494 -0.005783 -0.004968 -0.00427 -0.003652 -0.002903 -0.002171 -0.001564 -0.000949 -0.000413 0 0.000454 0.000972 0.001387 0.001726 0.002043 0.002303 0.002467 0.002626 0.002734  \"; C and A offset, and C and A temperature correction info\"\n",
      "C624.0 A622.4 69 0.629784 1.229272  -0.007346 -0.007226 -0.00671 -0.006258 -0.005669 -0.005222 -0.004663 -0.004169 -0.003517 -0.002894 -0.002204 -0.001528 -0.000816 -0.000172 0.000322 0.00054 0.000514 0.000333 0.000155 0.000046 -0.00005 -0.000045 0 -0.000005 0.000225 0.000358 0.000706 0.001022 0.001444 0.001875 0.002196 0.002615  -0.012728 -0.012559 -0.011998 -0.011508 -0.010928 -0.010386 -0.009994 -0.009509 -0.008878 -0.008295 -0.007712 -0.007085 -0.00636 -0.005622 -0.00478 -0.004129 -0.003505 -0.00278 -0.002104 -0.001483 -0.000926 -0.000419 0 0.000453 0.00097 0.001382 0.001674 0.002012 0.002261 0.002396 0.002566 0.002644  \"; C and A offset, and C and A temperature correction info\"\n",
      "C628.4 A626.7 70 0.632387 1.238456  -0.007429 -0.007191 -0.006668 -0.006258 -0.00567 -0.005165 -0.004646 -0.004251 -0.003579 -0.002967 -0.00224 -0.001515 -0.000813 -0.000214 0.000311 0.000496 0.000487 0.000313 0.000153 0.000068 -0.000037 -0.000049 0 -0.000011 0.000225 0.000405 0.000729 0.001004 0.001457 0.001879 0.002178 0.002576  -0.012323 -0.012149 -0.011586 -0.011109 -0.010509 -0.009988 -0.009598 -0.009232 -0.008643 -0.008091 -0.007504 -0.006872 -0.006139 -0.005417 -0.004636 -0.004026 -0.003432 -0.002726 -0.002057 -0.001462 -0.000903 -0.000385 0 0.000475 0.000954 0.001327 0.001661 0.001943 0.002168 0.002315 0.00247 0.002565  \"; C and A offset, and C and A temperature correction info\"\n",
      "C632.9 A631.0 71 0.634929 1.247008  -0.007163 -0.007028 -0.006414 -0.005997 -0.005391 -0.004954 -0.004486 -0.004011 -0.003393 -0.002824 -0.002133 -0.001457 -0.000806 -0.000127 0.000391 0.000528 0.000517 0.000369 0.000157 0.000069 -0.000064 -0.000117 0 0.000037 0.000217 0.000362 0.00072 0.000979 0.00139 0.001854 0.002141 0.002539  -0.011972 -0.011803 -0.011267 -0.010805 -0.010259 -0.009719 -0.009373 -0.009008 -0.008411 -0.007882 -0.007348 -0.006774 -0.006063 -0.005308 -0.004551 -0.003903 -0.00331 -0.002636 -0.001994 -0.001433 -0.000867 -0.000362 0 0.000453 0.000947 0.001307 0.001626 0.001924 0.002179 0.00229 0.002467 0.002532  \"; C and A offset, and C and A temperature correction info\"\n",
      "C637.0 A635.5 72 0.634776 1.254964  -0.007097 -0.006885 -0.006273 -0.005876 -0.005334 -0.004879 -0.004369 -0.003951 -0.003319 -0.00274 -0.002108 -0.001414 -0.000695 -0.000122 0.000361 0.000538 0.000524 0.000366 0.00015 0.000062 -0.00004 -0.000014 0 -0.000005 0.000166 0.000342 0.000684 0.000936 0.001377 0.001802 0.002094 0.002441  -0.011763 -0.011574 -0.011048 -0.010582 -0.010017 -0.009485 -0.009155 -0.00879 -0.008195 -0.007692 -0.007148 -0.006544 -0.005852 -0.005158 -0.004448 -0.003818 -0.003239 -0.002601 -0.001962 -0.001407 -0.000875 -0.000363 0 0.000405 0.00088 0.001234 0.001522 0.001873 0.002087 0.002209 0.002359 0.002424  \"; C and A offset, and C and A temperature correction info\"\n",
      "C641.5 A639.8 74 0.633983 1.261347  -0.006719 -0.006548 -0.006095 -0.00569 -0.00514 -0.004705 -0.004227 -0.00383 -0.003202 -0.002618 -0.001934 -0.001299 -0.000699 -0.000076 0.000428 0.000568 0.000531 0.000393 0.000211 0.000097 -0.000033 -0.000046 0 0 0.00019 0.000303 0.000624 0.000893 0.001273 0.001704 0.001984 0.002352  -0.011298 -0.011157 -0.010714 -0.010257 -0.00972 -0.009202 -0.008884 -0.008519 -0.007949 -0.007429 -0.006883 -0.006352 -0.005728 -0.005072 -0.004358 -0.003728 -0.003172 -0.002518 -0.001904 -0.001358 -0.000836 -0.000346 0 0.000404 0.00085 0.001235 0.001518 0.001818 0.002043 0.002147 0.002288 0.002363  \"; C and A offset, and C and A temperature correction info\"\n",
      "C645.8 A644.3 LtGreen 0.630383 1.265101  -0.006493 -0.00631 -0.005844 -0.005475 -0.004933 -0.004492 -0.004018 -0.003598 -0.002993 -0.002453 -0.001801 -0.001176 -0.000561 -0.000035 0.000434 0.000595 0.000576 0.000385 0.000223 0.000112 -0.000032 -0.000061 0 -0.000027 0.000146 0.00025 0.000577 0.00082 0.001252 0.00166 0.001936 0.002249  -0.010958 -0.01082 -0.010319 -0.009885 -0.009338 -0.008835 -0.00854 -0.008205 -0.007649 -0.007194 -0.006698 -0.006167 -0.005536 -0.0049 -0.004193 -0.003602 -0.003088 -0.002457 -0.001822 -0.001317 -0.000825 -0.000333 0 0.000398 0.000851 0.001236 0.00149 0.001788 0.002011 0.002127 0.002255 0.002304  \"; C and A offset, and C and A temperature correction info\"\n",
      "C650.4 A648.8 76 0.622979 1.265396  -0.006305 -0.00613 -0.005681 -0.005317 -0.004808 -0.004365 -0.003935 -0.003522 -0.002932 -0.002389 -0.001786 -0.001175 -0.000567 0.000001 0.000435 0.000592 0.000536 0.000416 0.000206 0.000084 -0.000028 -0.000047 0 -0.000012 0.000167 0.000333 0.00063 0.000868 0.001254 0.001664 0.001925 0.002281  -0.010623 -0.010478 -0.010003 -0.009625 -0.009084 -0.008613 -0.008323 -0.007997 -0.007485 -0.007022 -0.006525 -0.006024 -0.005409 -0.004768 -0.004098 -0.00351 -0.003001 -0.002376 -0.001796 -0.001317 -0.000806 -0.000331 0 0.000382 0.000801 0.001168 0.001437 0.001715 0.001924 0.002053 0.002177 0.002223  \"; C and A offset, and C and A temperature correction info\"\n",
      "C654.9 A653.0 77 0.612168 1.262901  -0.00614 -0.006001 -0.005551 -0.005207 -0.004683 -0.004303 -0.00385 -0.00352 -0.002925 -0.002408 -0.001764 -0.001178 -0.000549 -0.000034 0.000443 0.000614 0.000573 0.000385 0.000198 0.00009 -0.000032 -0.000012 0 -0.000047 0.000169 0.000308 0.00058 0.000806 0.0012 0.00161 0.001864 0.00221  -0.010469 -0.010334 -0.009868 -0.009493 -0.008985 -0.008513 -0.008226 -0.007953 -0.007412 -0.006938 -0.006499 -0.005977 -0.00539 -0.004743 -0.004069 -0.003502 -0.003001 -0.002368 -0.00179 -0.001281 -0.00078 -0.000306 0 0.00038 0.000807 0.001184 0.001426 0.001703 0.001929 0.002006 0.002122 0.002186  \"; C and A offset, and C and A temperature correction info\"\n",
      "C659.5 A657.5 79 0.602363 1.259981  -0.006192 -0.006012 -0.005565 -0.005248 -0.004751 -0.004364 -0.003927 -0.003528 -0.002958 -0.002411 -0.001761 -0.001167 -0.000591 -0.000055 0.000403 0.000541 0.000497 0.00037 0.000197 0.00009 -0.00003 -0.000048 0 -0.000015 0.00017 0.000288 0.000576 0.000794 0.001173 0.001577 0.001802 0.002145  -0.010356 -0.010219 -0.009736 -0.009345 -0.008826 -0.008354 -0.008068 -0.007769 -0.007219 -0.006772 -0.006293 -0.005816 -0.005235 -0.004623 -0.003965 -0.003411 -0.002931 -0.002297 -0.001747 -0.001235 -0.000787 -0.000329 0 0.000361 0.000792 0.001112 0.001369 0.001653 0.001844 0.001922 0.002039 0.002052  \"; C and A offset, and C and A temperature correction info\"\n",
      "C663.9 A662.3 80 0.595971 1.259572  -0.006199 -0.006044 -0.005581 -0.005217 -0.004646 -0.004213 -0.00374 -0.003365 -0.002782 -0.002253 -0.001672 -0.001069 -0.00049 0.000083 0.000498 0.000613 0.000596 0.000407 0.000234 0.000114 -0.000014 -0.00001 0 -0.000019 0.000174 0.000299 0.000533 0.000785 0.001156 0.001538 0.001783 0.002087  -0.010079 -0.009952 -0.00949 -0.009131 -0.008605 -0.008153 -0.007881 -0.007611 -0.007106 -0.006654 -0.006202 -0.005703 -0.005153 -0.004525 -0.00387 -0.003336 -0.002878 -0.002282 -0.001691 -0.001197 -0.000729 -0.000312 0 0.000375 0.000816 0.001122 0.001377 0.001661 0.001831 0.001899 0.002007 0.002022  \"; C and A offset, and C and A temperature correction info\"\n",
      "C668.2 A666.5 81 0.592903 1.261833  -0.005739 -0.00557 -0.005153 -0.004833 -0.004338 -0.004008 -0.003575 -0.003257 -0.002688 -0.002189 -0.001602 -0.001006 -0.00045 0.000065 0.000501 0.000625 0.000579 0.00037 0.00016 0.000076 -0.000015 -0.000072 0 -0.000035 0.000146 0.000223 0.00049 0.000691 0.001086 0.001428 0.001691 0.001988  -0.00996 -0.00984 -0.009375 -0.009013 -0.008513 -0.008075 -0.007818 -0.007526 -0.007019 -0.006576 -0.006129 -0.005637 -0.005095 -0.004482 -0.003848 -0.003289 -0.002838 -0.002236 -0.001647 -0.001174 -0.000709 -0.000306 0 0.000372 0.000804 0.00112 0.00138 0.001619 0.001783 0.001833 0.001914 0.001929  \"; C and A offset, and C and A temperature correction info\"\n",
      "C672.4 A670.8 82 0.590143 1.265173  -0.005805 -0.005647 -0.005232 -0.004921 -0.004403 -0.00402 -0.003611 -0.003197 -0.002616 -0.002122 -0.001551 -0.000966 -0.000413 0.000059 0.000492 0.000618 0.000559 0.000422 0.000222 0.000078 -0.000014 -0.000067 0 -0.0001 0.000105 0.000248 0.000528 0.000725 0.001093 0.001485 0.001701 0.002021  -0.009923 -0.009789 -0.009337 -0.008971 -0.008457 -0.008025 -0.007772 -0.0075 -0.006989 -0.006543 -0.006138 -0.005641 -0.00512 -0.004514 -0.00386 -0.003309 -0.002851 -0.002252 -0.001669 -0.00119 -0.000732 -0.000282 0 0.000383 0.000786 0.001086 0.001348 0.001574 0.001764 0.001803 0.001883 0.001905  \"; C and A offset, and C and A temperature correction info\"\n",
      "C676.5 A675.0 84 0.585107 1.26684  -0.005905 -0.005734 -0.005291 -0.004902 -0.004409 -0.004023 -0.003535 -0.003226 -0.002633 -0.002173 -0.001584 -0.00103 -0.000442 0.000137 0.000559 0.000684 0.000605 0.000431 0.000206 0.000118 -0.000061 -0.000005 0 -0.000019 0.000182 0.000311 0.000533 0.000803 0.001111 0.00151 0.001711 0.002032  -0.009908 -0.009775 -0.009294 -0.008936 -0.008429 -0.007962 -0.007708 -0.00746 -0.006946 -0.006522 -0.006069 -0.005583 -0.005013 -0.004437 -0.003787 -0.003238 -0.002829 -0.002232 -0.001652 -0.001205 -0.000732 -0.000302 0 0.000367 0.000788 0.001084 0.001335 0.001536 0.001686 0.001748 0.001821 0.001796  \"; C and A offset, and C and A temperature correction info\"\n",
      "C680.7 A679.1 85 0.575999 1.265036  -0.005501 -0.005301 -0.004871 -0.004615 -0.004164 -0.003823 -0.003419 -0.003106 -0.002523 -0.002045 -0.001452 -0.000831 -0.000316 0.000137 0.000577 0.000678 0.000603 0.000392 0.000218 0.000086 0.000007 -0.000029 0 -0.000003 0.000177 0.000238 0.000532 0.000725 0.001111 0.001472 0.00171 0.001966  -0.009843 -0.00971 -0.009255 -0.008906 -0.008398 -0.007946 -0.0077 -0.00742 -0.006903 -0.006455 -0.006047 -0.005592 -0.005038 -0.004441 -0.003798 -0.003265 -0.00283 -0.002239 -0.001654 -0.001182 -0.000699 -0.000285 0 0.000353 0.00076 0.001082 0.001289 0.001519 0.001708 0.001723 0.00176 0.001771  \"; C and A offset, and C and A temperature correction info\"\n",
      "C684.5 A682.8 86 0.559576 1.257733  -0.005951 -0.005775 -0.005323 -0.004979 -0.004409 -0.003994 -0.003563 -0.003101 -0.002562 -0.002056 -0.001475 -0.00093 -0.000389 0.000139 0.000581 0.000651 0.000624 0.000483 0.000273 0.000164 -0.000039 -0.000029 0 -0.000044 0.000179 0.000306 0.000564 0.000836 0.001194 0.00158 0.001789 0.002058  -0.009914 -0.009769 -0.00931 -0.008928 -0.008433 -0.007981 -0.007725 -0.007465 -0.00695 -0.006511 -0.006089 -0.005642 -0.005074 -0.004462 -0.003819 -0.003296 -0.002873 -0.002241 -0.00167 -0.00121 -0.000728 -0.000311 0 0.00039 0.00077 0.001058 0.00131 0.001503 0.001676 0.001717 0.001741 0.001729  \"; C and A offset, and C and A temperature correction info\"\n",
      "C688.7 A686.9 87 0.536552 1.243343  -0.005722 -0.005516 -0.005006 -0.004642 -0.00411 -0.003761 -0.003283 -0.003032 -0.002464 -0.002009 -0.001427 -0.000897 -0.000278 0.00028 0.000629 0.000737 0.000651 0.000451 0.00022 0.000147 -0.000008 0.000009 0 0.000003 0.000195 0.000346 0.000577 0.000818 0.001133 0.001491 0.001721 0.002018  -0.009873 -0.009717 -0.009236 -0.008859 -0.008362 -0.007897 -0.007641 -0.00736 -0.006866 -0.00646 -0.005996 -0.005563 -0.005024 -0.00441 -0.003786 -0.003273 -0.002826 -0.002206 -0.001652 -0.001192 -0.000706 -0.000291 0 0.000385 0.000791 0.001098 0.00132 0.001535 0.001663 0.00171 0.001771 0.001746  \"; C and A offset, and C and A temperature correction info\"\n",
      "C692.3 A690.8 89 0.503806 1.220577  -0.005381 -0.005155 -0.004741 -0.004495 -0.004036 -0.003696 -0.003319 -0.002908 -0.002303 -0.001874 -0.001277 -0.000673 -0.000194 0.000277 0.000698 0.000774 0.000659 0.00044 0.000292 0.000112 0.000016 -0.00009 0 -0.000047 0.000115 0.000196 0.00051 0.000696 0.001086 0.001478 0.001669 0.001932  -0.009949 -0.009788 -0.009309 -0.008945 -0.008419 -0.00795 -0.007695 -0.007397 -0.006896 -0.00648 -0.006056 -0.005593 -0.005045 -0.004442 -0.003833 -0.003289 -0.002839 -0.00224 -0.001701 -0.001211 -0.000751 -0.000336 0 0.000343 0.000749 0.001088 0.001299 0.001511 0.001653 0.001684 0.001722 0.001708  \"; C and A offset, and C and A temperature correction info\"\n",
      "C696.0 A694.4 90 0.461651 1.188022  -0.005395 -0.005199 -0.004684 -0.004287 -0.00376 -0.003354 -0.002874 -0.00251 -0.002033 -0.001572 -0.001045 -0.000573 -0.000026 0.000511 0.000865 0.000913 0.000812 0.000619 0.0003 0.000218 -0.000065 -0.000058 0 -0.000078 0.00013 0.000252 0.000498 0.000702 0.001076 0.001435 0.00167 0.001872  -0.009938 -0.00977 -0.009285 -0.008888 -0.008364 -0.007908 -0.007652 -0.007345 -0.006859 -0.00644 -0.006002 -0.005555 -0.005005 -0.004382 -0.003788 -0.003258 -0.002804 -0.002228 -0.001673 -0.001184 -0.000725 -0.000294 0 0.000374 0.000778 0.001106 0.001311 0.001507 0.001675 0.0017 0.001737 0.00172  \"; C and A offset, and C and A temperature correction info\"\n",
      "C699.4 A697.9 91 0.409114 1.144454  -0.004888 -0.004657 -0.004215 -0.003929 -0.00343 -0.003124 -0.002723 -0.002516 -0.001971 -0.00153 -0.000991 -0.000469 0.00011 0.0006 0.000889 0.000992 0.00082 0.000541 0.000303 0.000224 0.000062 -0.000015 0 -0.000105 0.000125 0.000156 0.000413 0.000637 0.000921 0.001249 0.001505 0.001742  -0.009697 -0.009547 -0.009066 -0.008703 -0.008199 -0.007754 -0.007511 -0.007202 -0.006703 -0.006316 -0.005873 -0.005422 -0.004907 -0.00434 -0.003713 -0.003152 -0.002789 -0.002206 -0.001637 -0.001148 -0.000658 -0.000302 0 0.000355 0.000762 0.001057 0.00128 0.001507 0.001642 0.001671 0.001737 0.001709  \"; C and A offset, and C and A temperature correction info\"\n",
      "C703.1 A701.5 92 0.341583 1.087939  -0.004344 -0.004139 -0.003722 -0.003509 -0.003058 -0.00272 -0.002436 -0.002001 -0.001454 -0.001048 -0.000474 0.000015 0.000441 0.000809 0.001192 0.001176 0.001008 0.000803 0.000539 0.000306 0.000079 -0.000017 0 -0.000092 0.000084 0.000146 0.000364 0.000574 0.000916 0.001252 0.001428 0.001603  -0.009585 -0.009448 -0.008976 -0.008617 -0.008104 -0.007661 -0.007422 -0.007121 -0.006627 -0.00624 -0.005812 -0.005378 -0.004856 -0.004306 -0.003666 -0.003132 -0.002757 -0.00217 -0.001649 -0.001174 -0.000723 -0.000297 0 0.000325 0.000738 0.001028 0.001257 0.001445 0.001623 0.00165 0.0017 0.001681  \"; C and A offset, and C and A temperature correction info\"\n",
      "C706.5 A705.2 94 0.258534 1.016388  -0.004361 -0.004157 -0.003665 -0.003323 -0.002807 -0.002477 -0.002038 -0.00178 -0.001308 -0.000956 -0.000491 -0.00005 0.000429 0.000955 0.001244 0.001263 0.001089 0.00082 0.000476 0.000339 0.000068 -0.000033 0 -0.000122 0.000073 0.000153 0.000296 0.000518 0.000903 0.00121 0.001401 0.001635  -0.009491 -0.009354 -0.008876 -0.0085 -0.007995 -0.007568 -0.007308 -0.00704 -0.006537 -0.006118 -0.005716 -0.005305 -0.004782 -0.004233 -0.003627 -0.003121 -0.002717 -0.002182 -0.001629 -0.001138 -0.000724 -0.000296 0 0.00035 0.000718 0.001004 0.001237 0.001438 0.001592 0.00163 0.001667 0.001649  \"; C and A offset, and C and A temperature correction info\"\n",
      "C710.0 A708.6 95 0.158262 0.927716  -0.003919 -0.003713 -0.003265 -0.003052 -0.002648 -0.002441 -0.002065 -0.001878 -0.00131 -0.000864 -0.000335 0.000186 0.000665 0.001033 0.001378 0.001393 0.001173 0.000829 0.000545 0.000399 0.000216 0.000099 0 -0.000089 0.000078 0.000091 0.000295 0.000514 0.000793 0.001119 0.001308 0.001567  -0.009406 -0.009266 -0.008807 -0.00845 -0.007956 -0.007513 -0.007292 -0.007025 -0.006508 -0.006107 -0.005705 -0.005285 -0.004785 -0.004228 -0.003648 -0.003104 -0.002741 -0.002172 -0.001607 -0.001168 -0.000751 -0.000349 0 0.000289 0.000709 0.000972 0.001205 0.001391 0.001553 0.001628 0.001677 0.001623  \"; C and A offset, and C and A temperature correction info\"\n",
      "C713.7 A712.0 96 0.036774 0.820502  -0.003619 -0.003463 -0.003044 -0.002813 -0.002334 -0.00203 -0.001717 -0.00137 -0.000869 -0.00051 -0.000079 0.000346 0.000757 0.001149 0.001557 0.001361 0.001212 0.00095 0.000693 0.000373 0.000122 -0.000006 0 -0.000129 0.000065 0.00009 0.000313 0.000459 0.000819 0.001121 0.001296 0.00149  -0.009307 -0.009167 -0.008696 -0.008318 -0.007823 -0.007415 -0.007161 -0.006901 -0.006411 -0.005975 -0.005636 -0.005179 -0.004739 -0.004139 -0.003562 -0.003071 -0.002696 -0.00215 -0.001576 -0.001099 -0.000656 -0.000327 0 0.000317 0.000723 0.000962 0.001206 0.00142 0.001544 0.00165 0.001694 0.001661  \"; C and A offset, and C and A temperature correction info\"\n",
      "C716.9 A715.3 97 -0.104858 0.69176  -0.003905 -0.00366 -0.00318 -0.00288 -0.002378 -0.002145 -0.001724 -0.001501 -0.00108 -0.000681 -0.000211 0.000255 0.000749 0.001209 0.001401 0.001441 0.001171 0.000886 0.000503 0.000368 0.000144 0 0 -0.000165 0.000024 0.000051 0.000177 0.000351 0.000677 0.001023 0.001166 0.001338  -0.009044 -0.008901 -0.008462 -0.008095 -0.007627 -0.007219 -0.006981 -0.006733 -0.006294 -0.005862 -0.00549 -0.005048 -0.004581 -0.004065 -0.003434 -0.00297 -0.002621 -0.002076 -0.001545 -0.001042 -0.000616 -0.000256 0 0.000356 0.00077 0.001054 0.001224 0.001385 0.001596 0.001664 0.001709 0.001695  \"; C and A offset, and C and A temperature correction info\"\n",
      "C720.0 A718.7 99 -0.267088 0.542299  -0.00323 -0.003027 -0.002622 -0.002476 -0.002061 -0.001826 -0.0015 -0.001246 -0.000746 -0.000309 0.000078 0.00059 0.00105 0.001336 0.001638 0.001572 0.00135 0.000993 0.000766 0.000478 0.000258 0.00009 0 -0.000017 0.000016 -0.000013 0.000234 0.000372 0.00059 0.000908 0.001073 0.001194  -0.008792 -0.008701 -0.008264 -0.00793 -0.007447 -0.007047 -0.006811 -0.006547 -0.006069 -0.005712 -0.00532 -0.004966 -0.004511 -0.003965 -0.003358 -0.00295 -0.002568 -0.002018 -0.001525 -0.00106 -0.000625 -0.000249 0 0.000326 0.000682 0.000963 0.001167 0.001397 0.001559 0.001587 0.001631 0.001604  \"; C and A offset, and C and A temperature correction info\"\n",
      "C723.3 A721.7 Yellow -0.449484 0.372671  -0.003249 -0.003035 -0.002582 -0.002293 -0.001822 -0.001535 -0.001217 -0.000934 -0.000479 -0.000228 0.000251 0.000643 0.001013 0.001396 0.001744 0.001641 0.001401 0.001101 0.000732 0.000528 0.000156 -0.000004 0 -0.000145 0.000058 0.000028 0.000147 0.000215 0.000619 0.00084 0.000982 0.001104  -0.008725 -0.008611 -0.00818 -0.007813 -0.00737 -0.006958 -0.006706 -0.006456 -0.006001 -0.005676 -0.005263 -0.004914 -0.004458 -0.003906 -0.003309 -0.00291 -0.002606 -0.002035 -0.001489 -0.001035 -0.000612 -0.000237 0 0.000327 0.000732 0.000988 0.001143 0.001353 0.00153 0.001527 0.001601 0.001527  \"; C and A offset, and C and A temperature correction info\"\n",
      "C726.7 A725.3 101 -0.648379 0.185641  -0.003461 -0.003202 -0.002669 -0.002402 -0.001915 -0.001719 -0.001309 -0.001162 -0.000683 -0.00031 0.000094 0.000481 0.000954 0.001395 0.001589 0.001616 0.001203 0.000947 0.000464 0.000363 0.000152 -0.000032 0 -0.000195 -0.000118 -0.000183 0.000019 0.000143 0.00033 0.000653 0.000814 0.000887  -0.008542 -0.008472 -0.008057 -0.007736 -0.007283 -0.006913 -0.006646 -0.006411 -0.005942 -0.005632 -0.005216 -0.00486 -0.004364 -0.003914 -0.0033 -0.002923 -0.002581 -0.001977 -0.001477 -0.001026 -0.000626 -0.000256 0 0.00033 0.00072 0.000986 0.001178 0.001373 0.001505 0.001551 0.001602 0.001566  \"; C and A offset, and C and A temperature correction info\"\n",
      "C729.4 A728.3 102 -0.846523 -0.006931  -0.002681 -0.002509 -0.002179 -0.002061 -0.001676 -0.00142 -0.001208 -0.000884 -0.000404 -0.000067 0.000374 0.000792 0.001206 0.001465 0.001746 0.001721 0.001471 0.001054 0.000794 0.000544 0.000224 0.000072 0 -0.000164 -0.00006 -0.000094 0.000092 0.000221 0.000446 0.000665 0.000794 0.000946  -0.00876 -0.008659 -0.008254 -0.007871 -0.007419 -0.006996 -0.006775 -0.006467 -0.006013 -0.005737 -0.00525 -0.00493 -0.004431 -0.00394 -0.003348 -0.002984 -0.002575 -0.002024 -0.001524 -0.001008 -0.000649 -0.000257 0 0.000297 0.000731 0.001029 0.001172 0.001355 0.001538 0.00163 0.001649 0.001592  \"; C and A offset, and C and A temperature correction info\"\n",
      "C732.6 A731.0 103 -1.031756 -0.191703  -0.002815 -0.002555 -0.002055 -0.001781 -0.001305 -0.001101 -0.000687 -0.000504 -0.000087 0.000153 0.000623 0.000924 0.001329 0.001679 0.002022 0.001874 0.00157 0.001314 0.000914 0.000676 0.000314 0.000191 0 -0.000111 0.000205 0.000065 0.000179 0.000192 0.000516 0.000755 0.000879 0.000923  -0.009032 -0.008913 -0.008435 -0.008073 -0.0076 -0.007205 -0.00695 -0.006651 -0.006197 -0.005834 -0.005416 -0.005075 -0.004506 -0.004041 -0.003451 -0.003072 -0.00266 -0.00213 -0.001595 -0.001093 -0.000677 -0.000283 0 0.000315 0.000704 0.000997 0.001173 0.001398 0.001511 0.001611 0.00168 0.001659  \"; C and A offset, and C and A temperature correction info\"\n",
      "C735.1 A734.0 104 -1.196041 -0.3591  -0.003073 -0.002814 -0.002331 -0.002153 -0.001764 -0.001515 -0.001123 -0.001062 -0.000603 -0.000147 0.00017 0.00067 0.001091 0.00141 0.001579 0.001575 0.001291 0.000936 0.000634 0.000433 0.00007 -0.00002 0 -0.000293 -0.000134 -0.00023 -0.000168 0.000046 0.00016 0.000435 0.000507 0.000673  -0.009064 -0.008949 -0.008495 -0.008138 -0.007687 -0.00724 -0.00696 -0.006662 -0.006194 -0.005827 -0.005387 -0.004969 -0.004495 -0.004031 -0.003461 -0.003053 -0.002638 -0.002042 -0.001548 -0.001151 -0.000685 -0.000234 0 0.000262 0.000679 0.000984 0.001141 0.001359 0.001456 0.001557 0.001626 0.00159  \"; C and A offset, and C and A temperature correction info\"\n",
      "C738.1 A736.5 105 -1.327243 -0.497052  -0.002803 -0.002603 -0.002196 -0.001956 -0.001552 -0.001309 -0.001127 -0.000707 -0.000214 0.000066 0.000437 0.000799 0.001161 0.001573 0.001875 0.001758 0.001458 0.001141 0.000821 0.000548 0.00012 0.000068 0 -0.000158 -0.000062 -0.000102 -0.000008 0.000013 0.000311 0.000463 0.000543 0.000566  -0.008799 -0.008732 -0.008296 -0.007901 -0.007397 -0.007033 -0.00674 -0.00647 -0.005949 -0.005619 -0.005245 -0.004882 -0.004368 -0.003948 -0.003355 -0.002977 -0.002604 -0.002043 -0.0015 -0.001009 -0.000594 -0.000196 0 0.000335 0.000753 0.001054 0.001226 0.001407 0.001582 0.001643 0.001669 0.001668  \"; C and A offset, and C and A temperature correction info\"\n",
      "C740.8 A739.6 106 -1.423294 -0.601565  -0.002995 -0.002676 -0.002092 -0.001824 -0.001319 -0.001176 -0.000728 -0.000631 -0.000181 0.000045 0.000449 0.000832 0.001296 0.001639 0.001878 0.001766 0.001434 0.001229 0.000681 0.000598 0.000313 0.000123 0 -0.000196 -0.000019 -0.000076 -0.000084 -0.000043 0.000251 0.000435 0.00051 0.000543  -0.009076 -0.008997 -0.008525 -0.008109 -0.007646 -0.007281 -0.006946 -0.006701 -0.006175 -0.005809 -0.005421 -0.004994 -0.004472 -0.004075 -0.003484 -0.003064 -0.002667 -0.002178 -0.001568 -0.001099 -0.000667 -0.000237 0 0.000228 0.000731 0.000948 0.001149 0.001348 0.00151 0.001617 0.001654 0.001663  \"; C and A offset, and C and A temperature correction info\"\n",
      "C743.7 A742.1 107 -1.489857 -0.674938  -0.002663 -0.002424 -0.001994 -0.001846 -0.001539 -0.001241 -0.001017 -0.000767 -0.000301 0.000022 0.000469 0.000892 0.001242 0.001574 0.001762 0.001661 0.001441 0.001051 0.000747 0.000498 0.000154 0.00001 0 -0.00024 -0.000195 -0.000324 -0.000187 -0.000001 0.000119 0.000306 0.000356 0.00058  -0.008921 -0.008888 -0.008448 -0.008056 -0.007624 -0.007193 -0.006869 -0.006612 -0.006102 -0.005698 -0.005322 -0.004924 -0.004429 -0.004043 -0.003425 -0.003064 -0.002687 -0.002092 -0.001504 -0.00103 -0.000648 -0.000274 0 0.000292 0.000794 0.001013 0.001212 0.001455 0.001631 0.001659 0.001702 0.001704  \"; C and A offset, and C and A temperature correction info\"\n",
      "C745.7 A744.6 108 -1.536729 -0.72369  -0.002621 -0.002398 -0.001932 -0.001775 -0.001274 -0.001131 -0.00073 -0.000576 -0.000087 0.000176 0.000585 0.000849 0.0013 0.001619 0.001931 0.001782 0.001533 0.001137 0.00082 0.00069 0.000286 0.000046 0 -0.000128 0.000061 -0.000092 0.000047 0.000099 0.000265 0.000405 0.000519 0.000546  -0.009219 -0.009139 -0.008659 -0.008208 -0.007712 -0.007331 -0.006962 -0.006729 -0.00627 -0.005839 -0.005501 -0.005039 -0.004576 -0.004124 -0.003484 -0.003136 -0.002772 -0.002119 -0.001541 -0.001097 -0.000646 -0.000227 0 0.000274 0.000759 0.000962 0.001212 0.00141 0.001573 0.001707 0.001719 0.001762  \"; C and A offset, and C and A temperature correction info\"\n",
      "C748.1 A747.2 109 -1.567533 -0.754966  -0.003068 -0.002717 -0.002067 -0.001838 -0.001356 -0.001099 -0.000795 -0.000729 -0.000237 0.000045 0.000424 0.00079 0.001294 0.001604 0.001797 0.001725 0.001303 0.001082 0.00065 0.000465 0.000222 -0.000037 0 -0.000231 -0.000194 -0.000245 -0.000317 -0.000211 -0.000026 0.000152 0.000214 0.000238  -0.009024 -0.008973 -0.008515 -0.008129 -0.007676 -0.007239 -0.006935 -0.006701 -0.006177 -0.005751 -0.005413 -0.004948 -0.004493 -0.00406 -0.003404 -0.003092 -0.002737 -0.002108 -0.001542 -0.001059 -0.000673 -0.000218 0 0.000336 0.000756 0.001001 0.001233 0.001412 0.001503 0.001638 0.001711 0.001721  \"; C and A offset, and C and A temperature correction info\"\n",
      "0 0 0 0 0 0 0 0 0 0 0 ; maxANoise maxCNoise maxANonConform maxCNonConform maxADifference maxCDifference minACounts minCCounts minRCounts maxTempSdev maxDepthSdev                                                   \n"
     ]
    }
   ],
   "source": [
    "for line in text.replace('\\t',' ').splitlines():\n",
    "    \n",
    "    if ';' in line:\n",
    "        print(line)\n",
    "        data, comment = line.split(';')\n",
    "    \n",
    "        if 'temperature bins' in comment:\n",
    "            if 'number' in comment:\n",
    "                print(data + '::' + comment)\n",
    "                nbins = int(data)\n",
    "            else:\n",
    "                tbins = data.split()\n",
    "                tbins = [float(x) for x in optaa.tbins]\n",
    "            "
   ]
  },
  {
   "cell_type": "code",
   "execution_count": 242,
   "metadata": {},
   "outputs": [
    {
     "data": {
      "text/plain": [
       "32"
      ]
     },
     "execution_count": 242,
     "metadata": {},
     "output_type": "execute_result"
    }
   ],
   "source": [
    "nbins"
   ]
  },
  {
   "cell_type": "code",
   "execution_count": 197,
   "metadata": {},
   "outputs": [],
   "source": [
    "optaa.date"
   ]
  },
  {
   "cell_type": "code",
   "execution_count": 194,
   "metadata": {},
   "outputs": [
    {
     "data": {
      "text/plain": [
       "dict_values(['SheetRef:CC_taarray', 'SheetRef:CC_tcarray'])"
      ]
     },
     "execution_count": 194,
     "metadata": {},
     "output_type": "execute_result"
    }
   ],
   "source": [
    "optaa.coefficients.values()"
   ]
  },
  {
   "cell_type": "code",
   "execution_count": null,
   "metadata": {},
   "outputs": [],
   "source": [
    "with open(filename) as file"
   ]
  }
 ],
 "metadata": {
  "kernelspec": {
   "display_name": "Python 3",
   "language": "python",
   "name": "python3"
  },
  "language_info": {
   "codemirror_mode": {
    "name": "ipython",
    "version": 3
   },
   "file_extension": ".py",
   "mimetype": "text/x-python",
   "name": "python",
   "nbconvert_exporter": "python",
   "pygments_lexer": "ipython3",
   "version": "3.7.1"
  }
 },
 "nbformat": 4,
 "nbformat_minor": 2
}
