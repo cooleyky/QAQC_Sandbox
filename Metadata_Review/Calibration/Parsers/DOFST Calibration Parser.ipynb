{
 "cells": [
  {
   "cell_type": "code",
   "execution_count": 1,
   "metadata": {},
   "outputs": [],
   "source": [
    "#!/usr/bin/env python\n",
    "\n",
    "import csv\n",
    "import datetime\n",
    "import os\n",
    "import shutil\n",
    "import sys\n",
    "import time\n",
    "import re\n",
    "import xml.etree.ElementTree as et\n",
    "import pandas as pd\n",
    "from zipfile import ZipFile\n",
    "\n",
    "\n",
    "class DOFSTCalibration():\n",
    "    # Class that stores calibration values for DOSTA's.\n",
    "\n",
    "    def __init__(self, uid, calibration_date):\n",
    "        self.serial = ''\n",
    "        self.uid = uid\n",
    "        self.date = pd.to_datetime(calibration_date).strftime('%Y%m%d')\n",
    "        self.coefficients = {'CC_conc_coef':None,\n",
    "                            'CC_csv':None}\n",
    "        self.notes = {'CC_conc_coef':None,\n",
    "                      'CC_csv':None}\n",
    "                \n",
    "    @property\n",
    "    def uid(self):\n",
    "        return self._uid\n",
    "        \n",
    "    @uid.setter\n",
    "    def uid(self, d):\n",
    "        r = re.compile('.{5}-.{6}-.{5}')\n",
    "        if r.match(d) is not None:\n",
    "            self.serial = d.split('-')[2]\n",
    "            self._uid = d\n",
    "        else:\n",
    "            raise Exception(f\"The instrument uid {d} is not a valid uid. Please check.\")\n",
    "            \n",
    "            \n",
    "    def generate_file_path(self,dirpath,filename,ext=['.cap','.txt','.log'],exclude=['_V','_Data_Workshop']):\n",
    "        \"\"\"\n",
    "        Function which searches for the location of the given file and returns\n",
    "        the full path to the file.\n",
    "        \n",
    "        Args:\n",
    "            dirpath - parent directory path under which to search\n",
    "            filename - the name of the file to search for\n",
    "            ext - file endings to search for\n",
    "            exclude - optional list which allows for excluding certain\n",
    "                directories from the search\n",
    "        Returns:\n",
    "            fpath - the file path to the filename from the current\n",
    "                working directory.\n",
    "        \"\"\"\n",
    "        # Check if the input file name has an extension already\n",
    "        # If it does, parse it for input into the search algo\n",
    "        if '.' in filename:\n",
    "            check = filename.split('.')\n",
    "            filename = check[0]\n",
    "            ext = ['.'+check[1]]\n",
    "        \n",
    "        for root, dirs, files in os.walk(dirpath):\n",
    "            dirs[:] = [d for d in dirs if d not in exclude]\n",
    "            for fname in files:\n",
    "                if fnmatch.fnmatch(fname, [filename+'*'+x for x in ext]):\n",
    "                    fpath = os.path.join(root, fname)\n",
    "                    return fpath"
   ]
  },
  {
   "cell_type": "code",
   "execution_count": 6,
   "metadata": {},
   "outputs": [],
   "source": [
    "from utils import *"
   ]
  },
  {
   "cell_type": "code",
   "execution_count": 4,
   "metadata": {},
   "outputs": [],
   "source": [
    "qct_directory = '/media/andrew/OS/Users/areed/Documents/Project_Files/'\n",
    "cal_directory = '/media/andrew/OS/Users/areed/Documents/Project_Files/Records/Instrument_Records/DOSTA/'\n",
    "asset_management_directory = '/home/andrew/Documents/OOI-CGSN/ooi-integration/asset-management/calibration/DOSTAD'"
   ]
  },
  {
   "cell_type": "code",
   "execution_count": 5,
   "metadata": {},
   "outputs": [],
   "source": [
    "excel_spreadsheet = '/media/andrew/OS/Users/areed/Documents/Project_Files/Documentation/System/System Notebook/WHOI_Asset_Tracking.xlsx'\n",
    "sheet_name = 'Sensors'"
   ]
  },
  {
   "cell_type": "code",
   "execution_count": 11,
   "metadata": {},
   "outputs": [],
   "source": [
    "DOFST = whoi_asset_tracking(excel_spreadsheet,sheet_name=sheet_name)"
   ]
  },
  {
   "cell_type": "code",
   "execution_count": 13,
   "metadata": {},
   "outputs": [
    {
     "data": {
      "text/plain": [
       "{'ADCPS',\n",
       " 'ADCPT',\n",
       " 'CTDBP',\n",
       " 'CTDMO',\n",
       " 'DOSTA',\n",
       " 'FDCHP',\n",
       " 'FLORD',\n",
       " 'FLORT',\n",
       " 'METBK',\n",
       " 'NUTNR',\n",
       " 'OPTAA',\n",
       " 'PCO2A',\n",
       " 'PCO2W',\n",
       " 'PHSEN',\n",
       " 'PRESF',\n",
       " 'SPKIR',\n",
       " 'UIMM',\n",
       " 'VELPT',\n",
       " 'WAVSS',\n",
       " 'ZPLSC',\n",
       " 'ZPLSG',\n",
       " nan}"
      ]
     },
     "execution_count": 13,
     "metadata": {},
     "output_type": "execute_result"
    }
   ],
   "source": []
  },
  {
   "cell_type": "code",
   "execution_count": null,
   "metadata": {},
   "outputs": [],
   "source": []
  }
 ],
 "metadata": {
  "kernelspec": {
   "display_name": "Python 3",
   "language": "python",
   "name": "python3"
  },
  "language_info": {
   "codemirror_mode": {
    "name": "ipython",
    "version": 3
   },
   "file_extension": ".py",
   "mimetype": "text/x-python",
   "name": "python",
   "nbconvert_exporter": "python",
   "pygments_lexer": "ipython3",
   "version": "3.7.1"
  }
 },
 "nbformat": 4,
 "nbformat_minor": 2
}
