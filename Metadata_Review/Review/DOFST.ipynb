{
 "cells": [
  {
   "cell_type": "code",
   "execution_count": 1,
   "metadata": {},
   "outputs": [],
   "source": [
    "import csv\n",
    "import re\n",
    "import os\n",
    "import shutil\n",
    "import numpy as np\n",
    "import pandas as pd\n",
    "from zipfile import ZipFile\n",
    "import string\n",
    "import PyPDF2\n",
    "import textract"
   ]
  },
  {
   "cell_type": "code",
   "execution_count": 2,
   "metadata": {},
   "outputs": [],
   "source": [
    "from utils import *"
   ]
  },
  {
   "cell_type": "code",
   "execution_count": 944,
   "metadata": {},
   "outputs": [],
   "source": [
    "basepath = '/media/andrew/OS/Users/areed/Documents/Project_Files/Records/Platform_Records/WFPs/'\n",
    "source = 'DOFST-K_SBE43F_SN_3523_Calibration_2018'"
   ]
  },
  {
   "cell_type": "code",
   "execution_count": 945,
   "metadata": {},
   "outputs": [],
   "source": [
    "def extract_pdf(pdf):\n",
    "    \n",
    "    ptext = textract.process(pdf, encoding='utf-8')\n",
    "    ptext = ptext.decode('utf-8')\n",
    "    \n",
    "    for line in ptext.splitlines():\n",
    "        if '(adj)' in line:\n",
    "            coef, _, val, _ = line.split()\n",
    "            coef = coef.strip()\n",
    "            val = val.strip()\n",
    "            continue\n",
    "            \n",
    "        if 'CALIBRATION DATE' in line:\n",
    "            _, caldate = line.split(':')\n",
    "            caldate = pd.to_datetime(caldate).strftime('%Y%m%d')\n",
    "            continue\n",
    "            \n",
    "    return coef, val, caldate"
   ]
  },
  {
   "cell_type": "code",
   "execution_count": 946,
   "metadata": {},
   "outputs": [
    {
     "name": "stdout",
     "output_type": "stream",
     "text": [
      "/media/andrew/OS/Users/areed/Documents/Project_Files/Records/Platform_Records/WFPs/Coastal_WFPs/14300-02/DOFST-K_SBE43F_SN_3523_Calibration_2018-05-25.zip\n"
     ]
    }
   ],
   "source": [
    "for root, dirs, files in os.walk(basepath):\n",
    "    for name in files:\n",
    "        if source in name and not name.endswith('.v'):\n",
    "            filepath = os.path.join(root,name)\n",
    "            print(filepath)"
   ]
  },
  {
   "cell_type": "code",
   "execution_count": 947,
   "metadata": {},
   "outputs": [],
   "source": [
    "temp_directory = '/'.join((os.getcwd(),'temp'))\n",
    "# Check if the temp directory exists; if it already does, purge and rewrite\n",
    "if os.path.exists(temp_directory):\n",
    "    shutil.rmtree(temp_directory)\n",
    "    ensure_dir(temp_directory)\n",
    "else:\n",
    "    ensure_dir(temp_directory)"
   ]
  },
  {
   "cell_type": "code",
   "execution_count": 948,
   "metadata": {},
   "outputs": [],
   "source": [
    "if filepath.endswith('.zip'):\n",
    "    with ZipFile(filepath) as zfile:\n",
    "        zfile.extractall(path=temp_directory)"
   ]
  },
  {
   "cell_type": "code",
   "execution_count": 960,
   "metadata": {},
   "outputs": [],
   "source": [
    "cal = [name for name in os.listdir(temp_directory) if name.endswith('.cal')][0]\n",
    "pdf = [name for name in os.listdir(temp_directory) if name.endswith('.pdf') and 'SOC' in name][0]"
   ]
  },
  {
   "cell_type": "code",
   "execution_count": 961,
   "metadata": {},
   "outputs": [
    {
     "data": {
      "text/plain": [
       "'SBE 43F O3523 SOCAdjusted 25May18.pdf'"
      ]
     },
     "execution_count": 961,
     "metadata": {},
     "output_type": "execute_result"
    }
   ],
   "source": [
    "pdf"
   ]
  },
  {
   "cell_type": "code",
   "execution_count": 962,
   "metadata": {},
   "outputs": [
    {
     "data": {
      "text/plain": [
       "'/home/andrew/Documents/OOI-CGSN/QAQC_Sandbox/Metadata_Review/temp'"
      ]
     },
     "execution_count": 962,
     "metadata": {},
     "output_type": "execute_result"
    }
   ],
   "source": [
    "temp_directory"
   ]
  },
  {
   "cell_type": "code",
   "execution_count": 963,
   "metadata": {},
   "outputs": [],
   "source": [
    "with open(temp_directory+'/'+cal) as file:\n",
    "    data = file.read()"
   ]
  },
  {
   "cell_type": "code",
   "execution_count": 964,
   "metadata": {},
   "outputs": [
    {
     "name": "stdout",
     "output_type": "stream",
     "text": [
      "INSTRUMENT_TYPE=SBE43F\n",
      "SERIALNO=3523\n",
      "OCALDATE=25-May-18\n",
      "SOC= 3.365236e-004\n",
      "FOFFSET=-8.250858e+002\n",
      "A=-3.430888e-003\n",
      "B= 1.642034e-004\n",
      "C=-2.967717e-006\n",
      "E= 3.600000e-002\n",
      "Tau20= 8.100000e-001\n"
     ]
    }
   ],
   "source": [
    "for line in data.splitlines():\n",
    "    print(line)"
   ]
  },
  {
   "cell_type": "code",
   "execution_count": 965,
   "metadata": {},
   "outputs": [],
   "source": [
    "coefficient_name_map = {\n",
    "    'FOFFSET':'CC_frequency_offset',\n",
    "    'Soc':'CC_oxygen_signal_slope',\n",
    "    'A':'CC_residual_temperature_correction_factor_a',\n",
    "    'B':'CC_residual_temperature_correction_factor_b',\n",
    "    'C':'CC_residual_temperature_correction_factor_c',\n",
    "    'E':'CC_residual_temperature_correction_factor_e'\n",
    "}\n",
    "calibration_coeffs = {}"
   ]
  },
  {
   "cell_type": "code",
   "execution_count": 966,
   "metadata": {},
   "outputs": [],
   "source": [
    "for line in data.splitlines():\n",
    "    \n",
    "    \n",
    "    coef, val = line.split('=')\n",
    "    coef = coef.strip()\n",
    "    val = val.strip()\n",
    "    \n",
    "    if coef == 'SERIALNO':\n",
    "        sn = val\n",
    "        continue\n",
    "    \n",
    "    name = coefficient_name_map.get(coef)\n",
    "    \n",
    "    if name is not None:\n",
    "        calibration_coeffs.update({name: float(val)})   \n",
    "        \n",
    "coef, val, caldate = extract_pdf(temp_directory+'/'+pdf)\n",
    "name = coefficient_name_map.get(coef)\n",
    "if name is not None:\n",
    "    calibration_coeffs.update({name: float(val)})"
   ]
  },
  {
   "cell_type": "code",
   "execution_count": 967,
   "metadata": {},
   "outputs": [
    {
     "data": {
      "text/plain": [
       "'SBE 43F O3523 SOCAdjusted 25May18.pdf'"
      ]
     },
     "execution_count": 967,
     "metadata": {},
     "output_type": "execute_result"
    }
   ],
   "source": [
    "pdf"
   ]
  },
  {
   "cell_type": "code",
   "execution_count": 968,
   "metadata": {},
   "outputs": [
    {
     "data": {
      "text/plain": [
       "{'CC_frequency_offset': -825.0858,\n",
       " 'CC_residual_temperature_correction_factor_a': -0.003430888,\n",
       " 'CC_residual_temperature_correction_factor_b': 0.0001642034,\n",
       " 'CC_residual_temperature_correction_factor_c': -2.967717e-06,\n",
       " 'CC_residual_temperature_correction_factor_e': 0.036,\n",
       " 'CC_oxygen_signal_slope': 0.00035762}"
      ]
     },
     "execution_count": 968,
     "metadata": {},
     "output_type": "execute_result"
    }
   ],
   "source": [
    "calibration_coeffs"
   ]
  },
  {
   "cell_type": "code",
   "execution_count": 969,
   "metadata": {},
   "outputs": [],
   "source": [
    "wfp, filename = filepath.split('/')[-2::]\n",
    "source = f'Date in filename from {pdf}. Source file: {wfp} > {filename} > {cal} and {pdf}.'"
   ]
  },
  {
   "cell_type": "code",
   "execution_count": 970,
   "metadata": {},
   "outputs": [
    {
     "name": "stderr",
     "output_type": "stream",
     "text": [
      "/home/andrew/anaconda3/lib/python3.7/site-packages/pandas/core/indexing.py:190: SettingWithCopyWarning: \n",
      "A value is trying to be set on a copy of a slice from a DataFrame\n",
      "\n",
      "See the caveats in the documentation: http://pandas.pydata.org/pandas-docs/stable/indexing.html#indexing-view-versus-copy\n",
      "  self._setitem_with_indexer(indexer, value)\n"
     ]
    }
   ],
   "source": [
    "# Create a dataframe to write to the csv\n",
    "data = {\n",
    "    'serial': ['43' + '-' + sn]*len(calibration_coeffs),\n",
    "    'name': list(calibration_coeffs.keys()),\n",
    "    'value': list(calibration_coeffs.values())\n",
    "}\n",
    "df = pd.DataFrame().from_dict(data)\n",
    "# Now merge the coefficients dataframe with the notes\n",
    "df['notes'] = ''\n",
    "# Add in the source file\n",
    "df['notes'].iloc[0] = df['notes'].iloc[0] + ' ' + source\n",
    "# Sort the data by the coefficient name\n",
    "df = df.sort_values(by='name')"
   ]
  },
  {
   "cell_type": "code",
   "execution_count": 971,
   "metadata": {},
   "outputs": [
    {
     "data": {
      "text/html": [
       "<div>\n",
       "<style scoped>\n",
       "    .dataframe tbody tr th:only-of-type {\n",
       "        vertical-align: middle;\n",
       "    }\n",
       "\n",
       "    .dataframe tbody tr th {\n",
       "        vertical-align: top;\n",
       "    }\n",
       "\n",
       "    .dataframe thead th {\n",
       "        text-align: right;\n",
       "    }\n",
       "</style>\n",
       "<table border=\"1\" class=\"dataframe\">\n",
       "  <thead>\n",
       "    <tr style=\"text-align: right;\">\n",
       "      <th></th>\n",
       "      <th>serial</th>\n",
       "      <th>name</th>\n",
       "      <th>value</th>\n",
       "      <th>notes</th>\n",
       "    </tr>\n",
       "  </thead>\n",
       "  <tbody>\n",
       "    <tr>\n",
       "      <th>0</th>\n",
       "      <td>43-3523</td>\n",
       "      <td>CC_frequency_offset</td>\n",
       "      <td>-825.085800</td>\n",
       "      <td>Date in filename from SBE 43F O3523 SOCAdjust...</td>\n",
       "    </tr>\n",
       "    <tr>\n",
       "      <th>5</th>\n",
       "      <td>43-3523</td>\n",
       "      <td>CC_oxygen_signal_slope</td>\n",
       "      <td>0.000358</td>\n",
       "      <td></td>\n",
       "    </tr>\n",
       "    <tr>\n",
       "      <th>1</th>\n",
       "      <td>43-3523</td>\n",
       "      <td>CC_residual_temperature_correction_factor_a</td>\n",
       "      <td>-0.003431</td>\n",
       "      <td></td>\n",
       "    </tr>\n",
       "    <tr>\n",
       "      <th>2</th>\n",
       "      <td>43-3523</td>\n",
       "      <td>CC_residual_temperature_correction_factor_b</td>\n",
       "      <td>0.000164</td>\n",
       "      <td></td>\n",
       "    </tr>\n",
       "    <tr>\n",
       "      <th>3</th>\n",
       "      <td>43-3523</td>\n",
       "      <td>CC_residual_temperature_correction_factor_c</td>\n",
       "      <td>-0.000003</td>\n",
       "      <td></td>\n",
       "    </tr>\n",
       "    <tr>\n",
       "      <th>4</th>\n",
       "      <td>43-3523</td>\n",
       "      <td>CC_residual_temperature_correction_factor_e</td>\n",
       "      <td>0.036000</td>\n",
       "      <td></td>\n",
       "    </tr>\n",
       "  </tbody>\n",
       "</table>\n",
       "</div>"
      ],
      "text/plain": [
       "    serial                                         name       value  \\\n",
       "0  43-3523                          CC_frequency_offset -825.085800   \n",
       "5  43-3523                       CC_oxygen_signal_slope    0.000358   \n",
       "1  43-3523  CC_residual_temperature_correction_factor_a   -0.003431   \n",
       "2  43-3523  CC_residual_temperature_correction_factor_b    0.000164   \n",
       "3  43-3523  CC_residual_temperature_correction_factor_c   -0.000003   \n",
       "4  43-3523  CC_residual_temperature_correction_factor_e    0.036000   \n",
       "\n",
       "                                               notes  \n",
       "0   Date in filename from SBE 43F O3523 SOCAdjust...  \n",
       "5                                                     \n",
       "1                                                     \n",
       "2                                                     \n",
       "3                                                     \n",
       "4                                                     "
      ]
     },
     "execution_count": 971,
     "metadata": {},
     "output_type": "execute_result"
    }
   ],
   "source": [
    "df"
   ]
  },
  {
   "cell_type": "code",
   "execution_count": 972,
   "metadata": {},
   "outputs": [
    {
     "data": {
      "text/plain": [
       "'CGINS-DOFSTK-03523__20180525.csv'"
      ]
     },
     "execution_count": 972,
     "metadata": {},
     "output_type": "execute_result"
    }
   ],
   "source": [
    "savefile = 'CGINS-DOFSTK-' + str(sn).zfill(5) + '__' + caldate + '.csv'\n",
    "savefile"
   ]
  },
  {
   "cell_type": "code",
   "execution_count": 973,
   "metadata": {},
   "outputs": [],
   "source": [
    "df.to_csv(temp_directory+'/'+savefile)"
   ]
  },
  {
   "cell_type": "markdown",
   "metadata": {},
   "source": [
    "**====================================================================================================================**\n",
    "Now can import the csv file for comparison"
   ]
  },
  {
   "cell_type": "code",
   "execution_count": 974,
   "metadata": {},
   "outputs": [],
   "source": [
    "csv_name = 'calibration/DOFSTK/' + savefile"
   ]
  },
  {
   "cell_type": "code",
   "execution_count": 975,
   "metadata": {},
   "outputs": [],
   "source": [
    "csv_file = pd.read_csv('/home/andrew/Documents/OOI-CGSN/asset-management/' + csv_name)"
   ]
  },
  {
   "cell_type": "code",
   "execution_count": 976,
   "metadata": {},
   "outputs": [],
   "source": [
    "source_file = pd.read_csv(temp_directory + '/' + savefile)"
   ]
  },
  {
   "cell_type": "code",
   "execution_count": 977,
   "metadata": {},
   "outputs": [
    {
     "data": {
      "text/html": [
       "<div>\n",
       "<style scoped>\n",
       "    .dataframe tbody tr th:only-of-type {\n",
       "        vertical-align: middle;\n",
       "    }\n",
       "\n",
       "    .dataframe tbody tr th {\n",
       "        vertical-align: top;\n",
       "    }\n",
       "\n",
       "    .dataframe thead th {\n",
       "        text-align: right;\n",
       "    }\n",
       "</style>\n",
       "<table border=\"1\" class=\"dataframe\">\n",
       "  <thead>\n",
       "    <tr style=\"text-align: right;\">\n",
       "      <th></th>\n",
       "      <th>serial</th>\n",
       "      <th>name</th>\n",
       "      <th>value</th>\n",
       "      <th>notes</th>\n",
       "    </tr>\n",
       "  </thead>\n",
       "  <tbody>\n",
       "    <tr>\n",
       "      <th>0</th>\n",
       "      <td>43-3523</td>\n",
       "      <td>CC_frequency_offset</td>\n",
       "      <td>-825.085800</td>\n",
       "      <td>date in filename comes from Soc-adjusted calda...</td>\n",
       "    </tr>\n",
       "    <tr>\n",
       "      <th>1</th>\n",
       "      <td>43-3523</td>\n",
       "      <td>CC_oxygen_signal_slope</td>\n",
       "      <td>0.000358</td>\n",
       "      <td>adjusted Soc (O2 signal slope) value</td>\n",
       "    </tr>\n",
       "    <tr>\n",
       "      <th>2</th>\n",
       "      <td>43-3523</td>\n",
       "      <td>CC_residual_temperature_correction_factor_a</td>\n",
       "      <td>-0.003431</td>\n",
       "      <td>NaN</td>\n",
       "    </tr>\n",
       "    <tr>\n",
       "      <th>3</th>\n",
       "      <td>43-3523</td>\n",
       "      <td>CC_residual_temperature_correction_factor_b</td>\n",
       "      <td>0.000164</td>\n",
       "      <td>NaN</td>\n",
       "    </tr>\n",
       "    <tr>\n",
       "      <th>4</th>\n",
       "      <td>43-3523</td>\n",
       "      <td>CC_residual_temperature_correction_factor_c</td>\n",
       "      <td>-0.000003</td>\n",
       "      <td>NaN</td>\n",
       "    </tr>\n",
       "    <tr>\n",
       "      <th>5</th>\n",
       "      <td>43-3523</td>\n",
       "      <td>CC_residual_temperature_correction_factor_e</td>\n",
       "      <td>0.036000</td>\n",
       "      <td>NaN</td>\n",
       "    </tr>\n",
       "  </tbody>\n",
       "</table>\n",
       "</div>"
      ],
      "text/plain": [
       "    serial                                         name       value  \\\n",
       "0  43-3523                          CC_frequency_offset -825.085800   \n",
       "1  43-3523                       CC_oxygen_signal_slope    0.000358   \n",
       "2  43-3523  CC_residual_temperature_correction_factor_a   -0.003431   \n",
       "3  43-3523  CC_residual_temperature_correction_factor_b    0.000164   \n",
       "4  43-3523  CC_residual_temperature_correction_factor_c   -0.000003   \n",
       "5  43-3523  CC_residual_temperature_correction_factor_e    0.036000   \n",
       "\n",
       "                                               notes  \n",
       "0  date in filename comes from Soc-adjusted calda...  \n",
       "1               adjusted Soc (O2 signal slope) value  \n",
       "2                                                NaN  \n",
       "3                                                NaN  \n",
       "4                                                NaN  \n",
       "5                                                NaN  "
      ]
     },
     "execution_count": 977,
     "metadata": {},
     "output_type": "execute_result"
    }
   ],
   "source": [
    "csv_file"
   ]
  },
  {
   "cell_type": "code",
   "execution_count": 978,
   "metadata": {},
   "outputs": [
    {
     "data": {
      "text/html": [
       "<div>\n",
       "<style scoped>\n",
       "    .dataframe tbody tr th:only-of-type {\n",
       "        vertical-align: middle;\n",
       "    }\n",
       "\n",
       "    .dataframe tbody tr th {\n",
       "        vertical-align: top;\n",
       "    }\n",
       "\n",
       "    .dataframe thead th {\n",
       "        text-align: right;\n",
       "    }\n",
       "</style>\n",
       "<table border=\"1\" class=\"dataframe\">\n",
       "  <thead>\n",
       "    <tr style=\"text-align: right;\">\n",
       "      <th></th>\n",
       "      <th>serial</th>\n",
       "      <th>name</th>\n",
       "      <th>value</th>\n",
       "      <th>notes</th>\n",
       "    </tr>\n",
       "  </thead>\n",
       "  <tbody>\n",
       "    <tr>\n",
       "      <th>0</th>\n",
       "      <td>43-3523</td>\n",
       "      <td>CC_frequency_offset</td>\n",
       "      <td>-825.085800</td>\n",
       "      <td>Date in filename from SBE 43F O3523 SOCAdjust...</td>\n",
       "    </tr>\n",
       "    <tr>\n",
       "      <th>1</th>\n",
       "      <td>43-3523</td>\n",
       "      <td>CC_oxygen_signal_slope</td>\n",
       "      <td>0.000358</td>\n",
       "      <td>NaN</td>\n",
       "    </tr>\n",
       "    <tr>\n",
       "      <th>2</th>\n",
       "      <td>43-3523</td>\n",
       "      <td>CC_residual_temperature_correction_factor_a</td>\n",
       "      <td>-0.003431</td>\n",
       "      <td>NaN</td>\n",
       "    </tr>\n",
       "    <tr>\n",
       "      <th>3</th>\n",
       "      <td>43-3523</td>\n",
       "      <td>CC_residual_temperature_correction_factor_b</td>\n",
       "      <td>0.000164</td>\n",
       "      <td>NaN</td>\n",
       "    </tr>\n",
       "    <tr>\n",
       "      <th>4</th>\n",
       "      <td>43-3523</td>\n",
       "      <td>CC_residual_temperature_correction_factor_c</td>\n",
       "      <td>-0.000003</td>\n",
       "      <td>NaN</td>\n",
       "    </tr>\n",
       "    <tr>\n",
       "      <th>5</th>\n",
       "      <td>43-3523</td>\n",
       "      <td>CC_residual_temperature_correction_factor_e</td>\n",
       "      <td>0.036000</td>\n",
       "      <td>NaN</td>\n",
       "    </tr>\n",
       "  </tbody>\n",
       "</table>\n",
       "</div>"
      ],
      "text/plain": [
       "    serial                                         name       value  \\\n",
       "0  43-3523                          CC_frequency_offset -825.085800   \n",
       "1  43-3523                       CC_oxygen_signal_slope    0.000358   \n",
       "2  43-3523  CC_residual_temperature_correction_factor_a   -0.003431   \n",
       "3  43-3523  CC_residual_temperature_correction_factor_b    0.000164   \n",
       "4  43-3523  CC_residual_temperature_correction_factor_c   -0.000003   \n",
       "5  43-3523  CC_residual_temperature_correction_factor_e    0.036000   \n",
       "\n",
       "                                               notes  \n",
       "0   Date in filename from SBE 43F O3523 SOCAdjust...  \n",
       "1                                                NaN  \n",
       "2                                                NaN  \n",
       "3                                                NaN  \n",
       "4                                                NaN  \n",
       "5                                                NaN  "
      ]
     },
     "execution_count": 978,
     "metadata": {},
     "output_type": "execute_result"
    }
   ],
   "source": [
    "source_file.drop(columns='Unnamed: 0', inplace=True)\n",
    "source_file"
   ]
  },
  {
   "cell_type": "code",
   "execution_count": 979,
   "metadata": {},
   "outputs": [
    {
     "data": {
      "text/html": [
       "<div>\n",
       "<style scoped>\n",
       "    .dataframe tbody tr th:only-of-type {\n",
       "        vertical-align: middle;\n",
       "    }\n",
       "\n",
       "    .dataframe tbody tr th {\n",
       "        vertical-align: top;\n",
       "    }\n",
       "\n",
       "    .dataframe thead th {\n",
       "        text-align: right;\n",
       "    }\n",
       "</style>\n",
       "<table border=\"1\" class=\"dataframe\">\n",
       "  <thead>\n",
       "    <tr style=\"text-align: right;\">\n",
       "      <th></th>\n",
       "      <th>serial</th>\n",
       "      <th>name</th>\n",
       "      <th>value</th>\n",
       "      <th>notes</th>\n",
       "    </tr>\n",
       "  </thead>\n",
       "  <tbody>\n",
       "    <tr>\n",
       "      <th>0</th>\n",
       "      <td>True</td>\n",
       "      <td>True</td>\n",
       "      <td>True</td>\n",
       "      <td>False</td>\n",
       "    </tr>\n",
       "    <tr>\n",
       "      <th>1</th>\n",
       "      <td>True</td>\n",
       "      <td>True</td>\n",
       "      <td>True</td>\n",
       "      <td>False</td>\n",
       "    </tr>\n",
       "    <tr>\n",
       "      <th>2</th>\n",
       "      <td>True</td>\n",
       "      <td>True</td>\n",
       "      <td>True</td>\n",
       "      <td>False</td>\n",
       "    </tr>\n",
       "    <tr>\n",
       "      <th>3</th>\n",
       "      <td>True</td>\n",
       "      <td>True</td>\n",
       "      <td>True</td>\n",
       "      <td>False</td>\n",
       "    </tr>\n",
       "    <tr>\n",
       "      <th>4</th>\n",
       "      <td>True</td>\n",
       "      <td>True</td>\n",
       "      <td>True</td>\n",
       "      <td>False</td>\n",
       "    </tr>\n",
       "    <tr>\n",
       "      <th>5</th>\n",
       "      <td>True</td>\n",
       "      <td>True</td>\n",
       "      <td>False</td>\n",
       "      <td>False</td>\n",
       "    </tr>\n",
       "  </tbody>\n",
       "</table>\n",
       "</div>"
      ],
      "text/plain": [
       "   serial  name  value  notes\n",
       "0    True  True   True  False\n",
       "1    True  True   True  False\n",
       "2    True  True   True  False\n",
       "3    True  True   True  False\n",
       "4    True  True   True  False\n",
       "5    True  True  False  False"
      ]
     },
     "execution_count": 979,
     "metadata": {},
     "output_type": "execute_result"
    }
   ],
   "source": [
    "csv_file == source_file"
   ]
  },
  {
   "cell_type": "code",
   "execution_count": 980,
   "metadata": {},
   "outputs": [
    {
     "data": {
      "text/plain": [
       "(0.036, 0.036000000000000004)"
      ]
     },
     "execution_count": 980,
     "metadata": {},
     "output_type": "execute_result"
    }
   ],
   "source": [
    "csv_file['value'].iloc[5], source_file['value'].iloc[5]"
   ]
  },
  {
   "cell_type": "code",
   "execution_count": 943,
   "metadata": {},
   "outputs": [
    {
     "ename": "NameError",
     "evalue": "name 'ptext' is not defined",
     "output_type": "error",
     "traceback": [
      "\u001b[0;31m---------------------------------------------------------------------------\u001b[0m",
      "\u001b[0;31mNameError\u001b[0m                                 Traceback (most recent call last)",
      "\u001b[0;32m<ipython-input-943-b4d734d653f9>\u001b[0m in \u001b[0;36m<module>\u001b[0;34m\u001b[0m\n\u001b[0;32m----> 1\u001b[0;31m \u001b[0;32mfor\u001b[0m \u001b[0mline\u001b[0m \u001b[0;32min\u001b[0m \u001b[0mptext\u001b[0m\u001b[0;34m.\u001b[0m\u001b[0msplitlines\u001b[0m\u001b[0;34m(\u001b[0m\u001b[0;34m)\u001b[0m\u001b[0;34m:\u001b[0m\u001b[0;34m\u001b[0m\u001b[0;34m\u001b[0m\u001b[0m\n\u001b[0m\u001b[1;32m      2\u001b[0m     \u001b[0mprint\u001b[0m\u001b[0;34m(\u001b[0m\u001b[0mline\u001b[0m\u001b[0;34m)\u001b[0m\u001b[0;34m\u001b[0m\u001b[0;34m\u001b[0m\u001b[0m\n",
      "\u001b[0;31mNameError\u001b[0m: name 'ptext' is not defined"
     ]
    }
   ],
   "source": [
    "for line in ptext.splitlines():\n",
    "    print(line)"
   ]
  },
  {
   "cell_type": "code",
   "execution_count": 726,
   "metadata": {},
   "outputs": [
    {
     "ename": "AttributeError",
     "evalue": "'dict' object has no attribute 'splitlines'",
     "output_type": "error",
     "traceback": [
      "\u001b[0;31m---------------------------------------------------------------------------\u001b[0m",
      "\u001b[0;31mAttributeError\u001b[0m                            Traceback (most recent call last)",
      "\u001b[0;32m<ipython-input-726-a7bad3e5873f>\u001b[0m in \u001b[0;36m<module>\u001b[0;34m\u001b[0m\n\u001b[0;32m----> 1\u001b[0;31m \u001b[0;32mfor\u001b[0m \u001b[0mline\u001b[0m \u001b[0;32min\u001b[0m \u001b[0mdata\u001b[0m\u001b[0;34m.\u001b[0m\u001b[0msplitlines\u001b[0m\u001b[0;34m(\u001b[0m\u001b[0;34m)\u001b[0m\u001b[0;34m:\u001b[0m\u001b[0;34m\u001b[0m\u001b[0;34m\u001b[0m\u001b[0m\n\u001b[0m\u001b[1;32m      2\u001b[0m     \u001b[0;32mif\u001b[0m \u001b[0;34m'='\u001b[0m \u001b[0;32min\u001b[0m \u001b[0mline\u001b[0m\u001b[0;34m:\u001b[0m\u001b[0;34m\u001b[0m\u001b[0;34m\u001b[0m\u001b[0m\n\u001b[1;32m      3\u001b[0m         \u001b[0mcoef\u001b[0m\u001b[0;34m,\u001b[0m \u001b[0mval\u001b[0m\u001b[0;34m,\u001b[0m \u001b[0;34m*\u001b[0m\u001b[0mignore\u001b[0m \u001b[0;34m=\u001b[0m \u001b[0mline\u001b[0m\u001b[0;34m.\u001b[0m\u001b[0msplit\u001b[0m\u001b[0;34m(\u001b[0m\u001b[0;34m'='\u001b[0m\u001b[0;34m)\u001b[0m\u001b[0;34m\u001b[0m\u001b[0;34m\u001b[0m\u001b[0m\n\u001b[1;32m      4\u001b[0m         \u001b[0;32mif\u001b[0m \u001b[0mcoef\u001b[0m\u001b[0;34m.\u001b[0m\u001b[0mstrip\u001b[0m\u001b[0;34m(\u001b[0m\u001b[0;34m)\u001b[0m \u001b[0;32min\u001b[0m \u001b[0mcoefficient_name_map\u001b[0m\u001b[0;34m.\u001b[0m\u001b[0mkeys\u001b[0m\u001b[0;34m(\u001b[0m\u001b[0;34m)\u001b[0m\u001b[0;34m:\u001b[0m\u001b[0;34m\u001b[0m\u001b[0;34m\u001b[0m\u001b[0m\n\u001b[1;32m      5\u001b[0m             \u001b[0mcalibration_coeffs\u001b[0m\u001b[0;34m.\u001b[0m\u001b[0mupdate\u001b[0m\u001b[0;34m(\u001b[0m\u001b[0;34m{\u001b[0m\u001b[0mcoefficient_name_map\u001b[0m\u001b[0;34m.\u001b[0m\u001b[0mget\u001b[0m\u001b[0;34m(\u001b[0m\u001b[0mcoef\u001b[0m\u001b[0;34m.\u001b[0m\u001b[0mstrip\u001b[0m\u001b[0;34m(\u001b[0m\u001b[0;34m)\u001b[0m\u001b[0;34m)\u001b[0m\u001b[0;34m:\u001b[0m\u001b[0mfloat\u001b[0m\u001b[0;34m(\u001b[0m\u001b[0mval\u001b[0m\u001b[0;34m)\u001b[0m\u001b[0;34m}\u001b[0m\u001b[0;34m)\u001b[0m\u001b[0;34m\u001b[0m\u001b[0;34m\u001b[0m\u001b[0m\n",
      "\u001b[0;31mAttributeError\u001b[0m: 'dict' object has no attribute 'splitlines'"
     ]
    }
   ],
   "source": [
    "for line in data.splitlines():\n",
    "    if '=' in line:\n",
    "        coef, val, *ignore = line.split('=')\n",
    "        if coef.strip() in coefficient_name_map.keys():\n",
    "            calibration_coeffs.update({coefficient_name_map.get(coef.strip()):float(val)})\n",
    "            \n",
    "    if 'oxygen S/N' in line:\n",
    "        sn = line[line.find('=')+len('='):line.rfind(':')].strip()"
   ]
  },
  {
   "cell_type": "code",
   "execution_count": null,
   "metadata": {},
   "outputs": [],
   "source": [
    "calibration_coeffs"
   ]
  },
  {
   "cell_type": "code",
   "execution_count": null,
   "metadata": {},
   "outputs": [],
   "source": [
    "sn"
   ]
  },
  {
   "cell_type": "code",
   "execution_count": null,
   "metadata": {},
   "outputs": [],
   "source": []
  }
 ],
 "metadata": {
  "kernelspec": {
   "display_name": "Python 3",
   "language": "python",
   "name": "python3"
  },
  "language_info": {
   "codemirror_mode": {
    "name": "ipython",
    "version": 3
   },
   "file_extension": ".py",
   "mimetype": "text/x-python",
   "name": "python",
   "nbconvert_exporter": "python",
   "pygments_lexer": "ipython3",
   "version": "3.7.3"
  }
 },
 "nbformat": 4,
 "nbformat_minor": 2
}
