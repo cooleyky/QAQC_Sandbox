{
 "cells": [
  {
   "cell_type": "code",
   "execution_count": 1,
   "metadata": {},
   "outputs": [],
   "source": [
    "import csv\n",
    "import re\n",
    "import os\n",
    "import shutil\n",
    "import numpy as np\n",
    "import pandas as pd\n",
    "from zipfile import ZipFile\n",
    "import string\n",
    "import PyPDF2\n",
    "import textract"
   ]
  },
  {
   "cell_type": "code",
   "execution_count": 2,
   "metadata": {},
   "outputs": [],
   "source": [
    "from utils import *"
   ]
  },
  {
   "cell_type": "code",
   "execution_count": 34,
   "metadata": {},
   "outputs": [],
   "source": [
    "basepath = '/media/andrew/OS/Users/areed/Documents/Project_Files/Records/Platform_Records/WFPs/'\n",
    "sn = '2350'\n",
    "inst = 'FLORD-L'\n",
    "date = '2012'\n",
    "source = inst + sn + '_Calibration_' + date"
   ]
  },
  {
   "cell_type": "code",
   "execution_count": 35,
   "metadata": {},
   "outputs": [
    {
     "name": "stdout",
     "output_type": "stream",
     "text": [
      "/media/andrew/OS/Users/areed/Documents/Project_Files/Records/Platform_Records/WFPs/Global_WFPs/12774-01/FLORD-L_FLBBRTD-2350_Char_Cal_2012-11-20.pdf\n"
     ]
    }
   ],
   "source": [
    "for root, dirs, files in os.walk(basepath):\n",
    "    for name in files:\n",
    "        if inst in name and sn in name and date in name and not name.endswith('.v'):\n",
    "            filepath = os.path.join(root,name)\n",
    "            print(filepath)"
   ]
  },
  {
   "cell_type": "code",
   "execution_count": 38,
   "metadata": {},
   "outputs": [
    {
     "name": "stdout",
     "output_type": "stream",
     "text": [
      "PO Box 518 (541) 929-5650\n",
      "620 Applegate St. WE I La bs Fax (541) 929-5277\n",
      "\n",
      "Philomath, OR 97370 www.wetlabs.com\n",
      "\n",
      "ECO Chlorophyll Fluorometer Characterization Sheet\n",
      "\n",
      "Date: 11/20/2012 S/N: FLBBRTD-2350\n",
      "\n",
      " \n",
      "\n",
      "Chlorophyll concentration expressed in g/l can be derived using the equation:\n",
      "\n",
      "CHL (yg/l) = Scale Factor * (Output - Dark counts)\n",
      "\n",
      " \n",
      "\n",
      "Analog\n",
      "Digital\n",
      "Dark counts 0.051 V 48 counts\n",
      "Scale Factor (SF) 6 yg/I/V 0.0073 yg/I/count\n",
      "Maximum Output 496 V 4130 counts\n",
      "Resolution 0.7 mV 1.0 counts\n",
      "Ambient temperature during characterization 22.3 °C\n",
      "\n",
      " \n",
      "\n",
      "Dark Counts: Signal output of the meter in clean water with black tape over detector.\n",
      "\n",
      "SF: Determined using the following equation: SF = x + (output - dark counts), where x is the concentration of the\n",
      "solution used during instrument characterization. SF is used to derive instrument output concentration from the raw\n",
      "signal output of the fluorometer.\n",
      "\n",
      "Maximum Output: Maximum signal output the fluorometer is capable of.\n",
      "\n",
      "Resolution: Standard deviation of 1 minute of collected data.\n",
      "\n",
      "The relationship between fluorescence and chlorophyll-a concentrations in-situ is highly variable. The scale factor listed on this\n",
      "document was determined using a mono-culture of phytoplankton (Thalassiosira weissflogii). The population was assumed to be\n",
      "reasonably healthy and the concentration was determined by using the absorption method. To accurately determine chlorophyll\n",
      "concentration using a fluorometer, you must perform secondary measurements on the populations of interest. This is typically done\n",
      "using extraction-based measurement techniques on discrete samples. For additional information on determining chlorophyll\n",
      "concentration see \"Standard Methods for the Examination of Water and Wastewater” part 10200 H, published jointly by the\n",
      "American Public Health Association, American Water Works Association, and the Water Environment Federation.\n",
      "\n",
      "FLBBRTD-2350.xls Revision S 10/4/07\n",
      "\f",
      "PO Box 518 (541) 929-5650\n",
      "620 Applegate St. WE I La bs Fax (541) 929-5277\n",
      "\n",
      "Philomath, OR 97370 www.wetlabs.com\n",
      "\n",
      "Scattering Meter Calibration Sheet\n",
      "\n",
      "11/19/2012\n",
      "Wavelength: 700 S/N FLBBRTD-2350\n",
      "\n",
      " \n",
      "\n",
      "Use the following equation to obtain either digital or analog \"scaled\" output values:\n",
      "\n",
      "B(8,) m” sr\" = Scale Factor x (Output - Dark Counts)\n",
      "\n",
      "* Scale Factor for 700 nm = 2.034E-06 (m'sr')/counts 1.674E-03 (m'sr\")/volts\n",
      "\n",
      "* Output meter output counts meter output volts\n",
      "\n",
      "° Dark Counts 48 counts 0.2481 volts\n",
      "\n",
      "Instrument Resolution 1.0 counts 2.03E-06 (m'sr*)\n",
      "0.7508 mV\n",
      "\n",
      " \n",
      "\n",
      " \n",
      "\n",
      "Definitions:\n",
      "* Scale Factor: Calibration scale factor, B(@,)/counts. Refer to User's Guide for derivation.\n",
      "* Output: Measured signal output of the scattering meter.\n",
      "\n",
      "* Dark Counts: Signal obtained by covering detector with black tape and submersing sensor in water.\n",
      "Instrument Resolution: Standard deviation of 1 minute of collected data.\n",
      "\n",
      "FLBBRTD-2350.xls Revision S 10/4/07\n",
      "\f",
      "\n"
     ]
    }
   ],
   "source": [
    "ptext = textract.process(filepath, method='tesseract', language='eng', encoding='utf-8')\n",
    "ptext = ptext.decode('utf-8')\n",
    "print(ptext)"
   ]
  },
  {
   "cell_type": "code",
   "execution_count": 22,
   "metadata": {},
   "outputs": [
    {
     "name": "stdout",
     "output_type": "stream",
     "text": [
      "Biospherical Instruments Inc.\n",
      "\n",
      "CALIBRATION CERTIFICATE\n",
      "\n",
      "Calibration Date 08/29/14\n",
      "\n",
      "Model Number QSP-2200\n",
      "Serial Number 20423\n",
      "Operator TPC\n",
      "\n",
      "Standard Lamp V-033(3/7/12)\n",
      "Probe Excitation Voltage Range: 6 to 18 VDC (+\n",
      "\n",
      "Output Polarity: POSITIVE\n",
      "Probe Conditions at Calibration(in air):\n",
      "Calibration Voltage: 6 VDC (+)\n",
      "\n",
      "Probe Current: 3.9 mA\n",
      "Probe Output Voltage:\n",
      "\n",
      "Probe Illuminated 163.7 mV\n",
      "\n",
      "Probe Dark 1.2 mV\n",
      "\n",
      "Probe Net Response 162.5 mV\n",
      "\n",
      "RG780 Filter 1.3 mV\n",
      "Corrected Lamp Output:\n",
      "\n",
      "Output In Air (same conc 0\n",
      "\n",
      "9.342E+15 quanta/cm?-sec 155.134 uE/m?-sec\n",
      "Output Corrected for Immersion in Water:\n",
      "\n",
      "1,.649E+16_quanta/cm?-sec 273.889 uE/m?-sec\n",
      "Calibration Factors:\n",
      "(To calculate irradiance, divide the net voltage reading in Volts by these factors.)\n",
      "\n",
      "Dry: 1.74E-17__ Volts/(quanta/cm?-sec) 0.001047 V/(uE/m?-sec)\n",
      "Wet: 9.85E-18  Volts/(quanta/cm?-sec) 0.000593 V/(uE/m?-sec)\n",
      "\n",
      "Notes:\n",
      "\n",
      "1. Annual calibration is recommended.\n",
      "\n",
      "2. Calibration is performed using a Standard of Spectral Irradiance traceable to the\n",
      "National Institute of Standards and Technology (NIST).\n",
      "\n",
      "3. To approximate the sensor's saturating irradiance, multiply the calibration factor\n",
      "by the sensor power supply voltage, minus one volt.\n",
      "\n",
      "4. The collector should be cleaned frequently with alcohol.\n",
      "\n",
      "5. Calibration was performed with customer cable, when available.\n",
      "\n",
      "QSP200R 05/24/95\n",
      "\n",
      " \n",
      "\f",
      "\n"
     ]
    }
   ],
   "source": [
    "ptext = textract.process(filepath, method='tesseract', lanuage='eng', encoding='utf-8')\n",
    "ptext = ptext.decode('utf-8')\n",
    "print(ptext)"
   ]
  },
  {
   "cell_type": "code",
   "execution_count": 28,
   "metadata": {},
   "outputs": [
    {
     "name": "stdout",
     "output_type": "stream",
     "text": [
      "['Calibration', 'Date', '08/29/14']\n",
      "['Serial', 'Number', '20423']\n",
      "['Probe', 'Dark', '1.2', 'mV']\n",
      "['Wet:', '9.85E-18', 'Volts/(quanta/cm?-sec)', '0.000593', 'V/(uE/m?-sec)']\n"
     ]
    }
   ],
   "source": [
    "for line in ptext.splitlines():\n",
    "    if 'Probe Dark' in line:\n",
    "        print(line.split())\n",
    "        \n",
    "    if 'Wet:' in line:\n",
    "        print(line.split())\n",
    "    if 'Calibration Date' in line:\n",
    "        print(line.split())\n",
    "    if 'Serial Number' in line:\n",
    "        print(line.split())"
   ]
  },
  {
   "cell_type": "code",
   "execution_count": null,
   "metadata": {},
   "outputs": [],
   "source": []
  }
 ],
 "metadata": {
  "kernelspec": {
   "display_name": "Python 3",
   "language": "python",
   "name": "python3"
  },
  "language_info": {
   "codemirror_mode": {
    "name": "ipython",
    "version": 3
   },
   "file_extension": ".py",
   "mimetype": "text/x-python",
   "name": "python",
   "nbconvert_exporter": "python",
   "pygments_lexer": "ipython3",
   "version": "3.7.3"
  }
 },
 "nbformat": 4,
 "nbformat_minor": 2
}
