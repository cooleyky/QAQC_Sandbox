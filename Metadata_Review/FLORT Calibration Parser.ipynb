{
 "cells": [
  {
   "cell_type": "markdown",
   "metadata": {},
   "source": [
    "from utils import *\n",
    "import os"
   ]
  },
  {
   "cell_type": "code",
   "execution_count": 21,
   "metadata": {},
   "outputs": [],
   "source": [
    "from utils import *\n",
    "import os\n",
    "from zipfile import ZipFile\n",
    "import PyPDF2"
   ]
  },
  {
   "cell_type": "code",
   "execution_count": 6,
   "metadata": {},
   "outputs": [],
   "source": [
    "def get_calibration_files(serial_nums,dirpath):\n",
    "    calibration_files = {}\n",
    "    for uid,sn in serial_nums.items():\n",
    "        files = []\n",
    "        sn = str(sn[0])\n",
    "        for file in os.listdir(dirpath):\n",
    "            if sn in file:\n",
    "                if 'Calibration_File' in file:\n",
    "                    files.append(file)\n",
    "                else:\n",
    "                    pass\n",
    "            else:\n",
    "                pass\n",
    "        \n",
    "        calibration_files.update({uid:files})\n",
    "        \n",
    "    return calibration_files"
   ]
  },
  {
   "cell_type": "code",
   "execution_count": 7,
   "metadata": {},
   "outputs": [],
   "source": [
    "qct_directory = '/media/andrew/OS/Users/areed/Documents/Project_Files/'\n",
    "cal_directory = '/media/andrew/OS/Users/areed/Documents/Project_Files/Records/Instrument_Records/FLORD_FLORT'\n",
    "asset_management_directory = '/home/andrew/Documents/OOI-CGSN/ooi-integration/asset-management/calibration/FLORDG'"
   ]
  },
  {
   "cell_type": "code",
   "execution_count": 8,
   "metadata": {},
   "outputs": [],
   "source": [
    "excel_spreadsheet = '/media/andrew/OS/Users/areed/Documents/Project_Files/Documentation/System/System Notebook/WHOI_Asset_Tracking.xlsx'\n",
    "sheet_name = 'Sensors'"
   ]
  },
  {
   "cell_type": "code",
   "execution_count": 9,
   "metadata": {},
   "outputs": [],
   "source": [
    "FLORD = whoi_asset_tracking(spreadsheet=excel_spreadsheet,sheet_name=sheet_name,instrument_class='FLORD')"
   ]
  },
  {
   "cell_type": "code",
   "execution_count": 10,
   "metadata": {},
   "outputs": [
    {
     "data": {
      "text/html": [
       "<div>\n",
       "<style scoped>\n",
       "    .dataframe tbody tr th:only-of-type {\n",
       "        vertical-align: middle;\n",
       "    }\n",
       "\n",
       "    .dataframe tbody tr th {\n",
       "        vertical-align: top;\n",
       "    }\n",
       "\n",
       "    .dataframe thead th {\n",
       "        text-align: right;\n",
       "    }\n",
       "</style>\n",
       "<table border=\"1\" class=\"dataframe\">\n",
       "  <thead>\n",
       "    <tr style=\"text-align: right;\">\n",
       "      <th></th>\n",
       "      <th>Instrument\n",
       "Class</th>\n",
       "      <th>Series</th>\n",
       "      <th>Supplier\n",
       "Serial Number</th>\n",
       "      <th>WHOI #</th>\n",
       "      <th>OOI #</th>\n",
       "      <th>UID</th>\n",
       "      <th>Model</th>\n",
       "      <th>CGSN PN</th>\n",
       "      <th>Firmware Version</th>\n",
       "      <th>Supplier</th>\n",
       "      <th>...</th>\n",
       "      <th>QCT Testing</th>\n",
       "      <th>PreDeployment</th>\n",
       "      <th>Post Deployment</th>\n",
       "      <th>Refurbishment/ Repair</th>\n",
       "      <th>DO Number</th>\n",
       "      <th>Date Received</th>\n",
       "      <th>Deployment History</th>\n",
       "      <th>Current Deployment</th>\n",
       "      <th>Instrument Location on Current Deployment</th>\n",
       "      <th>Notes</th>\n",
       "    </tr>\n",
       "  </thead>\n",
       "  <tbody>\n",
       "    <tr>\n",
       "      <th>496</th>\n",
       "      <td>FLORD</td>\n",
       "      <td>G</td>\n",
       "      <td>3286</td>\n",
       "      <td>116738</td>\n",
       "      <td>A01001</td>\n",
       "      <td>CGINS-FLORDG-03286</td>\n",
       "      <td>FLBBSB</td>\n",
       "      <td>1336-00003-00007</td>\n",
       "      <td>4.08</td>\n",
       "      <td>WET Labs</td>\n",
       "      <td>...</td>\n",
       "      <td>3305-00125-00001\\n3305-00125-00024</td>\n",
       "      <td>NaN</td>\n",
       "      <td>NaN</td>\n",
       "      <td>3305-00900-00157</td>\n",
       "      <td>WH-SC12-16-FLOR-1005</td>\n",
       "      <td>2014-09-18 00:00:00</td>\n",
       "      <td>GI01SUMO-00002\\nGI01SUMO-00005</td>\n",
       "      <td>GI01SUMO-00005</td>\n",
       "      <td>Inductive wire (40)</td>\n",
       "      <td>NaN</td>\n",
       "    </tr>\n",
       "    <tr>\n",
       "      <th>497</th>\n",
       "      <td>FLORD</td>\n",
       "      <td>G</td>\n",
       "      <td>3292</td>\n",
       "      <td>116739</td>\n",
       "      <td>A01002</td>\n",
       "      <td>CGINS-FLORDG-03292</td>\n",
       "      <td>FLBBSB</td>\n",
       "      <td>1336-00003-00007</td>\n",
       "      <td>4.08</td>\n",
       "      <td>WET Labs</td>\n",
       "      <td>...</td>\n",
       "      <td>3305-00125-00002\\n3305-00125-00023</td>\n",
       "      <td>NaN</td>\n",
       "      <td>NaN</td>\n",
       "      <td>3305-00900-00157</td>\n",
       "      <td>WH-SC12-16-FLOR-1005</td>\n",
       "      <td>2014-09-18 00:00:00</td>\n",
       "      <td>GI01SUMO-00002\\nGI01SUMO-00005</td>\n",
       "      <td>GI01SUMO-00005</td>\n",
       "      <td>Inductive wire (80)</td>\n",
       "      <td>NaN</td>\n",
       "    </tr>\n",
       "    <tr>\n",
       "      <th>498</th>\n",
       "      <td>FLORD</td>\n",
       "      <td>G</td>\n",
       "      <td>3304</td>\n",
       "      <td>116740</td>\n",
       "      <td>A01003</td>\n",
       "      <td>CGINS-FLORDG-03304</td>\n",
       "      <td>FLBBSB</td>\n",
       "      <td>1336-00003-00007</td>\n",
       "      <td>4.08</td>\n",
       "      <td>WET Labs</td>\n",
       "      <td>...</td>\n",
       "      <td>3305-00125-00003\\n3305-00125-00025</td>\n",
       "      <td>NaN</td>\n",
       "      <td>NaN</td>\n",
       "      <td>3305-00900-00157</td>\n",
       "      <td>WH-SC12-16-FLOR-1005</td>\n",
       "      <td>2014-09-18 00:00:00</td>\n",
       "      <td>GI01SUMO-00002\\nGI Spare\\nGI01SUMO-00005</td>\n",
       "      <td>GI01SUMO-00005</td>\n",
       "      <td>Inductive wire (130)</td>\n",
       "      <td>NaN</td>\n",
       "    </tr>\n",
       "    <tr>\n",
       "      <th>499</th>\n",
       "      <td>FLORD</td>\n",
       "      <td>G</td>\n",
       "      <td>3369</td>\n",
       "      <td>116741</td>\n",
       "      <td>A01004</td>\n",
       "      <td>CGINS-FLORDG-03369</td>\n",
       "      <td>FLBBSB</td>\n",
       "      <td>1336-00003-00007</td>\n",
       "      <td>4.08</td>\n",
       "      <td>WET Labs</td>\n",
       "      <td>...</td>\n",
       "      <td>3305-00125-00004\\n3305-00125-00028</td>\n",
       "      <td>NaN</td>\n",
       "      <td>NaN</td>\n",
       "      <td>3305-00900-00205</td>\n",
       "      <td>WH-SC12-16-FLOR-1005</td>\n",
       "      <td>2014-09-18 00:00:00</td>\n",
       "      <td>GA01SUMO-00002</td>\n",
       "      <td>GS01SUMO-00004</td>\n",
       "      <td>Riser (40)</td>\n",
       "      <td>NaN</td>\n",
       "    </tr>\n",
       "    <tr>\n",
       "      <th>500</th>\n",
       "      <td>FLORD</td>\n",
       "      <td>G</td>\n",
       "      <td>3381</td>\n",
       "      <td>116742</td>\n",
       "      <td>A01005</td>\n",
       "      <td>CGINS-FLORDG-03381</td>\n",
       "      <td>FLBBSB</td>\n",
       "      <td>1336-00003-00007</td>\n",
       "      <td>4.08</td>\n",
       "      <td>WET Labs</td>\n",
       "      <td>...</td>\n",
       "      <td>3305-00125-00005\\n3305-00125-00026</td>\n",
       "      <td>NaN</td>\n",
       "      <td>NaN</td>\n",
       "      <td>3305-00900-00205</td>\n",
       "      <td>WH-SC12-16-FLOR-1005</td>\n",
       "      <td>2014-09-18 00:00:00</td>\n",
       "      <td>GA01SUMO-00002</td>\n",
       "      <td>GS01SUMO-00004</td>\n",
       "      <td>Riser  (80)</td>\n",
       "      <td>NaN</td>\n",
       "    </tr>\n",
       "  </tbody>\n",
       "</table>\n",
       "<p>5 rows × 25 columns</p>\n",
       "</div>"
      ],
      "text/plain": [
       "    Instrument\\nClass Series Supplier\\nSerial Number  WHOI #   OOI #  \\\n",
       "496             FLORD      G                    3286  116738  A01001   \n",
       "497             FLORD      G                    3292  116739  A01002   \n",
       "498             FLORD      G                    3304  116740  A01003   \n",
       "499             FLORD      G                    3369  116741  A01004   \n",
       "500             FLORD      G                    3381  116742  A01005   \n",
       "\n",
       "                    UID   Model           CGSN PN Firmware Version  Supplier  \\\n",
       "496  CGINS-FLORDG-03286  FLBBSB  1336-00003-00007             4.08  WET Labs   \n",
       "497  CGINS-FLORDG-03292  FLBBSB  1336-00003-00007             4.08  WET Labs   \n",
       "498  CGINS-FLORDG-03304  FLBBSB  1336-00003-00007             4.08  WET Labs   \n",
       "499  CGINS-FLORDG-03369  FLBBSB  1336-00003-00007             4.08  WET Labs   \n",
       "500  CGINS-FLORDG-03381  FLBBSB  1336-00003-00007             4.08  WET Labs   \n",
       "\n",
       "     ...                          QCT Testing PreDeployment Post Deployment  \\\n",
       "496  ...   3305-00125-00001\\n3305-00125-00024           NaN             NaN   \n",
       "497  ...   3305-00125-00002\\n3305-00125-00023           NaN             NaN   \n",
       "498  ...   3305-00125-00003\\n3305-00125-00025           NaN             NaN   \n",
       "499  ...   3305-00125-00004\\n3305-00125-00028           NaN             NaN   \n",
       "500  ...   3305-00125-00005\\n3305-00125-00026           NaN             NaN   \n",
       "\n",
       "    Refurbishment/ Repair             DO Number        Date Received  \\\n",
       "496      3305-00900-00157  WH-SC12-16-FLOR-1005  2014-09-18 00:00:00   \n",
       "497      3305-00900-00157  WH-SC12-16-FLOR-1005  2014-09-18 00:00:00   \n",
       "498      3305-00900-00157  WH-SC12-16-FLOR-1005  2014-09-18 00:00:00   \n",
       "499      3305-00900-00205  WH-SC12-16-FLOR-1005  2014-09-18 00:00:00   \n",
       "500      3305-00900-00205  WH-SC12-16-FLOR-1005  2014-09-18 00:00:00   \n",
       "\n",
       "                           Deployment History Current Deployment  \\\n",
       "496            GI01SUMO-00002\\nGI01SUMO-00005     GI01SUMO-00005   \n",
       "497            GI01SUMO-00002\\nGI01SUMO-00005     GI01SUMO-00005   \n",
       "498  GI01SUMO-00002\\nGI Spare\\nGI01SUMO-00005     GI01SUMO-00005   \n",
       "499                            GA01SUMO-00002     GS01SUMO-00004   \n",
       "500                            GA01SUMO-00002     GS01SUMO-00004   \n",
       "\n",
       "    Instrument Location on Current Deployment Notes  \n",
       "496                       Inductive wire (40)   NaN  \n",
       "497                       Inductive wire (80)   NaN  \n",
       "498                      Inductive wire (130)   NaN  \n",
       "499                                Riser (40)   NaN  \n",
       "500                               Riser  (80)   NaN  \n",
       "\n",
       "[5 rows x 25 columns]"
      ]
     },
     "execution_count": 10,
     "metadata": {},
     "output_type": "execute_result"
    }
   ],
   "source": [
    "FLORD.head()"
   ]
  },
  {
   "cell_type": "code",
   "execution_count": 11,
   "metadata": {
    "collapsed": true
   },
   "outputs": [
    {
     "data": {
      "text/plain": [
       "['CGINS-FLORDG-04034',\n",
       " 'CGINS-FLORDG-04030',\n",
       " 'CGINS-FLORDG-03286',\n",
       " 'CGINS-FLORDG-03304',\n",
       " 'CGINS-FLORDG-03381',\n",
       " 'CGINS-FLORDG-03418',\n",
       " 'CGINS-FLORDG-03967',\n",
       " 'CGINS-FLORDG-04032',\n",
       " 'CGINS-FLORDG-03965',\n",
       " 'CGINS-FLORDG-04033',\n",
       " 'CGINS-FLORDG-03970',\n",
       " 'CGINS-FLORDG-03966',\n",
       " 'CGINS-FLORDG-03369',\n",
       " 'CGINS-FLORDG-04031',\n",
       " 'CGINS-FLORDG-03417',\n",
       " 'CGINS-FLORDG-03382',\n",
       " 'CGINS-FLORDG-03968',\n",
       " 'CGINS-FLORDG-04029',\n",
       " 'CGINS-FLORDG-03969',\n",
       " 'CGINS-FLORDG-03292']"
      ]
     },
     "execution_count": 11,
     "metadata": {},
     "output_type": "execute_result"
    }
   ],
   "source": [
    "uids = list(set(FLORD['UID']))\n",
    "uids"
   ]
  },
  {
   "cell_type": "code",
   "execution_count": 12,
   "metadata": {},
   "outputs": [],
   "source": [
    "def get_qct_names(df):\n",
    "    qct_dict = {}\n",
    "    uids = list(set(df['UID']))\n",
    "    for uid in uids:\n",
    "        df['UID_match'] = df['UID'].apply(lambda x: True if uid in x else False)\n",
    "        qct_series = df[df['UID_match']==True]['QCT Testing']\n",
    "        qct_series = list(qct_series.iloc[0].split('\\n'))\n",
    "        qct_dict.update({uid:qct_series})\n",
    "    \n",
    "    return qct_dict"
   ]
  },
  {
   "cell_type": "code",
   "execution_count": 13,
   "metadata": {
    "collapsed": true
   },
   "outputs": [
    {
     "data": {
      "text/plain": [
       "{'CGINS-FLORDG-04034': [4034],\n",
       " 'CGINS-FLORDG-04030': [4030],\n",
       " 'CGINS-FLORDG-03286': [3286],\n",
       " 'CGINS-FLORDG-03304': [3304],\n",
       " 'CGINS-FLORDG-03381': [3381],\n",
       " 'CGINS-FLORDG-03418': [3418],\n",
       " 'CGINS-FLORDG-03967': [3967],\n",
       " 'CGINS-FLORDG-04032': [4032],\n",
       " 'CGINS-FLORDG-03965': [3965],\n",
       " 'CGINS-FLORDG-04033': [4033],\n",
       " 'CGINS-FLORDG-03970': [3970],\n",
       " 'CGINS-FLORDG-03966': [3966],\n",
       " 'CGINS-FLORDG-03369': [3369],\n",
       " 'CGINS-FLORDG-04031': [4031],\n",
       " 'CGINS-FLORDG-03417': [3417],\n",
       " 'CGINS-FLORDG-03382': [3382],\n",
       " 'CGINS-FLORDG-03968': [3968],\n",
       " 'CGINS-FLORDG-04029': [4029],\n",
       " 'CGINS-FLORDG-03969': [3969],\n",
       " 'CGINS-FLORDG-03292': [3292]}"
      ]
     },
     "execution_count": 13,
     "metadata": {},
     "output_type": "execute_result"
    }
   ],
   "source": [
    "serial_nums = get_serial_nums(FLORD,uids)\n",
    "serial_nums"
   ]
  },
  {
   "cell_type": "code",
   "execution_count": 14,
   "metadata": {
    "collapsed": true
   },
   "outputs": [
    {
     "data": {
      "text/plain": [
       "{'CGINS-FLORDG-04034': ['3305-00125-00020'],\n",
       " 'CGINS-FLORDG-04030': ['3305-00125-00016', '3305-00125-00033'],\n",
       " 'CGINS-FLORDG-03286': ['3305-00125-00001', '3305-00125-00024'],\n",
       " 'CGINS-FLORDG-03304': ['3305-00125-00003', '3305-00125-00025'],\n",
       " 'CGINS-FLORDG-03381': ['3305-00125-00005', '3305-00125-00026'],\n",
       " 'CGINS-FLORDG-03418': ['3305-00125-00008',\n",
       "  '3305-00125-00022',\n",
       "  '3305-00125-00030'],\n",
       " 'CGINS-FLORDG-03967': ['3305-00125-00011', '3305-00125-00021'],\n",
       " 'CGINS-FLORDG-04032': ['3305-00125-00018'],\n",
       " 'CGINS-FLORDG-03965': ['3305-00125-00009'],\n",
       " 'CGINS-FLORDG-04033': ['3305-00125-00019'],\n",
       " 'CGINS-FLORDG-03970': ['3305-00125-00014', '3305-00125-00032'],\n",
       " 'CGINS-FLORDG-03966': ['3305-00125-00010'],\n",
       " 'CGINS-FLORDG-03369': ['3305-00125-00004', '3305-00125-00028'],\n",
       " 'CGINS-FLORDG-04031': ['3305-00125-00017', '3305-00125-00034'],\n",
       " 'CGINS-FLORDG-03417': ['3305-00125-00007'],\n",
       " 'CGINS-FLORDG-03382': ['3305-00125-00006', '3305-00125-00029'],\n",
       " 'CGINS-FLORDG-03968': ['3305-00125-00012', '3305-00125-00027'],\n",
       " 'CGINS-FLORDG-04029': ['3305-00125-00015', '3305-00125-00035'],\n",
       " 'CGINS-FLORDG-03969': ['3305-00125-00013', '3305-00125-00031'],\n",
       " 'CGINS-FLORDG-03292': ['3305-00125-00002', '3305-00125-00023']}"
      ]
     },
     "execution_count": 14,
     "metadata": {},
     "output_type": "execute_result"
    }
   ],
   "source": [
    "qct_dict = get_qct_names(FLORD)\n",
    "qct_dict"
   ]
  },
  {
   "cell_type": "code",
   "execution_count": 15,
   "metadata": {
    "collapsed": true
   },
   "outputs": [
    {
     "data": {
      "text/plain": [
       "{'CGINS-FLORDG-04034': ['FLORD-G_FLBBSB-4034_Calibration_Files_2015-08-04.zip'],\n",
       " 'CGINS-FLORDG-04030': ['FLORD-G_FLBBSB-4030_Calibration_Files_2015-08-04.zip',\n",
       "  'FLORD-G_FLBBSB-4030_Calibration_Files_2018-06-18.zip'],\n",
       " 'CGINS-FLORDG-03286': ['FLORD-G_FLBBSB-3286_Calibration_Files_2014-09-23.zip',\n",
       "  'FLORD-G_FLBBSB-3286_Calibration_Files_2016-10-11.zip'],\n",
       " 'CGINS-FLORDG-03304': ['FLORD-G_FLBBSB-3304_Calibration_Files_2014-09-23.zip',\n",
       "  'FLORD-G_FLBBSB-3304_Calibration_Files_2016-10-11.zip'],\n",
       " 'CGINS-FLORDG-03381': ['FLORD-G_FLBBSB-3381_Calibration_Files_2014-09-23.zip',\n",
       "  'FLORD-G_FLBBSB-3381_Calibration_Files_2017-03-27.zip'],\n",
       " 'CGINS-FLORDG-03418': ['FLORD-G_FLBBSB-3418_Calibration_Files_2014-09-23.zip',\n",
       "  'FLORD-G_FLBBSB-3418_Calibration_Files_2017-10-11.zip'],\n",
       " 'CGINS-FLORDG-03967': ['FLORD-G_FLBBSB-3967_Calibration_Files_2015-06-01.zip',\n",
       "  'FLORD-G_FLBBSB-3967_Calibration_Files_2015-10-05.zip'],\n",
       " 'CGINS-FLORDG-04032': ['FLORD-G_FLBBSB-4032_Calibration_Files_2015-08-04.zip'],\n",
       " 'CGINS-FLORDG-03965': ['FLORD-G_FLBBSB-3965_Calibration_Files_2015-06-01.zip'],\n",
       " 'CGINS-FLORDG-04033': ['FLORD-G_FLBBSB-4033_Calibration_Files_2015-08-04.zip'],\n",
       " 'CGINS-FLORDG-03970': ['FLORD-G_FLBBSB-3970_Calibration_Files_2015-06-08.zip',\n",
       "  'FLORD-G_FLBBSB-3970_Calibration_Files_2017-10-11.zip'],\n",
       " 'CGINS-FLORDG-03966': ['FLORD-G_FLBBSB-3966_Calibration_Files_2015-06-01.zip'],\n",
       " 'CGINS-FLORDG-03369': ['FLORD-G_FLBBSB-3369_Calibration_Files_2014-09-23.zip',\n",
       "  'FLORD-G_FLBBSB-3369_Calibration_Files_2017-03-27.zip'],\n",
       " 'CGINS-FLORDG-04031': ['FLORD-G_FLBBSB-4031_Calibration_Files_2015-08-04.zip',\n",
       "  'FLORD-G_FLBBSB-4031_Calibration_Files_2018-06-18.zip'],\n",
       " 'CGINS-FLORDG-03417': ['FLORD-G_FLBBSB-3417_Calibration_Files_2014-09-23.zip'],\n",
       " 'CGINS-FLORDG-03382': ['FLORD-G_FLBBSB-3382_Calibration_Files_2014-09-23.zip',\n",
       "  'FLORD-G_FLBBSB-3382_Calibration_Files_2017-03-27.zip'],\n",
       " 'CGINS-FLORDG-03968': ['FLORD-G_FLBBSB-3968_Calibration_Files_2015-06-08.zip',\n",
       "  'FLORD-G_FLBBSB-3968_Calibration_Files_2017-03-22.zip'],\n",
       " 'CGINS-FLORDG-04029': ['FLORD-G_FLBBSB-4029_Calibration_Files_2015-08-04.zip',\n",
       "  'FLORD-G_FLBBSB-4029_Calibration_Files_2018-06-14.zip'],\n",
       " 'CGINS-FLORDG-03969': ['FLORD-G_FLBBSB-3969_Calibration_Files_2015-06-08.zip',\n",
       "  'FLORD-G_FLBBSB-3969_Calibration_Files_2017-10-11.zip'],\n",
       " 'CGINS-FLORDG-03292': ['FLORD-G_FLBBSB-3292_Calibration_Files_2014-09-23.zip',\n",
       "  'FLORD-G_FLBBSB-3292_Calibration_Files_2016-10-11.zip']}"
      ]
     },
     "execution_count": 15,
     "metadata": {},
     "output_type": "execute_result"
    }
   ],
   "source": [
    "cal_dict = get_calibration_files(serial_nums, cal_directory)\n",
    "cal_dict"
   ]
  },
  {
   "cell_type": "code",
   "execution_count": 17,
   "metadata": {},
   "outputs": [],
   "source": [
    "uid = 'CGINS-FLORDG-04034'"
   ]
  },
  {
   "cell_type": "code",
   "execution_count": 87,
   "metadata": {},
   "outputs": [
    {
     "data": {
      "text/plain": [
       "'/media/andrew/OS/Users/areed/Documents/Project_Files/Records/Instrument_Records/FLORD_FLORT/FLORD-G_FLBBSB-4034_Calibration_Files_2015-08-04.zip'"
      ]
     },
     "execution_count": 87,
     "metadata": {},
     "output_type": "execute_result"
    }
   ],
   "source": [
    "filepath = '/'.join((cal_directory,cal_dict[uid][0]))\n",
    "filepath"
   ]
  },
  {
   "cell_type": "code",
   "execution_count": 124,
   "metadata": {},
   "outputs": [],
   "source": [
    "class FLORDCalibration():\n",
    "    \n",
    "    def __init__(self,uid):\n",
    "        self.serial = ''\n",
    "        self.date = ''\n",
    "        self.uid = uid\n",
    "        self.coefficients = {\n",
    "            'CC_angular_resolution':1.076,\n",
    "            'CC_depolarization_ratio':0.039,\n",
    "            'CC_measurement_wavelength':700,\n",
    "            'CC_scattering_angle':124\n",
    "        }\n",
    "\n",
    "    @property\n",
    "    def uid(self):\n",
    "        return self._uid\n",
    "        \n",
    "    @uid.setter\n",
    "    def uid(self, d):\n",
    "        r = re.compile('.{5}-.{6}-.{5}')\n",
    "        if r.match(d) is not None:\n",
    "            self.serial = d.split('-')[2].lstrip('0')\n",
    "            self._uid = d       \n",
    "        else:\n",
    "            raise Exception(f\"The instrument uid {d} is not a valid uid. Please check.\")\n",
    "            \n",
    "    def read_dev(self, filepath):\n",
    "        \"\"\"\n",
    "        This function reads in the .dev calibration file for a FLOR instrument, parses\n",
    "        the file, and populates a FLOR Calibration object with the appropriate \n",
    "        calibration coefficients from the .dev file.\n",
    "        \n",
    "        Args:\n",
    "            filepath - full path with filename where the calibration file is stored.\n",
    "                This function can handle zip files as is.\n",
    "        Returns:\n",
    "            self.date - the date that the .dev file was created\n",
    "            self.serial - the serial number of the instrument contained in the .dev file\n",
    "            self.coefficients - a dictionary of the coefficient names and associated\n",
    "                values parsed from the .dev file\n",
    "        \"\"\"\n",
    "        \n",
    "        # First, check if it is a zip file\n",
    "        if filepath.endswith('.zip'):\n",
    "            with ZipFile(filepath) as zfile:\n",
    "                filename = [name for name in zfile.namelist() if name.endswith('.dev')]\n",
    "                if len(filename) == 1:\n",
    "                    data = zfile.read(filename[0]).decode('ASCII')\n",
    "                elif len(filename) > 1:\n",
    "                    FileNotFoundError(f\"Multilple files found in {filepath}\")\n",
    "                else:\n",
    "                    FileNotFoundError(f\"No file found in {filepath}\")\n",
    "        elif filepath.endswith('.dev'):\n",
    "            with open(filepath) as file:\n",
    "                data = file.read()\n",
    "        else:\n",
    "            ending = filepath.split('.')[1]\n",
    "            IOError(f\"File of type {ending} not supported.\")\n",
    "            \n",
    "        # Now, read in and parse the data\n",
    "        for line in data.splitlines():\n",
    "            if 'ECO' in line:\n",
    "                parts = line.split()[1].split('-')\n",
    "                serial_num = parts[1]\n",
    "                if self.serial != serial_num:\n",
    "                    raise AssertionError(f'Serial number {self.serial} in UID does not match serial number {serial_num} from file')\n",
    "            elif 'Created' in line:\n",
    "                parts = line.split()\n",
    "                self.date = pd.to_datetime(parts[2]).strftime('%Y%m%d')\n",
    "            elif 'CHL' in line:\n",
    "                parts = line.split()\n",
    "                self.coefficients['CC_scale_factor_chlorophyll_a'] = parts[1]\n",
    "                self.coefficients['CC_dark_counts_chlorophyll_a'] = parts[2]\n",
    "            elif 'CDOM' in line:\n",
    "                parts = line.split()\n",
    "                self.coefficients['CC_scale_factor_cdom'] = parts[1]\n",
    "                self.coefficients['CC_dark_counts_cdom'] = parts[2]\n",
    "            elif 'Lambda' in line:\n",
    "                parts = line.split()\n",
    "                self.coefficients['CC_scale_factor_volume_scatter'] = parts[1]\n",
    "                self.coefficients['CC_dark_counts_volume_scatter'] = parts[2]\n",
    "            else:\n",
    "                pass\n",
    "            \n",
    "    def write_csv(self, outpath):\n",
    "        \"\"\"\n",
    "        This function writes the correctly named csv file for the ctd to the\n",
    "        specified directory.\n",
    "        \n",
    "        Args:\n",
    "            outpath - directory path of where to write the csv file\n",
    "        Raises:\n",
    "            ValueError - raised if the CTD object's coefficient dictionary \n",
    "                has not been populated\n",
    "        Returns:\n",
    "            self.to_csv - a csv of the calibration coefficients which is \n",
    "                written to the specified directory from the outpath.\n",
    "        \"\"\"\n",
    "        \n",
    "        # Run a check that the coefficients have actually been loaded\n",
    "        if len(self.coefficients.keys()) < 5:\n",
    "            raise ValueError('No calibration coefficients have been loaded from file.')\n",
    "            \n",
    "        # Create a dataframe to write to the csv\n",
    "        data = {'serial':[self.serial.lstrip()]*len(self.coefficients),\n",
    "               'name':list(self.coefficients.keys()),\n",
    "               'value':list(self.coefficients.values()),\n",
    "               'notes':['']*len(self.coefficients) }\n",
    "        df = pd.DataFrame().from_dict(data)\n",
    "        \n",
    "        # Generate the csv name\n",
    "        if type(self.date) is dict:\n",
    "            cal_date = max(self.date.values())\n",
    "        else:\n",
    "            cal_date = self.date\n",
    "        csv_name = self.uid + '__' + cal_date + '.csv'\n",
    "        \n",
    "        # Now write to \n",
    "        check = input(f\"Write {csv_name} to {outpath}? [y/n]: \")\n",
    "        if check.lower().strip() == 'y':\n",
    "            df.to_csv(outpath+'/'+csv_name, index=False)\n",
    "            \n",
    "\n",
    "        "
   ]
  },
  {
   "cell_type": "code",
   "execution_count": 125,
   "metadata": {},
   "outputs": [],
   "source": [
    "FLORcal = FLORDCalibration(uid=uid)"
   ]
  },
  {
   "cell_type": "code",
   "execution_count": 126,
   "metadata": {},
   "outputs": [
    {
     "data": {
      "text/plain": [
       "<__main__.FLORDCalibration at 0x7f50d47efda0>"
      ]
     },
     "execution_count": 126,
     "metadata": {},
     "output_type": "execute_result"
    }
   ],
   "source": [
    "FLORcal"
   ]
  },
  {
   "cell_type": "code",
   "execution_count": 127,
   "metadata": {},
   "outputs": [
    {
     "data": {
      "text/plain": [
       "'4034'"
      ]
     },
     "execution_count": 127,
     "metadata": {},
     "output_type": "execute_result"
    }
   ],
   "source": [
    "FLORcal.serial"
   ]
  },
  {
   "cell_type": "code",
   "execution_count": 128,
   "metadata": {},
   "outputs": [
    {
     "data": {
      "text/plain": [
       "''"
      ]
     },
     "execution_count": 128,
     "metadata": {},
     "output_type": "execute_result"
    }
   ],
   "source": [
    "FLORcal.date"
   ]
  },
  {
   "cell_type": "code",
   "execution_count": 129,
   "metadata": {},
   "outputs": [
    {
     "data": {
      "text/plain": [
       "{'CC_angular_resolution': 1.076,\n",
       " 'CC_depolarization_ratio': 0.039,\n",
       " 'CC_measurement_wavelength': 700,\n",
       " 'CC_scattering_angle': 124}"
      ]
     },
     "execution_count": 129,
     "metadata": {},
     "output_type": "execute_result"
    }
   ],
   "source": [
    "FLORcal.coefficients"
   ]
  },
  {
   "cell_type": "code",
   "execution_count": 130,
   "metadata": {},
   "outputs": [],
   "source": [
    "FLORcal.read_dev(filepath)"
   ]
  },
  {
   "cell_type": "code",
   "execution_count": 131,
   "metadata": {},
   "outputs": [
    {
     "data": {
      "text/plain": [
       "{'CC_angular_resolution': 1.076,\n",
       " 'CC_depolarization_ratio': 0.039,\n",
       " 'CC_measurement_wavelength': 700,\n",
       " 'CC_scattering_angle': 124,\n",
       " 'CC_scale_factor_chlorophyll_a': '0.0072',\n",
       " 'CC_dark_counts_chlorophyll_a': '47',\n",
       " 'CC_scale_factor_volume_scatter': '1.632E-06',\n",
       " 'CC_dark_counts_volume_scatter': '47'}"
      ]
     },
     "execution_count": 131,
     "metadata": {},
     "output_type": "execute_result"
    }
   ],
   "source": [
    "FLORcal.coefficients"
   ]
  },
  {
   "cell_type": "code",
   "execution_count": 132,
   "metadata": {},
   "outputs": [],
   "source": [
    "outpath = os.getcwd() + '/temp'"
   ]
  },
  {
   "cell_type": "code",
   "execution_count": 133,
   "metadata": {},
   "outputs": [],
   "source": [
    "def ensure_dir(file_path):\n",
    "    if not os.path.exists(file_path):\n",
    "        os.makedirs(file_path)"
   ]
  },
  {
   "cell_type": "code",
   "execution_count": 134,
   "metadata": {},
   "outputs": [],
   "source": [
    "ensure_dir(outpath)"
   ]
  },
  {
   "cell_type": "code",
   "execution_count": 135,
   "metadata": {},
   "outputs": [
    {
     "name": "stdout",
     "output_type": "stream",
     "text": [
      "Write CGINS-FLORDG-04034__20150729.csv to /home/andrew/Documents/OOI-CGSN/QAQC_Sandbox/Metadata_Review/temp? [y/n]: y\n"
     ]
    }
   ],
   "source": [
    "FLORcal.write_csv(outpath)"
   ]
  },
  {
   "cell_type": "code",
   "execution_count": null,
   "metadata": {},
   "outputs": [],
   "source": []
  }
 ],
 "metadata": {
  "kernelspec": {
   "display_name": "Python 3",
   "language": "python",
   "name": "python3"
  },
  "language_info": {
   "codemirror_mode": {
    "name": "ipython",
    "version": 3
   },
   "file_extension": ".py",
   "mimetype": "text/x-python",
   "name": "python",
   "nbconvert_exporter": "python",
   "pygments_lexer": "ipython3",
   "version": "3.7.1"
  }
 },
 "nbformat": 4,
 "nbformat_minor": 2
}
