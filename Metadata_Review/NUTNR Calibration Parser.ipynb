{
 "cells": [
  {
   "cell_type": "code",
   "execution_count": null,
   "metadata": {},
   "outputs": [],
   "source": [
    "import csv\n",
    "import re\n",
    "import os\n",
    "import numpy as np\n",
    "import pandas as pd\n",
    "import "
   ]
  },
  {
   "cell_type": "code",
   "execution_count": null,
   "metadata": {},
   "outputs": [],
   "source": [
    "from utils import *"
   ]
  },
  {
   "cell_type": "code",
   "execution_count": null,
   "metadata": {},
   "outputs": [],
   "source": [
    "os.getcwd()"
   ]
  },
  {
   "cell_type": "code",
   "execution_count": null,
   "metadata": {},
   "outputs": [],
   "source": [
    "def get_calibration_files(serial_nums,dirpath):\n",
    "    \"\"\"\n",
    "    Function which gets all the calibration files associated with the\n",
    "    instrument serial numbers.\n",
    "    \n",
    "    Args:\n",
    "        serial_nums - serial numbers of the instruments\n",
    "        dirpath - path to the directory containing the calibration files\n",
    "    Returns:\n",
    "        calibration_files - a dictionary of instrument uids with associated\n",
    "            calibration files\n",
    "    \"\"\"\n",
    "    calibration_files = {}\n",
    "    for uid in serial_nums.keys():\n",
    "        sn = serial_nums.get(uid)[0]\n",
    "        sn = str(sn)\n",
    "        files = []\n",
    "        for file in os.listdir(dirpath):\n",
    "            if sn in file:\n",
    "                if 'Calibration_File' in file:\n",
    "                    files.append(file)\n",
    "                else:\n",
    "                    pass\n",
    "            else:\n",
    "                pass\n",
    "        \n",
    "        calibration_files.update({uid:files})\n",
    "        \n",
    "    return calibration_files"
   ]
  },
  {
   "cell_type": "code",
   "execution_count": null,
   "metadata": {},
   "outputs": [],
   "source": [
    "qct_directory = '/media/andrew/OS/Users/areed/Documents/Project_Files/'\n",
    "cal_directory = '/media/andrew/OS/Users/areed/Documents/Project_Files/Records/Instrument_Records/NUTNR/'\n",
    "asset_management_directory = '/home/andrew/Documents/OOI-CGSN/ooi-integration/asset-management/calibration/NUTNRB/'"
   ]
  },
  {
   "cell_type": "code",
   "execution_count": null,
   "metadata": {},
   "outputs": [],
   "source": [
    "excel_spreadsheet = '/media/andrew/OS/Users/areed/Documents/Project_Files/Documentation/System/System Notebook/WHOI_Asset_Tracking.xlsx'\n",
    "sheet_name = 'Sensors'"
   ]
  },
  {
   "cell_type": "code",
   "execution_count": null,
   "metadata": {},
   "outputs": [],
   "source": [
    "NUTNR = whoi_asset_tracking(spreadsheet=excel_spreadsheet,sheet_name=sheet_name,instrument_class='NUTNR',series='B')"
   ]
  },
  {
   "cell_type": "code",
   "execution_count": null,
   "metadata": {},
   "outputs": [],
   "source": [
    "NUTNR"
   ]
  },
  {
   "cell_type": "code",
   "execution_count": null,
   "metadata": {},
   "outputs": [],
   "source": [
    "uids = list(set(NUTNR['UID']))\n",
    "qct_dict = {}\n",
    "for uid in uids:\n",
    "    # Get the QCT Document numbers from the asset tracking sheet\n",
    "    NUTNR['UID_match'] = NUTNR['UID'].apply(lambda x: True if uid in x else False)\n",
    "    qct_series = NUTNR[NUTNR['UID_match'] == True]['QCT Testing']\n",
    "    qct_series = list(qct_series.iloc[0].split('\\n'))\n",
    "    qct_dict.update({uid:qct_series})"
   ]
  },
  {
   "cell_type": "code",
   "execution_count": null,
   "metadata": {},
   "outputs": [],
   "source": [
    "serial_nums = get_serial_nums(NUTNR, uids)\n",
    "serial_nums"
   ]
  },
  {
   "cell_type": "code",
   "execution_count": null,
   "metadata": {},
   "outputs": [],
   "source": [
    "cal_dict = get_calibration_files(serial_nums, cal_directory)\n",
    "cal_dict"
   ]
  },
  {
   "cell_type": "code",
   "execution_count": null,
   "metadata": {},
   "outputs": [],
   "source": [
    "filename = cal_dict['CGINS-NUTNRB-01065'][1]\n",
    "filename"
   ]
  },
  {
   "cell_type": "code",
   "execution_count": null,
   "metadata": {},
   "outputs": [],
   "source": [
    "cal_directory"
   ]
  },
  {
   "cell_type": "code",
   "execution_count": null,
   "metadata": {},
   "outputs": [],
   "source": [
    "filepath = generate_file_path(cal_directory,filename.split('.')[0],ext=['.zip'])\n",
    "filepath"
   ]
  },
  {
   "cell_type": "code",
   "execution_count": null,
   "metadata": {},
   "outputs": [],
   "source": [
    "with ZipFile(filepath) as zfile:\n",
    "    filename = [name for name in zfile.namelist() if name.endswith('.cal') and name.startswith('SNA')]\n",
    "    if len(filename) == 1:\n",
    "        data = zfile.read(filename[0]).decode('ASCII')\n",
    "    elif len(filename) > 1:\n",
    "        raise Exception(f'More than one calibration file found in {filepath}.')\n",
    "    else:\n",
    "        FileExistsError(f\"No .cal file found in {filepath}\")"
   ]
  },
  {
   "cell_type": "code",
   "execution_count": null,
   "metadata": {},
   "outputs": [],
   "source": [
    "data"
   ]
  },
  {
   "cell_type": "code",
   "execution_count": null,
   "metadata": {},
   "outputs": [],
   "source": [
    "for line in data.splitlines():\n",
    "    print(line.split(','))"
   ]
  },
  {
   "cell_type": "code",
   "execution_count": null,
   "metadata": {},
   "outputs": [],
   "source": [
    "serial = None\n",
    "for line in data.splitlines():\n",
    "    if line.startswith('H'):\n",
    "        # Get the serial number\n",
    "        if 'SUNA' in line and serial == None:\n",
    "            _, info = line.split(',')\n",
    "            serial = info.split()[1]\n",
    "        # "
   ]
  },
  {
   "cell_type": "code",
   "execution_count": null,
   "metadata": {},
   "outputs": [],
   "source": [
    "serial"
   ]
  },
  {
   "cell_type": "code",
   "execution_count": null,
   "metadata": {},
   "outputs": [],
   "source": []
  }
 ],
 "metadata": {
  "kernelspec": {
   "display_name": "Python 3",
   "language": "python",
   "name": "python3"
  },
  "language_info": {
   "codemirror_mode": {
    "name": "ipython",
    "version": 3
   },
   "file_extension": ".py",
   "mimetype": "text/x-python",
   "name": "python",
   "nbconvert_exporter": "python",
   "pygments_lexer": "ipython3",
   "version": "3.7.3"
  }
 },
 "nbformat": 4,
 "nbformat_minor": 2
}
