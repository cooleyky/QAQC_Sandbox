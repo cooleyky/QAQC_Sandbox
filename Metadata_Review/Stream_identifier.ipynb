{
 "cells": [
  {
   "cell_type": "code",
   "execution_count": 1,
   "metadata": {},
   "outputs": [
    {
     "name": "stderr",
     "output_type": "stream",
     "text": [
      "/home/andrew/anaconda3/lib/python3.7/site-packages/requests/__init__.py:91: RequestsDependencyWarning: urllib3 (1.24.1) or chardet (2.3.0) doesn't match a supported version!\n",
      "  RequestsDependencyWarning)\n"
     ]
    }
   ],
   "source": [
    "import os, shutil, sys, time, re, requests, csv, datetime, pytz\n",
    "import pandas as pd\n",
    "import numpy as np\n",
    "import netCDF4 as nc\n",
    "import xarray as xr"
   ]
  },
  {
   "cell_type": "code",
   "execution_count": 2,
   "metadata": {},
   "outputs": [],
   "source": [
    "username = 'OOIAPI-C9OSZAQABG1H3U'\n",
    "token = 'JA48WUQVG7F'"
   ]
  },
  {
   "cell_type": "code",
   "execution_count": 3,
   "metadata": {},
   "outputs": [],
   "source": [
    "data_url = 'https://ooinet.oceanobservatories.org/api/m2m/12576/sensor/inv'\n",
    "anno_url = 'https://ooinet.oceanobservatories.org/api/m2m/12580/anno/find'\n",
    "vocab_url = 'https://ooinet.oceanobservatories.org/api/m2m/12586/vocab/inv'\n",
    "asset_url = 'https://ooinet.oceanobservatories.org/api/m2m/12587'\n",
    "deploy_url = asset_url + '/events/deployment/query'\n",
    "cal_url = asset_url + '/asset/cal'"
   ]
  },
  {
   "cell_type": "code",
   "execution_count": 4,
   "metadata": {},
   "outputs": [],
   "source": [
    "gross_range_filepath = '/home/andrew/Documents/OOI-CGSN/ooi-integration/qc-lookup/data_qc_global_range_values.csv'"
   ]
  },
  {
   "cell_type": "code",
   "execution_count": 5,
   "metadata": {},
   "outputs": [],
   "source": [
    "# Function to make an API request \n",
    "def get_api(url):\n",
    "    r = requests.get(url, auth=(username, token))\n",
    "    data = r.json()\n",
    "    return data\n",
    "\n",
    "# Function to make an API request and print the results\n",
    "def get_and_print_api(url):\n",
    "    r = requests.get(url, auth=(username, token))\n",
    "    data = r.json()\n",
    "    for d in data:\n",
    "        print(d)\n",
    "        \n",
    "# Specify some functions to convert timestamps\n",
    "ntp_epoch = datetime.datetime(1900, 1, 1)\n",
    "unix_epoch = datetime.datetime(1970, 1, 1)\n",
    "ntp_delta = (unix_epoch - ntp_epoch).total_seconds()\n",
    "\n",
    "def ntp_seconds_to_datetime(ntp_seconds):\n",
    "    return datetime.datetime.utcfromtimestamp(ntp_seconds - ntp_delta).replace(microsecond=0)\n",
    "  \n",
    "def convert_time(ms):\n",
    "    if ms is None:\n",
    "        return None\n",
    "    else:\n",
    "        return datetime.datetime.utcfromtimestamp(ms/1000)"
   ]
  },
  {
   "cell_type": "code",
   "execution_count": 6,
   "metadata": {
    "scrolled": true
   },
   "outputs": [
    {
     "data": {
      "text/html": [
       "<div>\n",
       "<style scoped>\n",
       "    .dataframe tbody tr th:only-of-type {\n",
       "        vertical-align: middle;\n",
       "    }\n",
       "\n",
       "    .dataframe tbody tr th {\n",
       "        vertical-align: top;\n",
       "    }\n",
       "\n",
       "    .dataframe thead th {\n",
       "        text-align: right;\n",
       "    }\n",
       "</style>\n",
       "<table border=\"1\" class=\"dataframe\">\n",
       "  <thead>\n",
       "    <tr style=\"text-align: right;\">\n",
       "      <th></th>\n",
       "      <th>ReferenceDesignator</th>\n",
       "      <th>ParameterID_R</th>\n",
       "      <th>ParameterID_T</th>\n",
       "      <th>GlobalRangeMin</th>\n",
       "      <th>GlobalRangeMax</th>\n",
       "      <th>_DataLevel</th>\n",
       "      <th>_Units</th>\n",
       "      <th>_Array ID</th>\n",
       "      <th>_Platform ID</th>\n",
       "      <th>_Instrument</th>\n",
       "    </tr>\n",
       "  </thead>\n",
       "  <tbody>\n",
       "    <tr>\n",
       "      <th>0</th>\n",
       "      <td>CE01ISSM-MFD35-01-VEL3DD000</td>\n",
       "      <td>vel3d_c_eastward_turbulent_velocity</td>\n",
       "      <td>vel3d_c_eastward_turbulent_velocity</td>\n",
       "      <td>-3.0</td>\n",
       "      <td>3.0</td>\n",
       "      <td>L1</td>\n",
       "      <td>m s-1</td>\n",
       "      <td>CE01ISSM</td>\n",
       "      <td>MFD35</td>\n",
       "      <td>VEL3DD000</td>\n",
       "    </tr>\n",
       "    <tr>\n",
       "      <th>1</th>\n",
       "      <td>CE01ISSM-MFD35-01-VEL3DD000</td>\n",
       "      <td>vel3d_c_northward_turbulent_velocity</td>\n",
       "      <td>vel3d_c_northward_turbulent_velocity</td>\n",
       "      <td>-3.0</td>\n",
       "      <td>3.0</td>\n",
       "      <td>L1</td>\n",
       "      <td>m s-1</td>\n",
       "      <td>CE01ISSM</td>\n",
       "      <td>MFD35</td>\n",
       "      <td>VEL3DD000</td>\n",
       "    </tr>\n",
       "    <tr>\n",
       "      <th>2</th>\n",
       "      <td>CE01ISSM-MFD35-01-VEL3DD000</td>\n",
       "      <td>vel3d_c_upward_turbulent_velocity</td>\n",
       "      <td>vel3d_c_upward_turbulent_velocity</td>\n",
       "      <td>-1.0</td>\n",
       "      <td>1.0</td>\n",
       "      <td>L1</td>\n",
       "      <td>m s-1</td>\n",
       "      <td>CE01ISSM</td>\n",
       "      <td>MFD35</td>\n",
       "      <td>VEL3DD000</td>\n",
       "    </tr>\n",
       "    <tr>\n",
       "      <th>3</th>\n",
       "      <td>CE01ISSM-MFD35-01-VEL3DD000</td>\n",
       "      <td>seawater_pressure_mbar</td>\n",
       "      <td>seawater_pressure_mbar</td>\n",
       "      <td>0.0</td>\n",
       "      <td>1100000.0</td>\n",
       "      <td>NaN</td>\n",
       "      <td>0.001 dbar</td>\n",
       "      <td>CE01ISSM</td>\n",
       "      <td>MFD35</td>\n",
       "      <td>VEL3DD000</td>\n",
       "    </tr>\n",
       "    <tr>\n",
       "      <th>4</th>\n",
       "      <td>CE01ISSM-MFD35-01-VEL3DD000</td>\n",
       "      <td>turbulent_velocity_east</td>\n",
       "      <td>turbulent_velocity_east</td>\n",
       "      <td>-3000.0</td>\n",
       "      <td>3000.0</td>\n",
       "      <td>L0</td>\n",
       "      <td>mm s-1</td>\n",
       "      <td>CE01ISSM</td>\n",
       "      <td>MFD35</td>\n",
       "      <td>VEL3DD000</td>\n",
       "    </tr>\n",
       "  </tbody>\n",
       "</table>\n",
       "</div>"
      ],
      "text/plain": [
       "           ReferenceDesignator                         ParameterID_R  \\\n",
       "0  CE01ISSM-MFD35-01-VEL3DD000   vel3d_c_eastward_turbulent_velocity   \n",
       "1  CE01ISSM-MFD35-01-VEL3DD000  vel3d_c_northward_turbulent_velocity   \n",
       "2  CE01ISSM-MFD35-01-VEL3DD000     vel3d_c_upward_turbulent_velocity   \n",
       "3  CE01ISSM-MFD35-01-VEL3DD000                seawater_pressure_mbar   \n",
       "4  CE01ISSM-MFD35-01-VEL3DD000               turbulent_velocity_east   \n",
       "\n",
       "                          ParameterID_T  GlobalRangeMin  GlobalRangeMax  \\\n",
       "0   vel3d_c_eastward_turbulent_velocity            -3.0             3.0   \n",
       "1  vel3d_c_northward_turbulent_velocity            -3.0             3.0   \n",
       "2     vel3d_c_upward_turbulent_velocity            -1.0             1.0   \n",
       "3                seawater_pressure_mbar             0.0       1100000.0   \n",
       "4               turbulent_velocity_east         -3000.0          3000.0   \n",
       "\n",
       "  _DataLevel      _Units _Array ID _Platform ID _Instrument  \n",
       "0         L1       m s-1  CE01ISSM        MFD35   VEL3DD000  \n",
       "1         L1       m s-1  CE01ISSM        MFD35   VEL3DD000  \n",
       "2         L1       m s-1  CE01ISSM        MFD35   VEL3DD000  \n",
       "3        NaN  0.001 dbar  CE01ISSM        MFD35   VEL3DD000  \n",
       "4         L0      mm s-1  CE01ISSM        MFD35   VEL3DD000  "
      ]
     },
     "execution_count": 6,
     "metadata": {},
     "output_type": "execute_result"
    }
   ],
   "source": [
    "gross_range_lookup_table = pd.read_csv(gross_range_filepath)\n",
    "gross_range_lookup_table.head()"
   ]
  },
  {
   "cell_type": "code",
   "execution_count": 30,
   "metadata": {
    "collapsed": true
   },
   "outputs": [
    {
     "data": {
      "text/plain": [
       "['CP01CNPM',\n",
       " 'CP01CNSM',\n",
       " 'CP01CNSP',\n",
       " 'CP02PMCI',\n",
       " 'CP02PMCO',\n",
       " 'CP02PMUI',\n",
       " 'CP02PMUO',\n",
       " 'CP03ISPM',\n",
       " 'CP03ISSM',\n",
       " 'CP03ISSP',\n",
       " 'CP04OSPM',\n",
       " 'CP04OSSM',\n",
       " 'GA01SUMO',\n",
       " 'GA02HYPM',\n",
       " 'GA03FLMA',\n",
       " 'GA03FLMB',\n",
       " 'GI01SUMO',\n",
       " 'GI02HYPM',\n",
       " 'GI03FLMA',\n",
       " 'GI03FLMB',\n",
       " 'GP02HYPM',\n",
       " 'GP03FLMA',\n",
       " 'GP03FLMB',\n",
       " 'GS01SUMO',\n",
       " 'GS02HYPM',\n",
       " 'GS03FLMA',\n",
       " 'GS03FLMB']"
      ]
     },
     "execution_count": 30,
     "metadata": {},
     "output_type": "execute_result"
    }
   ],
   "source": [
    "# Filter out the non-WHOI responsible \n",
    "all_sites = get_api(data_url)\n",
    "sites = []\n",
    "for x in all_sites:\n",
    "    if x.startswith('CE') or x.startswith('RS') or x.startswith('SS') or x.endswith('MOAS'):\n",
    "        pass\n",
    "    else:\n",
    "        sites.append(x)\n",
    "sites"
   ]
  },
  {
   "cell_type": "code",
   "execution_count": 76,
   "metadata": {},
   "outputs": [],
   "source": [
    "df = pd.DataFrame(columns=['RefDes','Method','Stream'])"
   ]
  },
  {
   "cell_type": "code",
   "execution_count": 77,
   "metadata": {},
   "outputs": [
    {
     "data": {
      "text/html": [
       "<div>\n",
       "<style scoped>\n",
       "    .dataframe tbody tr th:only-of-type {\n",
       "        vertical-align: middle;\n",
       "    }\n",
       "\n",
       "    .dataframe tbody tr th {\n",
       "        vertical-align: top;\n",
       "    }\n",
       "\n",
       "    .dataframe thead th {\n",
       "        text-align: right;\n",
       "    }\n",
       "</style>\n",
       "<table border=\"1\" class=\"dataframe\">\n",
       "  <thead>\n",
       "    <tr style=\"text-align: right;\">\n",
       "      <th></th>\n",
       "      <th>RefDes</th>\n",
       "      <th>Method</th>\n",
       "      <th>Stream</th>\n",
       "    </tr>\n",
       "  </thead>\n",
       "  <tbody>\n",
       "  </tbody>\n",
       "</table>\n",
       "</div>"
      ],
      "text/plain": [
       "Empty DataFrame\n",
       "Columns: [RefDes, Method, Stream]\n",
       "Index: []"
      ]
     },
     "execution_count": 77,
     "metadata": {},
     "output_type": "execute_result"
    }
   ],
   "source": [
    "df"
   ]
  },
  {
   "cell_type": "code",
   "execution_count": 82,
   "metadata": {},
   "outputs": [
    {
     "ename": "AttributeError",
     "evalue": "'Series' object has no attribute 'concat'",
     "output_type": "error",
     "traceback": [
      "\u001b[0;31m---------------------------------------------------------------------------\u001b[0m",
      "\u001b[0;31mAttributeError\u001b[0m                            Traceback (most recent call last)",
      "\u001b[0;32m<ipython-input-82-04843baab913>\u001b[0m in \u001b[0;36m<module>\u001b[0;34m\u001b[0m\n\u001b[1;32m     21\u001b[0m                     \u001b[0;32mfor\u001b[0m \u001b[0mstream\u001b[0m \u001b[0;32min\u001b[0m \u001b[0mstreams\u001b[0m\u001b[0;34m:\u001b[0m\u001b[0;34m\u001b[0m\u001b[0;34m\u001b[0m\u001b[0m\n\u001b[1;32m     22\u001b[0m                         \u001b[0;31m# Now update the dataframe\u001b[0m\u001b[0;34m\u001b[0m\u001b[0;34m\u001b[0m\u001b[0;34m\u001b[0m\u001b[0m\n\u001b[0;32m---> 23\u001b[0;31m                         \u001b[0mdf\u001b[0m\u001b[0;34m[\u001b[0m\u001b[0;34m'RefDes'\u001b[0m\u001b[0;34m]\u001b[0m\u001b[0;34m.\u001b[0m\u001b[0mconcat\u001b[0m\u001b[0;34m(\u001b[0m\u001b[0mrfd\u001b[0m\u001b[0;34m)\u001b[0m\u001b[0;34m\u001b[0m\u001b[0;34m\u001b[0m\u001b[0m\n\u001b[0m\u001b[1;32m     24\u001b[0m                         \u001b[0mdf\u001b[0m\u001b[0;34m[\u001b[0m\u001b[0;34m'Method'\u001b[0m\u001b[0;34m]\u001b[0m\u001b[0;34m.\u001b[0m\u001b[0mconcat\u001b[0m\u001b[0;34m(\u001b[0m\u001b[0mmethod\u001b[0m\u001b[0;34m)\u001b[0m\u001b[0;34m\u001b[0m\u001b[0;34m\u001b[0m\u001b[0m\n\u001b[1;32m     25\u001b[0m                         \u001b[0mdf\u001b[0m\u001b[0;34m[\u001b[0m\u001b[0;34m'Stream'\u001b[0m\u001b[0;34m]\u001b[0m\u001b[0;34m.\u001b[0m\u001b[0mconcat\u001b[0m\u001b[0;34m(\u001b[0m\u001b[0mstream\u001b[0m\u001b[0;34m)\u001b[0m\u001b[0;34m\u001b[0m\u001b[0;34m\u001b[0m\u001b[0m\n",
      "\u001b[0;32m~/anaconda3/lib/python3.7/site-packages/pandas/core/generic.py\u001b[0m in \u001b[0;36m__getattr__\u001b[0;34m(self, name)\u001b[0m\n\u001b[1;32m   4374\u001b[0m             \u001b[0;32mif\u001b[0m \u001b[0mself\u001b[0m\u001b[0;34m.\u001b[0m\u001b[0m_info_axis\u001b[0m\u001b[0;34m.\u001b[0m\u001b[0m_can_hold_identifiers_and_holds_name\u001b[0m\u001b[0;34m(\u001b[0m\u001b[0mname\u001b[0m\u001b[0;34m)\u001b[0m\u001b[0;34m:\u001b[0m\u001b[0;34m\u001b[0m\u001b[0;34m\u001b[0m\u001b[0m\n\u001b[1;32m   4375\u001b[0m                 \u001b[0;32mreturn\u001b[0m \u001b[0mself\u001b[0m\u001b[0;34m[\u001b[0m\u001b[0mname\u001b[0m\u001b[0;34m]\u001b[0m\u001b[0;34m\u001b[0m\u001b[0;34m\u001b[0m\u001b[0m\n\u001b[0;32m-> 4376\u001b[0;31m             \u001b[0;32mreturn\u001b[0m \u001b[0mobject\u001b[0m\u001b[0;34m.\u001b[0m\u001b[0m__getattribute__\u001b[0m\u001b[0;34m(\u001b[0m\u001b[0mself\u001b[0m\u001b[0;34m,\u001b[0m \u001b[0mname\u001b[0m\u001b[0;34m)\u001b[0m\u001b[0;34m\u001b[0m\u001b[0;34m\u001b[0m\u001b[0m\n\u001b[0m\u001b[1;32m   4377\u001b[0m \u001b[0;34m\u001b[0m\u001b[0m\n\u001b[1;32m   4378\u001b[0m     \u001b[0;32mdef\u001b[0m \u001b[0m__setattr__\u001b[0m\u001b[0;34m(\u001b[0m\u001b[0mself\u001b[0m\u001b[0;34m,\u001b[0m \u001b[0mname\u001b[0m\u001b[0;34m,\u001b[0m \u001b[0mvalue\u001b[0m\u001b[0;34m)\u001b[0m\u001b[0;34m:\u001b[0m\u001b[0;34m\u001b[0m\u001b[0;34m\u001b[0m\u001b[0m\n",
      "\u001b[0;31mAttributeError\u001b[0m: 'Series' object has no attribute 'concat'"
     ]
    }
   ],
   "source": [
    "refdes = []\n",
    "pd.DataFrame(columns=['RefDes','Method','Stream'])\n",
    "\n",
    "for site in sites:\n",
    "    nodes = get_api('/'.join((data_url,site)))\n",
    "    for node in nodes:\n",
    "        sensors = get_api('/'.join((data_url,site,node)))\n",
    "        for sensor in sensors:\n",
    "            # Now check for the CTDBP in the system\n",
    "            if 'CTDBP' in sensor:\n",
    "                # Get the reference designator of the sensor\n",
    "                request_url = '/'.join((vocab_url, site, node, sensor))\n",
    "                r = requests.get(request_url, auth=(username, token))\n",
    "                data = r.json()\n",
    "                rfd = data[0]['refdes']\n",
    "                refdes.append(rfd)\n",
    "                # Now I'm going to \n",
    "                methods = get_api('/'.join((data_url,site,node,sensor)))\n",
    "                for method in methods:\n",
    "                    streams = get_api('/'.join((data_url,site,node,sensor,method)))\n",
    "                    for stream in streams:\n",
    "                        # Now update the dataframe\n",
    "                        df['RefDes'].concat(rfd)\n",
    "                        df['Method'].concat(method)\n",
    "                        df['Stream'].concat(stream)\n",
    "            else:\n",
    "                pass            "
   ]
  },
  {
   "cell_type": "code",
   "execution_count": 80,
   "metadata": {},
   "outputs": [
    {
     "data": {
      "text/plain": [
       "['CP01CNSM-MFD37-03-CTDBPD000',\n",
       " 'CP01CNSM-RID27-03-CTDBPC000',\n",
       " 'CP03ISSM-MFD37-03-CTDBPD000',\n",
       " 'CP03ISSM-RID27-03-CTDBPC000',\n",
       " 'CP04OSSM-MFD37-03-CTDBPE000',\n",
       " 'CP04OSSM-RID27-03-CTDBPC000',\n",
       " 'GA01SUMO-RID16-03-CTDBPF000',\n",
       " 'GA01SUMO-RII11-02-CTDBPP031',\n",
       " 'GA01SUMO-RII11-02-CTDBPP032',\n",
       " 'GA01SUMO-RII11-02-CTDBPP033',\n",
       " 'GI01SUMO-RID16-03-CTDBPF000',\n",
       " 'GI01SUMO-RII11-02-CTDBPP031',\n",
       " 'GI01SUMO-RII11-02-CTDBPP032',\n",
       " 'GI01SUMO-RII11-02-CTDBPP033',\n",
       " 'GS01SUMO-RID16-03-CTDBPF000',\n",
       " 'GS01SUMO-RII11-02-CTDBPP031',\n",
       " 'GS01SUMO-RII11-02-CTDBPP032',\n",
       " 'GS01SUMO-RII11-02-CTDBPP033']"
      ]
     },
     "execution_count": 80,
     "metadata": {},
     "output_type": "execute_result"
    }
   ],
   "source": [
    "refdes"
   ]
  },
  {
   "cell_type": "code",
   "execution_count": null,
   "metadata": {},
   "outputs": [],
   "source": []
  },
  {
   "cell_type": "code",
   "execution_count": null,
   "metadata": {},
   "outputs": [],
   "source": []
  },
  {
   "cell_type": "code",
   "execution_count": null,
   "metadata": {},
   "outputs": [],
   "source": []
  },
  {
   "cell_type": "code",
   "execution_count": 71,
   "metadata": {},
   "outputs": [
    {
     "data": {
      "text/plain": [
       "['ctdbp_cdef_instrument_recovered']"
      ]
     },
     "execution_count": 71,
     "metadata": {},
     "output_type": "execute_result"
    }
   ],
   "source": [
    "site = sites[1]\n",
    "nodes = get_api('/'.join([data_url,site]))\n",
    "node = nodes[5]\n",
    "sensors = get_api('/'.join([data_url,site,node]))\n",
    "sensor = sensors[3]\n",
    "methods = get_api('/'.join([data_url,site,node,sensor]))\n",
    "method = methods[1]\n",
    "data = get_api('/'.join([data_url,site,node,sensor,method]))\n",
    "data"
   ]
  },
  {
   "cell_type": "code",
   "execution_count": 50,
   "metadata": {},
   "outputs": [
    {
     "name": "stdout",
     "output_type": "stream",
     "text": [
      "03-CTDBPC000\n"
     ]
    }
   ],
   "source": [
    "for sensor in sensors:\n",
    "    if 'CTDBP' in sensor:\n",
    "        print(sensor)"
   ]
  },
  {
   "cell_type": "code",
   "execution_count": 55,
   "metadata": {},
   "outputs": [],
   "source": [
    "# List the site, node, instrument names\n",
    "site = 'CP01CNSM'\n",
    "node = 'RID27'\n",
    "sensor = '03-CTDBPC000'\n",
    "method = 'recovered_host' # 'recovered_inst' 'telemetered'"
   ]
  },
  {
   "cell_type": "code",
   "execution_count": 56,
   "metadata": {},
   "outputs": [],
   "source": [
    "# Retrieve vocabulary information for a given instrument\n",
    "request_url = '/'.join((vocab_url, site, node, sensor))\n",
    "r = requests.get(request_url, auth=(username, token))\n",
    "data = r.json()"
   ]
  },
  {
   "cell_type": "code",
   "execution_count": 59,
   "metadata": {},
   "outputs": [
    {
     "data": {
      "text/plain": [
       "'CP01CNSM-RID27-03-CTDBPC000'"
      ]
     },
     "execution_count": 59,
     "metadata": {},
     "output_type": "execute_result"
    }
   ],
   "source": [
    "data[0]['refdes']"
   ]
  },
  {
   "cell_type": "code",
   "execution_count": 75,
   "metadata": {},
   "outputs": [
    {
     "data": {
      "text/plain": [
       "{'requestUUID': '233b711a-298c-43a5-a4e3-9fefca56d1f6',\n",
       " 'outputURL': 'https://opendap.oceanobservatories.org/thredds/catalog/ooi/areed@whoi.edu/20190315T193817-CP01CNSM-RID27-03-CTDBPC000-recovered_inst-ctdbp_cdef_instrument_recovered/catalog.html',\n",
       " 'allURLs': ['https://opendap.oceanobservatories.org/thredds/catalog/ooi/areed@whoi.edu/20190315T193817-CP01CNSM-RID27-03-CTDBPC000-recovered_inst-ctdbp_cdef_instrument_recovered/catalog.html',\n",
       "  'https://opendap.oceanobservatories.org/async_results/areed@whoi.edu/20190315T193817-CP01CNSM-RID27-03-CTDBPC000-recovered_inst-ctdbp_cdef_instrument_recovered'],\n",
       " 'sizeCalculation': 63735283,\n",
       " 'timeCalculation': 60,\n",
       " 'numberOfSubJobs': 801}"
      ]
     },
     "execution_count": 75,
     "metadata": {},
     "output_type": "execute_result"
    }
   ],
   "source": [
    "request_url = '/'.join((data_url, site, node, sensor, 'recovered_inst', 'ctdbp_cdef_instrument_recovered'))\n",
    "r = requests.get(request_url, auth=(username, token))\n",
    "data = r.json()\n",
    "data"
   ]
  },
  {
   "cell_type": "code",
   "execution_count": null,
   "metadata": {},
   "outputs": [],
   "source": [
    "sen"
   ]
  }
 ],
 "metadata": {
  "kernelspec": {
   "display_name": "Python 3",
   "language": "python",
   "name": "python3"
  },
  "language_info": {
   "codemirror_mode": {
    "name": "ipython",
    "version": 3
   },
   "file_extension": ".py",
   "mimetype": "text/x-python",
   "name": "python",
   "nbconvert_exporter": "python",
   "pygments_lexer": "ipython3",
   "version": "3.7.1"
  }
 },
 "nbformat": 4,
 "nbformat_minor": 2
}
