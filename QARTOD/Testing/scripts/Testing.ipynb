{
 "cells": [
  {
   "cell_type": "markdown",
   "id": "bb8baf5e",
   "metadata": {},
   "source": [
    "# Example QARTOD Testing\n",
    "\n",
    "#### Intro\n",
    "QARTOD (Quality-Assurance of Real-Time Oceanographic Data) is the effort by the broader oceanographic observing community to standardize processes related to quality control of oceanographic data. Part of the standardization is identification and recommendations of algorithms with which to test data returned by the sensor for evaluating data quality. Currently, OOI is implementing the gross range and climatology tests, which utilize either a three-standard-deviation threshold (gross range) or a monthly-varying range (climatology) determined using a two-cycle harmonic model. The available flags are:\n",
    "\n",
    "The thresholds for the tests are calculated and save in tables that are stored on gitHub for ingenstion into OOINet. \n",
    "\n",
    "#### Purpose\n",
    "We are implementing QARTOD gross range and climatology tests on datasets that are either currently in production or are being tested for functionality on the Dev1 environment. This is an example notebook for the (1) testing and verification of the implemented QARTOD tests are performing as expected and (2) calculating some descriptives summary statistics of the returned QARTOD flags. Sampling and verification involves running the QARTOD tests locally with the appropriate QARTOD values from the gitHub tables and comparing the results with what was returned with the dataset from OOINet. \n",
    "\n",
    "#### Objectives:\n",
    "\n",
    "* Test Output: Run the test locally and identify where the ooinet output differs from the locally run test and flag those data points to provide feedback to CI. This should be done on both tests which are in production as well as in the development environment. We are currently migrating \n",
    "\n",
    "* Statistics: Generate statistics on the QARTOD flags being returned for each variable being tested, e.g. how many good (1), suspect/interesting (3), and bad (4) flags are there for a given test on a given variable. Currently, \n",
    "\n",
    "#### Details\n",
    "* Currently CTDBP/CTDMO, PHSEN, PCO2W, and PCO2A instrument classes have QARTOD tests in production. These we will want some descriptive or summary statistics\n",
    "* We are migrating DOSTA, FLOR, PAR, and METBK instruments to Dev-1 (development environment) for testing. These we will want to test that the tests in Dev-1 are producing the results that we expect\n",
    "\n",
    "#### Supporting tools\n",
    "If you want to run this notebook as-is, you will need to clone my [ooinet repo](https://github.com/reedan88/OOINet) to your local machine and install is as a local dev repo (which adds it to your base path). You'll also need the [ooi_data_explorations repo](https://github.com/oceanobservatories/ooi-data-explorations). Lastly, you'll want to install the ```ioos_qc``` [python package](https://github.com/ioos/ioos_qc). \n"
   ]
  },
  {
   "cell_type": "code",
   "execution_count": null,
   "id": "b33f0ba5",
   "metadata": {},
   "outputs": [],
   "source": [
    "# Import libraries\n",
    "import os\n",
    "import re\n",
    "import gc\n",
    "import io\n",
    "import ast\n",
    "import pandas as pd\n",
    "import numpy as np\n",
    "import xarray as xr\n",
    "import warnings\n",
    "warnings.filterwarnings(\"ignore\")"
   ]
  },
  {
   "cell_type": "code",
   "execution_count": 2,
   "id": "6b9ce390",
   "metadata": {},
   "outputs": [],
   "source": [
    "import sys\n",
    "sys.path.append(\"c:\\\\Users\\\\cooleyky\\\\Documents\\\\GitHub\\\\OOINet\")\n",
    "from ooinet import M2M\n",
    "from ooinet.Instrument.common import process_file"
   ]
  },
  {
   "cell_type": "code",
   "execution_count": 3,
   "id": "c2d83bf3",
   "metadata": {},
   "outputs": [
    {
     "ename": "ModuleNotFoundError",
     "evalue": "No module named 'ooi_data_explorations'",
     "output_type": "error",
     "traceback": [
      "\u001b[1;31m---------------------------------------------------------------------------\u001b[0m",
      "\u001b[1;31mModuleNotFoundError\u001b[0m                       Traceback (most recent call last)",
      "Cell \u001b[1;32mIn[3], line 1\u001b[0m\n\u001b[1;32m----> 1\u001b[0m \u001b[39mfrom\u001b[39;00m \u001b[39mooi_data_explorations\u001b[39;00m\u001b[39m.\u001b[39;00m\u001b[39muncabled\u001b[39;00m\u001b[39m.\u001b[39;00m\u001b[39mprocess_dosta\u001b[39;00m \u001b[39mimport\u001b[39;00m dosta_datalogger\n\u001b[0;32m      2\u001b[0m \u001b[39mfrom\u001b[39;00m \u001b[39mooi_data_explorations\u001b[39;00m\u001b[39m.\u001b[39;00m\u001b[39mcombine_data\u001b[39;00m \u001b[39mimport\u001b[39;00m combine_datasets\n",
      "\u001b[1;31mModuleNotFoundError\u001b[0m: No module named 'ooi_data_explorations'"
     ]
    }
   ],
   "source": [
    "sys.path.append(\"c:\\\\Users\\\\cooleyky\\\\Documents\\\\GitHub\\\\ooi-data-explorations\\\\python\")\n",
    "from ooi_data_explorations.uncabled.process_dosta import dosta_datalogger\n",
    "from ooi_data_explorations.combine_data import combine_datasets"
   ]
  },
  {
   "cell_type": "code",
   "execution_count": null,
   "id": "aaea6b48",
   "metadata": {},
   "outputs": [],
   "source": [
    "import dask\n",
    "from dask.diagnostics import ProgressBar"
   ]
  },
  {
   "cell_type": "markdown",
   "id": "988393b0",
   "metadata": {},
   "source": [
    "---\n",
    "## Request and load the data\n",
    "Based on the reference designator, method, and stream, we want to load the data into "
   ]
  },
  {
   "cell_type": "code",
   "execution_count": null,
   "id": "25309f22",
   "metadata": {},
   "outputs": [],
   "source": [
    "# Setup parameters needed to request data\n",
    "refdes = \"CP01CNSM-MFD37-03-CTDBPD000\"\n",
    "method = \"recovered_inst\"\n",
    "stream = \"ctdbp_cdef_instrument_recovered\""
   ]
  },
  {
   "cell_type": "code",
   "execution_count": null,
   "id": "35677b85",
   "metadata": {},
   "outputs": [],
   "source": [
    "# Generic preprocessing routine to do some generic dataset cleaning/processing\n",
    "@dask.delayed\n",
    "def preprocess(ds):\n",
    "    ds = xr.open_dataset(ds)\n",
    "    ds = process_file(ds)\n",
    "    return ds"
   ]
  },
  {
   "cell_type": "markdown",
   "id": "e864906d",
   "metadata": {},
   "source": [
    "#### Production Data\n",
    "Production data is the data that is available from ooinet.oceanobservatories.org. This data is what is served via the API and the data portal (ooinet). The goldcopy is a static catalog of datasets that are used by Data Explorer (dataexplorer.oceanobservatories.org) and are updated once-a-day with new data. The goldcopy data is much faster to request and download."
   ]
  },
  {
   "cell_type": "code",
   "execution_count": null,
   "id": "24fc398f",
   "metadata": {},
   "outputs": [],
   "source": [
    "# Use the gold copy THREDDs datasets\n",
    "thredds_url = M2M.get_thredds_url(refdes, method, stream, goldCopy=True)\n",
    "\n",
    "# Get the THREDDs catalog\n",
    "thredds_catalog = M2M.get_thredds_catalog(thredds_url)\n",
    "\n",
    "# Clean the THREDDs catalog\n",
    "sensor_files, ancillary_files = M2M.clean_catalog(thredds_catalog, stream)\n",
    "\n",
    "# Now build the url to access the data\n",
    "sensor_files = [re.sub(\"catalog.html\\?dataset=\", M2M.URLS[\"goldCopy_dodsC\"], file) for file in sensor_files]\n",
    "zs = [preprocess(file) for file in sensor_files]\n",
    "\n",
    "# Load all the datasets\n",
    "with ProgressBar():\n",
    "    data = xr.concat([ds.chunk() for ds in dask.compute(*zs)], dim=\"time\")"
   ]
  },
  {
   "cell_type": "code",
   "execution_count": null,
   "id": "82f4d6d4",
   "metadata": {},
   "outputs": [],
   "source": [
    "# Make a copy of the data\n",
    "ds = data.copy()"
   ]
  },
  {
   "cell_type": "markdown",
   "id": "d574642a",
   "metadata": {},
   "source": [
    "#### Development\n",
    "We may also want to examine new QARTOD tests which are on staging in the Dev-1 environment before they are moved to production. The Development environemt at ooinet-dev1-west.intra.oceanobservatories.org. In order to access data on Dev-1, you need to be granted access and be connected to the CI-West VPN (vpn-west.oceanobservatories.org) at Oregon State.\n",
    "\n",
    "The Dev-1 environment has no \"goldcopy\" equivalent THREDDs catalog. Instead we'll have to do the normal request and wait for the datasets to be assembled and made available for download."
   ]
  },
  {
   "cell_type": "code",
   "execution_count": null,
   "id": "3245dc6d",
   "metadata": {},
   "outputs": [],
   "source": [
    "# Sub in ooinet-dev1-west.intra.oceanobservatories.org into the avaialbe API urls\n",
    "for key in M2M.URLS:\n",
    "    url = M2M.URLS.get(key)\n",
    "    if \"opendap\" in url:\n",
    "        dev1_url = re.sub(\"opendap\", \"opendap-dev1-west.intra\", url)\n",
    "    else:\n",
    "        dev1_url = re.sub(\"ooinet\",\"ooinet-dev1-west.intra\", url)\n",
    "    Dev01_urls[key] = dev1_url\n",
    "    \n",
    "# Use the gold copy THREDDs datasets\n",
    "thredds_url = M2M.get_thredds_url(refdes, method, stream, goldCopy=True)\n",
    "\n",
    "# Get the THREDDs catalog\n",
    "thredds_catalog = M2M.get_thredds_catalog(thredds_url)\n",
    "\n",
    "# Clean the THREDDs catalog\n",
    "sensor_files, ancillary_files = M2M.clean_catalog(thredds_catalog, stream)\n",
    "\n",
    "# Now build the url to access the data\n",
    "sensor_files = [re.sub(\"catalog.html\\?dataset=\", M2M.URLS[\"goldCopy_dodsC\"], file) for file in sensor_files]\n",
    "zs = [preprocess(file) for file in sensor_files]\n",
    "\n",
    "# Load all the datasets\n",
    "with ProgressBar():\n",
    "    data = xr.concat([ds.chunk() for ds in dask.compute(*zs)], dim=\"time\")"
   ]
  },
  {
   "cell_type": "code",
   "execution_count": null,
   "id": "4e99b7c9",
   "metadata": {},
   "outputs": [],
   "source": [
    "def swap_timestamps(ds):\n",
    "    \"\"\"\n",
    "    Swaps the timestamps from the host to the instrument timestamp\n",
    "    for the CTDBPs\n",
    "    \"\"\"\n",
    "    if \"internal_timestamp\" in ds.variables:\n",
    "        # Calculate the timestamp\n",
    "        inst_time = ds.internal_timestamp.to_pandas()\n",
    "        attrs = ds.internal_timestamp.attrs\n",
    "        # Convert the time\n",
    "        inst_time = inst_time.apply(lambda x: np.datetime64(int(x), 's'))\n",
    "        # Create a DataArary\n",
    "        da = xr.DataArray(inst_time, attrs=attrs)\n",
    "        ds['internal_timestamp'] = da\n",
    "    ds = ds.set_coords([\"internal_timestamp\"])\n",
    "    ds = ds.swap_dims({\"time\":\"internal_timestamp\"})\n",
    "    ds = ds.reset_coords(\"time\")\n",
    "    ds = ds.rename_vars({\"time\":\"host_time\"})\n",
    "    ds[\"host_time\"].attrs = {\n",
    "        \"long_name\": \"DCL Timestamp\",\n",
    "        \"comment\": (\"The timestamp that the instrument data as recorded by the mooring data \"\n",
    "                    \"concentration logger (DCL)\")\n",
    "    }\n",
    "    ds = ds.rename({\"internal_timestamp\":\"time\"})\n",
    "    return ds"
   ]
  },
  {
   "cell_type": "markdown",
   "id": "9f84ef37",
   "metadata": {},
   "source": [
    "#### Identify Test Parameters\n",
    "Next, identify which parameters in the dataset have QARTOD applied to them. Sometimes the variable name in the dataset is different that the key that is used by OOINet to build the datasets. For that we can check the attributes of the variable for the \"alternate_parameter_name\"!"
   ]
  },
  {
   "cell_type": "code",
   "execution_count": null,
   "id": "46426da4",
   "metadata": {},
   "outputs": [],
   "source": [
    "# Create a dictionary of key-value pairs of dataset variable name:alternate parameter name\n",
    "test_parameters={}\n",
    "for var in data.variables:\n",
    "    if \"qartod_results\" in var:\n",
    "        # Get the parameter name\n",
    "        param = var.split(\"_qartod\")[0]\n",
    "        \n",
    "        # Check if the parameter has an alternative ooinet_name\n",
    "        if \"alternate_parameter_name\" in ds[param].attrs:\n",
    "            ooinet_name = ds[param].attrs[\"alternate_parameter_name\"]\n",
    "        else:\n",
    "            ooinet_name = param\n",
    "        \n",
    "        # Safe the results in a dictionary\n",
    "        test_parameters.update({\n",
    "            param: ooinet_name\n",
    "        })\n",
    "# Print out the results\n",
    "test_parameters"
   ]
  },
  {
   "cell_type": "markdown",
   "id": "d275db09",
   "metadata": {},
   "source": [
    "---\n",
    "## Testing & Verification\n",
    "\n",
    "To verify the results of the QARTOD tests being run by OOINet, we want to compare the QARTOD flags returned with the datasets against the results from running the tests locally using the same inputs. First, we have to parse out the separate test results from the ```qartod_executed``` variable. Then, we parse and load the appropriate gitHub tables. With the correct input tables, we can then run the different tests locally. Finally, we directly compare the locally-run results against what was returned with the dataset and identify any disagreements. \n",
    "\n",
    "#### Parse the QARTOD Executed\n",
    "The ```qartod_executed``` variable for a given parameter contains the individual QARTOD test flags. For each datum, flags are listed in a string matching the order of the tests_executed attribute. Flags should be interpreted using the standard QARTOD mapping: \\[1: pass, 2: not_evaluated, 3: suspect_or_of_high_interest, 4: fail, 9: missing_data\\].\n",
    "\n",
    "For verification, we first want to split out each test into its own separate variable, named using the following convention: {param}\\_qartod\\_{test_name}. For example, parsing out the gross range test results for the CTD parameter ```sea_water_practical_salinity``` from the qartod flags ```sea_water_practical_salinity_qartod_executed``` will return a variable ```sea_water_practical_salinity_qartod_gross_range``` with just flags corresponding to the results of the gross range QARTOD test."
   ]
  },
  {
   "cell_type": "code",
   "execution_count": null,
   "id": "fe66f066",
   "metadata": {},
   "outputs": [],
   "source": [
    "ds.sea_water_electrical_conductivity_qartod_executed"
   ]
  },
  {
   "cell_type": "code",
   "execution_count": null,
   "id": "b6523574",
   "metadata": {},
   "outputs": [],
   "source": [
    "import io\n",
    "import ast\n",
    "import requests\n",
    "\n",
    "def parse_qartod_executed(ds, parameters):\n",
    "    \"\"\"\n",
    "    Parses the qartod tests for the given parameter into separate variables.\n",
    "    \n",
    "    Parameters\n",
    "    ----------\n",
    "    ds: xarray.DataSet\n",
    "        The dataset downloaded from OOI with the QARTOD flags applied.\n",
    "    pparameters: list[str]\n",
    "        The name of the parameters in the dataset to parse the QARTOD flags\n",
    "        \n",
    "    Returns\n",
    "    -------\n",
    "    ds: xarray.DataSet\n",
    "        The dataset with the QARTOD test for the given parameters split out\n",
    "        into new seperate data variables using the naming convention:\n",
    "        {parameter}_qartod_{test_name}\n",
    "    \"\"\"\n",
    "    # For the params into a list if only a string\n",
    "    if type(parameters) is not list:\n",
    "        parameters = list(parameters)\n",
    "    \n",
    "    # Iterate through each parameter\n",
    "    for param in parameters:\n",
    "        # Generate the qartod executed name\n",
    "        qartod_name = f\"{param}_qartod_executed\"\n",
    "        \n",
    "        if qartod_name not in ds.variables:\n",
    "            continue\n",
    "    \n",
    "        # Fix the test types\n",
    "        ds[qartod_name] = ds[qartod_name].astype(str)\n",
    "    \n",
    "        # Get the test order\n",
    "        test_order = ds[qartod_name].attrs[\"tests_executed\"].split(\",\")\n",
    "    \n",
    "        # Iterate through the available tests and create separate variables with the results\n",
    "        for test in test_order:\n",
    "            test_index = test_order.index(test)\n",
    "            test_name = f\"{param}_qartod_{test.strip()}\"\n",
    "            ds[test_name] = ds[qartod_name].str.get(test_index)\n",
    "\n",
    "    return ds"
   ]
  },
  {
   "cell_type": "code",
   "execution_count": null,
   "id": "34dada0d",
   "metadata": {},
   "outputs": [],
   "source": [
    "# Put the test parameter names in the dataset into a list\n",
    "parameters = [x for x in test_parameters.keys()]\n",
    "parameters"
   ]
  },
  {
   "cell_type": "code",
   "execution_count": null,
   "id": "751044cf",
   "metadata": {},
   "outputs": [],
   "source": [
    "# Parse all of the variables with QARTOD tests applied into separate tests\n",
    "ds = parse_qartod_executed(ds, parameters)\n",
    "ds"
   ]
  },
  {
   "cell_type": "markdown",
   "id": "f17ba3a6",
   "metadata": {},
   "source": [
    "#### Load & Parse the GitHub QARTOD Tables\n",
    "We can grab the QARTOD tables with the test values straight from GitHub, which ensures we are using the same input and threshold values as OOINet. However, the QARTOD tables utilize the ```ooinet_parameter_name``` instead of the dataset variable name. Thus, when loading the tables we need to make sure we are requesting the correct parameter name."
   ]
  },
  {
   "cell_type": "code",
   "execution_count": null,
   "id": "e0132686",
   "metadata": {},
   "outputs": [],
   "source": [
    "GITHUB_BASE_URL = \"https://raw.githubusercontent.com/oceanobservatories/qc-lookup/master/qartod\"\n",
    "\n",
    "def load_gross_range_qartod_test_values(refdes, stream, ooinet_param):\n",
    "    \"\"\"\n",
    "    Load the gross range QARTOD test from gitHub\n",
    "    \"\"\"\n",
    "    subsite, node, sensor = refdes.split(\"-\", 2)\n",
    "    sensor_type = sensor[3:8].lower()\n",
    "    \n",
    "    # gitHub url to the gross range table\n",
    "    GROSS_RANGE_URL = f\"{GITHUB_BASE_URL}/{sensor_type}/{sensor_type}_qartod_gross_range_test_values.csv\"\n",
    "    \n",
    "    # Download the results\n",
    "    download = requests.get(GROSS_RANGE_URL)\n",
    "    if download.status_code == 200:\n",
    "        df = pd.read_csv(io.StringIO(download.content.decode('utf-8')))\n",
    "        df[\"parameters\"] = df[\"parameters\"].apply(ast.literal_eval)\n",
    "        df[\"qcConfig\"] = df[\"qcConfig\"].apply(ast.literal_eval)\n",
    "        \n",
    "    # Next, filter for the desired parameter\n",
    "    mask = df[\"parameters\"].apply(lambda x: True if x.get(\"inp\") == ooinet_param else False)\n",
    "    df = df[mask]\n",
    "    \n",
    "    # Now filter for the desired stream\n",
    "    df = df[(df[\"subsite\"] == subsite) & \n",
    "            (df[\"node\"] == node) & \n",
    "            (df[\"sensor\"] == sensor) &\n",
    "            (df[\"stream\"] == stream)]\n",
    "    \n",
    "    return df\n",
    "\n",
    "\n",
    "def load_climatology_qartod_test_values(refdes, param):\n",
    "    \"\"\"\n",
    "    Load the OOI climatology qartod test values table from gitHub\n",
    "    \n",
    "    Parameters\n",
    "    ----------\n",
    "    refdes: str\n",
    "        The reference designator for the given sensor\n",
    "    param: str\n",
    "        The name of the \n",
    "    \"\"\"\n",
    "    \n",
    "    site, node, sensor = refdes.split(\"-\", 2)\n",
    "    sensor_type = sensor[3:8].lower()\n",
    "    \n",
    "    # gitHub url to the climatology tables\n",
    "    CLIMATOLOGY_URL = f\"{GITHUB_BASE_URL}/{sensor_type}/climatology_tables/{refdes}-{param}.csv\"\n",
    "    \n",
    "    # Download the results\n",
    "    download = requests.get(CLIMATOLOGY_URL)\n",
    "    if download.status_code == 200:\n",
    "        df = pd.read_csv(io.StringIO(download.content.decode('utf-8')), index_col=0)\n",
    "        df = df.applymap(ast.literal_eval)\n",
    "    else:\n",
    "        return None\n",
    "    return df"
   ]
  },
  {
   "cell_type": "code",
   "execution_count": null,
   "id": "800451a9",
   "metadata": {},
   "outputs": [],
   "source": [
    "# Example: load the gross range QARTOD table for a specific parameter\n",
    "gross_range_qartod_test_values = load_gross_range_qartod_test_values(refdes, stream, \"ctdbp_seawater_temperature\")\n",
    "gross_range_qartod_test_values"
   ]
  },
  {
   "cell_type": "code",
   "execution_count": null,
   "id": "71e4b3aa",
   "metadata": {},
   "outputs": [],
   "source": [
    "# Example: load the climatology QARTOD table for a specific parameter\n",
    "climatology_qartod_test_values = load_climatology_qartod_test_values(refdes, \"ctdbp_seawater_temperature\")\n",
    "climatology_qartod_test_values"
   ]
  },
  {
   "cell_type": "markdown",
   "id": "dc4e766d",
   "metadata": {},
   "source": [
    "#### Run Tests Locally\n",
    "Next, we run the gross range test locally to get local results that can be compared with the output from the tests. This is done using the ```ioos_qc``` QARTOD package in conjunction with the ```qartod_test_values``` tables.\n",
    "\n",
    "#### Gross Range Test"
   ]
  },
  {
   "cell_type": "code",
   "execution_count": null,
   "id": "5abe1fa1",
   "metadata": {},
   "outputs": [],
   "source": [
    "# Import the ioos_qc QARTOD package tests\n",
    "from ioos_qc.qartod import gross_range_test, climatology_test, ClimatologyConfig"
   ]
  },
  {
   "cell_type": "code",
   "execution_count": null,
   "id": "237a7369",
   "metadata": {},
   "outputs": [],
   "source": [
    "# Run through all of the parameters which had the QARTOD tests applied by OOINet and\n",
    "# run the tests locally, saving the results in a dictionary\n",
    "gross_range_results = {}\n",
    "for param in test_parameters:\n",
    "    # Get the ooinet name\n",
    "    ooinet_name = test_parameters.get(param)\n",
    "    \n",
    "    # Load the gross_range_qartod_test_values from gitHub\n",
    "    gross_range_qartod_test_values = load_gross_range_qartod_test_values(refdes, stream, ooinet_name)\n",
    "    \n",
    "    # Get the qcConfig object, the fail_span, and the suspect_span\n",
    "    qcConfig = gross_range_qartod_test_values[\"qcConfig\"].values[0]\n",
    "    fail_span = qcConfig.get(\"qartod\").get(\"gross_range_test\").get(\"fail_span\")\n",
    "    suspect_span = qcConfig.get(\"qartod\").get(\"gross_range_test\").get(\"suspect_span\")\n",
    "    \n",
    "    # Run the gross_range_tenst\n",
    "    param_results = gross_range_test(\n",
    "        inp = ds[param].values,\n",
    "        fail_span = fail_span,\n",
    "        suspect_span = suspect_span)\n",
    "    \n",
    "    # Save the results\n",
    "    gross_range_results.update(\n",
    "        {param: param_results}\n",
    "    )\n",
    "    "
   ]
  },
  {
   "cell_type": "code",
   "execution_count": null,
   "id": "d23cc951",
   "metadata": {},
   "outputs": [],
   "source": [
    "gross_range_results"
   ]
  },
  {
   "cell_type": "markdown",
   "id": "25b45786",
   "metadata": {},
   "source": [
    "#### Climatology Test"
   ]
  },
  {
   "cell_type": "code",
   "execution_count": null,
   "id": "6b183c98",
   "metadata": {},
   "outputs": [],
   "source": [
    "# Run through all of the parameters which had the QARTOD tests applied by OOINet and\n",
    "# run the tests locally, saving the results in a dictionary\n",
    "climatology_results = {}\n",
    "\n",
    "for param in test_parameters:\n",
    "    # Get the ooinet name\n",
    "    ooinet_name = test_parameters.get(param)\n",
    "    \n",
    "    # Load the gross_range_qartod_test_values from gitHub\n",
    "    climatology_qartod_test_values = load_climatology_qartod_test_values(refdes, ooinet_name)\n",
    "    \n",
    "    if climatology_qartod_test_values is None:\n",
    "        climatology_results.update({\n",
    "            param: \"Not implemented.\"\n",
    "        })\n",
    "        continue\n",
    "    \n",
    "    # Initialize a climatology config object\n",
    "    c = ClimatologyConfig()\n",
    "    \n",
    "    # Iterate through the pressure ranges\n",
    "    for p_range in climatology_qartod_test_values.index:\n",
    "        # Get the pressure range\n",
    "        pmin, pmax = ast.literal_eval(p_range)\n",
    "\n",
    "        # Convert the pressure range values into a dictionary\n",
    "        p_values = climatology_qartod_test_values.loc[p_range].to_dict()\n",
    "\n",
    "        # Check the pressure values. If [0, 0], then set the range [0, 5000]\n",
    "        if pmax == 0:\n",
    "            pmax = 5000\n",
    "\n",
    "        for tspan in p_values.keys():\n",
    "            # Get the time span\n",
    "            tstart, tend = ast.literal_eval(tspan)\n",
    "\n",
    "            # Get the values associated with the time span\n",
    "            vmin, vmax = p_values.get(tspan)\n",
    "\n",
    "            # Add the test to the climatology config object\n",
    "            c.add(tspan=[tstart, tend],\n",
    "                  vspan=[vmin, vmax],\n",
    "                  fspan=[fail_span[0], fail_span[1]],\n",
    "                  zspan=[pmin, pmax],\n",
    "                  period=\"month\")\n",
    "\n",
    "    # Run the climatology test\n",
    "    param_results = climatology_test(c,\n",
    "                                     inp=ds[param],\n",
    "                                     tinp=ds[\"time\"],\n",
    "                                     zinp=ds[\"sea_water_pressure\"])\n",
    "    \n",
    "    # Append the results\n",
    "    climatology_results.update({\n",
    "        param: param_results\n",
    "    })"
   ]
  },
  {
   "cell_type": "code",
   "execution_count": null,
   "id": "77442407",
   "metadata": {},
   "outputs": [],
   "source": [
    "climatology_results"
   ]
  },
  {
   "cell_type": "markdown",
   "id": "b9426070",
   "metadata": {},
   "source": [
    "### Compare the results\n",
    "Finally, we want to compare the outputs from the local test with what was returned in the dataset, looking for where they disagree. This will tell us if they are running as expected."
   ]
  },
  {
   "cell_type": "code",
   "execution_count": null,
   "id": "fcf4c04b",
   "metadata": {},
   "outputs": [],
   "source": [
    "def run_comparison(ds, param, test_results):\n",
    "    \"\"\"\n",
    "    Runs a comparison between the qartod results returned as part of the dataset\n",
    "    and results calculated locally.\n",
    "    \"\"\"\n",
    "    # Get the local test results and convert to string type for comparison\n",
    "    local_results = test_results[param].astype(str)\n",
    "    \n",
    "    # Run comparison\n",
    "    not_equal = np.where(ds[f\"{param}_qartod_gross_range_test\"] != local_results)[0]\n",
    "    \n",
    "    if len(not_equal) == 0:\n",
    "        return None\n",
    "    else:\n",
    "        return not_equal"
   ]
  },
  {
   "cell_type": "markdown",
   "id": "97723884",
   "metadata": {},
   "source": [
    "---\n",
    "## Descriptive Statistics\n",
    "Next, we want to calculate the statistics of the different QARTOD flags for the different tests that are applied to the different parameters in the dataset. The example ```qartod_results_summary``` below simply counts the total number of different flags (e.g 1, 3, 4) and their relative percentages for each test (gross range, climatology, etc) for each parameter that the tests area applied to. "
   ]
  },
  {
   "cell_type": "code",
   "execution_count": null,
   "id": "6c6fd2ac",
   "metadata": {},
   "outputs": [],
   "source": [
    "def qartod_results_summary(ds, params, tests):\n",
    "    \"\"\"\n",
    "    Calculate the statistics for parameter qartod flags.\n",
    "    \n",
    "    This function takes in a list of the parameters and\n",
    "    the associated QARTOD tests to calculate the number\n",
    "    of each flag and the percent of the flag.\n",
    "    \n",
    "    Parameters\n",
    "    ----------\n",
    "    ds: xarray.DataSet\n",
    "        An xarray dataset which contains the data\n",
    "    params: list[strings]\n",
    "        A list of the variables/parameters in the given\n",
    "        dataset that have been tested with QARTOD\n",
    "    tests: list[strings]\n",
    "        A list of the QARTOD test names which to parse\n",
    "        for the given parameters.\n",
    "        \n",
    "    Returns\n",
    "    -------\n",
    "    results: dict\n",
    "        A dictionary which contains the number of each\n",
    "        QARTOD flag and the percent of the total flags\n",
    "        for each test applied to each parameter in the\n",
    "        given dataset.\n",
    "        \n",
    "        results = {'parameter':\n",
    "                        {'test_name':\n",
    "                            {'total data points': int,\n",
    "                            'good data points': (int, %),\n",
    "                            'suspect data points': (int, %),\n",
    "                            'bad data points': (int, %)}\n",
    "                            },\n",
    "                        }\n",
    "    \"\"\"\n",
    "    # Check that the inputs are a list\n",
    "    if type(params) is not list:\n",
    "        params = [params]\n",
    "        \n",
    "    if type(tests) is not list:\n",
    "        tests = [tests]\n",
    "    \n",
    "    # Initialize the result dictionary and iterate \n",
    "    # through the parameters for each test\n",
    "    results = {}\n",
    "    for param in params:\n",
    "        \n",
    "        # Now iterate through each test\n",
    "        test_results = {}\n",
    "        for test in tests:\n",
    "            \n",
    "            # First, check that the test was applied\n",
    "            test_name = f\"{param}_qartod_{test}_test\"\n",
    "            if test_name not in ds.variables:\n",
    "                continue\n",
    "                \n",
    "            # Count the total number of values\n",
    "            n = ds[test_name].count().compute().values\n",
    "            \n",
    "            # First calculate the gross range results\n",
    "            good = np.where(ds[test_name] == \"1\")[0]\n",
    "\n",
    "            # Count the number of suspect/interesting\n",
    "            suspect = np.where(ds[test_name] == \"3\")[0]\n",
    "    \n",
    "            # Count the number of fails\n",
    "            bad = np.where(ds[test_name] == \"4'\")[0]\n",
    "    \n",
    "            test_results.update({test :{\n",
    "                     \"total\": int(n),\n",
    "                     \"good\": (len(good), np.round(len(good)/n*100, 2)),\n",
    "                     \"suspect\": (len(suspect), np.round(len(suspect)/n*100, 2)),\n",
    "                     \"fail\": (len(bad), np.round(len(bad)/n*100, 2))\n",
    "                    }\n",
    "                }\n",
    "            )\n",
    "        \n",
    "        # Save the test results for each parameter\n",
    "        results.update({\n",
    "            param: test_results\n",
    "        })\n",
    "    \n",
    "    return results"
   ]
  },
  {
   "cell_type": "code",
   "execution_count": null,
   "id": "6a9f184c",
   "metadata": {},
   "outputs": [],
   "source": [
    "qartod_results = qartod_results_summary(ds, parameters, [\"gross_range\", \"climatology\"])\n",
    "qartod_results"
   ]
  }
 ],
 "metadata": {
  "kernelspec": {
   "display_name": "Python 3 (ipykernel)",
   "language": "python",
   "name": "python3"
  },
  "language_info": {
   "codemirror_mode": {
    "name": "ipython",
    "version": 3
   },
   "file_extension": ".py",
   "mimetype": "text/x-python",
   "name": "python",
   "nbconvert_exporter": "python",
   "pygments_lexer": "ipython3",
   "version": "3.9.16"
  }
 },
 "nbformat": 4,
 "nbformat_minor": 5
}
